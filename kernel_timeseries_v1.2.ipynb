{
 "cells": [
  {
   "cell_type": "markdown",
   "metadata": {},
   "source": [
    "### We saw that the toy example is not linearly separable. Let's try to classify it using random features. Namely, we will use unimodal features, white noise features, and bandpass features to classify the time series."
   ]
  },
  {
   "cell_type": "code",
   "execution_count": 1,
   "metadata": {},
   "outputs": [],
   "source": [
    "import numpy as np\n",
    "import matplotlib.pyplot as plt\n",
    "from estimator import RFClassifier, relu\n",
    "from data_fns import noisy_sin_signal, data_matrix, butter_bandpass_filter\n",
    "import dask"
   ]
  },
  {
   "cell_type": "code",
   "execution_count": 2,
   "metadata": {},
   "outputs": [
    {
     "data": {
      "text/html": [
       "<table style=\"border: 2px solid white;\">\n",
       "<tr>\n",
       "<td style=\"vertical-align: top; border: 0px solid white\">\n",
       "<h3 style=\"text-align: left;\">Client</h3>\n",
       "<ul style=\"text-align: left; list-style: none; margin: 0; padding: 0;\">\n",
       "  <li><b>Scheduler: </b>tcp://127.0.0.1:41187</li>\n",
       "  <li><b>Dashboard: </b><a href='http://127.0.0.1:8787/status' target='_blank'>http://127.0.0.1:8787/status</a>\n",
       "</ul>\n",
       "</td>\n",
       "<td style=\"vertical-align: top; border: 0px solid white\">\n",
       "<h3 style=\"text-align: left;\">Cluster</h3>\n",
       "<ul style=\"text-align: left; list-style:none; margin: 0; padding: 0;\">\n",
       "  <li><b>Workers: </b>10</li>\n",
       "  <li><b>Cores: </b>70</li>\n",
       "  <li><b>Memory: </b>135.06 GB</li>\n",
       "</ul>\n",
       "</td>\n",
       "</tr>\n",
       "</table>"
      ],
      "text/plain": [
       "<Client: 'tcp://127.0.0.1:41187' processes=10 threads=70, memory=135.06 GB>"
      ]
     },
     "execution_count": 2,
     "metadata": {},
     "output_type": "execute_result"
    }
   ],
   "source": [
    "from dask.distributed import Client\n",
    "client = Client(threads_per_worker=7, n_workers=10)\n",
    "client"
   ]
  },
  {
   "cell_type": "code",
   "execution_count": 3,
   "metadata": {},
   "outputs": [],
   "source": [
    "def bp_weights(M, N, lowcut, highcut, fs):\n",
    "    J = np.random.randn(M, N)\n",
    "    J = butter_bandpass_filter(J, lowcut, highcut, fs)\n",
    "    return J.T\n",
    "\n",
    "def l_clf(classifier, params, X_train, y_train, X_test, y_test):\n",
    "    clf = classifier(**params)\n",
    "    clf.fit(X_train, y_train)\n",
    "    return clf.score(X_test, y_test)"
   ]
  },
  {
   "cell_type": "markdown",
   "metadata": {},
   "source": [
    "__First, we will generate data.__"
   ]
  },
  {
   "cell_type": "code",
   "execution_count": 56,
   "metadata": {},
   "outputs": [],
   "source": [
    "# generate data\n",
    "fs, dur, sig_dur, f_signal = 2000, 10, 0.05, 80\n",
    "a = 0.01\n",
    "signal, label = noisy_sin_signal(f_s=fs, dur=dur, sig_dur=sig_dur, f_signal=f_signal, a=a)\n",
    "\n",
    "delta = 0.07\n",
    "N = int(delta * 2000)\n",
    "X, y = data_matrix(signal, label, N)\n",
    "\n",
    "idx = int(len(X) * 2 / 3)\n",
    "X_train, y_train = X[:idx], y[:idx]\n",
    "X_test, y_test = X[idx:], y[idx:]"
   ]
  },
  {
   "cell_type": "markdown",
   "metadata": {},
   "source": [
    "__Now, we will classify the example using random features.__"
   ]
  },
  {
   "cell_type": "code",
   "execution_count": 57,
   "metadata": {},
   "outputs": [
    {
     "name": "stdout",
     "output_type": "stream",
     "text": [
      "[1, 2, 3, 4, 5, 7, 10, 13, 17, 23, 31, 42, 56, 74, 100, 133, 177, 237, 316, 421, 562, 749, 1000]\n"
     ]
    }
   ],
   "source": [
    "n_features = sorted(set(np.logspace(0, 3, 25).astype('int')))\n",
    "print(n_features)"
   ]
  },
  {
   "cell_type": "code",
   "execution_count": 58,
   "metadata": {},
   "outputs": [
    {
     "name": "stdout",
     "output_type": "stream",
     "text": [
      "CPU times: user 41.8 s, sys: 28.3 s, total: 1min 10s\n",
      "Wall time: 4min\n"
     ]
    }
   ],
   "source": [
    "%%time\n",
    "# gaussian features\n",
    "results_gaus= []\n",
    "for n in n_features:\n",
    "    params = {'width': n, 'weights': 'unimodal', 'nonlinearity': relu}\n",
    "    lazy_results = [dask.delayed(l_clf)(RFClassifier, params, X_train, y_train, X_test, y_test) for _ in range(10)]\n",
    "    results_gaus.append(dask.compute(*lazy_results))\n",
    "    \n",
    "mean_gaus = 1 - np.mean(results_gaus, axis=1)\n",
    "std_gaus = np.std(results_gaus, axis=1)"
   ]
  },
  {
   "cell_type": "code",
   "execution_count": 59,
   "metadata": {},
   "outputs": [
    {
     "name": "stdout",
     "output_type": "stream",
     "text": [
      "CPU times: user 42.1 s, sys: 27.9 s, total: 1min 10s\n",
      "Wall time: 4min 6s\n"
     ]
    }
   ],
   "source": [
    "%%time \n",
    "# white noise features\n",
    "results_whitenoise = []\n",
    "for n in n_features:\n",
    "    params = {'width': n, 'weights': 'white noise', 'nonlinearity': relu}\n",
    "    lazy_results = [dask.delayed(l_clf)(RFClassifier, params, X_train, y_train, X_test, y_test) for _ in range(10)]\n",
    "    results_whitenoise.append(dask.compute(*lazy_results))\n",
    "\n",
    "mean_whitenoise = 1 - np.mean(results_whitenoise, axis=1)\n",
    "std_whitenoise = np.std(results_whitenoise, axis=1)"
   ]
  },
  {
   "cell_type": "code",
   "execution_count": 60,
   "metadata": {},
   "outputs": [
    {
     "name": "stdout",
     "output_type": "stream",
     "text": [
      "CPU times: user 37.7 s, sys: 26.4 s, total: 1min 4s\n",
      "Wall time: 4min 1s\n"
     ]
    }
   ],
   "source": [
    "%%time \n",
    "f = lambda M, N: bp_weights(M, N, lowcut=30, highcut=100, fs=2000)\n",
    "# band pass features\n",
    "results_bp = []\n",
    "for n in n_features:\n",
    "    params = {'width': n, 'weights': 'bandpass', 'weight_fun': f, 'nonlinearity': relu}\n",
    "    lazy_results = [dask.delayed(l_clf)(RFClassifier, params, X_train, y_train, X_test, y_test) for _ in range(10)]\n",
    "    results_bp.append(dask.compute(*lazy_results))\n",
    "\n",
    "mean_bp = 1 - np.mean(results_bp, axis=1)\n",
    "std_bp = np.std(results_bp, axis=1)"
   ]
  },
  {
   "cell_type": "code",
   "execution_count": 62,
   "metadata": {},
   "outputs": [
    {
     "data": {
      "image/png": "[encoded data removed]",
      "text/plain": [
       "<Figure size 576x432 with 1 Axes>"
      ]
     },
     "metadata": {
      "needs_background": "light"
     },
     "output_type": "display_data"
    }
   ],
   "source": [
    "# plot\n",
    "snr = a ** 2 / (1 - a ** 2)\n",
    "fig = plt.figure(figsize=(8, 6))\n",
    "plt.title('SNR = %0.2f' % snr, fontsize=16)\n",
    "plt.errorbar(n_features, mean_gaus, yerr=std_gaus, fmt='--go', label='unimodal', markersize=4, lw=2)\n",
    "plt.errorbar(n_features, mean_whitenoise, yerr=std_whitenoise, fmt='--bo', label='white noise', markersize=4, lw=2)\n",
    "plt.errorbar(n_features, mean_bp, yerr=std_bp, fmt='--ro', label='band pass', markersize=4, lw=2)\n",
    "plt.legend(fontsize=16)\n",
    "plt.xlabel('n_features', fontsize=16)\n",
    "plt.ylabel('Error', fontsize=16)\n",
    "plt.xticks(fontsize=14)\n",
    "plt.yticks(fontsize=14)\n",
    "plt.savefig('figures/rand_classification/clf_a=%0.2f.png' % a)\n",
    "\n",
    "plt.xlim(0, 100)\n",
    "plt.savefig('figures/rand_classification/clf_a=%0.2f_zoomed.png' % a)"
   ]
  },
  {
   "cell_type": "code",
   "execution_count": 48,
   "metadata": {},
   "outputs": [
    {
     "name": "stdout",
     "output_type": "stream",
     "text": [
      "\u001b[0m\u001b[01;35mclf_a=0.80.png\u001b[0m  \u001b[01;35mclf_a=0.80_zoomed.png\u001b[0m  \u001b[01;35mclf_a=1.00.png\u001b[0m  \u001b[01;35mclf_a=1.00_zoomed.png\u001b[0m\r\n"
     ]
    }
   ],
   "source": [
    "ls figures/rand_classification/"
   ]
  },
  {
   "cell_type": "code",
   "execution_count": null,
   "metadata": {},
   "outputs": [],
   "source": []
  }
 ],
 "metadata": {
  "kernelspec": {
   "display_name": "Python 3",
   "language": "python",
   "name": "python3"
  },
  "language_info": {
   "codemirror_mode": {
    "name": "ipython",
    "version": 3
   },
   "file_extension": ".py",
   "mimetype": "text/x-python",
   "name": "python",
   "nbconvert_exporter": "python",
   "pygments_lexer": "ipython3",
   "version": "3.7.4"
  }
 },
 "nbformat": 4,
 "nbformat_minor": 2
}
