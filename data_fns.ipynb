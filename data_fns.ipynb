{
 "cells": [
  {
   "cell_type": "markdown",
   "metadata": {},
   "source": [
    "Functions for generating data to test random features classifier.\n",
    "\n",
    "__May 4th 2020__: Working on our noisy sinusoidal data simulation. We will generate the noise using the DFT matrix also."
   ]
  },
  {
   "cell_type": "code",
   "execution_count": null,
   "metadata": {},
   "outputs": [],
   "source": [
    "import numpy as np\n",
    "import matplotlib.pyplot as plt\n",
    "import numpy.linalg as la\n",
    "from scipy import signal\n",
    "import seaborn as sns"
   ]
  },
  {
   "cell_type": "code",
   "execution_count": null,
   "metadata": {},
   "outputs": [],
   "source": [
    "def butter_bandpass(lowcut, highcut, fs, order=2):\n",
    "    nyq = fs / 2\n",
    "    low = lowcut / nyq\n",
    "    high = highcut / nyq\n",
    "    b, a = signal.butter(order, [low, high], btype='band')\n",
    "    return b, a\n",
    "\n",
    "def butter_bandpass_filter(data, lowcut, highcut, fs, order=2):\n",
    "    b, a = butter_bandpass(lowcut, highcut, fs, order=order)\n",
    "    return signal.lfilter(b, a, data)\n",
    "\n",
    "def highpass_filter(data, highcut, fs, order=2):\n",
    "    nyq = fs/2\n",
    "    high = highcut / nyq\n",
    "    b, a = signal.butter(order, high, btype='high')\n",
    "    return signal.filtfilt(b, a, data)\n",
    "\n",
    "def lowpass_filter(data, lowcut, fs, order=2):\n",
    "    nyq = fs/2\n",
    "    low = lowcut / nyq\n",
    "    b, a = signal.butter(order, low, btype='low')\n",
    "    return signal.filtfilt(b, a, data)"
   ]
  },
  {
   "cell_type": "code",
   "execution_count": null,
   "metadata": {},
   "outputs": [],
   "source": [
    "def noisy_sin_signal(f_s=2000, dur=10, f_signal=40, sig_dur=0.05, a=1, seed=2):\n",
    "    '''\n",
    "    Generate a time series of random noise interspersed with periods where a sinusoidal signal is on\n",
    "    \n",
    "    Parameters\n",
    "    ----------\n",
    "    \n",
    "    f_s = sampling frequency (Hz)\n",
    "    dur = duration of the time series (s)\n",
    "    f_signal = frequency of the signal (Hz)\n",
    "    sig_dur = duration of the signal (s)\n",
    "    a: 2x amplitude of the signal used for snr (between 0 and 1)\n",
    "    if n_amp = 2 x noise_amplitude: a ** 2 + n_amp ** 2 = 1; snr = a**2/n_amp**2\n",
    "    \n",
    "    Returns\n",
    "    -------\n",
    "    time_series: an array of shape (f_s * dur, 1)\n",
    "    labels: array with binary values (0, 1) shape (f_s * dur, )\n",
    "    '''\n",
    "    np.random.seed(seed)\n",
    "    \n",
    "    if a < 0 or a > 1:\n",
    "        raise ValueError('a should be between 0 and 1')\n",
    "    n_amp = np.sqrt(1 - a ** 2) \n",
    "    \n",
    "    t_points = np.arange(0, dur, 1/f_s)\n",
    "    t_series = np.random.normal(0, (a + n_amp)/2, dur * f_s)\n",
    "    label = np.zeros(len(t_series))\n",
    "    \n",
    "    d = int(sig_dur * f_s) # array len of signal\n",
    "    p = np.arange(0, len(t_points), d) # array with points d apart\n",
    "    idx = np.random.choice(p, int(dur / (2 * sig_dur)), replace=False)\n",
    "    for i in idx:\n",
    "        t = t_points[i:i + d]\n",
    "        t_series[i:i + d] = a / 2 * np.sin(2 * np.pi * f_signal * t) + np.random.normal(0, n_amp / 2, len(t))\n",
    "        label[i:i + d] = 1\n",
    "    return t_series, label"
   ]
  },
  {
   "cell_type": "code",
   "execution_count": null,
   "metadata": {},
   "outputs": [],
   "source": [
    "def data_matrix(series, label, N=40):\n",
    "    ''' \n",
    "    From a time series, generate a n_sample x n_feature matrix using overlapping windows.\n",
    "    \n",
    "    Parameters\n",
    "    ----------\n",
    "    series: 1-D numpy array shape (M, 1)\n",
    "    label: 1-D numpy array shape (M, 1)\n",
    "    N: n_features of the data matrix\n",
    "    \n",
    "    Returns\n",
    "    -------\n",
    "    X: array of shape (M - N, N)\n",
    "    y: array of shape (M - N, )\n",
    "    '''\n",
    "    X = np.array([series[i:i + N] for i in range(len(series) - N)])\n",
    "    y = label[N:]\n",
    "    return X, y                       "
   ]
  },
  {
   "cell_type": "code",
   "execution_count": null,
   "metadata": {},
   "outputs": [],
   "source": [
    "f_s = 2000\n",
    "dur = 10\n",
    "t = np.arange(0, dur, 1/f_s)\n",
    "series, label = noisy_sin_signal(f_s=f_s, dur=dur, a=1, seed=22)\n",
    "\n",
    "fig = plt.figure()\n",
    "plt.plot(t[:1000], series[:1000])\n",
    "plt.plot(t[:1000], label[:1000], 'r')\n",
    "print('The length of time the signal is on is %0.2f s' % (len(label[label == 1]) / f_s))\n",
    "\n",
    "mem = 0.08\n",
    "N = int(mem * f_s)\n",
    "X, y = data_matrix(series, label, N)\n",
    "print(X.shape)"
   ]
  },
  {
   "cell_type": "code",
   "execution_count": null,
   "metadata": {},
   "outputs": [],
   "source": [
    "def relu(x, thrsh=0):\n",
    "    return np.maximum(x, thrsh)"
   ]
  },
  {
   "cell_type": "code",
   "execution_count": null,
   "metadata": {},
   "outputs": [],
   "source": [
    "series, label = noisy_sin_signal(f_s=f_s, dur=dur, a=0.5, seed=33)\n",
    "rel_series = relu(series)\n",
    "\n",
    "fig = plt.figure()\n",
    "plt.plot(t[:1000], rel_series[:1000])\n",
    "plt.plot(t[:1000], label[:1000], 'r')\n",
    "print('The length of time the signal is on is %0.2f s' % (len(label[label == 1]) / f_s))"
   ]
  },
  {
   "cell_type": "code",
   "execution_count": null,
   "metadata": {},
   "outputs": [],
   "source": [
    "# visualize X before and after relu using dimensionality reduction\n",
    "from mpl_toolkits.mplot3d import Axes3D\n",
    "from sklearn.decomposition import PCA\n",
    "pca = PCA(n_components=2)\n",
    "\n",
    "series, label = noisy_sin_signal(f_s=f_s, dur=dur, a=0.8, seed=22)\n",
    "rel_series = relu(series)\n",
    "\n",
    "X, y = data_matrix(series, label, N)\n",
    "X_rel, y = data_matrix(rel_series, label, N)\n",
    "col = np.array(['r' if n == 1 else 'b' for n in y])\n",
    "\n",
    "coords = pca.fit_transform(X)\n",
    "coords_rel = pca.fit_transform(X_rel)\n",
    "\n",
    "fig = plt.figure()\n",
    "ax = fig.add_subplot(121)\n",
    "x, y = np.split(coords, 2, axis=1)\n",
    "plt.scatter(x[:1000], y[:1000], c=col[:1000])\n",
    "\n",
    "ax = fig.add_subplot(122)\n",
    "x, y = np.split(coords_rel, 2, axis=1)\n",
    "plt.scatter(x[:1000], y[:1000], c=col[:1000])"
   ]
  },
  {
   "cell_type": "markdown",
   "metadata": {},
   "source": [
    "We will generate the noisy sinusoidal data using random coefficients in the DFT matrix."
   ]
  },
  {
   "cell_type": "code",
   "execution_count": 1,
   "metadata": {},
   "outputs": [],
   "source": [
    "import numpy as np\n",
    "import numpy.linalg as la\n",
    "import matplotlib.pyplot as plt\n",
    "import scipy.linalg\n",
    "\n",
    "nPoints, fs, sig_dur, k, a = 5000, 1000, 0.1, 5, 0.9"
   ]
  },
  {
   "cell_type": "code",
   "execution_count": 18,
   "metadata": {},
   "outputs": [],
   "source": [
    "def pure_sine_dft(nPoints, fs, k, sig_dur, a, seed=None):  \n",
    "\n",
    "    N = int(fs * sig_dur)\n",
    "    noise_amp = np.sqrt(1 - a ** 2)\n",
    "\n",
    "    # dft matrix\n",
    "    A = scipy.linalg.dft(N, scale=None)\n",
    "\n",
    "    # positive examples\n",
    "    n_pos = int(nPoints/2)\n",
    "    c = np.zeros((N, n_pos), dtype=complex)\n",
    "    phi = np.random.uniform(-np.pi, np.pi, (n_pos,)) # randomly sample the phase\n",
    "    c[k] = np.e ** (1j * phi) \n",
    "    X_pos = np.sqrt(2) * a * (A @ c).T.real \n",
    "\n",
    "    # noise for positive egs\n",
    "    noise = (A @ np.random.normal(size=(N, n_pos))).real.T\n",
    "    noise = noise_amp * noise / np.std(noise, axis=1).reshape(-1, 1)\n",
    "    X_pos += noise\n",
    "\n",
    "    # negative examples\n",
    "    rand = np.random.normal(size=(n_pos, N))\n",
    "    X_neg = (rand @ A).real\n",
    "    X_neg = X_neg / np.std(X_neg, axis=1).reshape(-1, 1)\n",
    "\n",
    "    # concatenate\n",
    "    X = np.vstack((X_pos, X_neg))\n",
    "    y = np.hstack((np.ones(n_pos) , np.ones(n_pos) * -1))\n",
    "    \n",
    "    return X, y"
   ]
  },
  {
   "cell_type": "code",
   "execution_count": 23,
   "metadata": {},
   "outputs": [
    {
     "data": {
      "text/plain": [
       "<matplotlib.legend.Legend at 0x7ff0e6da0610>"
      ]
     },
     "execution_count": 23,
     "metadata": {},
     "output_type": "execute_result"
    },
    {
     "data": {
      "image/png": "[encoded data removed]",
      "text/plain": [
       "<Figure size 432x288 with 1 Axes>"
      ]
     },
     "metadata": {
      "needs_background": "light"
     },
     "output_type": "display_data"
    }
   ],
   "source": [
    "X, y = pure_sine_dft(nPoints=5000, fs=1500, sig_dur=0.1, k=6, a=0.7)\n",
    "\n",
    "i = np.random.randint(0, 2500, 1)[0]\n",
    "fig = plt.figure()\n",
    "plt.plot(X[-i], 'b-', label='noise')\n",
    "plt.plot(X[i], 'r-', label='signal')\n",
    "plt.legend()"
   ]
  },
  {
   "cell_type": "code",
   "execution_count": 24,
   "metadata": {},
   "outputs": [
    {
     "name": "stdout",
     "output_type": "stream",
     "text": [
      "12.275911042174203\n",
      "12.332535638699094\n",
      "-0.0008040901511493379\n",
      "-0.0016435918737554797\n",
      "0.9988232315267338\n",
      "1.0\n"
     ]
    }
   ],
   "source": [
    "# rms\n",
    "X_pos = X[y==1]\n",
    "X_neg = X[y!=1]\n",
    "\n",
    "print(np.mean(la.norm(X_pos, axis=1)))\n",
    "print(np.mean(la.norm(X_neg, axis=1)))\n",
    "\n",
    "# mean\n",
    "print(np.mean(X_pos))\n",
    "print(np.mean(X_neg))\n",
    "\n",
    "# std\n",
    "print(np.mean(np.std(X_pos, axis=1)))\n",
    "print(np.mean(np.std(X_neg, axis=1)))"
   ]
  },
  {
   "cell_type": "code",
   "execution_count": null,
   "metadata": {},
   "outputs": [],
   "source": []
  }
 ],
 "metadata": {
  "kernelspec": {
   "display_name": "Python 3",
   "language": "python",
   "name": "python3"
  },
  "language_info": {
   "codemirror_mode": {
    "name": "ipython",
    "version": 3
   },
   "file_extension": ".py",
   "mimetype": "text/x-python",
   "name": "python",
   "nbconvert_exporter": "python",
   "pygments_lexer": "ipython3",
   "version": "3.7.4"
  }
 },
 "nbformat": 4,
 "nbformat_minor": 4
}
