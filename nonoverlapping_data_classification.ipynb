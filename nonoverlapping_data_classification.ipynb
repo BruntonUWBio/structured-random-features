{
 "cells": [
  {
   "cell_type": "markdown",
   "metadata": {},
   "source": [
    "### We saw that the toy example is not linearly separable. Let's try to classify it using random features. Namely, we will use unimodal features, white noise features, and bandpass features to classify the time series."
   ]
  },
  {
   "cell_type": "code",
   "execution_count": 73,
   "metadata": {},
   "outputs": [],
   "source": [
    "import numpy as np\n",
    "import matplotlib.pyplot as plt\n",
    "from estimator import RFClassifier, relu\n",
    "from data_fns import noisy_sin_signal, data_matrix, butter_bandpass_filter\n",
    "import dask"
   ]
  },
  {
   "cell_type": "code",
   "execution_count": 74,
   "metadata": {},
   "outputs": [
    {
     "name": "stderr",
     "output_type": "stream",
     "text": [
      "/home/bpandey/anaconda3/lib/python3.7/site-packages/distributed/dashboard/core.py:72: UserWarning: \n",
      "Port 8787 is already in use. \n",
      "Perhaps you already have a cluster running?\n",
      "Hosting the diagnostics dashboard on a random port instead.\n",
      "  warnings.warn(\"\\n\" + msg)\n"
     ]
    },
    {
     "data": {
      "text/html": [
       "<table style=\"border: 2px solid white;\">\n",
       "<tr>\n",
       "<td style=\"vertical-align: top; border: 0px solid white\">\n",
       "<h3 style=\"text-align: left;\">Client</h3>\n",
       "<ul style=\"text-align: left; list-style: none; margin: 0; padding: 0;\">\n",
       "  <li><b>Scheduler: </b>tcp://127.0.0.1:40757</li>\n",
       "  <li><b>Dashboard: </b><a href='http://127.0.0.1:43785/status' target='_blank'>http://127.0.0.1:43785/status</a>\n",
       "</ul>\n",
       "</td>\n",
       "<td style=\"vertical-align: top; border: 0px solid white\">\n",
       "<h3 style=\"text-align: left;\">Cluster</h3>\n",
       "<ul style=\"text-align: left; list-style:none; margin: 0; padding: 0;\">\n",
       "  <li><b>Workers: </b>10</li>\n",
       "  <li><b>Cores: </b>70</li>\n",
       "  <li><b>Memory: </b>135.06 GB</li>\n",
       "</ul>\n",
       "</td>\n",
       "</tr>\n",
       "</table>"
      ],
      "text/plain": [
       "<Client: 'tcp://127.0.0.1:40757' processes=10 threads=70, memory=135.06 GB>"
      ]
     },
     "execution_count": 74,
     "metadata": {},
     "output_type": "execute_result"
    }
   ],
   "source": [
    "from dask.distributed import Client\n",
    "client = Client(threads_per_worker=7, n_workers=10)\n",
    "client"
   ]
  },
  {
   "cell_type": "code",
   "execution_count": 75,
   "metadata": {},
   "outputs": [],
   "source": [
    "def data_matrix_non_ov(series, label, N=40):\n",
    "    ''' \n",
    "    From a time series, generate a n_sample x n_feature matrix using non-overlapping windows.\n",
    "    \n",
    "    Parameters\n",
    "    ----------\n",
    "    series: 1-D numpy array shape (M, 1)\n",
    "    label: 1-D numpy array shape (M, 1)\n",
    "    N: n_features of the data matrix\n",
    "    \n",
    "    Returns\n",
    "    -------\n",
    "    X: array of shape (M - N, N)\n",
    "    y: array of shape (M - N, )\n",
    "    '''\n",
    "    X = np.array([series[N * i:N * (i + 1)] for i in range(int(len(series)/N))])\n",
    "    y = label[N-1::N]\n",
    "    return X, y  "
   ]
  },
  {
   "cell_type": "code",
   "execution_count": 76,
   "metadata": {},
   "outputs": [],
   "source": [
    "def bp_weights(M, N, lowcut, highcut, fs):\n",
    "    J = np.random.randn(M, N)\n",
    "    J = butter_bandpass_filter(J, lowcut, highcut, fs)\n",
    "    return J.T\n",
    "\n",
    "def l_clf(classifier, params, X_train, y_train, X_test, y_test):\n",
    "    clf = classifier(**params)\n",
    "    clf.fit(X_train, y_train)\n",
    "    return clf.score(X_test, y_test)"
   ]
  },
  {
   "cell_type": "markdown",
   "metadata": {},
   "source": [
    "__First, we will generate data.__"
   ]
  },
  {
   "cell_type": "code",
   "execution_count": 154,
   "metadata": {},
   "outputs": [],
   "source": [
    "# generate data\n",
    "fs, dur, sig_dur, f_signal = 3000, 900, 0.05, 80\n",
    "a = 0.01\n",
    "signal, label = noisy_sin_signal(f_s=fs, dur=dur, sig_dur=sig_dur, f_signal=f_signal, a=a)\n",
    "\n",
    "delta = 0.07\n",
    "N = int(delta * 2000)\n",
    "X, y = data_matrix_non_ov(signal, label, N)\n",
    "idx = int(len(X) * 2 / 3)\n",
    "X_train, y_train = X[:idx], y[:idx]\n",
    "X_test, y_test = X[idx:], y[idx:]"
   ]
  },
  {
   "cell_type": "markdown",
   "metadata": {},
   "source": [
    "__Now, we will classify the example using random features.__"
   ]
  },
  {
   "cell_type": "code",
   "execution_count": 155,
   "metadata": {},
   "outputs": [
    {
     "name": "stdout",
     "output_type": "stream",
     "text": [
      "[1, 2, 3, 4, 5, 7, 10, 13, 17, 23, 31, 42, 56, 74, 100, 133, 177, 237, 316, 421, 562, 749, 1000]\n"
     ]
    }
   ],
   "source": [
    "n_features = sorted(set(np.logspace(0, 3, 25).astype('int')))\n",
    "print(n_features)"
   ]
  },
  {
   "cell_type": "code",
   "execution_count": 156,
   "metadata": {},
   "outputs": [
    {
     "name": "stdout",
     "output_type": "stream",
     "text": [
      "CPU times: user 1min 8s, sys: 22.2 s, total: 1min 30s\n",
      "Wall time: 3min 55s\n"
     ]
    }
   ],
   "source": [
    "%%time\n",
    "# gaussian features\n",
    "results_gaus= []\n",
    "for n in n_features:\n",
    "    params = {'width': n, 'weights': 'unimodal', 'nonlinearity': relu}\n",
    "    lazy_results = [dask.delayed(l_clf)(RFClassifier, params, X_train, y_train, X_test, y_test) for _ in range(10)]\n",
    "    results_gaus.append(dask.compute(*lazy_results))\n",
    "    \n",
    "mean_gaus = 1 - np.mean(results_gaus, axis=1)\n",
    "std_gaus = np.std(results_gaus, axis=1)"
   ]
  },
  {
   "cell_type": "code",
   "execution_count": 157,
   "metadata": {},
   "outputs": [
    {
     "name": "stdout",
     "output_type": "stream",
     "text": [
      "CPU times: user 1min 8s, sys: 23.3 s, total: 1min 31s\n",
      "Wall time: 3min 55s\n"
     ]
    }
   ],
   "source": [
    "%%time \n",
    "# white noise features\n",
    "results_whitenoise = []\n",
    "for n in n_features:\n",
    "    params = {'width': n, 'weights': 'white noise', 'nonlinearity': relu}\n",
    "    lazy_results = [dask.delayed(l_clf)(RFClassifier, params, X_train, y_train, X_test, y_test) for _ in range(10)]\n",
    "    results_whitenoise.append(dask.compute(*lazy_results))\n",
    "\n",
    "mean_whitenoise = 1 - np.mean(results_whitenoise, axis=1)\n",
    "std_whitenoise = np.std(results_whitenoise, axis=1)"
   ]
  },
  {
   "cell_type": "code",
   "execution_count": 158,
   "metadata": {},
   "outputs": [
    {
     "name": "stdout",
     "output_type": "stream",
     "text": [
      "CPU times: user 1min 2s, sys: 23 s, total: 1min 25s\n",
      "Wall time: 3min 51s\n"
     ]
    }
   ],
   "source": [
    "%%time \n",
    "f = lambda M, N: bp_weights(M, N, lowcut=30, highcut=100, fs=2000)\n",
    "# band pass features\n",
    "results_bp = []\n",
    "for n in n_features:\n",
    "    params = {'width': n, 'weights': 'bandpass', 'weight_fun': f, 'nonlinearity': relu}\n",
    "    lazy_results = [dask.delayed(l_clf)(RFClassifier, params, X_train, y_train, X_test, y_test) for _ in range(10)]\n",
    "    results_bp.append(dask.compute(*lazy_results))\n",
    "\n",
    "mean_bp = 1 - np.mean(results_bp, axis=1)\n",
    "std_bp = np.std(results_bp, axis=1)"
   ]
  },
  {
   "cell_type": "code",
   "execution_count": 159,
   "metadata": {},
   "outputs": [
    {
     "data": {
      "image/png": "[encoded data removed]",
      "text/plain": [
       "<Figure size 576x432 with 1 Axes>"
      ]
     },
     "metadata": {
      "needs_background": "light"
     },
     "output_type": "display_data"
    }
   ],
   "source": [
    "# plot\n",
    "snr = a ** 2 / (1 - a ** 2)\n",
    "fig = plt.figure(figsize=(8, 6))\n",
    "plt.title('SNR = %0.2f' % snr, fontsize=16)\n",
    "plt.errorbar(n_features, mean_gaus, yerr=std_gaus, fmt='--go', label='unimodal', markersize=4, lw=2)\n",
    "plt.errorbar(n_features, mean_whitenoise, yerr=std_whitenoise, fmt='--bo', label='white noise', markersize=4, lw=2)\n",
    "plt.errorbar(n_features, mean_bp, yerr=std_bp, fmt='--ro', label='band pass', markersize=4, lw=2)\n",
    "plt.legend(fontsize=16)\n",
    "plt.xlabel('n_features', fontsize=16)\n",
    "plt.ylabel('Error', fontsize=16)\n",
    "plt.xticks(fontsize=14)\n",
    "plt.yticks(fontsize=14)\n",
    "plt.savefig('figures/rand_classification/non_ov_windows/clf_a=%0.2f.png' % a)\n",
    "\n",
    "plt.xlim(0, 100)\n",
    "plt.savefig('figures/rand_classification/non_ov_windows/clf_a=%0.2f_zoomed.png' % a)"
   ]
  },
  {
   "cell_type": "code",
   "execution_count": 160,
   "metadata": {},
   "outputs": [
    {
     "name": "stdout",
     "output_type": "stream",
     "text": [
      "\u001b[0m\u001b[01;35mclf_a=0.01.png\u001b[0m         \u001b[01;35mclf_a=0.80.png\u001b[0m         \u001b[01;34mmisclassified\u001b[0m/\r\n",
      "\u001b[01;35mclf_a=0.01_zoomed.png\u001b[0m  \u001b[01;35mclf_a=0.80_zoomed.png\u001b[0m  \u001b[01;34mnon_ov_windows\u001b[0m/\r\n",
      "\u001b[01;35mclf_a=0.50.png\u001b[0m         \u001b[01;35mclf_a=1.00.png\u001b[0m\r\n",
      "\u001b[01;35mclf_a=0.50_zoomed.png\u001b[0m  \u001b[01;35mclf_a=1.00_zoomed.png\u001b[0m\r\n"
     ]
    }
   ],
   "source": [
    "ls figures/rand_classification/"
   ]
  },
  {
   "cell_type": "code",
   "execution_count": 145,
   "metadata": {},
   "outputs": [
    {
     "data": {
      "text/plain": [
       "array([0.45871831, 0.44977446, 0.43003578, 0.41975424, 0.4113548 ,\n",
       "       0.42675377, 0.42639602, 0.39780681, 0.36828434, 0.32076528,\n",
       "       0.21852543, 0.24509255, 0.21994089, 0.15101882, 0.11807435,\n",
       "       0.075035  , 0.07190854, 0.08271893, 0.08432105, 0.07473946,\n",
       "       0.09007622, 0.07791258, 0.06637113])"
      ]
     },
     "execution_count": 145,
     "metadata": {},
     "output_type": "execute_result"
    }
   ],
   "source": [
    "mean_gaus"
   ]
  },
  {
   "cell_type": "code",
   "execution_count": null,
   "metadata": {},
   "outputs": [],
   "source": []
  }
 ],
 "metadata": {
  "kernelspec": {
   "display_name": "Python 3",
   "language": "python",
   "name": "python3"
  },
  "language_info": {
   "codemirror_mode": {
    "name": "ipython",
    "version": 3
   },
   "file_extension": ".py",
   "mimetype": "text/x-python",
   "name": "python",
   "nbconvert_exporter": "python",
   "pygments_lexer": "ipython3",
   "version": "3.7.4"
  }
 },
 "nbformat": 4,
 "nbformat_minor": 2
}
