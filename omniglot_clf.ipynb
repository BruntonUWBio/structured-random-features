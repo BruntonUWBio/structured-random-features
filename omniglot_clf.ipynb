{
 "cells": [
  {
   "cell_type": "code",
   "execution_count": 1,
   "metadata": {},
   "outputs": [],
   "source": [
    "import numpy as np\n",
    "import matplotlib.pyplot as plt"
   ]
  },
  {
   "cell_type": "markdown",
   "metadata": {},
   "source": [
    "### Load data"
   ]
  },
  {
   "cell_type": "code",
   "execution_count": 56,
   "metadata": {},
   "outputs": [
    {
     "name": "stdout",
     "output_type": "stream",
     "text": [
      "demo.py                       \u001b[0m\u001b[01;34mone-shot-classification\u001b[0m/\r\n",
      "\u001b[01;31mimages_background_small1.zip\u001b[0m  \u001b[01;31mstrokes_background_small1.zip\u001b[0m\r\n",
      "\u001b[01;31mimages_background_small2.zip\u001b[0m  \u001b[01;31mstrokes_background_small2.zip\u001b[0m\r\n",
      "\u001b[01;31mimages_background.zip\u001b[0m         \u001b[01;31mstrokes_background.zip\u001b[0m\r\n",
      "\u001b[01;31mimages_evaluation.zip\u001b[0m         \u001b[01;31mstrokes_evaluation.zip\u001b[0m\r\n"
     ]
    }
   ],
   "source": []
  },
  {
   "cell_type": "code",
   "execution_count": null,
   "metadata": {},
   "outputs": [],
   "source": []
  }
 ],
 "metadata": {
  "kernelspec": {
   "display_name": "Python 3",
   "language": "python",
   "name": "python3"
  },
  "language_info": {
   "codemirror_mode": {
    "name": "ipython",
    "version": 3
   },
   "file_extension": ".py",
   "mimetype": "text/x-python",
   "name": "python",
   "nbconvert_exporter": "python",
   "pygments_lexer": "ipython3",
   "version": "3.7.4"
  }
 },
 "nbformat": 4,
 "nbformat_minor": 2
}
