{
 "cells": [
  {
   "cell_type": "code",
   "execution_count": 1,
   "id": "b4522248-0d6d-4649-9fa1-4cd187612f19",
   "metadata": {},
   "outputs": [],
   "source": [
    "from os import getcwd\n",
    "from os.path import join, abspath\n",
    "\n",
    "from copy import deepcopy\n",
    "from joblib import Parallel, delayed, parallel_backend\n",
    "import matplotlib.pyplot as plt\n",
    "import numpy as np\n",
    "import pickle\n",
    "from sklearn.model_selection import train_test_split\n",
    "from sklearn.svm import LinearSVC\n",
    "from tqdm import tqdm\n",
    "\n",
    "from src.models.estimator import RFClassifier, relu\n",
    "from src.models.weights import V1_weights, classical_weights\n",
    "from src.data.load_dataset import load_kmnist"
   ]
  },
  {
   "cell_type": "code",
   "execution_count": 2,
   "id": "d5db47da-a6f8-4570-b01f-3b34fb8ae2f2",
   "metadata": {},
   "outputs": [],
   "source": [
    "data_dir = abspath(join(getcwd(), '../../'))"
   ]
  },
  {
   "cell_type": "code",
   "execution_count": 4,
   "id": "bfdfdae0-a24d-4537-b7c4-3fb3bf613ec1",
   "metadata": {},
   "outputs": [],
   "source": [
    "# load dataset\n",
    "train_loader, val_loader, test_loader = load_kmnist()\n",
    "train, test = train_loader.dataset.dataset, test_loader.dataset\n",
    "train, train_labels = train.data.numpy(), train.targets.numpy()\n",
    "X_test, y_test = test.data.numpy(), test.targets.numpy()\n",
    "\n",
    "X_train, X_val, y_train, y_val = train_test_split(train, train_labels, train_size=0.999, stratify=train_labels)\n",
    "\n",
    "\n",
    "# training params\n",
    "num_neurons = sorted(set(np.logspace(0, 3.5, 50).astype('int')))\n",
    "num_trials = 5\n",
    "nonlinearity = relu\n",
    "bias = 0\n",
    "scale = 1\n",
    "clf = LinearSVC(tol=1e-4, max_iter=1000)\n",
    "n_jobs=3\n",
    "\n",
    "# V1 params\n",
    "compatible = {'s': 8, 'f':3}\n",
    "incompatible = {'s': 9, 'f':16}"
   ]
  },
  {
   "cell_type": "markdown",
   "id": "8c4c6fd2-4205-4b1d-95ce-3c5b33547c14",
   "metadata": {},
   "source": [
    "#### V1 RFNet with optimal parameters $s=8$ and $f=3$"
   ]
  },
  {
   "cell_type": "code",
   "execution_count": null,
   "id": "4085527b-1b8b-4190-b2ed-679f589fd900",
   "metadata": {},
   "outputs": [],
   "source": [
    "s, f = compatible['s'], compatible['f']\n",
    "kwargs = {'size':s, 'spatial_freq':f, 'center':None, 'scale':scale}\n",
    "test_V1 = {'hidden_size': [], 'mean': [], 'std_err': []}\n",
    "\n",
    "for n in tqdm(num_neurons):\n",
    "    classifiers = [RFClassifier(n, V1_weights, bias, nonlinearity, deepcopy(clf), kwargs) for i in range(num_trials)]\n",
    "    with parallel_backend('threading', n_jobs=n_jobs):\n",
    "        Parallel()(delayed(RFclf.fit)(X_train, y_train) for RFclf in classifiers)\n",
    "        test_accuracy = [RFclf.score(X_test, y_test) for RFclf in classifiers]\n",
    "    \n",
    "    test_V1['mean'].append(np.mean(test_accuracy))\n",
    "    test_V1['std_err'].append(np.std(test_accuracy) / np.sqrt(num_trials))\n",
    "    test_V1['hidden_size'].append(n)"
   ]
  },
  {
   "cell_type": "markdown",
   "id": "9463a922-a639-401c-b41b-4364624037f0",
   "metadata": {},
   "source": [
    "#### Classical weights"
   ]
  },
  {
   "cell_type": "code",
   "execution_count": null,
   "id": "c517b033-c8e1-4a31-8887-a44695d23200",
   "metadata": {},
   "outputs": [],
   "source": [
    "kwargs = {'scale':scale}\n",
    "test_classical = {'hidden_size': [], 'mean': [], 'std_err': []}\n",
    "\n",
    "for n in tqdm(num_neurons):\n",
    "    classifiers = [RFClassifier(n, classical_weights, bias, nonlinearity, deepcopy(clf), kwargs) for i in range(num_trials)]\n",
    "    with parallel_backend('threading', n_jobs=n_jobs):\n",
    "        Parallel()(delayed(RFclf.fit)(X_train, y_train) for RFclf in classifiers)\n",
    "        test_accuracy = [RFclf.score(X_test, y_test) for RFclf in classifiers]\n",
    "        \n",
    "    test_classical['mean'].append(np.mean(test_accuracy))\n",
    "    test_classical['std_err'].append(np.std(test_accuracy) / np.sqrt(num_trials))\n",
    "    test_classical['hidden_size'].append(n)"
   ]
  },
  {
   "cell_type": "markdown",
   "id": "04beb7eb-d5ce-44d4-a647-4eaa41c74409",
   "metadata": {},
   "source": [
    "#### Incompatible RFNet with parameters $s=9$ and $f=16$"
   ]
  },
  {
   "cell_type": "code",
   "execution_count": null,
   "id": "19ba7049-d35f-42cd-be19-45d6891fd2b9",
   "metadata": {},
   "outputs": [],
   "source": [
    "s, f = incompatible['s'], incompatible['f']\n",
    "kwargs = {'size':s, 'spatial_freq':f, 'center':None, 'scale':scale}\n",
    "test_incompatible = {'hidden_size': [], 'mean': [], 'std_err': []}\n",
    "\n",
    "for n in tqdm(num_neurons):\n",
    "    classifiers = [RFClassifier(n, V1_weights, bias, nonlinearity, deepcopy(clf), kwargs) for i in range(num_trials)]\n",
    "    with parallel_backend('threading', n_jobs=n_jobs):\n",
    "        Parallel()(delayed(RFclf.fit)(X_train, y_train) for RFclf in classifiers)\n",
    "        test_accuracy = [RFclf.score(X_test, y_test) for RFclf in classifiers]\n",
    "    \n",
    "    test_incompatible['mean'].append(np.mean(test_accuracy))\n",
    "    test_incompatible['std_err'].append(np.std(test_accuracy) / np.sqrt(num_trials))\n",
    "    test_incompatible['hidden_size'].append(n)"
   ]
  },
  {
   "cell_type": "code",
   "execution_count": null,
   "id": "0fb44058-0f76-491f-8f53-94fd82c83e96",
   "metadata": {},
   "outputs": [],
   "source": [
    "# save\n",
    "s, f = compatible['s'], compatible['f']\n",
    "test = {'V1': test_V1, 'classical': test_classical, 'incompatible': test_incompatible}\n",
    "data_dir = abspath(join(getcwd(), '../../'))\n",
    "with open(data_dir + '/models/results/kmnist_clf/kmnist_clf_s=%0.2f_f=%0.2f_estimator.pickle' % (s, f), 'wb') as handle:\n",
    "    pickle.dump(test, handle, protocol=pickle.HIGHEST_PROTOCOL) "
   ]
  },
  {
   "cell_type": "code",
   "execution_count": 17,
   "id": "b0de17b9-57ea-4a91-8b4f-2d4a6eccb46e",
   "metadata": {},
   "outputs": [
    {
     "data": {
      "text/plain": [
       "[<matplotlib.lines.Line2D at 0x7ff800517b50>]"
      ]
     },
     "execution_count": 17,
     "metadata": {},
     "output_type": "execute_result"
    },
    {
     "data": {
      "image/png": "[encoded data removed]",
      "text/plain": [
       "<Figure size 432x288 with 1 Axes>"
      ]
     },
     "metadata": {
      "needs_background": "light"
     },
     "output_type": "display_data"
    }
   ],
   "source": [
    "# plot\n",
    "s, f = compatible['s'], compatible['f']\n",
    "with open(data_dir + '/models/results/kmnist_clf/kmnist_clf_s=%0.2f_f=%0.2f_estimator.pickle' % (s, f), 'rb') as file:\n",
    "    results = pickle.load(file) \n",
    "\n",
    "fig = plt.figure()\n",
    "plt.plot(results['V1']['hidden_size'], 1 - np.array(results['V1']['mean']), 'o', c='#2c7fb8')\n",
    "plt.plot(results['classical']['hidden_size'], 1 - np.array(results['classical']['mean']), c='#d95f02')\n",
    "plt.plot(results['incompatible']['hidden_size'], 1 - np.array(results['incompatible']['mean']), c='#91cf60')\n",
    "# plt.xlim([0, 1000])"
   ]
  },
  {
   "cell_type": "code",
   "execution_count": 12,
   "id": "dcd7f012-b41e-4f97-80eb-c2542ce8d2db",
   "metadata": {},
   "outputs": [
    {
     "data": {
      "text/plain": [
       "[(1, 0.88586),\n",
       " (2, 0.88836),\n",
       " (3, 0.88894),\n",
       " (4, 0.86242),\n",
       " (5, 0.88856),\n",
       " (6, 0.88144),\n",
       " (7, 0.86198),\n",
       " (8, 0.87088),\n",
       " (10, 0.85758),\n",
       " (11, 0.87324),\n",
       " (13, 0.85008),\n",
       " (16, 0.8483),\n",
       " (19, 0.83036),\n",
       " (22, 0.7776000000000001),\n",
       " (26, 0.78292),\n",
       " (31, 0.74156),\n",
       " (37, 0.7538199999999999),\n",
       " (43, 0.70776),\n",
       " (51, 0.70638),\n",
       " (61, 0.67628),\n",
       " (71, 0.6128399999999999),\n",
       " (84, 0.5745),\n",
       " (100, 0.57672),\n",
       " (117, 0.53648),\n",
       " (138, 0.51146),\n",
       " (163, 0.50306),\n",
       " (193, 0.44000000000000006),\n",
       " (227, 0.46820000000000006),\n",
       " (268, 0.39969999999999994),\n",
       " (316, 0.38425999999999993),\n",
       " (372, 0.36871999999999994),\n",
       " (439, 0.34640000000000004),\n",
       " (517, 0.33036),\n",
       " (610, 0.29886),\n",
       " (719, 0.29579999999999995),\n",
       " (848, 0.26734),\n",
       " (1000, 0.25351999999999997),\n",
       " (1178, 0.22677999999999998),\n",
       " (1389, 0.21653999999999995),\n",
       " (1637, 0.20598000000000005),\n",
       " (1930, 0.20082),\n",
       " (2275, 0.18552000000000002),\n",
       " (2682, 0.17859999999999998),\n",
       " (3162, 0.17028)]"
      ]
     },
     "execution_count": 12,
     "metadata": {},
     "output_type": "execute_result"
    }
   ],
   "source": [
    "list(zip(results['V1']['hidden_size'], 1 - np.array(results['classical']['mean'])))"
   ]
  },
  {
   "cell_type": "code",
   "execution_count": null,
   "id": "c4055577-db5e-4e4f-9019-23a2181c767a",
   "metadata": {},
   "outputs": [],
   "source": [
    "with open(data_dir + '/models/results/kmnist_clf/kmnist_param_study_estimator.pickle', 'rb') as file:\n",
    "    results = pickle.load(file)\n",
    "    \n",
    "grid = np.arange(1, 20, 1)\n",
    "mean = np.mean(results['scores'], axis=1)\n",
    "fig = plt.figure()\n",
    "ax = fig.add_subplot(111)\n",
    "plt.imshow(mean.reshape(19, 19), cmap='RdBu_r')\n",
    "plt.xticks(grid - 1)\n",
    "plt.yticks(grid - 1)\n",
    "ax.set_xticklabels(grid)\n",
    "ax.set_yticklabels(grid)\n",
    "# plt.imshow(results['scores'])\n",
    "plt.clim(0.8, 1)\n",
    "plt.colorbar()\n",
    "\n",
    "# print the largest param\n",
    "idx = np.argmin(mean)\n",
    "print(results['size'][idx], results['spatial_freq'][idx], mean[idx], 1 - results['scores'][idx])"
   ]
  },
  {
   "cell_type": "code",
   "execution_count": null,
   "id": "0bf09320-ffdc-45ef-8a33-938759182735",
   "metadata": {},
   "outputs": [],
   "source": [
    "results['scores'][idx]"
   ]
  },
  {
   "cell_type": "code",
   "execution_count": null,
   "id": "616d684a-3228-4d0b-83aa-14956c7c3052",
   "metadata": {},
   "outputs": [],
   "source": [
    "2 * 2"
   ]
  },
  {
   "cell_type": "code",
   "execution_count": null,
   "id": "cc0d4e6e-0274-4b21-8ad5-b52b60e1e202",
   "metadata": {},
   "outputs": [],
   "source": []
  }
 ],
 "metadata": {
  "kernelspec": {
   "display_name": "Python 3",
   "language": "python",
   "name": "python3"
  },
  "language_info": {
   "codemirror_mode": {
    "name": "ipython",
    "version": 3
   },
   "file_extension": ".py",
   "mimetype": "text/x-python",
   "name": "python",
   "nbconvert_exporter": "python",
   "pygments_lexer": "ipython3",
   "version": "3.8.10"
  }
 },
 "nbformat": 4,
 "nbformat_minor": 5
}
