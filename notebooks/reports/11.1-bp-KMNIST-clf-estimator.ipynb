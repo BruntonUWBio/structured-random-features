{
 "cells": [
  {
   "cell_type": "code",
   "execution_count": 1,
   "metadata": {},
   "outputs": [],
   "source": [
    "from os import getcwd\n",
    "from os.path import join, abspath\n",
    "\n",
    "from copy import deepcopy\n",
    "from joblib import Parallel, delayed, parallel_backend\n",
    "import matplotlib.pyplot as plt\n",
    "import numpy as np\n",
    "import pickle\n",
    "from sklearn.model_selection import train_test_split\n",
    "from sklearn.svm import LinearSVC\n",
    "from tqdm import tqdm\n",
    "\n",
    "from src.models.estimator import RFClassifier, relu\n",
    "from src.models.weights import V1_weights, classical_weights\n",
    "from src.data.load_dataset import load_kmnist"
   ]
  },
  {
   "cell_type": "code",
   "execution_count": 2,
   "metadata": {},
   "outputs": [],
   "source": [
    "data_dir = abspath(join(getcwd(), '../../'))"
   ]
  },
  {
   "cell_type": "code",
   "execution_count": 4,
   "metadata": {},
   "outputs": [],
   "source": [
    "# load dataset\n",
    "train_loader, val_loader, test_loader = load_kmnist()\n",
    "train, test = train_loader.dataset.dataset, test_loader.dataset\n",
    "train, train_labels = train.data.numpy(), train.targets.numpy()\n",
    "X_test, y_test = test.data.numpy(), test.targets.numpy()\n",
    "\n",
    "X_train, X_val, y_train, y_val = train_test_split(train, train_labels, train_size=0.999, stratify=train_labels)\n",
    "\n",
    "\n",
    "# training params\n",
    "num_neurons = sorted(set(np.logspace(0, 3.5, 50).astype('int')))\n",
    "num_trials = 5\n",
    "nonlinearity = relu\n",
    "bias = 0\n",
    "scale = 1\n",
    "clf = LinearSVC(tol=1e-4, max_iter=1000)\n",
    "n_jobs=3\n",
    "\n",
    "# V1 params\n",
    "compatible = {'s': 5, 'f':2}\n",
    "incompatible = {'s': 0.5, 'f':0.5}"
   ]
  },
  {
   "cell_type": "markdown",
   "metadata": {},
   "source": [
    "#### V1 RFNet with optimal parameters $s=5$ and $f=2$"
   ]
  },
  {
   "cell_type": "code",
   "execution_count": null,
   "metadata": {},
   "outputs": [],
   "source": [
    "s, f = compatible['s'], compatible['f']\n",
    "kwargs = {'size':s, 'spatial_freq':f, 'center':None, 'scale':scale}\n",
    "test_V1 = {'hidden_size': [], 'mean': [], 'std_err': []}\n",
    "\n",
    "for n in tqdm(num_neurons):\n",
    "    classifiers = [RFClassifier(n, V1_weights, bias, nonlinearity, deepcopy(clf), kwargs) for i in range(num_trials)]\n",
    "    with parallel_backend('threading', n_jobs=n_jobs):\n",
    "        Parallel()(delayed(RFclf.fit)(X_train, y_train) for RFclf in classifiers)\n",
    "        test_accuracy = [RFclf.score(X_test, y_test) for RFclf in classifiers]\n",
    "    \n",
    "    test_V1['mean'].append(np.mean(test_accuracy))\n",
    "    test_V1['std_err'].append(np.std(test_accuracy) / np.sqrt(num_trials))\n",
    "    test_V1['hidden_size'].append(n)"
   ]
  },
  {
   "cell_type": "markdown",
   "metadata": {},
   "source": [
    "#### Classical weights"
   ]
  },
  {
   "cell_type": "code",
   "execution_count": null,
   "metadata": {},
   "outputs": [],
   "source": [
    "kwargs = {'scale':scale}\n",
    "test_classical = {'hidden_size': [], 'mean': [], 'std_err': []}\n",
    "\n",
    "for n in tqdm(num_neurons):\n",
    "    classifiers = [RFClassifier(n, classical_weights, bias, nonlinearity, deepcopy(clf), kwargs) for i in range(num_trials)]\n",
    "    with parallel_backend('threading', n_jobs=n_jobs):\n",
    "        Parallel()(delayed(RFclf.fit)(X_train, y_train) for RFclf in classifiers)\n",
    "        test_accuracy = [RFclf.score(X_test, y_test) for RFclf in classifiers]\n",
    "        \n",
    "    test_classical['mean'].append(np.mean(test_accuracy))\n",
    "    test_classical['std_err'].append(np.std(test_accuracy) / np.sqrt(num_trials))\n",
    "    test_classical['hidden_size'].append(n)"
   ]
  },
  {
   "cell_type": "markdown",
   "metadata": {},
   "source": [
    "#### Incompatible RFNet with parameters $s=0.5$ and $f=0.5$"
   ]
  },
  {
   "cell_type": "code",
   "execution_count": null,
   "metadata": {},
   "outputs": [],
   "source": [
    "s, f = incompatible['s'], incompatible['f']\n",
    "kwargs = {'size':s, 'spatial_freq':f, 'center':None, 'scale':scale}\n",
    "test_incompatible = {'hidden_size': [], 'mean': [], 'std_err': []}\n",
    "\n",
    "for n in tqdm(num_neurons):\n",
    "    classifiers = [RFClassifier(n, V1_weights, bias, nonlinearity, deepcopy(clf), kwargs) for i in range(num_trials)]\n",
    "    with parallel_backend('threading', n_jobs=n_jobs):\n",
    "        Parallel()(delayed(RFclf.fit)(X_train, y_train) for RFclf in classifiers)\n",
    "        test_accuracy = [RFclf.score(X_test, y_test) for RFclf in classifiers]\n",
    "    \n",
    "    test_incompatible['mean'].append(np.mean(test_accuracy))\n",
    "    test_incompatible['std_err'].append(np.std(test_accuracy) / np.sqrt(num_trials))\n",
    "    test_incompatible['hidden_size'].append(n)"
   ]
  },
  {
   "cell_type": "code",
   "execution_count": null,
   "metadata": {},
   "outputs": [],
   "source": [
    "# save\n",
    "s, f = compatible['s'], compatible['f']\n",
    "test = {'V1': test_V1, 'classical': test_classical, 'incompatible': test_incompatible}\n",
    "data_dir = abspath(join(getcwd(), '../../'))\n",
    "with open(data_dir + '/models/results/kmnist_clf/kmnist_clf_s=%0.2f_f=%0.2f_estimator.pickle' % (s, f), 'wb') as handle:\n",
    "    pickle.dump(test, handle, protocol=pickle.HIGHEST_PROTOCOL) "
   ]
  },
  {
   "cell_type": "code",
   "execution_count": 4,
   "metadata": {},
   "outputs": [
    {
     "data": {
      "text/plain": [
       "[<matplotlib.lines.Line2D at 0x7f46179afaf0>]"
      ]
     },
     "execution_count": 4,
     "metadata": {},
     "output_type": "execute_result"
    },
    {
     "data": {
      "image/png": "[encoded data removed]",
      "text/plain": [
       "<Figure size 432x288 with 1 Axes>"
      ]
     },
     "metadata": {
      "needs_background": "light"
     },
     "output_type": "display_data"
    }
   ],
   "source": [
    "# plot\n",
    "compatible = {'s': 5, 'f':2}\n",
    "s, f = compatible['s'], compatible['f']\n",
    "with open(data_dir + '/models/results/kmnist_clf/kmnist_clf_s=%0.2f_f=%0.2f_estimator.pickle' % (s, f), 'rb') as file:\n",
    "    results = pickle.load(file) \n",
    "\n",
    "fig = plt.figure()\n",
    "plt.semilogy(results['V1']['hidden_size'], 1 - np.array(results['V1']['mean']), '-', c='#2c7fb8')\n",
    "plt.semilogy(results['classical']['hidden_size'], 1 - np.array(results['classical']['mean']), c='#d95f02')\n",
    "plt.semilogy(results['incompatible']['hidden_size'], 1 - np.array(results['incompatible']['mean']), c='#91cf60')\n",
    "# plt.xlim([0, 1000])"
   ]
  },
  {
   "cell_type": "code",
   "execution_count": 13,
   "metadata": {},
   "outputs": [
    {
     "data": {
      "text/plain": [
       "[(1, 0.87172),\n",
       " (2, 0.8764),\n",
       " (3, 0.87174),\n",
       " (4, 0.8677),\n",
       " (5, 0.83188),\n",
       " (6, 0.85148),\n",
       " (7, 0.81528),\n",
       " (8, 0.82176),\n",
       " (10, 0.78356),\n",
       " (11, 0.80302),\n",
       " (13, 0.79854),\n",
       " (16, 0.712),\n",
       " (19, 0.6986399999999999),\n",
       " (22, 0.69852),\n",
       " (26, 0.61442),\n",
       " (31, 0.59834),\n",
       " (37, 0.5932999999999999),\n",
       " (43, 0.5468999999999999),\n",
       " (51, 0.51936),\n",
       " (61, 0.4922000000000001),\n",
       " (71, 0.4897),\n",
       " (84, 0.45743999999999996),\n",
       " (100, 0.3728),\n",
       " (117, 0.33108000000000004),\n",
       " (138, 0.41603999999999997),\n",
       " (163, 0.29923999999999995),\n",
       " (193, 0.271),\n",
       " (227, 0.27656000000000003),\n",
       " (268, 0.2694599999999999),\n",
       " (316, 0.20133999999999996),\n",
       " (372, 0.19018000000000002),\n",
       " (439, 0.19488000000000005),\n",
       " (517, 0.17502000000000018),\n",
       " (610, 0.15046000000000004),\n",
       " (719, 0.13490000000000002),\n",
       " (848, 0.12646000000000002),\n",
       " (1000, 0.13095999999999997),\n",
       " (1178, 0.10744000000000009),\n",
       " (1389, 0.10925999999999991),\n",
       " (1637, 0.09397999999999995),\n",
       " (1930, 0.09238000000000002),\n",
       " (2275, 0.09174000000000004),\n",
       " (2682, 0.08251999999999993),\n",
       " (3162, 0.07857999999999998)]"
      ]
     },
     "execution_count": 13,
     "metadata": {},
     "output_type": "execute_result"
    }
   ],
   "source": [
    "list(zip(results['V1']['hidden_size'], 1 - np.array(results['V1']['mean'])))"
   ]
  },
  {
   "cell_type": "code",
   "execution_count": 7,
   "metadata": {},
   "outputs": [
    {
     "name": "stdout",
     "output_type": "stream",
     "text": [
      "8 3 0.9443276609943277 [0.05585586 0.05395395 0.05720721]\n"
     ]
    },
    {
     "data": {
      "image/png": "[encoded data removed]",
      "text/plain": [
       "<Figure size 432x288 with 2 Axes>"
      ]
     },
     "metadata": {
      "needs_background": "light"
     },
     "output_type": "display_data"
    }
   ],
   "source": [
    "with open(data_dir + '/models/results/kmnist_clf/kmnist_param_study_estimator.pickle', 'rb') as file:\n",
    "    results = pickle.load(file)\n",
    "    \n",
    "grid = np.arange(1, 20, 1)\n",
    "mean = np.mean(results['scores'], axis=1)\n",
    "fig = plt.figure()\n",
    "ax = fig.add_subplot(111)\n",
    "plt.imshow(mean.reshape(19, 19), cmap='RdBu_r')\n",
    "plt.xticks(grid - 1)\n",
    "plt.yticks(grid - 1)\n",
    "ax.set_xticklabels(grid)\n",
    "ax.set_yticklabels(grid)\n",
    "# plt.imshow(results['scores'])\n",
    "plt.clim(0.8, 1)\n",
    "plt.colorbar()\n",
    "\n",
    "# print the largest param\n",
    "idx = np.argmin(mean)\n",
    "print(results['size'][idx], results['spatial_freq'][idx], mean[idx], 1 - results['scores'][idx])"
   ]
  },
  {
   "cell_type": "code",
   "execution_count": null,
   "metadata": {},
   "outputs": [],
   "source": [
    "results['scores'][idx]"
   ]
  },
  {
   "cell_type": "code",
   "execution_count": null,
   "metadata": {},
   "outputs": [],
   "source": [
    "2 * 2"
   ]
  },
  {
   "cell_type": "code",
   "execution_count": null,
   "metadata": {},
   "outputs": [],
   "source": []
  }
 ],
 "metadata": {
  "interpreter": {
   "hash": "31f2aee4e71d21fbe5cf8b01ff0e069b9275f58929596ceb00d14d90e3e16cd6"
  },
  "kernelspec": {
   "display_name": "Python 3.8.2 64-bit",
   "name": "python3"
  },
  "language_info": {
   "name": "python",
   "version": ""
  }
 },
 "nbformat": 4,
 "nbformat_minor": 5
}