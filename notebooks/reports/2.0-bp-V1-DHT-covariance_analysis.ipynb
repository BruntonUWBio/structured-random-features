{
 "cells": [
  {
   "cell_type": "markdown",
   "id": "5922af26-9bc2-4cd7-b4e5-7eba116ba4dc",
   "metadata": {},
   "source": [
    "### Covariance analyses on Marius' V1 receptive field data. \n",
    "The receptive fields were calculated in response to discrete hartley basis functions"
   ]
  },
  {
   "cell_type": "code",
   "execution_count": null,
   "id": "56975493-3805-4cb4-bf20-87795676188a",
   "metadata": {},
   "outputs": [],
   "source": [
    "import os\n",
    "import os.path as path\n",
    "\n",
    "import matplotlib.pyplot as plt\n",
    "import numpy as np\n",
    "import numpy.linalg as la\n",
    "from scipy import stats, ndimage\n",
    "from scipy.optimize import minimize\n",
    "from scipy.spatial.distance import pdist, cdist, squareform\n",
    "from sklearn.decomposition import PCA\n",
    "\n",
    "from src.data.load_dataset import load_V1_DHT\n",
    "from src.models.weights import V1_covariance_matrix, V1_weights\n",
    "\n",
    "data_dir = path.abspath(path.join(os.getcwd(), \"../../\"))"
   ]
  },
  {
   "cell_type": "markdown",
   "id": "5aceba43-50ff-4515-99a5-1c4bf1e0b612",
   "metadata": {},
   "source": [
    "#### Load data and select cells with snr > 1"
   ]
  },
  {
   "cell_type": "code",
   "execution_count": null,
   "id": "bb9ecd68-debb-4fe1-8b8a-44e486006422",
   "metadata": {},
   "outputs": [],
   "source": [
    "rf_data, snr, dim = load_V1_DHT(centered=True)\n",
    "center = (int(dim[0] / 2), int(dim[1] / 2))\n",
    "rf = rf_data[snr > 1]\n",
    "num_cells = rf.shape[0]\n",
    "\n",
    "# normalize for plotting\n",
    "rf_norm = (rf - np.mean(rf, axis=1).reshape(-1, 1)) / np.std(rf, axis=1).reshape(-1, 1)\n",
    "fig = plt.figure(figsize=(12, 5))\n",
    "for i in range(5):\n",
    "    ax = fig.add_subplot(1, 5, i + 1)\n",
    "    i = np.random.randint(len(rf))\n",
    "    cell_rf = rf_norm[i]\n",
    "    plt.imshow(cell_rf.reshape(dim), cmap='RdBu')\n",
    "    plt.clim(-10, 10)\n",
    "    plt.axis('off')"
   ]
  },
  {
   "cell_type": "markdown",
   "id": "65508800-045e-45f3-9fcb-fcccedf050d8",
   "metadata": {},
   "source": [
    "#### Compute covariance from data and fit optimal hyperparameters"
   ]
  },
  {
   "cell_type": "code",
   "execution_count": null,
   "id": "d08d0929-ac45-4494-8f3f-2706a1948b7f",
   "metadata": {},
   "outputs": [],
   "source": [
    "# compute data covariance\n",
    "cov_data = rf.T @ rf\n",
    "cov_data *= cov_data.shape[1] / np.trace(cov_data)\n",
    "\n",
    "# find params that minimize frobenius norm difference between data and covariance model\n",
    "def frob_norm_diff(x):\n",
    "    cov_model = V1_covariance_matrix(dim, size=x[0], spatial_freq=x[1], center=center, scale=1)\n",
    "    return la.norm(cov_data - cov_model)\n",
    "\n",
    "x0 = [10, 2]\n",
    "minimize_diff = minimize(frob_norm_diff, x0, method='BFGS', tol=1e-4)\n",
    "size_min, freq_min = minimize_diff.x\n",
    "print('Optimal params: s=%0.2f, f=%0.2f' % (size_min, freq_min))"
   ]
  },
  {
   "cell_type": "markdown",
   "id": "3b2de0db-f138-4446-b362-414bc8e816d6",
   "metadata": {},
   "source": [
    "#### Generate covariance matrices for data and model"
   ]
  },
  {
   "cell_type": "code",
   "execution_count": null,
   "id": "77e2052a-b240-414d-af11-a320c15aadb7",
   "metadata": {},
   "outputs": [],
   "source": [
    "# model\n",
    "cov_model = V1_covariance_matrix(dim, size_min, freq_min, center=center, scale=1)\n",
    "\n",
    "# cov from sampled neurons\n",
    "W = V1_weights(num_cells, dim, size_min, freq_min, center=center, scale=1)\n",
    "cov_sampled_neurons = W.T @ W\n",
    "cov_sampled_neurons *= cov_sampled_neurons.shape[0] / np.trace(cov_sampled_neurons)\n",
    "\n",
    "fig = plt.figure(figsize=(12, 8))\n",
    "ax = fig.add_subplot(131)\n",
    "plt.title('Data')\n",
    "plt.imshow(cov_data, cmap='RdBu')\n",
    "plt.clim(-1.5, 1.5)\n",
    "plt.axis('off')\n",
    "# plt.xlim(200, 500)\n",
    "# plt.ylim(200, 500)\n",
    "\n",
    "ax = fig.add_subplot(132)\n",
    "plt.title('Model')\n",
    "plt.imshow(cov_model, cmap='RdBu')\n",
    "plt.clim(-1, 1)\n",
    "plt.axis('off')\n",
    "# plt.xlim(200, 500)\n",
    "# plt.ylim(200, 500)\n",
    "\n",
    "ax = fig.add_subplot(133)\n",
    "plt.title('Model (neurons sampled)')\n",
    "plt.imshow(cov_sampled_neurons, cmap='RdBu')\n",
    "plt.clim(-1, 1)\n",
    "plt.axis('off')\n",
    "# plt.xlim(200, 500)\n",
    "# plt.ylim(200, 500)\n",
    "# plt.savefig('reports/figures/cov_mat_fitted_Marius_DHT.pdf')"
   ]
  },
  {
   "cell_type": "markdown",
   "id": "32c7f7a4-d412-4564-b280-1731cb4ec26a",
   "metadata": {},
   "source": [
    "#### plot some receptive fields"
   ]
  },
  {
   "cell_type": "code",
   "execution_count": null,
   "id": "08f14c05-a44f-4957-bf91-3060d9b4822d",
   "metadata": {},
   "outputs": [],
   "source": [
    "fig = plt.figure(figsize=(10, 2))\n",
    "plt.suptitle('Top (data), bottom (sample)')\n",
    "for i in range(5):\n",
    "    idx = np.random.randint(num_cells)\n",
    "    ax = fig.add_subplot(2, 5, i + 1)\n",
    "    cell_rf = rf_norm[idx].reshape(dim) \n",
    "    plt.imshow(cell_rf, cmap='RdBu')\n",
    "    plt.clim([-10, 10])\n",
    "    plt.axis('off')\n",
    "    \n",
    "    \n",
    "    ax = fig.add_subplot(2, 5, 5 + i + 1)\n",
    "    cell_rf = W[idx].reshape(dim) \n",
    "    plt.imshow(cell_rf, cmap='RdBu')\n",
    "    plt.clim([-8, 8])\n",
    "    plt.axis('off')\n",
    "# plt.savefig('reports/figures/receptive_fields_Marius_DHT.pdf')"
   ]
  },
  {
   "cell_type": "markdown",
   "id": "d3d4f254-8bd8-4ea7-896a-26a1bc0ba569",
   "metadata": {},
   "source": [
    "#### generate covariance with fine discretization for spectral analysis"
   ]
  },
  {
   "cell_type": "code",
   "execution_count": null,
   "id": "c6483022-6ace-497b-9081-ce498bf6a730",
   "metadata": {},
   "outputs": [],
   "source": [
    "# plot the V1 covariance matrix with finer mesh\n",
    "size, freq, scale = size_min.copy(), freq_min.copy(), 1\n",
    "\n",
    "x = np.arange(0, dim[0], 0.5)\n",
    "y = np.arange(0, dim[1], 0.5)\n",
    "yy, xx = np.meshgrid(y, x)\n",
    "grid = np.column_stack((xx.flatten(), yy.flatten()))\n",
    "\n",
    "a = squareform(pdist(grid, 'sqeuclidean'))\n",
    "b = la.norm(grid - center, axis=1) ** 2\n",
    "c = b.reshape(-1, 1)\n",
    "cov_model_fine = np.exp(-a / (2 * freq ** 2)) * np.exp(-b / (2 * size ** 2)) * np.exp(-c / (2 * size ** 2))\n",
    "cov_model_fine += 1e-5 * np.eye(len(cov_model_fine))\n",
    "cov_model_fine *= (scale * cov_model_fine.shape[0] / np.trace(cov_model_fine))\n",
    "\n",
    "# generate weights\n",
    "W_fine = np.random.multivariate_normal(np.zeros(cov_model_fine.shape[0]), cov_model_fine, num_cells)\n",
    "cov_sampled_neurons_fine = W_fine.T @ W_fine\n",
    "cov_sampled_neurons_fine *= (cov_sampled_neurons_fine.shape[0] / np.trace(cov_sampled_neurons_fine))"
   ]
  },
  {
   "cell_type": "markdown",
   "id": "0b30b6e8-dba7-4e35-9fc6-f8b059e8771a",
   "metadata": {},
   "source": [
    "#### Compute eigenvalues and eigenvectors"
   ]
  },
  {
   "cell_type": "code",
   "execution_count": null,
   "id": "f778c360-3dac-4892-bf96-eb3a1b044708",
   "metadata": {},
   "outputs": [],
   "source": [
    "# generate eigenfunctions and eigenvalues from the covariance matrices\n",
    "eval_data, evec_data = la.eigh(cov_data)\n",
    "eval_model, evec_model = la.eigh(cov_model_fine)\n",
    "eval_sampled_neurons, evec_sampled_neurons = la.eigh(cov_sampled_neurons_fine)"
   ]
  },
  {
   "cell_type": "markdown",
   "id": "617b7b61-a4c9-4e5e-9739-0b6e3c147cb8",
   "metadata": {},
   "source": [
    "#### define the analytical form of the eigenfunctions and eigenvalues"
   ]
  },
  {
   "cell_type": "code",
   "execution_count": null,
   "id": "e5d2b199-8c5e-49d3-86be-ddfc3cb43774",
   "metadata": {},
   "outputs": [],
   "source": [
    "from scipy.special import eval_hermitenorm\n",
    "def phi(x, s, f, k):\n",
    "    ''' Orthonormal eigenfunctions of the V1 kernel in 1d'''\n",
    "    alpha, beta = 1 / (2 * f ** 2), 1 / (2 * s ** 2)\n",
    "    D = np.sqrt(beta ** 2 + 2 * alpha * beta)\n",
    "    C = np.sqrt(2 * D)\n",
    "    normalization_fac = 2 ** k * np.math.factorial(k) * np.sqrt(np.pi) / C\n",
    "    return np.exp(- D * x ** 2) * eval_hermitenorm(k, C * x)\n",
    "\n",
    "def lamda(s, f, k):\n",
    "    ''' Eigenvalues of the V1 kernel in 1d '''\n",
    "    alpha, beta = 1 / (2 * f ** 2), 1 / (2 * s ** 2)\n",
    "    D = np.sqrt(beta ** 2 + 2 * alpha * beta)\n",
    "    C = np.sqrt(2 * D)\n",
    "    X = alpha + beta + D\n",
    "    return np.sqrt(np.pi / X) * ( 1 - C ** 2 / X) ** (k / 2)\n",
    "\n",
    "\n",
    "# generate all the eigenfunctions \n",
    "x = np.arange(-center[0], center[0], 0.1)\n",
    "y = np.arange(-center[1], center[1], 0.1)\n",
    "yy, xx = np.meshgrid(y, x)\n",
    "\n",
    "evec_anal = np.empty((0, len(x) * len(y)))\n",
    "eval_anal = np.empty((0, ))\n",
    "for k1 in range(15):\n",
    "    for k2 in range(15):\n",
    "        eigvec = phi(yy, size_min, freq_min, k1) * phi(xx, size_min, freq_min, k2)\n",
    "        eigvec = eigvec.reshape(1, -1)\n",
    "        eigval = lamda(size_min, freq_min, k1) * lamda(size_min, freq_min, k2)\n",
    "        \n",
    "        evec_anal = np.append(evec_anal, eigvec.reshape(1, -1), axis=0)\n",
    "        eval_anal = np.append(eval_anal, eigval)\n",
    "        \n",
    "# sort in descending order\n",
    "idx = np.argsort(-eval_anal)\n",
    "evec_anal = evec_anal[idx]\n",
    "eval_anal = eval_anal[idx[::-1]]"
   ]
  },
  {
   "cell_type": "markdown",
   "id": "f7d25f33-944f-454f-abec-a63a04e7f2ce",
   "metadata": {},
   "source": [
    "#### Plot eigenvalues from all 4 (data, model, sampled neurons, analytical)"
   ]
  },
  {
   "cell_type": "code",
   "execution_count": null,
   "id": "3fc9eb36-7d33-4402-bfae-3e9ab91ecdad",
   "metadata": {},
   "outputs": [],
   "source": [
    "# eigevalues\n",
    "eval_data /= np.sum(eval_data)\n",
    "eval_model /= np.sum(eval_model)\n",
    "eval_sampled_neurons /= np.sum(eval_sampled_neurons)\n",
    "eval_anal /= np.sum(eval_anal)\n",
    "\n",
    "t = 100\n",
    "fig = plt.figure()\n",
    "plt.semilogy(np.flip(eval_data)[:t], lw=4, c='r', label='data')\n",
    "plt.semilogy(np.flip(eval_model)[:t], lw=4, c='k', label='model')\n",
    "plt.semilogy(np.flip(eval_sampled_neurons)[:t], lw=4, c='g', label='finite neurons')\n",
    "plt.semilogy(np.flip(eval_anal)[:t], lw=2, c='b', alpha=0.5, label='analytical')\n",
    "plt.legend()\n",
    "# plt.ylim(1e-4, 1e-1)\n",
    "plt.xlabel('Eigenvalues', fontsize=20)\n",
    "plt.ylabel('Variance', fontsize=20)\n",
    "\n",
    "print('Data: %d evecs explain %0.2f variance' % (t, np.sum(eval_data[-t:])))\n",
    "print('Model: %d evecs explain %0.2f variance' % (t, np.sum(eval_model[-t:])))\n",
    "print('Sampled neurons: %d evecs explain %0.2f variance' % (t, np.sum(eval_sampled_neurons[-t:])))\n",
    "# plt.savefig('reports/figures/cov_mat_eigvals_Marius_DHT.pdf')"
   ]
  },
  {
   "cell_type": "markdown",
   "id": "81ee4994-a075-4a48-ba64-801aedb169fa",
   "metadata": {},
   "source": [
    "#### Plot eigenfunctions from all 4 (data, model, sampled neurons, analytical)"
   ]
  },
  {
   "cell_type": "code",
   "execution_count": null,
   "id": "ba9e6242-17dc-442e-900f-f0e5f3e8874c",
   "metadata": {},
   "outputs": [],
   "source": [
    "# plot eigenfunctions from all 4 (data, model, finite sample, analytical)\n",
    "fig = plt.figure(figsize=(14, 4))\n",
    "plt.suptitle('Eigenfunctions from top: Data, model, finite neurons, analytical')\n",
    "for i in range(10):\n",
    "    ax = fig.add_subplot(4, 10, i + 1)\n",
    "    plt.imshow(evec_data[:, - i-1].reshape(dim), cmap='RdBu')\n",
    "    plt.title(i)\n",
    "    plt.clim(-0.4, 0.4)\n",
    "    plt.axis('off')\n",
    "    \n",
    "    ax = fig.add_subplot(4, 10, 10 + i + 1)\n",
    "    plt.imshow(evec_model[:, -i-1].reshape(dim[0] * 2, dim[1] * 2), cmap='RdBu')\n",
    "    plt.clim(-0.2, 0.2)\n",
    "    plt.axis('off')\n",
    "    \n",
    "    ax = fig.add_subplot(4, 10, 20 + i + 1)\n",
    "    plt.imshow(evec_sampled_neurons[:,  - i - 1].reshape(dim[0] * 2, dim[1] * 2), cmap='RdBu')\n",
    "    plt.clim(-0.2, 0.2)\n",
    "    plt.axis('off')\n",
    "    \n",
    "    ax = fig.add_subplot(4, 10, 30 + i + 1)\n",
    "    plt.imshow(evec_anal[i].reshape(dim[0] * 10, dim[1] * 10), cmap='RdBu')\n",
    "    plt.clim(-0.3, 0.3)\n",
    "    plt.axis('off')\n",
    "    \n",
    "plt.tight_layout()\n",
    "plt.subplots_adjust(top=0.9)\n",
    "# plt.savefig('reports/figures/cov_mat_eigvecs_Marius_DHT.pdf')"
   ]
  },
  {
   "cell_type": "markdown",
   "id": "652d7ea7-96c0-4db7-b7f4-c66f46c420cb",
   "metadata": {},
   "source": [
    "### Use normality tests and qq-plot to check whether the data is normal"
   ]
  },
  {
   "cell_type": "code",
   "execution_count": null,
   "id": "30287e9c-c964-4f19-beff-766858679b9d",
   "metadata": {},
   "outputs": [],
   "source": [
    "# whiten the dataset\n",
    "rf = (rf - np.mean(rf, axis=0)) / np.std(rf, axis=0)\n",
    "pca = PCA(whiten=True)\n",
    "rf = pca.fit_transform(rf)\n",
    "\n",
    "# calculate the mahalanobis distance for every point\n",
    "mean = np.mean(rf, axis=0).reshape(1, -1)\n",
    "dist = cdist(rf, mean, 'mahalanobis') ** 2\n",
    "\n",
    "# calculate the theoretical quantiles w.r.t. chi squared distribution\n",
    "(theoretical_q, empirical_q), (slope, intercept, r) = stats.probplot(dist.flatten(), dist=stats.chi2, sparams=dim[0] * dim[1])\n",
    "t = np.arange(np.min(theoretical_q), np.max(theoretical_q), 0.5)\n",
    "y = slope * t + intercept # best fit line\n",
    "\n",
    "# calculate the cdf and pdf of real data\n",
    "pdf_data, bins_data = np.histogram(dist, bins=100, density=True)\n",
    "bin_size_data = bins_data[1] - bins_data[0]\n",
    "cdf_data = np.cumsum(pdf_data * bin_size_data)\n",
    "\n",
    "# calculate the cdf and pdf of chi squared distribution\n",
    "chi_rv = stats.chi2.rvs(dim[0] * dim[1], size=rf.shape)\n",
    "pdf_chi, bins_chi = np.histogram(chi_rv, bins=100, density=True)\n",
    "bin_size_chi = bins_chi[1] - bins_chi[0]\n",
    "cdf_chi = np.cumsum(pdf_chi * bin_size_chi)"
   ]
  },
  {
   "cell_type": "code",
   "execution_count": null,
   "id": "dddc905f-a378-4822-af46-64827c6206fa",
   "metadata": {},
   "outputs": [],
   "source": [
    "# perform the WS test\n",
    "ws, pval = stats.shapiro(rf)\n",
    "normal = True if pval > 0.05 else False \n",
    "print('Wilkes-Shapiro test: ws statistic: {:.2f}, p-value {:.2f}. Data is normal? {}'.format(ws, pval, normal))\n",
    "\n",
    "fig = plt.figure(figsize=(12, 4))\n",
    "# plot the qq-plot\n",
    "ax = fig.add_subplot(131)\n",
    "plt.title('QQ plot')\n",
    "plt.plot(theoretical_q, empirical_q, 'ko', alpha=0.02, label='data')\n",
    "plt.plot(t, y, 'r--', label=r'$Unity: y=x$')\n",
    "plt.plot(t, t, 'k-', label=r'best fit: $y={:.1f}x + {:.1f}$'.format(slope, intercept))\n",
    "plt.legend()\n",
    "plt.xlabel(r'$\\chi^2_{%d}$ theoretical quantiles' % (dim[0] * dim[1]), fontsize=16)\n",
    "plt.ylabel('Data quantiles', fontsize=16)\n",
    "\n",
    "# plot pdf\n",
    "ax = fig.add_subplot(132)\n",
    "plt.title('Probability density function')\n",
    "plt.plot(bins_chi[1:], pdf_chi, 'k-', label=r'$\\chi^2_{%d}$' % (dim[0] * dim[1]))\n",
    "plt.plot(bins_data[1:], pdf_data, 'r-', label='data')\n",
    "plt.xlabel(r'$x$', fontsize=16)\n",
    "plt.ylabel(r'$f(x)$', fontsize=16)\n",
    "plt.legend()\n",
    "\n",
    "# plot cdf\n",
    "ax = fig.add_subplot(133)\n",
    "plt.title('Cumulative density function')\n",
    "plt.plot(bins_chi[1:], cdf_chi, 'k-', label=r'$\\chi^2_{%d}$' % (dim[0] * dim[1]))\n",
    "plt.plot(bins_data[1:], cdf_data, 'r-', label='data')\n",
    "plt.ylabel(r'$x$', fontsize=16)\n",
    "plt.ylabel(r'$F(x)$', fontsize=16)\n",
    "plt.legend()\n",
    "\n",
    "plt.tight_layout()\n",
    "# plt.savefig('reports/figures/normality_tests/qq_plot_Marius_DHT.pdf')"
   ]
  },
  {
   "cell_type": "code",
   "execution_count": null,
   "id": "036ae332-a954-4a21-8e73-90fa6f6aedaf",
   "metadata": {},
   "outputs": [],
   "source": []
  }
 ],
 "metadata": {
  "kernelspec": {
   "display_name": "Python 3",
   "language": "python",
   "name": "python3"
  },
  "language_info": {
   "codemirror_mode": {
    "name": "ipython",
    "version": 3
   },
   "file_extension": ".py",
   "mimetype": "text/x-python",
   "name": "python",
   "nbconvert_exporter": "python",
   "pygments_lexer": "ipython3",
   "version": "3.8.10"
  }
 },
 "nbformat": 4,
 "nbformat_minor": 5
}
