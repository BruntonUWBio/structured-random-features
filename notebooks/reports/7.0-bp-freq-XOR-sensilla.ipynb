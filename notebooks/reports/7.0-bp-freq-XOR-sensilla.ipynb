{
 "cells": [
  {
   "cell_type": "code",
   "execution_count": null,
   "id": "d42fdcec-ee63-4525-9cc5-5985e81964ba",
   "metadata": {},
   "outputs": [],
   "source": [
    "import os \n",
    "import os.path as path\n",
    "\n",
    "import matplotlib.pyplot as plt\n",
    "import numpy as np\n",
    "import torch\n",
    "import torch.nn as nn\n",
    "import torch.optim as optim\n",
    "from tqdm import tqdm\n",
    "\n",
    "\n",
    "from src.data.load_dataset import load_frequency_XOR\n",
    "from src.models.networks import sensilla_RFNet, classical_RFNet\n",
    "from src.models.utils import train, test"
   ]
  },
  {
   "cell_type": "code",
   "execution_count": null,
   "id": "0bc7604f-b765-40f3-97d6-d56aa6f8f2e4",
   "metadata": {},
   "outputs": [],
   "source": [
    "device = torch.device(\"cuda\" if torch.cuda.is_available() else \"cpu\")"
   ]
  },
  {
   "cell_type": "code",
   "execution_count": null,
   "id": "1ee945c1-d007-4d8c-8c99-27398ba7f004",
   "metadata": {},
   "outputs": [],
   "source": [
    "# load data\n",
    "num_samples, sampling_rate, duration, freq1, freq2, snr, seed = 7000, 1500, 0.1, 5, 8, 0.8, 5\n",
    "train_batch_size, train_percentage = 2048, 0.8\n",
    "train_loader, val_loader, test_loader = load_frequency_XOR(num_samples, sampling_rate, freq1, freq2,\n",
    "                                                           duration, snr, \n",
    "                                                           train_batch_size, train_percentage, seed)"
   ]
  },
  {
   "cell_type": "markdown",
   "id": "9afeae52-cfd2-416a-9811-1017a5688dde",
   "metadata": {},
   "source": [
    "#### Mechanosensory RFNet with $\\omega_a=30$ Hz, $\\omega_b = 130$ Hz, \\& $\\gamma=6$"
   ]
  },
  {
   "cell_type": "code",
   "execution_count": null,
   "id": "f44ce424-a6fc-494c-9fc8-0f849835b1fb",
   "metadata": {},
   "outputs": [],
   "source": [
    "num_neurons = sorted(set(np.logspace(0, 3.4, 50).astype('int')))\n",
    "inp_size = int(sampling_rate * duration)\n",
    "omega_a, omega_b, gamma, seed = 3, 13, 6, 2\n",
    "lr = 0.01\n",
    "num_epochs = 30\n",
    "log_interval = 100\n",
    "\n",
    "test_sensilla = {'hidden_size': [], 'mean': [], 'std': []}\n",
    "for hidden_size in tqdm(num_neurons):\n",
    "    accuracy = []\n",
    "    for trial in range(50):\n",
    "        model = sensilla_RFNet(inp_size, hidden_size, \n",
    "                                 omega_a, omega_b, gamma, seed).to(device)\n",
    "        optimizer = optim.SGD(model.parameters(), lr=lr)\n",
    "\n",
    "        for epoch in range(num_epochs):\n",
    "            _ = train(log_interval, device, model, train_loader, optimizer, epoch, verbose=False)\n",
    "        accuracy.append(test(model, device, test_loader, verbose=False))\n",
    "        \n",
    "    test_sensilla['hidden_size'].append(hidden_size)\n",
    "    test_sensilla['mean'].append(np.mean(accuracy))\n",
    "    test_sensilla['std'].append(np.std(accuracy))"
   ]
  },
  {
   "cell_type": "markdown",
   "id": "ade7b7b3-7cbb-4989-8c3b-b84037e112e8",
   "metadata": {},
   "source": [
    "#### Classical RFNet"
   ]
  },
  {
   "cell_type": "code",
   "execution_count": null,
   "id": "ed387937-0dc2-415e-bcb0-3ff29d29ec73",
   "metadata": {},
   "outputs": [],
   "source": [
    "num_neurons = sorted(set(np.logspace(0, 3.4, 50).astype('int')))\n",
    "inp_size = int(sampling_rate * duration)\n",
    "lr = 0.01\n",
    "num_epochs = 30\n",
    "log_interval = 100\n",
    "\n",
    "test_classical = {'hidden_size': [], 'mean': [], 'std': []} \n",
    "for hidden_size in tqdm(num_neurons):\n",
    "    accuracy = []\n",
    "    for trial in range(50):\n",
    "        model = classical_RFNet(inp_size, hidden_size, seed).to(device)\n",
    "        optimizer = optim.SGD(model.parameters(), lr=lr)\n",
    "\n",
    "        for epoch in range(num_epochs):\n",
    "            _ = train(log_interval, device, model, train_loader, optimizer, epoch, verbose=False)\n",
    "        accuracy.append(test(model, device, test_loader, verbose=False))\n",
    "\n",
    "    test_classical['hidden_size'].append(hidden_size)\n",
    "    test_classical['mean'].append(np.mean(accuracy))\n",
    "    test_classical['std'].append(np.std(accuracy))"
   ]
  },
  {
   "cell_type": "markdown",
   "id": "5e15b1a1-6226-42e9-aac4-61e71e700f21",
   "metadata": {},
   "source": [
    "#### Mechanosensory RFNet with incompatible parameters: $\\omega_a=70$ Hz, $\\omega_b = 130$ Hz, \\& $\\gamma=6$"
   ]
  },
  {
   "cell_type": "code",
   "execution_count": null,
   "id": "34c97a67-f14f-4c37-9821-8c7f3e7df282",
   "metadata": {},
   "outputs": [],
   "source": [
    "# incompatible sensilla RFNet \n",
    "num_neurons = sorted(set(np.logspace(0, 3.4, 50).astype('int')))\n",
    "inp_size = int(sampling_rate * duration)\n",
    "omega_a, omega_b, gamma, seed = 7, 13, 6, 2\n",
    "lr = 0.01\n",
    "num_epochs = 30\n",
    "log_interval = 100\n",
    "\n",
    "test_incompatible = {'hidden_size': [], 'mean': [], 'std': []}\n",
    "for hidden_size in tqdm(num_neurons):\n",
    "    accuracy = []\n",
    "    for trial in range(50):\n",
    "        model = sensilla_RFNet(inp_size, hidden_size, \n",
    "                                 omega_a, omega_b, gamma, seed).to(device)\n",
    "        optimizer = optim.SGD(model.parameters(), lr=lr)\n",
    "\n",
    "        for epoch in range(num_epochs):\n",
    "            _ = train(log_interval, device, model, train_loader, optimizer, epoch, verbose=False)\n",
    "        accuracy.append(test(model, device, test_loader, verbose=False))\n",
    "        \n",
    "    test_incompatible['hidden_size'].append(hidden_size)\n",
    "    test_incompatible['mean'].append(np.mean(accuracy))\n",
    "    test_incompatible['std'].append(np.std(accuracy))"
   ]
  },
  {
   "cell_type": "code",
   "execution_count": null,
   "id": "f929c864-5ea9-49d4-b157-1007553a0ee9",
   "metadata": {},
   "outputs": [],
   "source": [
    "# save\n",
    "test = {'sensilla': test_sensilla, 'classical': test_classical, 'incompatible': test_incompatible}\n",
    "data_dir = path.abspath(path.join(os.getcwd(), '../../'))\n",
    "with open(data_dir + '/models/results/freq_XOR/freq_XOR_sensilla.pickle', 'wb') as handle:\n",
    "    pickle.dump(test, handle, protocol=pickle.HIGHEST_PROTOCOL) "
   ]
  },
  {
   "cell_type": "code",
   "execution_count": null,
   "id": "a6620ed4-fa29-4341-a54b-973072f862c2",
   "metadata": {},
   "outputs": [],
   "source": []
  }
 ],
 "metadata": {
  "kernelspec": {
   "display_name": "Python 3",
   "language": "python",
   "name": "python3"
  },
  "language_info": {
   "codemirror_mode": {
    "name": "ipython",
    "version": 3
   },
   "file_extension": ".py",
   "mimetype": "text/x-python",
   "name": "python",
   "nbconvert_exporter": "python",
   "pygments_lexer": "ipython3",
   "version": "3.8.10"
  }
 },
 "nbformat": 4,
 "nbformat_minor": 5
}
