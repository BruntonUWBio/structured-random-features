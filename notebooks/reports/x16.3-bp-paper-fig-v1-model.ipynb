{
 "cells": [
  {
   "cell_type": "code",
   "execution_count": 1,
   "id": "6a4f280f",
   "metadata": {},
   "outputs": [],
   "source": [
    "from os.path import join, abspath\n",
    "from os import getcwd\n",
    "\n",
    "import matplotlib.pyplot as plt\n",
    "import numpy as np\n",
    "import numpy.linalg as la\n",
    "from scipy.spatial.distance import pdist, squareform\n",
    "\n",
    "from src.data.load_dataset import load_V1_whitenoise, load_V1_natural_images\n",
    "from src.models.weights import V1_weights"
   ]
  },
  {
   "cell_type": "code",
   "execution_count": 2,
   "id": "801da351",
   "metadata": {},
   "outputs": [],
   "source": [
    "data_dir = abspath(join(getcwd(), '../../'))"
   ]
  },
  {
   "cell_type": "code",
   "execution_count": 3,
   "id": "06b00e21",
   "metadata": {},
   "outputs": [
    {
     "data": {
      "image/png": "[encoded data removed]",
      "text/plain": [
       "<Figure size 288x144 with 2 Axes>"
      ]
     },
     "metadata": {},
     "output_type": "display_data"
    }
   ],
   "source": [
    "## load V1 receptive field from Marius white noist stimuli\n",
    "rf_data, snr, dim = load_V1_whitenoise(centered=True)\n",
    "center = (int(dim[0] / 2), int(dim[1] / 2))\n",
    "rf = rf_data[snr > 0.4]\n",
    "num_cells = rf.shape[0]\n",
    "rf_norm = (rf - np.mean(rf, axis=1).reshape(-1, 1)) / np.std(rf, axis=1).reshape(-1, 1)\n",
    "\n",
    "# cells = [12, 210, 120, 27]\n",
    "cells = [12, 24]\n",
    "fig = plt.figure(figsize=(4, 2))\n",
    "for i, cell in enumerate(cells[:2]):\n",
    "    ax = fig.add_subplot(1, 2, i+1)\n",
    "    plt.imshow(rf_norm[cell].reshape(dim)[:14, 11:25], cmap='PuOr')\n",
    "    ax.tick_params(axis='both', which='both', left=False, bottom=False, \n",
    "               labelleft=False, labelbottom=False)\n",
    "    plt.clim(-6, 6)\n",
    "plt.subplots_adjust(wspace=0.1, hspace=0.1)\n",
    "plt.savefig(data_dir + '/reports/figures/paper_figs/figure_4/v1_rf.pdf',\n",
    "            dpi=300, transparent=True, pad_inches = 0)"
   ]
  },
  {
   "cell_type": "code",
   "execution_count": 7,
   "id": "fe6671ea",
   "metadata": {},
   "outputs": [],
   "source": [
    "## generate V1 weights\n",
    "s, f, c, scale = 1.87, 0.70, center, 1\n",
    "W = V1_weights(num_cells, dim, s, f, c, scale, seed=20)\n",
    "W = (W - np.mean(W, axis=1).reshape(-1, 1)) / np.std(W, axis=1).reshape(-1, 1)"
   ]
  },
  {
   "cell_type": "code",
   "execution_count": 18,
   "id": "b5222379",
   "metadata": {},
   "outputs": [
    {
     "data": {
      "image/png": "[encoded data removed]",
      "text/plain": [
       "<Figure size 288x144 with 2 Axes>"
      ]
     },
     "metadata": {},
     "output_type": "display_data"
    }
   ],
   "source": [
    "cells = [99, 17, 45, 14, 5, 45]\n",
    "fig = plt.figure(figsize=(4, 2))\n",
    "for i, cell in enumerate(cells[:2]):\n",
    "    ax = fig.add_subplot(1, 2, i+1)\n",
    "    plt.imshow(W[cell].reshape(dim)[:14, 11:25], cmap='PuOr')\n",
    "    ax.tick_params(axis='both', which='both', left=False, bottom=False, \n",
    "               labelleft=False, labelbottom=False)\n",
    "    plt.clim(-6, 6)\n",
    "plt.subplots_adjust(wspace=0.1, hspace=0.1)\n",
    "plt.savefig(data_dir + '/reports/figures/paper_figs/figure_4/generated_rf.pdf',\n",
    "            dpi=300, transparent=False, pad_inches = 0)"
   ]
  },
  {
   "cell_type": "code",
   "execution_count": 27,
   "id": "cc855fd6",
   "metadata": {},
   "outputs": [
    {
     "data": {
      "image/png": "[encoded data removed]",
      "text/plain": [
       "<Figure size 576x432 with 6 Axes>"
      ]
     },
     "metadata": {},
     "output_type": "display_data"
    }
   ],
   "source": [
    "## plot increasing receptive fields; still using the old figs tho\n",
    "from src.models.estimator import V1_inspired_weights_same_center as V1_weights_estimator\n",
    "# s_list = [1, 2.5, 4, 5.5, 7, 9.5]\n",
    "s_list = [0.5, 1.25, 2, 2.25, 3, 4.25]\n",
    "f = 2\n",
    "\n",
    "fig = plt.figure(figsize=(8, 6))\n",
    "for i, s in enumerate(s_list):\n",
    "    ax = fig.add_subplot(1, 6, i+1)\n",
    "    W = V1_weights_estimator(20, dim, s, f, center, scale=1, random_state=20)\n",
    "    plt.imshow(W[10].reshape(dim)[:14, 11:25], cmap='PuOr')\n",
    "    plt.clim(-5, 5)\n",
    "    ax.tick_params(axis='both', which='both', left=False, bottom=False, \n",
    "               labelleft=False, labelbottom=False)\n",
    "plt.savefig(data_dir + '/reports/figures/paper_figs/figure_4/rf_increasing_size.pdf',\n",
    "            dpi=300, transparent=False, pad_inches = 0)"
   ]
  },
  {
   "cell_type": "code",
   "execution_count": 28,
   "id": "7e3ac083",
   "metadata": {},
   "outputs": [
    {
     "data": {
      "image/png": "[encoded data removed]",
      "text/plain": [
       "<Figure size 576x432 with 6 Axes>"
      ]
     },
     "metadata": {},
     "output_type": "display_data"
    }
   ],
   "source": [
    "## plot increasing spatial frequency; still using the old figs tho\n",
    "# f_list = [0.5, 1, 1.3, 1.7, 2.5, 3.8]\n",
    "f_list = [0.1, 1.1, 1.25, 2, 3, 5.1]\n",
    "s = 2\n",
    "\n",
    "fig = plt.figure(figsize=(8, 6))\n",
    "for i, f in enumerate(reversed(f_list)):\n",
    "    ax = fig.add_subplot(1, 6, i+1)\n",
    "    W = V1_weights_estimator(20, dim, s, f, center, scale=1, random_state=22)\n",
    "    plt.imshow(W[2].reshape(dim)[:14, 11:25], cmap='PuOr')\n",
    "    plt.clim(-5, 5)\n",
    "    ax.tick_params(axis='both', which='both', left=False, bottom=False, \n",
    "               labelleft=False, labelbottom=False)\n",
    "plt.savefig(data_dir + '/reports/figures/paper_figs/figure_4/rf_increasing_frequency.pdf',\n",
    "            dpi=300, transparent=False, pad_inches = 0)"
   ]
  },
  {
   "cell_type": "code",
   "execution_count": null,
   "id": "11a1b67c",
   "metadata": {},
   "outputs": [],
   "source": []
  }
 ],
 "metadata": {
  "kernelspec": {
   "display_name": "Python 3",
   "language": "python",
   "name": "python3"
  },
  "language_info": {
   "codemirror_mode": {
    "name": "ipython",
    "version": 3
   },
   "file_extension": ".py",
   "mimetype": "text/x-python",
   "name": "python",
   "nbconvert_exporter": "python",
   "pygments_lexer": "ipython3",
   "version": "3.8.10"
  }
 },
 "nbformat": 4,
 "nbformat_minor": 5
}
