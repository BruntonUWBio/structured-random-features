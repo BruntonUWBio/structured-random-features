{
 "cells": [
  {
   "cell_type": "code",
   "execution_count": null,
   "metadata": {},
   "outputs": [],
   "source": [
    "import os\n",
    "from os.path import abspath, join\n",
    "\n",
    "import matplotlib.pyplot as plt\n",
    "import numpy as np\n",
    "import pickle"
   ]
  },
  {
   "cell_type": "code",
   "execution_count": null,
   "metadata": {},
   "outputs": [],
   "source": [
    "data_dir = abspath(join(os.getcwd(), '../../')) + '/models/results/'"
   ]
  },
  {
   "cell_type": "markdown",
   "metadata": {},
   "source": [
    "### Plot frequency detection results\n",
    "The mean and standard deviation from 50 trials"
   ]
  },
  {
   "cell_type": "code",
   "execution_count": null,
   "metadata": {},
   "outputs": [],
   "source": [
    "with open(data_dir + 'freq_detection/freq_detection_sensilla.pickle', 'rb') as handle:\n",
    "    test = pickle.load(handle)\n",
    "keys = test.keys()\n",
    "colors = {'sensilla': '#2c7fb8', 'classical': '#d95f02', 'incompatible': '#91cf60'}\n",
    "\n",
    "fig = plt.figure(figsize=(10.6, 8))\n",
    "ax = fig.add_subplot(111)\n",
    "for k in keys:\n",
    "    h, mean, std = np.array(test[k]['hidden_size']), np.array(test[k]['mean']), np.array(test[k]['std'])\n",
    "    mean = 1 - mean / 100\n",
    "    std = std / 100\n",
    "    plt.plot(h, mean, label=k, lw=7, c=colors[k])\n",
    "    plt.fill_between(h, mean - std, mean + std, alpha=0.2)\n",
    "ax.set_xlim([-10, 1010])\n",
    "plt.yticks(np.arange(0, 0.6, 0.1))\n",
    "plt.ylim([-0.03, 0.51])\n",
    "plt.xlabel('Hidden layer width', fontsize=40)\n",
    "plt.ylabel('Classification error', fontsize=40)\n",
    "plt.xticks(np.arange(0, 1010, 250))\n",
    "ax.tick_params(axis = 'both', which = 'major', labelsize = 40, width=2, length=6)"
   ]
  },
  {
   "cell_type": "markdown",
   "metadata": {},
   "source": [
    "### Plot frequency XOR results\n",
    "The mean and std deviation from 50 trials"
   ]
  },
  {
   "cell_type": "code",
   "execution_count": null,
   "metadata": {},
   "outputs": [],
   "source": [
    "with open(data_dir + 'freq_XOR/freq_XOR_sensilla.pickle', 'rb') as handle:\n",
    "    test = pickle.load(handle)\n",
    "keys = test.keys()\n",
    "colors = {'sensilla': '#2c7fb8', 'classical': '#d95f02', 'incompatible': '#91cf60'}\n",
    "\n",
    "fig = plt.figure(figsize=(10.6, 8))\n",
    "ax = fig.add_subplot(111)\n",
    "for k in keys:\n",
    "    h, mean, std = np.array(test[k]['hidden_size']), np.array(test[k]['mean']), np.array(test[k]['std'])\n",
    "    mean = 1 - mean / 100\n",
    "    std = std / 100\n",
    "    plt.plot(h, mean, label=k, lw=7, c=colors[k])\n",
    "    plt.fill_between(h, mean - std, mean + std, alpha=0.2)\n",
    "ax.set_xlim([-10, 2010])\n",
    "plt.yticks(np.arange(0, 0.6, 0.1))\n",
    "plt.ylim([-0.03, 0.51])\n",
    "plt.xlabel('Hidden layer width', fontsize=40)\n",
    "plt.ylabel('Classification error', fontsize=40)\n",
    "plt.xticks(np.arange(0, 2010, 500))\n",
    "ax.tick_params(axis = 'both', which = 'major', labelsize = 40, width=2, length=6)"
   ]
  },
  {
   "cell_type": "code",
   "execution_count": null,
   "metadata": {},
   "outputs": [],
   "source": []
  }
 ],
 "metadata": {
  "kernelspec": {
   "display_name": "Python 3",
   "language": "python",
   "name": "python3"
  },
  "language_info": {
   "codemirror_mode": {
    "name": "ipython",
    "version": 3
   },
   "file_extension": ".py",
   "mimetype": "text/x-python",
   "name": "python",
   "nbconvert_exporter": "python",
   "pygments_lexer": "ipython3",
   "version": "3.8.3"
  }
 },
 "nbformat": 4,
 "nbformat_minor": 5
}
