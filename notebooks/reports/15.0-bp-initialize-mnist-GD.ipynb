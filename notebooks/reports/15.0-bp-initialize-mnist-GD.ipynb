{
 "cells": [
  {
   "cell_type": "code",
   "execution_count": 1,
   "id": "b7316a5a-e5a5-40a1-93e4-d3855a8b87db",
   "metadata": {},
   "outputs": [],
   "source": [
    "from os import getcwd\n",
    "from os.path import abspath, join\n",
    "\n",
    "import numpy as np\n",
    "import pickle\n",
    "import torch\n",
    "import torch.nn.functional as F\n",
    "import torch.optim as optim\n",
    "from torchvision import datasets\n",
    "import matplotlib.pyplot as plt\n",
    "\n",
    "from src.models.networks import V1_mnist_RFNet, classical_RFNet\n",
    "from src.data.load_dataset import load_mnist"
   ]
  },
  {
   "cell_type": "code",
   "execution_count": 2,
   "id": "4a3499e3-6a86-4761-b6f1-f3a0c2c4265c",
   "metadata": {},
   "outputs": [],
   "source": [
    "data_dir = abspath(join(getcwd(), '../../'))\n",
    "device = torch.device('cuda' if torch.cuda.is_available else 'cpu')"
   ]
  },
  {
   "cell_type": "code",
   "execution_count": 3,
   "id": "29163546-b9c8-4c8c-acc6-33432f97884e",
   "metadata": {},
   "outputs": [],
   "source": [
    "# load dataset and move to GPU\n",
    "mnist_dir = data_dir + '/data/processed/'\n",
    "train_set = datasets.MNIST(mnist_dir, train=True, download=False)\n",
    "test_set = datasets.MNIST(mnist_dir, train=False, download=False)\n",
    "train, y_train = train_set.data.float().to(device), train_set.targets.to(device)\n",
    "test, y_test = test_set.data.float().to(device), test_set.targets.to(device)\n",
    "\n",
    "# normalize and reshape\n",
    "X_train = (train - train.mean()) / train.std()\n",
    "X_test = (test - train.mean()) / train.std()\n",
    "X_train = X_train.view(-1, 1, 28, 28)\n",
    "X_test = X_test.view(-1, 1, 28, 28)\n",
    "\n",
    "# training params\n",
    "scale = 2/784 # since we do a cholesky before generating weights\n",
    "num_epochs = 10000\n",
    "num_trials = 5\n",
    "loss_fn = F.cross_entropy\n",
    "\n",
    "# params to iterate over\n",
    "hidden_size_list = [50, 100, 400, 1000, 2000, 5000]\n",
    "lr_list = [1E-1, 1E-2, 1E-3]\n",
    "\n",
    "# V1 params\n",
    "compatible = {'s': 5, 'f':2}\n",
    "incompatible = {'s': 10, 'f':18}"
   ]
  },
  {
   "cell_type": "markdown",
   "id": "2ab6525f-77c4-4e0a-88bd-6aa0fee9768b",
   "metadata": {},
   "source": [
    "### V1 RFNet with optimal parameters $s=5$ and $f=2$"
   ]
  },
  {
   "cell_type": "code",
   "execution_count": null,
   "id": "eb9ffdb4-36a4-4672-b9ce-675ab6a689e5",
   "metadata": {},
   "outputs": [
    {
     "name": "stdout",
     "output_type": "stream",
     "text": [
      "Trial: 0\tTrain_epoch: 0\tLoss: 3.271256\n",
      "Trial: 0\tTrain_epoch: 1000\tLoss: 0.127439\n",
      "Trial: 0\tTrain_epoch: 2000\tLoss: 0.084790\n",
      "Trial: 0\tTrain_epoch: 3000\tLoss: 0.064084\n",
      "Trial: 0\tTrain_epoch: 4000\tLoss: 0.051071\n",
      "Trial: 0\tTrain_epoch: 5000\tLoss: 0.041948\n"
     ]
    }
   ],
   "source": [
    "s, f = compatible['s'], compatible['f']\n",
    "v1_train_loss = {h: {lr: {'mean': [], 'std': []} for lr in lr_list} for h in hidden_size_list}\n",
    "v1_test_accuracy = {h: {lr: {'mean': [], 'std': []} for lr in lr_list} for h in hidden_size_list}\n",
    "\n",
    "for h in hidden_size_list:\n",
    "    for lr in lr_list:\n",
    "        train_loss = np.zeros((num_trials, num_epochs))\n",
    "        test_accuracy = np.zeros((num_trials, num_epochs))\n",
    "        for trial in range(num_trials):\n",
    "            # declare model and optimizer\n",
    "            model = V1_mnist_RFNet(h, s, f, scale=scale, center=None).to(device)\n",
    "            model.v1_layer.weight.requires_grad = True\n",
    "            optimizer = optim.SGD(model.parameters(), lr=lr)\n",
    "            for epoch in range(num_epochs):\n",
    "                optimizer.zero_grad()\n",
    "                output = model(X_train)\n",
    "                loss = loss_fn(output, y_train)\n",
    "                loss.backward()\n",
    "                optimizer.step()\n",
    "                train_loss[trial, epoch] = loss.item()\n",
    "\n",
    "                # accuracy\n",
    "                pred = torch.argmax(model(X_test), axis=1)\n",
    "                test_accuracy[trial, epoch] = torch.sum(pred == y_test) / len(X_test)\n",
    "\n",
    "                if epoch % 1000 == 0:\n",
    "                    print('Trial: {}\\tTrain_epoch: {}\\tLoss: {:.6f}'.format(trial, epoch, loss.item()))\n",
    "    \n",
    "        # train error\n",
    "        v1_train_loss[h][lr]['mean'] = np.mean(train_loss, axis=0)\n",
    "        v1_train_loss[h][lr]['std'] = np.std(train_loss, axis=0) / np.sqrt(num_trials)\n",
    "        # test error\n",
    "        v1_test_accuracy[h][lr]['mean'] = np.mean(test_accuracy, axis=0)\n",
    "        v1_test_accuracy[h][lr]['std'] = np.std(test_accuracy, axis=0) / np.sqrt(num_trials)"
   ]
  },
  {
   "cell_type": "markdown",
   "id": "5b0548a4-f3fc-4a63-820c-d36fcc4a900f",
   "metadata": {},
   "source": [
    "### classical weights"
   ]
  },
  {
   "cell_type": "code",
   "execution_count": null,
   "id": "c2c33a68-eb70-479c-a4e6-a65d61da2cb4",
   "metadata": {},
   "outputs": [],
   "source": [
    "inp_size = (1, 28, 28)\n",
    "classical_train_loss = {h: {lr: {'mean': [], 'std': []} for lr in lr_list} for h in hidden_size_list}\n",
    "classical_test_accuracy = {h: {lr: {'mean': [], 'std': []} for lr in lr_list} for h in hidden_size_list}\n",
    "\n",
    "for h in hidden_size_list:\n",
    "    for lr in lr_list:\n",
    "        train_loss = np.zeros((num_trials, num_epochs))\n",
    "        test_accuracy = np.zeros((num_trials, num_epochs))\n",
    "        for trial in range(num_trials):\n",
    "            # define the model and optimizer\n",
    "            model = classical_RFNet(inp_size, h, scale=scale).to(device)\n",
    "            model.RF_layer.weight.requires_grad = True\n",
    "            optimizer = optim.SGD(model.parameters(), lr=lr)\n",
    "            for epoch in range(num_epochs):\n",
    "                optimizer.zero_grad()\n",
    "                output = model(X_train)\n",
    "                loss = loss_fn(output, y_train)\n",
    "                loss.backward()\n",
    "                optimizer.step()\n",
    "                train_loss[trial, epoch] = loss.item()\n",
    "\n",
    "                # accuracy\n",
    "                pred = torch.argmax(model(X_test), axis=1)\n",
    "                test_accuracy[trial, epoch] = torch.sum(pred == y_test) / len(X_test)\n",
    "\n",
    "                if epoch % 1000 == 0:\n",
    "                    print('Trial: {}\\tTrain_epoch: {}\\tLoss: {:.6f}'.format(trial, epoch, loss.item()))\n",
    "                    \n",
    "        # train error\n",
    "        classical_train_loss[h][lr]['mean'] = np.mean(train_loss, axis=0)\n",
    "        classical_train_loss[h][lr]['std'] = np.std(train_loss, axis=0) / np.sqrt(num_trials)\n",
    "        \n",
    "        # test error\n",
    "        classical_test_accuracy[h][lr]['mean'] = np.mean(test_accuracy, axis=0)\n",
    "        classical_test_accuracy[h][lr]['std'] = np.std(test_accuracy, axis=0) / np.sqrt(num_trials)"
   ]
  },
  {
   "cell_type": "markdown",
   "id": "7681b6ee-b91f-4cfc-9ba6-8f680ffd86c6",
   "metadata": {},
   "source": [
    "### Incompatible RFNet with parameters $s=10$ and $f=18$"
   ]
  },
  {
   "cell_type": "code",
   "execution_count": null,
   "id": "336fe4da-4a49-4149-a3c0-11482cb46bcd",
   "metadata": {},
   "outputs": [],
   "source": [
    "s, f = incompatible['s'], incompatible['f']\n",
    "incompatible_train_loss = {h: {lr: {'mean': [], 'std': []} for lr in lr_list} for h in hidden_size_list}\n",
    "incompatible_test_accuracy = {h: {lr: {'mean': [], 'std': []} for lr in lr_list} for h in hidden_size_list}\n",
    "\n",
    "for h in hidden_size_list:\n",
    "    for lr in lr_list:\n",
    "        train_loss = np.zeros((num_trials, num_epochs))\n",
    "        test_accuracy = np.zeros((num_trials, num_epochs))\n",
    "        for trial in range(num_trials):\n",
    "            # declare model and optimizer\n",
    "            model = V1_mnist_RFNet(h, s, f, scale=scale, center=None).to(device)\n",
    "            model.v1_layer.weight.requires_grad = True\n",
    "            optimizer = optim.SGD(model.parameters(), lr=lr)\n",
    "            for epoch in range(num_epochs):\n",
    "                optimizer.zero_grad()\n",
    "                output = model(X_train)\n",
    "                loss = loss_fn(output, y_train)\n",
    "                loss.backward()\n",
    "                optimizer.step()\n",
    "                train_loss[trial, epoch] = loss.item()\n",
    "\n",
    "                # accuracy\n",
    "                pred = torch.argmax(model(X_test), axis=1)\n",
    "                test_accuracy[trial, epoch] = torch.sum(pred == y_test) / len(X_test)\n",
    "\n",
    "                if epoch % 1000 == 0:\n",
    "                    print('Trial: {}\\tTrain_epoch: {}\\tLoss: {:.6f}'.format(trial, epoch, loss.item()))\n",
    "                    \n",
    "        # train error\n",
    "        incompatible_train_loss[h][lr]['mean'] = np.mean(train_loss, axis=0)\n",
    "        incompatible_train_loss[h][lr]['std'] = np.std(train_loss, axis=0) / np.sqrt(num_trials)\n",
    "        \n",
    "        # test error\n",
    "        incompatible_test_accuracy[h][lr]['mean'] = np.mean(test_accuracy, axis=0)\n",
    "        incompatible_test_accuracy[h][lr]['std'] = np.std(test_accuracy, axis=0) / np.sqrt(num_trials)"
   ]
  },
  {
   "cell_type": "code",
   "execution_count": null,
   "id": "7aa87d35-9678-40a8-9d5d-e903acb9d850",
   "metadata": {},
   "outputs": [],
   "source": [
    "# save results\n",
    "s, f = compatible['s'], compatible['f']\n",
    "results = {}\n",
    "results['V1'] = {'train_loss': v1_train_loss, 'test_accuracy': v1_test_accuracy}\n",
    "results['classical'] = {'train_loss': classical_train_loss, 'test_accuracy': classical_test_accuracy}\n",
    "results['incompatible'] = {'train_loss': incompatible_train_loss, 'test_accuracy': incompatible_test_accuracy}\n",
    "\n",
    "with open(data_dir + '/models/results/initialize_mnist/full_data/clf_s=%0.2f_f=%0.2f_GD_torch.pickle' % (s, f), 'wb') as handle:\n",
    "    pickle.dump(results, handle, protocol=pickle.HIGHEST_PROTOCOL)"
   ]
  },
  {
   "cell_type": "code",
   "execution_count": 37,
   "id": "6a737893-d89d-42d0-8cce-5046931388e1",
   "metadata": {},
   "outputs": [
    {
     "data": {
      "text/plain": [
       "[<matplotlib.lines.Line2D at 0x7f0e7852d0d0>]"
      ]
     },
     "execution_count": 37,
     "metadata": {},
     "output_type": "execute_result"
    },
    {
     "data": {
      "image/png": "[encoded data removed]",
      "text/plain": [
       "<Figure size 432x288 with 1 Axes>"
      ]
     },
     "metadata": {
      "needs_background": "light"
     },
     "output_type": "display_data"
    },
    {
     "data": {
      "image/png": "[encoded data removed]",
      "text/plain": [
       "<Figure size 432x288 with 1 Axes>"
      ]
     },
     "metadata": {
      "needs_background": "light"
     },
     "output_type": "display_data"
    }
   ],
   "source": [
    "# plot\n",
    "s, f = compatible['s'], compatible['f']\n",
    "with open(data_dir + '/models/results/initialize_mnist/full_data/clf_s=%0.2f_f=%0.2f_GD_torch.pickle' % (s, f), 'rb') as handle:\n",
    "    test = pickle.load(handle)\n",
    "    \n",
    "h, lr = 2000, 0.1\n",
    "fig = plt.figure()\n",
    "plt.ylim(0, 0.1)\n",
    "plt.plot(1 - results['V1']['test_accuracy'][h][lr]['mean'])\n",
    "plt.plot(1 - results['classical']['test_accuracy'][h][lr]['mean'])\n",
    "plt.plot(1 - results['incompatible']['test_accuracy'][h][lr]['mean'])\n",
    "\n",
    "fig = plt.figure()\n",
    "plt.ylim(0, 0.1)\n",
    "plt.plot(results['V1']['train_loss'][h][lr]['mean'])\n",
    "plt.plot(results['classical']['train_loss'][h][lr]['mean'])\n",
    "plt.plot(results['incompatible']['train_loss'][h][lr]['mean'])"
   ]
  },
  {
   "cell_type": "code",
   "execution_count": 18,
   "id": "d95c546b-d569-47aa-ab9b-7bb124b3e3e0",
   "metadata": {},
   "outputs": [
    {
     "data": {
      "text/plain": [
       "4"
      ]
     },
     "execution_count": 18,
     "metadata": {},
     "output_type": "execute_result"
    }
   ],
   "source": [
    "2* 2"
   ]
  },
  {
   "cell_type": "code",
   "execution_count": null,
   "id": "cbed3636-1cac-426c-948f-81d1fc04bdd3",
   "metadata": {},
   "outputs": [],
   "source": []
  }
 ],
 "metadata": {
  "kernelspec": {
   "display_name": "Python 3",
   "language": "python",
   "name": "python3"
  },
  "language_info": {
   "codemirror_mode": {
    "name": "ipython",
    "version": 3
   },
   "file_extension": ".py",
   "mimetype": "text/x-python",
   "name": "python",
   "nbconvert_exporter": "python",
   "pygments_lexer": "ipython3",
   "version": "3.8.10"
  }
 },
 "nbformat": 4,
 "nbformat_minor": 5
}
