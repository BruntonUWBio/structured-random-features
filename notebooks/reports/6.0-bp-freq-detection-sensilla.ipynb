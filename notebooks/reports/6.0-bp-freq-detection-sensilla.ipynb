{
 "cells": [
  {
   "cell_type": "code",
   "execution_count": 1,
   "id": "2fc9d8b9-704c-4333-b998-467c504eadad",
   "metadata": {},
   "outputs": [],
   "source": [
    "import os \n",
    "import os.path as path\n",
    "\n",
    "import matplotlib.pyplot as plt\n",
    "import numpy as np\n",
    "import pickle\n",
    "import torch\n",
    "import torch.nn as nn\n",
    "import torch.optim as optim\n",
    "from tqdm import tqdm\n",
    "\n",
    "\n",
    "from src.data.load_dataset import load_frequency_detection\n",
    "from src.models.networks import sensilla_RFNet, classical_RFNet\n",
    "from src.models.utils import train, test"
   ]
  },
  {
   "cell_type": "code",
   "execution_count": 2,
   "id": "dff47e0d-af5c-4ac0-968e-92c08c47fe22",
   "metadata": {},
   "outputs": [],
   "source": [
    "device = torch.device(\"cuda\" if torch.cuda.is_available() else \"cpu\")"
   ]
  },
  {
   "cell_type": "code",
   "execution_count": 3,
   "id": "6236f026-3ac5-4b05-8c4b-a05269d24f82",
   "metadata": {},
   "outputs": [],
   "source": [
    "# load data\n",
    "num_samples, sampling_rate, duration, freq, snr, seed = 7000, 1500, 0.1, 5, 0.8, 5\n",
    "train_batch_size, train_percentage = 2048, 0.8\n",
    "train_loader, val_loader, test_loader = load_frequency_detection(num_samples, sampling_rate,\n",
    "                                                                freq, duration, snr, \n",
    "                                                                train_batch_size, train_percentage, seed=2)"
   ]
  },
  {
   "cell_type": "markdown",
   "id": "276a4033-18f9-45e7-ba2c-993e7964fa97",
   "metadata": {},
   "source": [
    "#### Mechanosensory RFNet with $\\omega_a=20$ Hz, $\\omega_b = 80$ Hz, \\& $\\gamma=6$"
   ]
  },
  {
   "cell_type": "code",
   "execution_count": null,
   "id": "a5061f58-9c8a-45f6-b2e9-b6c21f2aa3fb",
   "metadata": {},
   "outputs": [
    {
     "name": "stderr",
     "output_type": "stream",
     "text": [
      "  2%|▏         | 1/42 [00:57<39:18, 57.54s/it]"
     ]
    }
   ],
   "source": [
    "num_neurons = sorted(set(np.logspace(0, 3, 50).astype('int')))\n",
    "inp_size = int(sampling_rate * duration)\n",
    "omega_a, omega_b, gamma = 2, 8, 6\n",
    "lr = 0.01\n",
    "num_epochs = 30\n",
    "log_interval = 100\n",
    "\n",
    "test_sensilla = {'hidden_size': [], 'mean': [], 'std': []}\n",
    "for hidden_size in tqdm(num_neurons):\n",
    "    accuracy = []\n",
    "    for trial in range(50):\n",
    "        model = sensilla_RFNet(inp_size, hidden_size, \n",
    "                                 omega_a, omega_b, gamma).to(device)\n",
    "        optimizer = optim.SGD(model.parameters(), lr=lr)\n",
    "\n",
    "        for epoch in range(num_epochs):\n",
    "            _ = train(log_interval, device, model, train_loader, optimizer, epoch, verbose=False)\n",
    "        accuracy.append(test(model, device, test_loader, verbose=False))\n",
    "        \n",
    "    test_sensilla['hidden_size'].append(hidden_size)\n",
    "    test_sensilla['mean'].append(np.mean(accuracy))\n",
    "    test_sensilla['std'].append(np.std(accuracy))"
   ]
  },
  {
   "cell_type": "markdown",
   "id": "c4e11de1-0549-4363-a2c5-fda22e91d43e",
   "metadata": {},
   "source": [
    "#### Classical RFNet"
   ]
  },
  {
   "cell_type": "code",
   "execution_count": null,
   "id": "19d8faf9-6d4a-4f9f-bdc2-d537820e1c85",
   "metadata": {},
   "outputs": [],
   "source": [
    "num_neurons = sorted(set(np.logspace(0, 3, 50).astype('int')))\n",
    "inp_size = int(sampling_rate * duration)\n",
    "lr = 0.01\n",
    "num_epochs = 30\n",
    "log_interval = 100\n",
    "\n",
    "test_classical = {'hidden_size': [], 'mean': [], 'std': []} \n",
    "for hidden_size in tqdm(num_neurons):\n",
    "    accuracy = []\n",
    "    for trial in range(50):\n",
    "        model = classical_RFNet(inp_size, hidden_size).to(device)\n",
    "        optimizer = optim.SGD(model.parameters(), lr=lr)\n",
    "\n",
    "        for epoch in range(num_epochs):\n",
    "            _ = train(log_interval, device, model, train_loader, optimizer, epoch, verbose=False)\n",
    "        accuracy.append(test(model, device, test_loader, verbose=False))\n",
    "\n",
    "    test_classical['hidden_size'].append(hidden_size)\n",
    "    test_classical['mean'].append(np.mean(accuracy))\n",
    "    test_classical['std'].append(np.std(accuracy))"
   ]
  },
  {
   "cell_type": "markdown",
   "id": "a890120b-14a8-429a-a384-bfaf9c019294",
   "metadata": {},
   "source": [
    "#### Mechanosensory RFNet with incompatible parameters: $\\omega_a=10$ Hz, $\\omega_b = 40$ Hz, \\& $\\gamma=6$"
   ]
  },
  {
   "cell_type": "code",
   "execution_count": null,
   "id": "3d8c4a7d-59f6-469b-8701-79c2b82de912",
   "metadata": {},
   "outputs": [],
   "source": [
    "# incompatible sensilla RFNet \n",
    "num_neurons = sorted(set(np.logspace(0, 3, 50).astype('int')))\n",
    "inp_size = int(sampling_rate * duration)\n",
    "omega_a, omega_b, gamma = 1, 4, 6\n",
    "lr = 0.01\n",
    "num_epochs = 30\n",
    "log_interval = 100\n",
    "\n",
    "test_incompatible = {'hidden_size': [], 'mean': [], 'std': []}\n",
    "for hidden_size in tqdm(num_neurons):\n",
    "    accuracy = []\n",
    "    for trial in range(50):\n",
    "        model = sensilla_RFNet(inp_size, hidden_size, \n",
    "                                 omega_a, omega_b, gamma).to(device)\n",
    "        optimizer = optim.SGD(model.parameters(), lr=lr)\n",
    "\n",
    "        for epoch in range(num_epochs):\n",
    "            _ = train(log_interval, device, model, train_loader, optimizer, epoch, verbose=False)\n",
    "        accuracy.append(test(model, device, test_loader, verbose=False))\n",
    "        \n",
    "    test_incompatible['hidden_size'].append(hidden_size)\n",
    "    test_incompatible['mean'].append(np.mean(accuracy))\n",
    "    test_incompatible['std'].append(np.std(accuracy))"
   ]
  },
  {
   "cell_type": "code",
   "execution_count": null,
   "id": "78be3bbe-03b3-43a8-9744-c8e1560a9d1c",
   "metadata": {},
   "outputs": [],
   "source": [
    "# save\n",
    "test = {'sensilla': test_sensilla, 'classical': test_classical, 'incompatible': test_incompatible}\n",
    "data_dir = path.abspath(path.join(os.getcwd(), '../../'))\n",
    "with open(data_dir + '/models/results/freq_detection/freq_detection_sensilla.pickle', 'wb') as handle:\n",
    "    pickle.dump(test, handle, protocol=pickle.HIGHEST_PROTOCOL) "
   ]
  },
  {
   "cell_type": "code",
   "execution_count": null,
   "id": "d3e7c595-4b87-42b8-81d0-7aa1833178d3",
   "metadata": {},
   "outputs": [],
   "source": []
  }
 ],
 "metadata": {
  "kernelspec": {
   "display_name": "Python 3",
   "language": "python",
   "name": "python3"
  },
  "language_info": {
   "codemirror_mode": {
    "name": "ipython",
    "version": 3
   },
   "file_extension": ".py",
   "mimetype": "text/x-python",
   "name": "python",
   "nbconvert_exporter": "python",
   "pygments_lexer": "ipython3",
   "version": "3.8.10"
  }
 },
 "nbformat": 4,
 "nbformat_minor": 5
}
