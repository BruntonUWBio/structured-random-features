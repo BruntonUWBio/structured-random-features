{
 "cells": [
  {
   "cell_type": "code",
   "execution_count": 1,
   "id": "9ce8176e-01a2-49a0-9be2-95d967f22556",
   "metadata": {},
   "outputs": [],
   "source": [
    "from os import getcwd\n",
    "from os.path import abspath, join\n",
    "\n",
    "import matplotlib.pyplot as plt\n",
    "import matplotlib.colors as mpc\n",
    "import numpy as np\n",
    "import pickle"
   ]
  },
  {
   "cell_type": "code",
   "execution_count": 2,
   "id": "2d3a7d74-9272-4d82-b8d5-4cebe59148bd",
   "metadata": {},
   "outputs": [],
   "source": [
    "data_dir = abspath(join(getcwd(), '../../'))"
   ]
  },
  {
   "cell_type": "markdown",
   "id": "02268319-4260-4657-82dc-644b7240e157",
   "metadata": {},
   "source": [
    "## initialize MNIST"
   ]
  },
  {
   "cell_type": "code",
   "execution_count": 3,
   "id": "2056d5cd-88a9-4d8f-8f6f-afcdcb654abb",
   "metadata": {},
   "outputs": [],
   "source": [
    "h, lr, n_epochs = 1000, 0.1, 3001\n",
    "models = ['V1', 'He', 'mistuned']\n",
    "labels = {'V1': 'V1-inspired', 'He': 'standard', 'mistuned': 'mistuned'}\n",
    "\n",
    "# load results with good params\n",
    "t, l = 5, 2\n",
    "with open(data_dir + '/models/results/initialize_mnist/full_data/clf_t=%0.2f_l=%0.2f.pickle' % (t, l), 'rb') as handle:\n",
    "    results = pickle.load(handle)\n",
    "\n",
    "\n",
    "# load results with bad params\n",
    "t, l = 0.5, 0.5\n",
    "with open(data_dir + '/models/results/initialize_mnist/full_data/clf_t=%0.2f_l=%0.2f.pickle' % (t, l), 'rb') as handle:\n",
    "    results_mistuned = pickle.load(handle)\n",
    "results['test_err']['mistuned'] = results_mistuned['test_err']['V1']\n",
    "results['loss']['mistuned'] = results_mistuned['loss']['V1']"
   ]
  },
  {
   "cell_type": "code",
   "execution_count": 11,
   "id": "015cdb73-9a9e-4bad-a357-346be57ff2d0",
   "metadata": {},
   "outputs": [
    {
     "name": "stdout",
     "output_type": "stream",
     "text": [
      "V1, 0.0705\n",
      "He, 0.1075\n",
      "mistuned, 0.1234\n"
     ]
    },
    {
     "data": {
      "text/plain": [
       "(-0.06, 1.5)"
      ]
     },
     "execution_count": 11,
     "metadata": {},
     "output_type": "execute_result"
    },
    {
     "data": {
      "image/png": "[encoded data removed]",
      "text/plain": [
       "<Figure size 540x360 with 1 Axes>"
      ]
     },
     "metadata": {
      "needs_background": "light"
     },
     "output_type": "display_data"
    }
   ],
   "source": [
    "# plot the train loss\n",
    "colors = {'V1': '#2c7fb8', 'He': '#d95f02', 'mistuned': '#91cf60'}\n",
    "\n",
    "fig = plt.figure(figsize=(7.5, 5))\n",
    "ax = fig.add_subplot(111)\n",
    "for m in models:\n",
    "    avg_loss = np.mean(results['loss'][m][h][lr], axis=0)\n",
    "    std_loss = np.std(results['loss'][m][h][lr], axis=0) / np.sqrt(5)\n",
    "    plt.plot(np.arange(n_epochs), avg_loss, label=labels[m], lw=5, c=colors[m])\n",
    "    plt.fill_between(np.arange(n_epochs), avg_loss - std_loss, avg_loss + std_loss, alpha=0.2)\n",
    "    print('%s, %0.4f' % (m, avg_loss[-1]))\n",
    "\n",
    "# format axes\n",
    "for axis in ['left', 'bottom']:\n",
    "    ax.spines[axis].set_linewidth(2)\n",
    "for axis in ['top', 'right']:\n",
    "    ax.spines[axis].set_visible(False)\n",
    "    \n",
    "# format ticks\n",
    "ax.tick_params(axis = 'both', which = 'major', direction='inout', labelsize = 0, width=2, length=14)\n",
    "\n",
    "# plt.xlabel('epochs', fontsize=40)\n",
    "# plt.ylabel('Classification error', fontsize=40)\n",
    "plt.yticks(np.arange(0, 10, 0.5))\n",
    "plt.xticks(np.arange(0, 3001, 1000))\n",
    "plt.xlim([-60, 3001])\n",
    "plt.ylim([-0.06, 1.5])\n",
    "# plt.savefig(data_dir + '/reports/figures/paper_figs/figure_8/init_SGD_mnist_loss.pdf', \n",
    "#             dpi=300, transparent=True, \n",
    "#             bbox_inches = 'tight', pad_inches = 0)"
   ]
  },
  {
   "cell_type": "code",
   "execution_count": 5,
   "id": "c936df29-4c31-407f-a4d3-a2586859f725",
   "metadata": {},
   "outputs": [
    {
     "name": "stdout",
     "output_type": "stream",
     "text": [
      "V1, 2.2470\n",
      "He, 3.4730\n",
      "mistuned, 3.7270\n"
     ]
    },
    {
     "data": {
      "text/plain": [
       "(-0.02, 0.5)"
      ]
     },
     "execution_count": 5,
     "metadata": {},
     "output_type": "execute_result"
    },
    {
     "data": {
      "image/png": "[encoded data removed]",
      "text/plain": [
       "<Figure size 540x360 with 1 Axes>"
      ]
     },
     "metadata": {
      "needs_background": "light"
     },
     "output_type": "display_data"
    }
   ],
   "source": [
    "# plot the test error\n",
    "colors = {'V1': '#2c7fb8', 'He': '#d95f02', 'mistuned': '#91cf60'}\n",
    "\n",
    "fig = plt.figure(figsize=(7.5, 5))\n",
    "ax = fig.add_subplot(111)\n",
    "for m in models:\n",
    "    avg_test_err = np.mean(results['test_err'][m][h][lr], axis=0)\n",
    "    std_test_err = np.std(results['test_err'][m][h][lr], axis=0) / np.sqrt(5)\n",
    "    plt.plot(np.arange(n_epochs), avg_test_err, label=labels[m], lw=5, c=colors[m])\n",
    "    plt.fill_between(np.arange(n_epochs), avg_test_err - std_test_err, avg_test_err + std_test_err, alpha=0.2)\n",
    "    print('%s, %0.4f' % (m, avg_test_err[-1] * 100))\n",
    "\n",
    "# format axes\n",
    "for axis in ['left', 'bottom']:\n",
    "    ax.spines[axis].set_linewidth(2)\n",
    "for axis in ['top', 'right']:\n",
    "    ax.spines[axis].set_visible(False)\n",
    "    \n",
    "# format ticks\n",
    "ax.tick_params(axis = 'both', which = 'major', direction='inout', labelsize = 0, width=2, length=14)\n",
    "\n",
    "# plt.xlabel('epochs', fontsize=40)\n",
    "# plt.ylabel('Classification error', fontsize=40)\n",
    "plt.yticks(np.arange(0, 1.01, 0.25))\n",
    "plt.xticks(np.arange(0, 3001, 1000))\n",
    "plt.xlim([-70, 3000])\n",
    "plt.ylim([-0.02, 0.5])\n",
    "# plt.savefig(data_dir + '/reports/figures/paper_figs/figure_8/init_SGD_mnist_test_err.pdf', \n",
    "#             dpi=300, transparent=True, \n",
    "#             bbox_inches = 'tight', pad_inches = 0)"
   ]
  },
  {
   "cell_type": "markdown",
   "id": "5d4534e9-1b85-49cc-b9cc-391cd48d9ee4",
   "metadata": {},
   "source": [
    "## initialize KMNIST"
   ]
  },
  {
   "cell_type": "code",
   "execution_count": 197,
   "id": "e6773a62-bd9c-4a35-b9b5-df94e39f0fe0",
   "metadata": {},
   "outputs": [],
   "source": [
    "h, lr, n_epochs = 1000, 0.1, 3001\n",
    "models = ['V1', 'He', 'mistuned']\n",
    "labels = {'V1': 'V1-inspired', 'He': 'standard', 'mistuned': 'mistuned'}\n",
    "\n",
    "# load good params\n",
    "t, l = 5, 2\n",
    "with open(data_dir + '/models/results/initialize_kmnist/full_data/clf_t=%0.2f_l=%0.2f.pickle' % (t, l), 'rb') as handle:\n",
    "    results = pickle.load(handle)\n",
    "    \n",
    "# load bad params\n",
    "t, l = 0.5, 0.5\n",
    "with open(data_dir + '/models/results/initialize_kmnist/full_data/clf_t=%0.2f_l=%0.2f.pickle' % (t, l), 'rb') as handle:\n",
    "    results_mistuned = pickle.load(handle)\n",
    "\n",
    "results['test_err']['mistuned'] = results_mistuned['test_err']['V1']\n",
    "results['loss']['mistuned'] = results_mistuned['loss']['V1']"
   ]
  },
  {
   "cell_type": "code",
   "execution_count": 198,
   "id": "16315d37-17d9-4f24-9a93-1136d2227506",
   "metadata": {},
   "outputs": [
    {
     "name": "stdout",
     "output_type": "stream",
     "text": [
      "V1, 0.0989\n",
      "He, 0.1441\n",
      "mistuned, 0.1690\n"
     ]
    },
    {
     "data": {
      "image/png": "[encoded data removed]",
      "text/plain": [
       "<Figure size 540x360 with 1 Axes>"
      ]
     },
     "metadata": {
      "needs_background": "light"
     },
     "output_type": "display_data"
    }
   ],
   "source": [
    "# plot the train loss\n",
    "colors = {'V1': '#2c7fb8', 'He': '#d95f02', 'mistuned': '#91cf60'}\n",
    "\n",
    "fig = plt.figure(figsize=(7.5, 5))\n",
    "ax = fig.add_subplot(111)\n",
    "for m in models:\n",
    "    avg_loss = np.mean(results['loss'][m][h][lr], axis=0)\n",
    "    std_loss = np.std(results['loss'][m][h][lr], axis=0) / np.sqrt(5)\n",
    "    plt.plot(np.arange(n_epochs), avg_loss, label=labels[m], lw=5, c=colors[m])\n",
    "    plt.fill_between(np.arange(n_epochs), avg_loss - std_loss, avg_loss + std_loss, alpha=0.2)\n",
    "    print('%s, %0.4f' % (m, avg_loss[-1]))\n",
    "\n",
    "# format axes\n",
    "for axis in ['left', 'bottom']:\n",
    "    ax.spines[axis].set_linewidth(2)\n",
    "for axis in ['top', 'right']:\n",
    "    ax.spines[axis].set_visible(False)\n",
    "    \n",
    "# format ticks\n",
    "ax.tick_params(axis = 'both', which = 'major', direction='inout', labelsize = 0, width=2, length=14)\n",
    "\n",
    "# plt.xlabel('epochs', fontsize=40)\n",
    "# plt.ylabel('Classification error', fontsize=40)\n",
    "plt.yticks(np.arange(0, 10, 0.5))\n",
    "plt.xticks(np.arange(0, 3001, 1000))\n",
    "plt.xlim([-60, 3001])\n",
    "plt.ylim([-0.06, 1.5])\n",
    "plt.savefig(data_dir + '/reports/figures/paper_figs/figure_8/init_SGD_kmnist_loss.pdf', \n",
    "            dpi=300, transparent=True, \n",
    "            bbox_inches = 'tight', pad_inches = 0)"
   ]
  },
  {
   "cell_type": "code",
   "execution_count": 199,
   "id": "8b3affce-6772-4a0c-822b-e5f933f506ab",
   "metadata": {},
   "outputs": [
    {
     "name": "stdout",
     "output_type": "stream",
     "text": [
      "V1, 9.9520\n",
      "He, 13.4490\n",
      "mistuned, 14.4810\n"
     ]
    },
    {
     "data": {
      "image/png": "[encoded data removed]",
      "text/plain": [
       "<Figure size 540x360 with 1 Axes>"
      ]
     },
     "metadata": {
      "needs_background": "light"
     },
     "output_type": "display_data"
    }
   ],
   "source": [
    "# plot the test err\n",
    "colors = {'V1': '#2c7fb8', 'He': '#d95f02', 'mistuned': '#91cf60'}\n",
    "\n",
    "fig = plt.figure(figsize=(7.5, 5))\n",
    "ax = fig.add_subplot(111)\n",
    "for m in models:\n",
    "    avg_test_err = np.mean(results['test_err'][m][h][lr], axis=0)\n",
    "    std_test_err = np.std(results['test_err'][m][h][lr], axis=0) / np.sqrt(5)\n",
    "    plt.plot(np.arange(n_epochs), avg_test_err, label=labels[m], lw=5, c=colors[m])\n",
    "    plt.fill_between(np.arange(n_epochs), avg_test_err - std_test_err, avg_test_err + std_test_err, alpha=0.2)\n",
    "    print('%s, %0.4f' % (m, avg_test_err[-1] * 100))\n",
    "\n",
    "# format axes\n",
    "for axis in ['left', 'bottom']:\n",
    "    ax.spines[axis].set_linewidth(2)\n",
    "for axis in ['top', 'right']:\n",
    "    ax.spines[axis].set_visible(False)\n",
    "    \n",
    "# format ticks\n",
    "ax.tick_params(axis = 'both', which = 'major', direction='inout', labelsize = 0, width=2, length=14)\n",
    "\n",
    "# plt.xlabel('epochs', fontsize=40)\n",
    "# plt.ylabel('Classification error', fontsize=40)\n",
    "plt.yticks(np.arange(0, 1.01, 0.25))\n",
    "plt.xticks(np.arange(0, 3001, 1000))\n",
    "plt.xlim([-70, 3000])\n",
    "plt.ylim([-0.02, 0.5])\n",
    "plt.savefig(data_dir + '/reports/figures/paper_figs/figure_8/init_SGD_kmnist_test_err.pdf', \n",
    "            dpi=300, transparent=True, \n",
    "            bbox_inches = 'tight', pad_inches = 0)"
   ]
  },
  {
   "cell_type": "code",
   "execution_count": null,
   "id": "262bc76c-5070-4210-b39e-f2002002fb4a",
   "metadata": {},
   "outputs": [],
   "source": []
  },
  {
   "cell_type": "code",
   "execution_count": null,
   "id": "4bc80a29-3711-4e42-94f3-fb9eee26f81b",
   "metadata": {},
   "outputs": [],
   "source": []
  }
 ],
 "metadata": {
  "kernelspec": {
   "display_name": "Python 3",
   "language": "python",
   "name": "python3"
  },
  "language_info": {
   "codemirror_mode": {
    "name": "ipython",
    "version": 3
   },
   "file_extension": ".py",
   "mimetype": "text/x-python",
   "name": "python",
   "nbconvert_exporter": "python",
   "pygments_lexer": "ipython3",
   "version": "3.8.10"
  }
 },
 "nbformat": 4,
 "nbformat_minor": 5
}
