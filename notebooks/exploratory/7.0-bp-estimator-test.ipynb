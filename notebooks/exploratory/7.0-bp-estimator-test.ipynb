{
 "cells": [
  {
   "cell_type": "code",
   "execution_count": 1,
   "metadata": {},
   "outputs": [],
   "source": [
    "from copy import deepcopy\n",
    "import numpy as np\n",
    "import matplotlib.pyplot as plt\n",
    "from sklearn.svm import LinearSVC\n",
    "from sklearn.model_selection import train_test_split\n",
    "\n",
    "from src.models.estimator import RFClassifier, relu\n",
    "from src.models.weights import V1_weights, classical_weights, sensilla_weights\n",
    "from src.data.load_dataset import load_mnist, load_kmnist, generate_frequency_detection"
   ]
  },
  {
   "cell_type": "code",
   "execution_count": null,
   "metadata": {},
   "outputs": [],
   "source": [
    "# load dataset\n",
    "train_loader, val_loader, test_loader = load_kmnist()\n",
    "train, test = train_loader.dataset.dataset, test_loader.dataset\n",
    "train, train_labels = train.data.numpy(), train.targets.numpy()\n",
    "X_test, y_test = test.data.numpy(), test.targets.numpy()\n",
    "\n",
    "X_train, X_val, y_train, y_val = train_test_split(train, train_labels, train_size=0.5, stratify=train_labels)"
   ]
  },
  {
   "cell_type": "code",
   "execution_count": null,
   "metadata": {},
   "outputs": [],
   "source": [
    "# train params\n",
    "h = 1000\n",
    "bias = 0\n",
    "nonlinearity = relu\n",
    "scale = 1\n",
    "clf = LinearSVC(tol=1e-4, max_iter=1000)"
   ]
  },
  {
   "cell_type": "code",
   "execution_count": null,
   "metadata": {},
   "outputs": [],
   "source": [
    "%%time\n",
    "# define the V1 model\n",
    "kwargs = {'size':5, 'spatial_freq': 2, 'center': None, 'scale': scale}\n",
    "v1_clf = RFClassifier(h, V1_weights, bias, nonlinearity, deepcopy(clf), kwargs)\n",
    "v1_clf.fit(X_train, y_train)\n",
    "v1_clf.score(X_test, y_test)"
   ]
  },
  {
   "cell_type": "code",
   "execution_count": null,
   "metadata": {},
   "outputs": [],
   "source": [
    "%%time\n",
    "# define the classical model\n",
    "kwargs = {'scale': scale}\n",
    "classical_clf = RFClassifier(h, classical_weights, bias, nonlinearity, deepcopy(clf), kwargs)\n",
    "classical_clf.fit(X_train, y_train)\n",
    "classical_clf.score(X_test, y_test)"
   ]
  },
  {
   "cell_type": "markdown",
   "metadata": {},
   "source": [
    "### tseries classification"
   ]
  },
  {
   "cell_type": "code",
   "execution_count": null,
   "metadata": {},
   "outputs": [],
   "source": [
    "# train params\n",
    "h = 10\n",
    "bias = 0\n",
    "nonlinearity = relu\n",
    "scale = 1\n",
    "clf = LinearSVC(tol=1e-4, max_iter=1000)\n",
    "\n",
    "num_samples, sampling_rate, duration, freq, snr, seed = 7000, 2000, 0.1, 50, 0.8, 5\n",
    "X, y = generate_frequency_detection(num_samples, sampling_rate, freq, duration, snr, seed)\n",
    "X_train, X_test, y_train, y_test = train_test_split(X, y, train_size=0.8, stratify=y)"
   ]
  },
  {
   "cell_type": "code",
   "execution_count": null,
   "metadata": {},
   "outputs": [],
   "source": [
    "# define the sensilla model\n",
    "kwargs = {'sampling_rate': sampling_rate, 'duration':duration, 'lowcut': 20, 'highcut': 80, 'decay_coef':0.025, 'scale': scale}\n",
    "mech_clf = RFClassifier(h, sensilla_weights, bias, nonlinearity, deepcopy(clf), kwargs)\n",
    "mech_clf.fit(X_train, y_train)\n",
    "1 - mech_clf.score(X_test, y_test)"
   ]
  },
  {
   "cell_type": "code",
   "execution_count": null,
   "metadata": {},
   "outputs": [],
   "source": [
    "# define the classical model\n",
    "kwargs = {'scale':scale}\n",
    "classical_clf = RFClassifier(h, classical_weights, bias, nonlinearity, deepcopy(clf), kwargs)\n",
    "classical_clf.fit(X_train, y_train)\n",
    "1 - classical_clf.score(X_test, y_test)"
   ]
  },
  {
   "cell_type": "code",
   "execution_count": null,
   "metadata": {},
   "outputs": [],
   "source": [
    "kwargs = {'sampling_rate': 2000, 'duration':0.1, 'lowcut': 10, 'highcut': 20, 'decay_coef':np.inf, 'scale': scale}\n",
    "W = sensilla_weights(h, 200, **kwargs)\n",
    "fig = plt.figure()\n",
    "ax = fig.add_subplot(111)\n",
    "plt.plot(W[0])\n",
    "plt.xticks([0, 50, 100, 150, 200])\n",
    "ax.set_xticklabels([0, 25, 50, 75, 100])"
   ]
  },
  {
   "cell_type": "markdown",
   "metadata": {},
   "source": [
    "### test that joblib helps with parallel runs"
   ]
  },
  {
   "cell_type": "code",
   "execution_count": 2,
   "metadata": {},
   "outputs": [],
   "source": [
    "from dask.distributed import Client\n",
    "from dask import delayed\n",
    "client = Client(processes=False)"
   ]
  },
  {
   "cell_type": "code",
   "execution_count": 57,
   "metadata": {},
   "outputs": [],
   "source": [
    "# load dataset\n",
    "train_loader, val_loader, test_loader = load_kmnist()\n",
    "train, test = train_loader.dataset.dataset, test_loader.dataset\n",
    "train, train_labels = train.data.numpy(), train.targets.numpy()\n",
    "X_test, y_test = test.data.numpy(), test.targets.numpy()\n",
    "\n",
    "X_train, X_val, y_train, y_val = train_test_split(train, train_labels, train_size=0.99, stratify=train_labels)"
   ]
  },
  {
   "cell_type": "code",
   "execution_count": 58,
   "metadata": {},
   "outputs": [],
   "source": [
    "# train params\n",
    "h = 1000\n",
    "bias = 0\n",
    "nonlinearity = relu\n",
    "scale = 1\n",
    "clf = LinearSVC(tol=1e-4, max_iter=1000)"
   ]
  },
  {
   "cell_type": "code",
   "execution_count": 59,
   "metadata": {},
   "outputs": [
    {
     "name": "stdout",
     "output_type": "stream",
     "text": [
      "CPU times: user 3 µs, sys: 0 ns, total: 3 µs\n",
      "Wall time: 4.77 µs\n"
     ]
    }
   ],
   "source": [
    "%%time\n",
    "# define the V1 model\n",
    "kwargs = {'size':5, 'spatial_freq': 2, 'center': None, 'scale': scale}\n",
    "# v1_clf = RFClassifier(h, V1_weights, bias, nonlinearity, deepcopy(clf), kwargs)\n",
    "# v1_clf.fit(X_train, y_train)\n",
    "# v1_clf.score(X_test, y_test)"
   ]
  },
  {
   "cell_type": "code",
   "execution_count": 61,
   "metadata": {},
   "outputs": [
    {
     "name": "stderr",
     "output_type": "stream",
     "text": [
      "/home/bpandey/anaconda3/envs/random_features/lib/python3.8/site-packages/sklearn/svm/_base.py:985: ConvergenceWarning: Liblinear failed to converge, increase the number of iterations.\n",
      "  warnings.warn(\"Liblinear failed to converge, increase \"\n"
     ]
    },
    {
     "name": "stdout",
     "output_type": "stream",
     "text": [
      "[0.8609, 0.8802, 0.8742, 0.8806, 0.8796]\n",
      "CPU times: user 30min 47s, sys: 27.1 s, total: 31min 14s\n",
      "Wall time: 6min 26s\n"
     ]
    }
   ],
   "source": [
    "%%time\n",
    "from joblib import Parallel, delayed, parallel_backend\n",
    "n = 5\n",
    "kwargs = {'size':5, 'spatial_freq': 2, 'center': None, 'scale': scale}\n",
    "RFclassifiers = [RFClassifier(h, V1_weights, bias, nonlinearity, deepcopy(clf), kwargs) for i in range(n)]\n",
    "with parallel_backend('threading', n_jobs=6):\n",
    "    Parallel()(delayed(RFclf.fit)(X_train, y_train) for RFclf in RFclassifiers)\n",
    "    \n",
    "# Parallel(n_jobs=10)(delayed(RFclf.fit)(X_train, y_train) for RFclf in RFclassifiers)\n",
    "print([RFclf.score(X_test, y_test) for RFclf in RFclassifiers ])"
   ]
  },
  {
   "cell_type": "code",
   "execution_count": 49,
   "metadata": {},
   "outputs": [
    {
     "name": "stderr",
     "output_type": "stream",
     "text": [
      "/home/bpandey/anaconda3/envs/random_features/lib/python3.8/site-packages/sklearn/svm/_base.py:985: ConvergenceWarning: Liblinear failed to converge, increase the number of iterations.\n",
      "  warnings.warn(\"Liblinear failed to converge, increase \"\n",
      "/home/bpandey/anaconda3/envs/random_features/lib/python3.8/site-packages/sklearn/svm/_base.py:985: ConvergenceWarning: Liblinear failed to converge, increase the number of iterations.\n",
      "  warnings.warn(\"Liblinear failed to converge, increase \"\n",
      "/home/bpandey/anaconda3/envs/random_features/lib/python3.8/site-packages/sklearn/svm/_base.py:985: ConvergenceWarning: Liblinear failed to converge, increase the number of iterations.\n",
      "  warnings.warn(\"Liblinear failed to converge, increase \"\n",
      "/home/bpandey/anaconda3/envs/random_features/lib/python3.8/site-packages/sklearn/svm/_base.py:985: ConvergenceWarning: Liblinear failed to converge, increase the number of iterations.\n",
      "  warnings.warn(\"Liblinear failed to converge, increase \"\n",
      "/home/bpandey/anaconda3/envs/random_features/lib/python3.8/site-packages/sklearn/svm/_base.py:985: ConvergenceWarning: Liblinear failed to converge, increase the number of iterations.\n",
      "  warnings.warn(\"Liblinear failed to converge, increase \"\n"
     ]
    },
    {
     "name": "stdout",
     "output_type": "stream",
     "text": [
      "[0.9753, 0.9747, 0.9776, 0.976, 0.9766]\n",
      "CPU times: user 4min 12s, sys: 14.7 s, total: 4min 27s\n",
      "Wall time: 3min 48s\n"
     ]
    }
   ],
   "source": [
    "%%time\n",
    "RFclassifiers = [RFClassifier(h, V1_weights, bias, nonlinearity, deepcopy(clf), kwargs) for i in range(n)]\n",
    "for RFclf in RFclassifiers:\n",
    "    RFclf.fit(X_train, y_train)\n",
    "print([RFclf.score(X_test, y_test) for RFclf in RFclassifiers ])"
   ]
  },
  {
   "cell_type": "code",
   "execution_count": null,
   "metadata": {},
   "outputs": [],
   "source": []
  }
 ],
 "metadata": {
  "kernelspec": {
   "display_name": "Python 3",
   "language": "python",
   "name": "python3"
  },
  "language_info": {
   "codemirror_mode": {
    "name": "ipython",
    "version": 3
   },
   "file_extension": ".py",
   "mimetype": "text/x-python",
   "name": "python",
   "nbconvert_exporter": "python",
   "pygments_lexer": "ipython3",
   "version": "3.8.10"
  }
 },
 "nbformat": 4,
 "nbformat_minor": 4
}
