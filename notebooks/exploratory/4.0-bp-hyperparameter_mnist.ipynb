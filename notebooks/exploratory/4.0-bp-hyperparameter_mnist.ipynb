{
 "cells": [
  {
   "cell_type": "code",
   "execution_count": 1,
   "metadata": {},
   "outputs": [],
   "source": [
    "from os import getcwd\n",
    "from os import path\n",
    "from copy import deepcopy\n",
    "\n",
    "import numpy as np\n",
    "import optuna\n",
    "from optuna.trial import TrialState\n",
    "import pickle\n",
    "import torch\n",
    "import torch.nn.functional as F\n",
    "import torch.optim as optim\n",
    "from tqdm import tqdm\n",
    "\n",
    "from src.data.load_dataset import load_mnist\n",
    "from src.models.networks import V1_mnist_RFNet, classical_RFNet\n",
    "from src.models.utils import train, test "
   ]
  },
  {
   "cell_type": "code",
   "execution_count": null,
   "metadata": {},
   "outputs": [],
   "source": [
    "data_dir = path.abspath(path.join(getcwd(), '../../'))"
   ]
  },
  {
   "cell_type": "code",
   "execution_count": 2,
   "metadata": {},
   "outputs": [],
   "source": [
    "device = torch.device('cuda' if torch.cuda.is_available else 'cpu')\n",
    "batch_size = 256\n",
    "epochs = 10\n",
    "log_interval = 10"
   ]
  },
  {
   "cell_type": "code",
   "execution_count": 3,
   "metadata": {},
   "outputs": [],
   "source": [
    "V1_RFNet = V1_mnist_RFNet(100, 5.0, 2.0, center=None).to(device)"
   ]
  },
  {
   "cell_type": "code",
   "execution_count": 9,
   "metadata": {},
   "outputs": [],
   "source": [
    "def V1_RFNet_objective(trial):\n",
    "    \n",
    "    # load the data\n",
    "    train_loader, val_loader, _ = load_mnist(train_batch_size=batch_size, train_percentage=0.2)\n",
    "    \n",
    "    # load the model\n",
    "    s = trial.suggest_uniform(\"size\", 0.01,  10)\n",
    "    f = trial.suggest_uniform(\"frequency\", 0.01, 10)\n",
    "    model = V1_mnist_RFNet(100, s, f, center=None).to(device)\n",
    "    \n",
    "    # generate optimizers, learning rate, and the loss function\n",
    "    lr = 0.0031485838088746586\n",
    "    optimizer = optim.Adam(model.parameters(), lr=lr) \n",
    "    loss_fn = F.cross_entropy\n",
    "\n",
    "#     lr = trial.suggest_float(\"lr\", 1e-5, 1e-1, log=True) \n",
    "#     optimizer_name = trial.suggest_categorical(\"optimizer\", [\"Adam\", \"RMSprop\", \"SGD\"])\n",
    "#     optimizer = getattr(optim, optimizer_name)(model.parameters(), lr=lr)\n",
    "#     loss_fn = F.cross_entropy_loss\n",
    "\n",
    "    \n",
    "    # train and validate\n",
    "    for epoch in range(epochs + 1):\n",
    "        _ = train(log_interval, device, model, train_loader, optimizer, epoch, loss_fn, verbose=False)\n",
    "        val_accuracy = test(model, device, val_loader, loss_fn, verbose=False)\n",
    "        \n",
    "        trial.report(val_accuracy, epoch)\n",
    "    \n",
    "        # prune if unpromising trial\n",
    "#         if trial.should_prune():\n",
    "#             raise optuna.exceptions.TrialPruned()\n",
    "    \n",
    "    return val_accuracy"
   ]
  },
  {
   "cell_type": "code",
   "execution_count": 10,
   "metadata": {},
   "outputs": [
    {
     "name": "stderr",
     "output_type": "stream",
     "text": [
      "\u001b[32m[I 2021-07-16 12:54:22,920]\u001b[0m A new study created in memory with name: no-name-b3af07ff-c521-4509-be84-2ad220d9d61f\u001b[0m\n",
      "\u001b[32m[I 2021-07-16 12:55:50,211]\u001b[0m Trial 0 finished with value: 88.84166666666667 and parameters: {'size': 2.4718885529366545, 'frequency': 3.9976542849210426}. Best is trial 0 with value: 88.84166666666667.\u001b[0m\n",
      "\u001b[32m[I 2021-07-16 12:57:19,006]\u001b[0m Trial 1 finished with value: 88.43958333333333 and parameters: {'size': 6.737415072947277, 'frequency': 3.1447814599276245}. Best is trial 0 with value: 88.84166666666667.\u001b[0m\n",
      "\u001b[32m[I 2021-07-16 12:58:48,923]\u001b[0m Trial 2 finished with value: 90.90416666666667 and parameters: {'size': 5.3403768810194645, 'frequency': 1.9655706988242505}. Best is trial 2 with value: 90.90416666666667.\u001b[0m\n",
      "\u001b[32m[I 2021-07-16 13:00:17,208]\u001b[0m Trial 3 finished with value: 85.06875 and parameters: {'size': 9.122211311793622, 'frequency': 4.405116022622264}. Best is trial 2 with value: 90.90416666666667.\u001b[0m\n",
      "\u001b[32m[I 2021-07-16 13:01:45,703]\u001b[0m Trial 4 finished with value: 84.79166666666667 and parameters: {'size': 0.20369444970672726, 'frequency': 6.276634649240618}. Best is trial 2 with value: 90.90416666666667.\u001b[0m\n",
      "\u001b[32m[I 2021-07-16 13:03:29,269]\u001b[0m Trial 5 finished with value: 83.29583333333333 and parameters: {'size': 0.8663432675483185, 'frequency': 1.261786604779435}. Best is trial 2 with value: 90.90416666666667.\u001b[0m\n",
      "\u001b[32m[I 2021-07-16 13:04:57,404]\u001b[0m Trial 6 finished with value: 87.16875 and parameters: {'size': 3.2462665216341553, 'frequency': 1.2917457602839466}. Best is trial 2 with value: 90.90416666666667.\u001b[0m\n",
      "\u001b[32m[I 2021-07-16 13:06:25,569]\u001b[0m Trial 7 finished with value: 77.28541666666666 and parameters: {'size': 8.586661648354418, 'frequency': 7.581504789535659}. Best is trial 2 with value: 90.90416666666667.\u001b[0m\n",
      "\u001b[32m[I 2021-07-16 13:07:52,697]\u001b[0m Trial 8 finished with value: 82.61041666666667 and parameters: {'size': 6.089555087358445, 'frequency': 8.519924232039271}. Best is trial 2 with value: 90.90416666666667.\u001b[0m\n",
      "\u001b[32m[I 2021-07-16 13:09:22,055]\u001b[0m Trial 9 finished with value: 89.65833333333333 and parameters: {'size': 5.086242611640179, 'frequency': 1.8724149805881671}. Best is trial 2 with value: 90.90416666666667.\u001b[0m\n",
      "\u001b[32m[I 2021-07-16 13:10:49,711]\u001b[0m Trial 10 finished with value: 84.42708333333333 and parameters: {'size': 3.420062272688692, 'frequency': 7.8133898506321495}. Best is trial 2 with value: 90.90416666666667.\u001b[0m\n",
      "\u001b[32m[I 2021-07-16 13:12:17,703]\u001b[0m Trial 11 finished with value: 88.25833333333334 and parameters: {'size': 7.634288101948672, 'frequency': 3.4061168370252988}. Best is trial 2 with value: 90.90416666666667.\u001b[0m\n",
      "\u001b[32m[I 2021-07-16 13:14:07,853]\u001b[0m Trial 12 finished with value: 85.38958333333333 and parameters: {'size': 0.6919091150540426, 'frequency': 6.1504399349263865}. Best is trial 2 with value: 90.90416666666667.\u001b[0m\n",
      "\u001b[32m[I 2021-07-16 13:15:35,551]\u001b[0m Trial 13 finished with value: 85.38333333333334 and parameters: {'size': 6.412535005201994, 'frequency': 5.811095955146288}. Best is trial 2 with value: 90.90416666666667.\u001b[0m\n",
      "\u001b[32m[I 2021-07-16 13:17:03,375]\u001b[0m Trial 14 finished with value: 77.91041666666666 and parameters: {'size': 9.806148961925834, 'frequency': 7.9566320538837765}. Best is trial 2 with value: 90.90416666666667.\u001b[0m\n",
      "\u001b[32m[I 2021-07-16 13:18:34,086]\u001b[0m Trial 15 finished with value: 86.4125 and parameters: {'size': 5.422932209004044, 'frequency': 0.6659915191848064}. Best is trial 2 with value: 90.90416666666667.\u001b[0m\n",
      "\u001b[32m[I 2021-07-16 13:20:02,859]\u001b[0m Trial 16 finished with value: 77.42083333333333 and parameters: {'size': 9.712154023112895, 'frequency': 9.203545349994354}. Best is trial 2 with value: 90.90416666666667.\u001b[0m\n",
      "\u001b[32m[I 2021-07-16 13:21:54,136]\u001b[0m Trial 17 finished with value: 83.0375 and parameters: {'size': 0.7045316875909037, 'frequency': 3.199160003898538}. Best is trial 2 with value: 90.90416666666667.\u001b[0m\n",
      "\u001b[32m[I 2021-07-16 13:23:23,416]\u001b[0m Trial 18 finished with value: 89.8375 and parameters: {'size': 5.514393949990945, 'frequency': 2.915640189064513}. Best is trial 2 with value: 90.90416666666667.\u001b[0m\n",
      "\u001b[32m[I 2021-07-16 13:24:50,829]\u001b[0m Trial 19 finished with value: 84.89166666666667 and parameters: {'size': 6.148915723519605, 'frequency': 7.24513527149659}. Best is trial 2 with value: 90.90416666666667.\u001b[0m\n",
      "\u001b[32m[I 2021-07-16 13:26:21,163]\u001b[0m Trial 20 finished with value: 84.08541666666666 and parameters: {'size': 1.1107178648263456, 'frequency': 2.3643661137646137}. Best is trial 2 with value: 90.90416666666667.\u001b[0m\n",
      "\u001b[32m[I 2021-07-16 13:27:50,224]\u001b[0m Trial 21 finished with value: 89.60416666666667 and parameters: {'size': 3.3698097927820734, 'frequency': 2.8576991060726376}. Best is trial 2 with value: 90.90416666666667.\u001b[0m\n",
      "\u001b[32m[I 2021-07-16 13:29:17,884]\u001b[0m Trial 22 finished with value: 78.03958333333334 and parameters: {'size': 7.720720407041864, 'frequency': 8.346338594752327}. Best is trial 2 with value: 90.90416666666667.\u001b[0m\n",
      "\u001b[32m[I 2021-07-16 13:30:46,034]\u001b[0m Trial 23 finished with value: 85.04375 and parameters: {'size': 1.633990145495264, 'frequency': 9.828133836727842}. Best is trial 2 with value: 90.90416666666667.\u001b[0m\n",
      "\u001b[32m[I 2021-07-16 13:32:14,533]\u001b[0m Trial 24 finished with value: 76.83541666666666 and parameters: {'size': 8.908962414327622, 'frequency': 9.515431726040246}. Best is trial 2 with value: 90.90416666666667.\u001b[0m\n",
      "\u001b[32m[I 2021-07-16 13:33:42,258]\u001b[0m Trial 25 finished with value: 88.35 and parameters: {'size': 5.0121048919688915, 'frequency': 5.488698980495209}. Best is trial 2 with value: 90.90416666666667.\u001b[0m\n",
      "\u001b[32m[I 2021-07-16 13:35:10,133]\u001b[0m Trial 26 finished with value: 88.36875 and parameters: {'size': 2.481876467770112, 'frequency': 4.491126092280137}. Best is trial 2 with value: 90.90416666666667.\u001b[0m\n",
      "\u001b[32m[I 2021-07-16 13:36:38,077]\u001b[0m Trial 27 finished with value: 80.16041666666666 and parameters: {'size': 7.692250738958355, 'frequency': 9.270772678707203}. Best is trial 2 with value: 90.90416666666667.\u001b[0m\n",
      "\u001b[32m[I 2021-07-16 13:38:05,795]\u001b[0m Trial 28 finished with value: 85.56458333333333 and parameters: {'size': 9.287660057816861, 'frequency': 5.602953871413843}. Best is trial 2 with value: 90.90416666666667.\u001b[0m\n",
      "\u001b[32m[I 2021-07-16 13:39:35,621]\u001b[0m Trial 29 finished with value: 87.22291666666666 and parameters: {'size': 6.618837117627955, 'frequency': 1.0015090414658303}. Best is trial 2 with value: 90.90416666666667.\u001b[0m\n",
      "\u001b[32m[I 2021-07-16 13:41:02,550]\u001b[0m Trial 30 finished with value: 86.37708333333333 and parameters: {'size': 7.683154737397133, 'frequency': 4.941284703971579}. Best is trial 2 with value: 90.90416666666667.\u001b[0m\n",
      "\u001b[32m[I 2021-07-16 13:42:29,989]\u001b[0m Trial 31 finished with value: 83.675 and parameters: {'size': 6.341154425441303, 'frequency': 8.95166573586222}. Best is trial 2 with value: 90.90416666666667.\u001b[0m\n",
      "\u001b[32m[I 2021-07-16 13:43:57,262]\u001b[0m Trial 32 finished with value: 83.30833333333334 and parameters: {'size': 6.827610234103122, 'frequency': 9.576322595913844}. Best is trial 2 with value: 90.90416666666667.\u001b[0m\n",
      "\u001b[32m[I 2021-07-16 13:45:25,476]\u001b[0m Trial 33 finished with value: 87.9875 and parameters: {'size': 4.207488389578995, 'frequency': 2.888572959322183}. Best is trial 2 with value: 90.90416666666667.\u001b[0m\n",
      "\u001b[32m[I 2021-07-16 13:46:53,382]\u001b[0m Trial 34 finished with value: 89.42916666666666 and parameters: {'size': 5.3339702759416605, 'frequency': 3.787297769816424}. Best is trial 2 with value: 90.90416666666667.\u001b[0m\n",
      "\u001b[32m[I 2021-07-16 13:48:20,170]\u001b[0m Trial 35 finished with value: 87.1375 and parameters: {'size': 2.5330939915186956, 'frequency': 5.930099441966297}. Best is trial 2 with value: 90.90416666666667.\u001b[0m\n",
      "\u001b[32m[I 2021-07-16 13:49:48,414]\u001b[0m Trial 36 finished with value: 88.06041666666667 and parameters: {'size': 9.646596903996986, 'frequency': 3.6427758440112084}. Best is trial 2 with value: 90.90416666666667.\u001b[0m\n",
      "\u001b[32m[I 2021-07-16 13:51:12,541]\u001b[0m Trial 37 finished with value: 86.65 and parameters: {'size': 1.5207264285158073, 'frequency': 4.497438291389367}. Best is trial 2 with value: 90.90416666666667.\u001b[0m\n",
      "\u001b[32m[I 2021-07-16 13:52:34,595]\u001b[0m Trial 38 finished with value: 86.73333333333333 and parameters: {'size': 7.911753543779734, 'frequency': 0.5900982916967602}. Best is trial 2 with value: 90.90416666666667.\u001b[0m\n",
      "\u001b[32m[I 2021-07-16 13:53:53,383]\u001b[0m Trial 39 finished with value: 87.15833333333333 and parameters: {'size': 4.996954921617929, 'frequency': 4.228878779697231}. Best is trial 2 with value: 90.90416666666667.\u001b[0m\n",
      "\u001b[32m[I 2021-07-16 13:55:12,933]\u001b[0m Trial 40 finished with value: 83.7125 and parameters: {'size': 3.3898863381503155, 'frequency': 8.337857964629071}. Best is trial 2 with value: 90.90416666666667.\u001b[0m\n",
      "\u001b[32m[I 2021-07-16 13:56:33,292]\u001b[0m Trial 41 finished with value: 88.69166666666666 and parameters: {'size': 9.35601827117921, 'frequency': 1.6628884428868784}. Best is trial 2 with value: 90.90416666666667.\u001b[0m\n",
      "\u001b[32m[I 2021-07-16 13:57:52,512]\u001b[0m Trial 42 finished with value: 85.09375 and parameters: {'size': 4.297424792397682, 'frequency': 8.25802337279373}. Best is trial 2 with value: 90.90416666666667.\u001b[0m\n",
      "\u001b[32m[I 2021-07-16 13:59:11,605]\u001b[0m Trial 43 finished with value: 82.40208333333334 and parameters: {'size': 9.627373091226008, 'frequency': 6.476829658733193}. Best is trial 2 with value: 90.90416666666667.\u001b[0m\n",
      "\u001b[32m[I 2021-07-16 14:00:31,298]\u001b[0m Trial 44 finished with value: 85.2375 and parameters: {'size': 2.9666963215185334, 'frequency': 9.93390930182489}. Best is trial 2 with value: 90.90416666666667.\u001b[0m\n",
      "\u001b[32m[I 2021-07-16 14:01:58,141]\u001b[0m Trial 45 finished with value: 85.27708333333334 and parameters: {'size': 7.078609368449491, 'frequency': 0.19163264336576338}. Best is trial 2 with value: 90.90416666666667.\u001b[0m\n",
      "\u001b[32m[I 2021-07-16 14:03:22,325]\u001b[0m Trial 46 finished with value: 80.78958333333334 and parameters: {'size': 2.2662607970031154, 'frequency': 0.47869127378085063}. Best is trial 2 with value: 90.90416666666667.\u001b[0m\n",
      "\u001b[32m[I 2021-07-16 14:04:43,839]\u001b[0m Trial 47 finished with value: 89.32916666666667 and parameters: {'size': 9.884861555153675, 'frequency': 2.0153746139844735}. Best is trial 2 with value: 90.90416666666667.\u001b[0m\n",
      "\u001b[32m[I 2021-07-16 14:06:03,575]\u001b[0m Trial 48 finished with value: 86.89791666666666 and parameters: {'size': 1.3782873111742253, 'frequency': 1.8717923891554917}. Best is trial 2 with value: 90.90416666666667.\u001b[0m\n",
      "\u001b[32m[I 2021-07-16 14:07:36,218]\u001b[0m Trial 49 finished with value: 83.78958333333334 and parameters: {'size': 0.8415677249405488, 'frequency': 6.50502475607014}. Best is trial 2 with value: 90.90416666666667.\u001b[0m\n"
     ]
    },
    {
     "name": "stdout",
     "output_type": "stream",
     "text": [
      "Study statistics: \n",
      "  Number of finished trials:  50\n",
      "  Number of pruned trials:  0\n",
      "  Number of complete trials:  50\n",
      "Best trial:\n",
      "  Value:  90.90416666666667\n",
      "  Params: \n",
      "    size: 5.3403768810194645\n",
      "    frequency: 1.9655706988242505\n"
     ]
    }
   ],
   "source": [
    "# create a hyperparameter study\n",
    "v1_study = optuna.create_study(sampler=optuna.samplers.RandomSampler(), direction='maximize')\n",
    "v1_study.optimize(V1_RFNet_objective, n_trials=50)\n",
    "\n",
    "pruned_trials = v1_study.get_trials(deepcopy=False, states=[TrialState.PRUNED])\n",
    "complete_trials = v1_study.get_trials(deepcopy=False, states=[TrialState.COMPLETE])\n",
    "\n",
    "print(\"Study statistics: \")\n",
    "print(\"  Number of finished trials: \", len(v1_study.trials))\n",
    "print(\"  Number of pruned trials: \", len(pruned_trials))\n",
    "print(\"  Number of complete trials: \", len(complete_trials))\n",
    "\n",
    "print(\"Best trial:\")\n",
    "trial = v1_study.best_trial\n",
    "\n",
    "print(\"  Value: \", trial.value)\n",
    "\n",
    "print(\"  Params: \")\n",
    "for key, value in trial.params.items():\n",
    "    print(\"    {}: {}\".format(key, value))"
   ]
  },
  {
   "cell_type": "code",
   "execution_count": 11,
   "metadata": {},
   "outputs": [
    {
     "data": {
      "text/plain": [
       "['/home/bpandey/random_features/models/results/mnist_clf/mnist_param_study.pkl']"
      ]
     },
     "execution_count": 11,
     "metadata": {},
     "output_type": "execute_result"
    }
   ],
   "source": [
    "# save the parameter study\n",
    "import joblib\n",
    "joblib.dump(v1_study, data_dir + '/models/results/mnist_clf/mnist_param_study.pkl')"
   ]
  },
  {
   "cell_type": "code",
   "execution_count": 13,
   "metadata": {},
   "outputs": [
    {
     "data": {
      "text/html": [
       "        <script type=\"text/javascript\">\n",
       "        window.PlotlyConfig = {MathJaxConfig: 'local'};\n",
       "        if (window.MathJax) {MathJax.Hub.Config({SVG: {font: \"STIX-Web\"}});}\n",
       "        if (typeof require !== 'undefined') {\n",
       "        require.undef(\"plotly\");\n",
       "        requirejs.config({\n",
       "            paths: {\n",
       "                'plotly': ['https://cdn.plot.ly/plotly-latest.min']\n",
       "            }\n",
       "        });\n",
       "        require(['plotly'], function(Plotly) {\n",
       "            window._Plotly = Plotly;\n",
       "        });\n",
       "        }\n",
       "        </script>\n",
       "        "
      ]
     },
     "metadata": {},
     "output_type": "display_data"
    },
    {
     "data": {
      "application/vnd.plotly.v1+json": {
       "config": {
        "plotlyServerURL": "https://plot.ly"
       },
       "data": [
        {
         "dimensions": [
          {
           "label": "Objective Value",
           "range": [
            76.83541666666666,
            90.90416666666667
           ],
           "values": [
            88.84166666666667,
            88.43958333333333,
            90.90416666666667,
            85.06875,
            84.79166666666667,
            83.29583333333333,
            87.16875,
            77.28541666666666,
            82.61041666666667,
            89.65833333333333,
            84.42708333333333,
            88.25833333333334,
            85.38958333333333,
            85.38333333333334,
            77.91041666666666,
            86.4125,
            77.42083333333333,
            83.0375,
            89.8375,
            84.89166666666667,
            84.08541666666666,
            89.60416666666667,
            78.03958333333334,
            85.04375,
            76.83541666666666,
            88.35,
            88.36875,
            80.16041666666666,
            85.56458333333333,
            87.22291666666666,
            86.37708333333333,
            83.675,
            83.30833333333334,
            87.9875,
            89.42916666666666,
            87.1375,
            88.06041666666667,
            86.65,
            86.73333333333333,
            87.15833333333333,
            83.7125,
            88.69166666666666,
            85.09375,
            82.40208333333334,
            85.2375,
            85.27708333333334,
            80.78958333333334,
            89.32916666666667,
            86.89791666666666,
            83.78958333333334
           ]
          },
          {
           "label": "frequency",
           "range": [
            0.19163264336576338,
            9.93390930182489
           ],
           "values": [
            3.9976542849210426,
            3.1447814599276245,
            1.9655706988242505,
            4.405116022622264,
            6.276634649240618,
            1.261786604779435,
            1.2917457602839466,
            7.581504789535659,
            8.519924232039271,
            1.8724149805881671,
            7.8133898506321495,
            3.4061168370252988,
            6.1504399349263865,
            5.811095955146288,
            7.9566320538837765,
            0.6659915191848064,
            9.203545349994354,
            3.199160003898538,
            2.915640189064513,
            7.24513527149659,
            2.3643661137646137,
            2.8576991060726376,
            8.346338594752327,
            9.828133836727842,
            9.515431726040246,
            5.488698980495209,
            4.491126092280137,
            9.270772678707203,
            5.602953871413843,
            1.0015090414658303,
            4.941284703971579,
            8.95166573586222,
            9.576322595913844,
            2.888572959322183,
            3.787297769816424,
            5.930099441966297,
            3.6427758440112084,
            4.497438291389367,
            0.5900982916967602,
            4.228878779697231,
            8.337857964629071,
            1.6628884428868784,
            8.25802337279373,
            6.476829658733193,
            9.93390930182489,
            0.19163264336576338,
            0.47869127378085063,
            2.0153746139844735,
            1.8717923891554917,
            6.50502475607014
           ]
          },
          {
           "label": "size",
           "range": [
            0.20369444970672726,
            9.884861555153675
           ],
           "values": [
            2.4718885529366545,
            6.737415072947277,
            5.3403768810194645,
            9.122211311793622,
            0.20369444970672726,
            0.8663432675483185,
            3.2462665216341553,
            8.586661648354418,
            6.089555087358445,
            5.086242611640179,
            3.420062272688692,
            7.634288101948672,
            0.6919091150540426,
            6.412535005201994,
            9.806148961925834,
            5.422932209004044,
            9.712154023112895,
            0.7045316875909037,
            5.514393949990945,
            6.148915723519605,
            1.1107178648263456,
            3.3698097927820734,
            7.720720407041864,
            1.633990145495264,
            8.908962414327622,
            5.0121048919688915,
            2.481876467770112,
            7.692250738958355,
            9.287660057816861,
            6.618837117627955,
            7.683154737397133,
            6.341154425441303,
            6.827610234103122,
            4.207488389578995,
            5.3339702759416605,
            2.5330939915186956,
            9.646596903996986,
            1.5207264285158073,
            7.911753543779734,
            4.996954921617929,
            3.3898863381503155,
            9.35601827117921,
            4.297424792397682,
            9.627373091226008,
            2.9666963215185334,
            7.078609368449491,
            2.2662607970031154,
            9.884861555153675,
            1.3782873111742253,
            0.8415677249405488
           ]
          }
         ],
         "labelangle": 30,
         "labelside": "bottom",
         "line": {
          "color": [
           88.84166666666667,
           88.43958333333333,
           90.90416666666667,
           85.06875,
           84.79166666666667,
           83.29583333333333,
           87.16875,
           77.28541666666666,
           82.61041666666667,
           89.65833333333333,
           84.42708333333333,
           88.25833333333334,
           85.38958333333333,
           85.38333333333334,
           77.91041666666666,
           86.4125,
           77.42083333333333,
           83.0375,
           89.8375,
           84.89166666666667,
           84.08541666666666,
           89.60416666666667,
           78.03958333333334,
           85.04375,
           76.83541666666666,
           88.35,
           88.36875,
           80.16041666666666,
           85.56458333333333,
           87.22291666666666,
           86.37708333333333,
           83.675,
           83.30833333333334,
           87.9875,
           89.42916666666666,
           87.1375,
           88.06041666666667,
           86.65,
           86.73333333333333,
           87.15833333333333,
           83.7125,
           88.69166666666666,
           85.09375,
           82.40208333333334,
           85.2375,
           85.27708333333334,
           80.78958333333334,
           89.32916666666667,
           86.89791666666666,
           83.78958333333334
          ],
          "colorbar": {
           "title": {
            "text": "Objective Value"
           }
          },
          "colorscale": [
           [
            0,
            "rgb(247,251,255)"
           ],
           [
            0.125,
            "rgb(222,235,247)"
           ],
           [
            0.25,
            "rgb(198,219,239)"
           ],
           [
            0.375,
            "rgb(158,202,225)"
           ],
           [
            0.5,
            "rgb(107,174,214)"
           ],
           [
            0.625,
            "rgb(66,146,198)"
           ],
           [
            0.75,
            "rgb(33,113,181)"
           ],
           [
            0.875,
            "rgb(8,81,156)"
           ],
           [
            1,
            "rgb(8,48,107)"
           ]
          ],
          "reversescale": false,
          "showscale": true
         },
         "type": "parcoords"
        }
       ],
       "layout": {
        "autosize": true,
        "template": {
         "data": {
          "bar": [
           {
            "error_x": {
             "color": "#2a3f5f"
            },
            "error_y": {
             "color": "#2a3f5f"
            },
            "marker": {
             "line": {
              "color": "#E5ECF6",
              "width": 0.5
             }
            },
            "type": "bar"
           }
          ],
          "barpolar": [
           {
            "marker": {
             "line": {
              "color": "#E5ECF6",
              "width": 0.5
             }
            },
            "type": "barpolar"
           }
          ],
          "carpet": [
           {
            "aaxis": {
             "endlinecolor": "#2a3f5f",
             "gridcolor": "white",
             "linecolor": "white",
             "minorgridcolor": "white",
             "startlinecolor": "#2a3f5f"
            },
            "baxis": {
             "endlinecolor": "#2a3f5f",
             "gridcolor": "white",
             "linecolor": "white",
             "minorgridcolor": "white",
             "startlinecolor": "#2a3f5f"
            },
            "type": "carpet"
           }
          ],
          "choropleth": [
           {
            "colorbar": {
             "outlinewidth": 0,
             "ticks": ""
            },
            "type": "choropleth"
           }
          ],
          "contour": [
           {
            "colorbar": {
             "outlinewidth": 0,
             "ticks": ""
            },
            "colorscale": [
             [
              0,
              "#0d0887"
             ],
             [
              0.1111111111111111,
              "#46039f"
             ],
             [
              0.2222222222222222,
              "#7201a8"
             ],
             [
              0.3333333333333333,
              "#9c179e"
             ],
             [
              0.4444444444444444,
              "#bd3786"
             ],
             [
              0.5555555555555556,
              "#d8576b"
             ],
             [
              0.6666666666666666,
              "#ed7953"
             ],
             [
              0.7777777777777778,
              "#fb9f3a"
             ],
             [
              0.8888888888888888,
              "#fdca26"
             ],
             [
              1,
              "#f0f921"
             ]
            ],
            "type": "contour"
           }
          ],
          "contourcarpet": [
           {
            "colorbar": {
             "outlinewidth": 0,
             "ticks": ""
            },
            "type": "contourcarpet"
           }
          ],
          "heatmap": [
           {
            "colorbar": {
             "outlinewidth": 0,
             "ticks": ""
            },
            "colorscale": [
             [
              0,
              "#0d0887"
             ],
             [
              0.1111111111111111,
              "#46039f"
             ],
             [
              0.2222222222222222,
              "#7201a8"
             ],
             [
              0.3333333333333333,
              "#9c179e"
             ],
             [
              0.4444444444444444,
              "#bd3786"
             ],
             [
              0.5555555555555556,
              "#d8576b"
             ],
             [
              0.6666666666666666,
              "#ed7953"
             ],
             [
              0.7777777777777778,
              "#fb9f3a"
             ],
             [
              0.8888888888888888,
              "#fdca26"
             ],
             [
              1,
              "#f0f921"
             ]
            ],
            "type": "heatmap"
           }
          ],
          "heatmapgl": [
           {
            "colorbar": {
             "outlinewidth": 0,
             "ticks": ""
            },
            "colorscale": [
             [
              0,
              "#0d0887"
             ],
             [
              0.1111111111111111,
              "#46039f"
             ],
             [
              0.2222222222222222,
              "#7201a8"
             ],
             [
              0.3333333333333333,
              "#9c179e"
             ],
             [
              0.4444444444444444,
              "#bd3786"
             ],
             [
              0.5555555555555556,
              "#d8576b"
             ],
             [
              0.6666666666666666,
              "#ed7953"
             ],
             [
              0.7777777777777778,
              "#fb9f3a"
             ],
             [
              0.8888888888888888,
              "#fdca26"
             ],
             [
              1,
              "#f0f921"
             ]
            ],
            "type": "heatmapgl"
           }
          ],
          "histogram": [
           {
            "marker": {
             "colorbar": {
              "outlinewidth": 0,
              "ticks": ""
             }
            },
            "type": "histogram"
           }
          ],
          "histogram2d": [
           {
            "colorbar": {
             "outlinewidth": 0,
             "ticks": ""
            },
            "colorscale": [
             [
              0,
              "#0d0887"
             ],
             [
              0.1111111111111111,
              "#46039f"
             ],
             [
              0.2222222222222222,
              "#7201a8"
             ],
             [
              0.3333333333333333,
              "#9c179e"
             ],
             [
              0.4444444444444444,
              "#bd3786"
             ],
             [
              0.5555555555555556,
              "#d8576b"
             ],
             [
              0.6666666666666666,
              "#ed7953"
             ],
             [
              0.7777777777777778,
              "#fb9f3a"
             ],
             [
              0.8888888888888888,
              "#fdca26"
             ],
             [
              1,
              "#f0f921"
             ]
            ],
            "type": "histogram2d"
           }
          ],
          "histogram2dcontour": [
           {
            "colorbar": {
             "outlinewidth": 0,
             "ticks": ""
            },
            "colorscale": [
             [
              0,
              "#0d0887"
             ],
             [
              0.1111111111111111,
              "#46039f"
             ],
             [
              0.2222222222222222,
              "#7201a8"
             ],
             [
              0.3333333333333333,
              "#9c179e"
             ],
             [
              0.4444444444444444,
              "#bd3786"
             ],
             [
              0.5555555555555556,
              "#d8576b"
             ],
             [
              0.6666666666666666,
              "#ed7953"
             ],
             [
              0.7777777777777778,
              "#fb9f3a"
             ],
             [
              0.8888888888888888,
              "#fdca26"
             ],
             [
              1,
              "#f0f921"
             ]
            ],
            "type": "histogram2dcontour"
           }
          ],
          "mesh3d": [
           {
            "colorbar": {
             "outlinewidth": 0,
             "ticks": ""
            },
            "type": "mesh3d"
           }
          ],
          "parcoords": [
           {
            "line": {
             "colorbar": {
              "outlinewidth": 0,
              "ticks": ""
             }
            },
            "type": "parcoords"
           }
          ],
          "pie": [
           {
            "automargin": true,
            "type": "pie"
           }
          ],
          "scatter": [
           {
            "marker": {
             "colorbar": {
              "outlinewidth": 0,
              "ticks": ""
             }
            },
            "type": "scatter"
           }
          ],
          "scatter3d": [
           {
            "line": {
             "colorbar": {
              "outlinewidth": 0,
              "ticks": ""
             }
            },
            "marker": {
             "colorbar": {
              "outlinewidth": 0,
              "ticks": ""
             }
            },
            "type": "scatter3d"
           }
          ],
          "scattercarpet": [
           {
            "marker": {
             "colorbar": {
              "outlinewidth": 0,
              "ticks": ""
             }
            },
            "type": "scattercarpet"
           }
          ],
          "scattergeo": [
           {
            "marker": {
             "colorbar": {
              "outlinewidth": 0,
              "ticks": ""
             }
            },
            "type": "scattergeo"
           }
          ],
          "scattergl": [
           {
            "marker": {
             "colorbar": {
              "outlinewidth": 0,
              "ticks": ""
             }
            },
            "type": "scattergl"
           }
          ],
          "scattermapbox": [
           {
            "marker": {
             "colorbar": {
              "outlinewidth": 0,
              "ticks": ""
             }
            },
            "type": "scattermapbox"
           }
          ],
          "scatterpolar": [
           {
            "marker": {
             "colorbar": {
              "outlinewidth": 0,
              "ticks": ""
             }
            },
            "type": "scatterpolar"
           }
          ],
          "scatterpolargl": [
           {
            "marker": {
             "colorbar": {
              "outlinewidth": 0,
              "ticks": ""
             }
            },
            "type": "scatterpolargl"
           }
          ],
          "scatterternary": [
           {
            "marker": {
             "colorbar": {
              "outlinewidth": 0,
              "ticks": ""
             }
            },
            "type": "scatterternary"
           }
          ],
          "surface": [
           {
            "colorbar": {
             "outlinewidth": 0,
             "ticks": ""
            },
            "colorscale": [
             [
              0,
              "#0d0887"
             ],
             [
              0.1111111111111111,
              "#46039f"
             ],
             [
              0.2222222222222222,
              "#7201a8"
             ],
             [
              0.3333333333333333,
              "#9c179e"
             ],
             [
              0.4444444444444444,
              "#bd3786"
             ],
             [
              0.5555555555555556,
              "#d8576b"
             ],
             [
              0.6666666666666666,
              "#ed7953"
             ],
             [
              0.7777777777777778,
              "#fb9f3a"
             ],
             [
              0.8888888888888888,
              "#fdca26"
             ],
             [
              1,
              "#f0f921"
             ]
            ],
            "type": "surface"
           }
          ],
          "table": [
           {
            "cells": {
             "fill": {
              "color": "#EBF0F8"
             },
             "line": {
              "color": "white"
             }
            },
            "header": {
             "fill": {
              "color": "#C8D4E3"
             },
             "line": {
              "color": "white"
             }
            },
            "type": "table"
           }
          ]
         },
         "layout": {
          "annotationdefaults": {
           "arrowcolor": "#2a3f5f",
           "arrowhead": 0,
           "arrowwidth": 1
          },
          "autotypenumbers": "strict",
          "coloraxis": {
           "colorbar": {
            "outlinewidth": 0,
            "ticks": ""
           }
          },
          "colorscale": {
           "diverging": [
            [
             0,
             "#8e0152"
            ],
            [
             0.1,
             "#c51b7d"
            ],
            [
             0.2,
             "#de77ae"
            ],
            [
             0.3,
             "#f1b6da"
            ],
            [
             0.4,
             "#fde0ef"
            ],
            [
             0.5,
             "#f7f7f7"
            ],
            [
             0.6,
             "#e6f5d0"
            ],
            [
             0.7,
             "#b8e186"
            ],
            [
             0.8,
             "#7fbc41"
            ],
            [
             0.9,
             "#4d9221"
            ],
            [
             1,
             "#276419"
            ]
           ],
           "sequential": [
            [
             0,
             "#0d0887"
            ],
            [
             0.1111111111111111,
             "#46039f"
            ],
            [
             0.2222222222222222,
             "#7201a8"
            ],
            [
             0.3333333333333333,
             "#9c179e"
            ],
            [
             0.4444444444444444,
             "#bd3786"
            ],
            [
             0.5555555555555556,
             "#d8576b"
            ],
            [
             0.6666666666666666,
             "#ed7953"
            ],
            [
             0.7777777777777778,
             "#fb9f3a"
            ],
            [
             0.8888888888888888,
             "#fdca26"
            ],
            [
             1,
             "#f0f921"
            ]
           ],
           "sequentialminus": [
            [
             0,
             "#0d0887"
            ],
            [
             0.1111111111111111,
             "#46039f"
            ],
            [
             0.2222222222222222,
             "#7201a8"
            ],
            [
             0.3333333333333333,
             "#9c179e"
            ],
            [
             0.4444444444444444,
             "#bd3786"
            ],
            [
             0.5555555555555556,
             "#d8576b"
            ],
            [
             0.6666666666666666,
             "#ed7953"
            ],
            [
             0.7777777777777778,
             "#fb9f3a"
            ],
            [
             0.8888888888888888,
             "#fdca26"
            ],
            [
             1,
             "#f0f921"
            ]
           ]
          },
          "colorway": [
           "#636efa",
           "#EF553B",
           "#00cc96",
           "#ab63fa",
           "#FFA15A",
           "#19d3f3",
           "#FF6692",
           "#B6E880",
           "#FF97FF",
           "#FECB52"
          ],
          "font": {
           "color": "#2a3f5f"
          },
          "geo": {
           "bgcolor": "white",
           "lakecolor": "white",
           "landcolor": "#E5ECF6",
           "showlakes": true,
           "showland": true,
           "subunitcolor": "white"
          },
          "hoverlabel": {
           "align": "left"
          },
          "hovermode": "closest",
          "mapbox": {
           "style": "light"
          },
          "paper_bgcolor": "white",
          "plot_bgcolor": "#E5ECF6",
          "polar": {
           "angularaxis": {
            "gridcolor": "white",
            "linecolor": "white",
            "ticks": ""
           },
           "bgcolor": "#E5ECF6",
           "radialaxis": {
            "gridcolor": "white",
            "linecolor": "white",
            "ticks": ""
           }
          },
          "scene": {
           "xaxis": {
            "backgroundcolor": "#E5ECF6",
            "gridcolor": "white",
            "gridwidth": 2,
            "linecolor": "white",
            "showbackground": true,
            "ticks": "",
            "zerolinecolor": "white"
           },
           "yaxis": {
            "backgroundcolor": "#E5ECF6",
            "gridcolor": "white",
            "gridwidth": 2,
            "linecolor": "white",
            "showbackground": true,
            "ticks": "",
            "zerolinecolor": "white"
           },
           "zaxis": {
            "backgroundcolor": "#E5ECF6",
            "gridcolor": "white",
            "gridwidth": 2,
            "linecolor": "white",
            "showbackground": true,
            "ticks": "",
            "zerolinecolor": "white"
           }
          },
          "shapedefaults": {
           "line": {
            "color": "#2a3f5f"
           }
          },
          "ternary": {
           "aaxis": {
            "gridcolor": "white",
            "linecolor": "white",
            "ticks": ""
           },
           "baxis": {
            "gridcolor": "white",
            "linecolor": "white",
            "ticks": ""
           },
           "bgcolor": "#E5ECF6",
           "caxis": {
            "gridcolor": "white",
            "linecolor": "white",
            "ticks": ""
           }
          },
          "title": {
           "x": 0.05
          },
          "xaxis": {
           "automargin": true,
           "gridcolor": "white",
           "linecolor": "white",
           "ticks": "",
           "title": {
            "standoff": 15
           },
           "zerolinecolor": "white",
           "zerolinewidth": 2
          },
          "yaxis": {
           "automargin": true,
           "gridcolor": "white",
           "linecolor": "white",
           "ticks": "",
           "title": {
            "standoff": 15
           },
           "zerolinecolor": "white",
           "zerolinewidth": 2
          }
         }
        },
        "title": {
         "text": "Parallel Coordinate Plot"
        }
       }
      },
      "image/png": "[encoded data removed]",
      "text/html": [
       "<div>                            <div id=\"2a08bb8a-793c-4177-a3d1-248e12f07629\" class=\"plotly-graph-div\" style=\"height:525px; width:100%;\"></div>            <script type=\"text/javascript\">                require([\"plotly\"], function(Plotly) {                    window.PLOTLYENV=window.PLOTLYENV || {};                                    if (document.getElementById(\"2a08bb8a-793c-4177-a3d1-248e12f07629\")) {                    Plotly.newPlot(                        \"2a08bb8a-793c-4177-a3d1-248e12f07629\",                        [{\"dimensions\": [{\"label\": \"Objective Value\", \"range\": [76.83541666666666, 90.90416666666667], \"values\": [88.84166666666667, 88.43958333333333, 90.90416666666667, 85.06875, 84.79166666666667, 83.29583333333333, 87.16875, 77.28541666666666, 82.61041666666667, 89.65833333333333, 84.42708333333333, 88.25833333333334, 85.38958333333333, 85.38333333333334, 77.91041666666666, 86.4125, 77.42083333333333, 83.0375, 89.8375, 84.89166666666667, 84.08541666666666, 89.60416666666667, 78.03958333333334, 85.04375, 76.83541666666666, 88.35, 88.36875, 80.16041666666666, 85.56458333333333, 87.22291666666666, 86.37708333333333, 83.675, 83.30833333333334, 87.9875, 89.42916666666666, 87.1375, 88.06041666666667, 86.65, 86.73333333333333, 87.15833333333333, 83.7125, 88.69166666666666, 85.09375, 82.40208333333334, 85.2375, 85.27708333333334, 80.78958333333334, 89.32916666666667, 86.89791666666666, 83.78958333333334]}, {\"label\": \"frequency\", \"range\": [0.19163264336576338, 9.93390930182489], \"values\": [3.9976542849210426, 3.1447814599276245, 1.9655706988242505, 4.405116022622264, 6.276634649240618, 1.261786604779435, 1.2917457602839466, 7.581504789535659, 8.519924232039271, 1.8724149805881671, 7.8133898506321495, 3.4061168370252988, 6.1504399349263865, 5.811095955146288, 7.9566320538837765, 0.6659915191848064, 9.203545349994354, 3.199160003898538, 2.915640189064513, 7.24513527149659, 2.3643661137646137, 2.8576991060726376, 8.346338594752327, 9.828133836727842, 9.515431726040246, 5.488698980495209, 4.491126092280137, 9.270772678707203, 5.602953871413843, 1.0015090414658303, 4.941284703971579, 8.95166573586222, 9.576322595913844, 2.888572959322183, 3.787297769816424, 5.930099441966297, 3.6427758440112084, 4.497438291389367, 0.5900982916967602, 4.228878779697231, 8.337857964629071, 1.6628884428868784, 8.25802337279373, 6.476829658733193, 9.93390930182489, 0.19163264336576338, 0.47869127378085063, 2.0153746139844735, 1.8717923891554917, 6.50502475607014]}, {\"label\": \"size\", \"range\": [0.20369444970672726, 9.884861555153675], \"values\": [2.4718885529366545, 6.737415072947277, 5.3403768810194645, 9.122211311793622, 0.20369444970672726, 0.8663432675483185, 3.2462665216341553, 8.586661648354418, 6.089555087358445, 5.086242611640179, 3.420062272688692, 7.634288101948672, 0.6919091150540426, 6.412535005201994, 9.806148961925834, 5.422932209004044, 9.712154023112895, 0.7045316875909037, 5.514393949990945, 6.148915723519605, 1.1107178648263456, 3.3698097927820734, 7.720720407041864, 1.633990145495264, 8.908962414327622, 5.0121048919688915, 2.481876467770112, 7.692250738958355, 9.287660057816861, 6.618837117627955, 7.683154737397133, 6.341154425441303, 6.827610234103122, 4.207488389578995, 5.3339702759416605, 2.5330939915186956, 9.646596903996986, 1.5207264285158073, 7.911753543779734, 4.996954921617929, 3.3898863381503155, 9.35601827117921, 4.297424792397682, 9.627373091226008, 2.9666963215185334, 7.078609368449491, 2.2662607970031154, 9.884861555153675, 1.3782873111742253, 0.8415677249405488]}], \"labelangle\": 30, \"labelside\": \"bottom\", \"line\": {\"color\": [88.84166666666667, 88.43958333333333, 90.90416666666667, 85.06875, 84.79166666666667, 83.29583333333333, 87.16875, 77.28541666666666, 82.61041666666667, 89.65833333333333, 84.42708333333333, 88.25833333333334, 85.38958333333333, 85.38333333333334, 77.91041666666666, 86.4125, 77.42083333333333, 83.0375, 89.8375, 84.89166666666667, 84.08541666666666, 89.60416666666667, 78.03958333333334, 85.04375, 76.83541666666666, 88.35, 88.36875, 80.16041666666666, 85.56458333333333, 87.22291666666666, 86.37708333333333, 83.675, 83.30833333333334, 87.9875, 89.42916666666666, 87.1375, 88.06041666666667, 86.65, 86.73333333333333, 87.15833333333333, 83.7125, 88.69166666666666, 85.09375, 82.40208333333334, 85.2375, 85.27708333333334, 80.78958333333334, 89.32916666666667, 86.89791666666666, 83.78958333333334], \"colorbar\": {\"title\": {\"text\": \"Objective Value\"}}, \"colorscale\": [[0.0, \"rgb(247,251,255)\"], [0.125, \"rgb(222,235,247)\"], [0.25, \"rgb(198,219,239)\"], [0.375, \"rgb(158,202,225)\"], [0.5, \"rgb(107,174,214)\"], [0.625, \"rgb(66,146,198)\"], [0.75, \"rgb(33,113,181)\"], [0.875, \"rgb(8,81,156)\"], [1.0, \"rgb(8,48,107)\"]], \"reversescale\": false, \"showscale\": true}, \"type\": \"parcoords\"}],                        {\"template\": {\"data\": {\"bar\": [{\"error_x\": {\"color\": \"#2a3f5f\"}, \"error_y\": {\"color\": \"#2a3f5f\"}, \"marker\": {\"line\": {\"color\": \"#E5ECF6\", \"width\": 0.5}}, \"type\": \"bar\"}], \"barpolar\": [{\"marker\": {\"line\": {\"color\": \"#E5ECF6\", \"width\": 0.5}}, \"type\": \"barpolar\"}], \"carpet\": [{\"aaxis\": {\"endlinecolor\": \"#2a3f5f\", \"gridcolor\": \"white\", \"linecolor\": \"white\", \"minorgridcolor\": \"white\", \"startlinecolor\": \"#2a3f5f\"}, \"baxis\": {\"endlinecolor\": \"#2a3f5f\", \"gridcolor\": \"white\", \"linecolor\": \"white\", \"minorgridcolor\": \"white\", \"startlinecolor\": \"#2a3f5f\"}, \"type\": \"carpet\"}], \"choropleth\": [{\"colorbar\": {\"outlinewidth\": 0, \"ticks\": \"\"}, \"type\": \"choropleth\"}], \"contour\": [{\"colorbar\": {\"outlinewidth\": 0, \"ticks\": \"\"}, \"colorscale\": [[0.0, \"#0d0887\"], [0.1111111111111111, \"#46039f\"], [0.2222222222222222, \"#7201a8\"], [0.3333333333333333, \"#9c179e\"], [0.4444444444444444, \"#bd3786\"], [0.5555555555555556, \"#d8576b\"], [0.6666666666666666, \"#ed7953\"], [0.7777777777777778, \"#fb9f3a\"], [0.8888888888888888, \"#fdca26\"], [1.0, \"#f0f921\"]], \"type\": \"contour\"}], \"contourcarpet\": [{\"colorbar\": {\"outlinewidth\": 0, \"ticks\": \"\"}, \"type\": \"contourcarpet\"}], \"heatmap\": [{\"colorbar\": {\"outlinewidth\": 0, \"ticks\": \"\"}, \"colorscale\": [[0.0, \"#0d0887\"], [0.1111111111111111, \"#46039f\"], [0.2222222222222222, \"#7201a8\"], [0.3333333333333333, \"#9c179e\"], [0.4444444444444444, \"#bd3786\"], [0.5555555555555556, \"#d8576b\"], [0.6666666666666666, \"#ed7953\"], [0.7777777777777778, \"#fb9f3a\"], [0.8888888888888888, \"#fdca26\"], [1.0, \"#f0f921\"]], \"type\": \"heatmap\"}], \"heatmapgl\": [{\"colorbar\": {\"outlinewidth\": 0, \"ticks\": \"\"}, \"colorscale\": [[0.0, \"#0d0887\"], [0.1111111111111111, \"#46039f\"], [0.2222222222222222, \"#7201a8\"], [0.3333333333333333, \"#9c179e\"], [0.4444444444444444, \"#bd3786\"], [0.5555555555555556, \"#d8576b\"], [0.6666666666666666, \"#ed7953\"], [0.7777777777777778, \"#fb9f3a\"], [0.8888888888888888, \"#fdca26\"], [1.0, \"#f0f921\"]], \"type\": \"heatmapgl\"}], \"histogram\": [{\"marker\": {\"colorbar\": {\"outlinewidth\": 0, \"ticks\": \"\"}}, \"type\": \"histogram\"}], \"histogram2d\": [{\"colorbar\": {\"outlinewidth\": 0, \"ticks\": \"\"}, \"colorscale\": [[0.0, \"#0d0887\"], [0.1111111111111111, \"#46039f\"], [0.2222222222222222, \"#7201a8\"], [0.3333333333333333, \"#9c179e\"], [0.4444444444444444, \"#bd3786\"], [0.5555555555555556, \"#d8576b\"], [0.6666666666666666, \"#ed7953\"], [0.7777777777777778, \"#fb9f3a\"], [0.8888888888888888, \"#fdca26\"], [1.0, \"#f0f921\"]], \"type\": \"histogram2d\"}], \"histogram2dcontour\": [{\"colorbar\": {\"outlinewidth\": 0, \"ticks\": \"\"}, \"colorscale\": [[0.0, \"#0d0887\"], [0.1111111111111111, \"#46039f\"], [0.2222222222222222, \"#7201a8\"], [0.3333333333333333, \"#9c179e\"], [0.4444444444444444, \"#bd3786\"], [0.5555555555555556, \"#d8576b\"], [0.6666666666666666, \"#ed7953\"], [0.7777777777777778, \"#fb9f3a\"], [0.8888888888888888, \"#fdca26\"], [1.0, \"#f0f921\"]], \"type\": \"histogram2dcontour\"}], \"mesh3d\": [{\"colorbar\": {\"outlinewidth\": 0, \"ticks\": \"\"}, \"type\": \"mesh3d\"}], \"parcoords\": [{\"line\": {\"colorbar\": {\"outlinewidth\": 0, \"ticks\": \"\"}}, \"type\": \"parcoords\"}], \"pie\": [{\"automargin\": true, \"type\": \"pie\"}], \"scatter\": [{\"marker\": {\"colorbar\": {\"outlinewidth\": 0, \"ticks\": \"\"}}, \"type\": \"scatter\"}], \"scatter3d\": [{\"line\": {\"colorbar\": {\"outlinewidth\": 0, \"ticks\": \"\"}}, \"marker\": {\"colorbar\": {\"outlinewidth\": 0, \"ticks\": \"\"}}, \"type\": \"scatter3d\"}], \"scattercarpet\": [{\"marker\": {\"colorbar\": {\"outlinewidth\": 0, \"ticks\": \"\"}}, \"type\": \"scattercarpet\"}], \"scattergeo\": [{\"marker\": {\"colorbar\": {\"outlinewidth\": 0, \"ticks\": \"\"}}, \"type\": \"scattergeo\"}], \"scattergl\": [{\"marker\": {\"colorbar\": {\"outlinewidth\": 0, \"ticks\": \"\"}}, \"type\": \"scattergl\"}], \"scattermapbox\": [{\"marker\": {\"colorbar\": {\"outlinewidth\": 0, \"ticks\": \"\"}}, \"type\": \"scattermapbox\"}], \"scatterpolar\": [{\"marker\": {\"colorbar\": {\"outlinewidth\": 0, \"ticks\": \"\"}}, \"type\": \"scatterpolar\"}], \"scatterpolargl\": [{\"marker\": {\"colorbar\": {\"outlinewidth\": 0, \"ticks\": \"\"}}, \"type\": \"scatterpolargl\"}], \"scatterternary\": [{\"marker\": {\"colorbar\": {\"outlinewidth\": 0, \"ticks\": \"\"}}, \"type\": \"scatterternary\"}], \"surface\": [{\"colorbar\": {\"outlinewidth\": 0, \"ticks\": \"\"}, \"colorscale\": [[0.0, \"#0d0887\"], [0.1111111111111111, \"#46039f\"], [0.2222222222222222, \"#7201a8\"], [0.3333333333333333, \"#9c179e\"], [0.4444444444444444, \"#bd3786\"], [0.5555555555555556, \"#d8576b\"], [0.6666666666666666, \"#ed7953\"], [0.7777777777777778, \"#fb9f3a\"], [0.8888888888888888, \"#fdca26\"], [1.0, \"#f0f921\"]], \"type\": \"surface\"}], \"table\": [{\"cells\": {\"fill\": {\"color\": \"#EBF0F8\"}, \"line\": {\"color\": \"white\"}}, \"header\": {\"fill\": {\"color\": \"#C8D4E3\"}, \"line\": {\"color\": \"white\"}}, \"type\": \"table\"}]}, \"layout\": {\"annotationdefaults\": {\"arrowcolor\": \"#2a3f5f\", \"arrowhead\": 0, \"arrowwidth\": 1}, \"autotypenumbers\": \"strict\", \"coloraxis\": {\"colorbar\": {\"outlinewidth\": 0, \"ticks\": \"\"}}, \"colorscale\": {\"diverging\": [[0, \"#8e0152\"], [0.1, \"#c51b7d\"], [0.2, \"#de77ae\"], [0.3, \"#f1b6da\"], [0.4, \"#fde0ef\"], [0.5, \"#f7f7f7\"], [0.6, \"#e6f5d0\"], [0.7, \"#b8e186\"], [0.8, \"#7fbc41\"], [0.9, \"#4d9221\"], [1, \"#276419\"]], \"sequential\": [[0.0, \"#0d0887\"], [0.1111111111111111, \"#46039f\"], [0.2222222222222222, \"#7201a8\"], [0.3333333333333333, \"#9c179e\"], [0.4444444444444444, \"#bd3786\"], [0.5555555555555556, \"#d8576b\"], [0.6666666666666666, \"#ed7953\"], [0.7777777777777778, \"#fb9f3a\"], [0.8888888888888888, \"#fdca26\"], [1.0, \"#f0f921\"]], \"sequentialminus\": [[0.0, \"#0d0887\"], [0.1111111111111111, \"#46039f\"], [0.2222222222222222, \"#7201a8\"], [0.3333333333333333, \"#9c179e\"], [0.4444444444444444, \"#bd3786\"], [0.5555555555555556, \"#d8576b\"], [0.6666666666666666, \"#ed7953\"], [0.7777777777777778, \"#fb9f3a\"], [0.8888888888888888, \"#fdca26\"], [1.0, \"#f0f921\"]]}, \"colorway\": [\"#636efa\", \"#EF553B\", \"#00cc96\", \"#ab63fa\", \"#FFA15A\", \"#19d3f3\", \"#FF6692\", \"#B6E880\", \"#FF97FF\", \"#FECB52\"], \"font\": {\"color\": \"#2a3f5f\"}, \"geo\": {\"bgcolor\": \"white\", \"lakecolor\": \"white\", \"landcolor\": \"#E5ECF6\", \"showlakes\": true, \"showland\": true, \"subunitcolor\": \"white\"}, \"hoverlabel\": {\"align\": \"left\"}, \"hovermode\": \"closest\", \"mapbox\": {\"style\": \"light\"}, \"paper_bgcolor\": \"white\", \"plot_bgcolor\": \"#E5ECF6\", \"polar\": {\"angularaxis\": {\"gridcolor\": \"white\", \"linecolor\": \"white\", \"ticks\": \"\"}, \"bgcolor\": \"#E5ECF6\", \"radialaxis\": {\"gridcolor\": \"white\", \"linecolor\": \"white\", \"ticks\": \"\"}}, \"scene\": {\"xaxis\": {\"backgroundcolor\": \"#E5ECF6\", \"gridcolor\": \"white\", \"gridwidth\": 2, \"linecolor\": \"white\", \"showbackground\": true, \"ticks\": \"\", \"zerolinecolor\": \"white\"}, \"yaxis\": {\"backgroundcolor\": \"#E5ECF6\", \"gridcolor\": \"white\", \"gridwidth\": 2, \"linecolor\": \"white\", \"showbackground\": true, \"ticks\": \"\", \"zerolinecolor\": \"white\"}, \"zaxis\": {\"backgroundcolor\": \"#E5ECF6\", \"gridcolor\": \"white\", \"gridwidth\": 2, \"linecolor\": \"white\", \"showbackground\": true, \"ticks\": \"\", \"zerolinecolor\": \"white\"}}, \"shapedefaults\": {\"line\": {\"color\": \"#2a3f5f\"}}, \"ternary\": {\"aaxis\": {\"gridcolor\": \"white\", \"linecolor\": \"white\", \"ticks\": \"\"}, \"baxis\": {\"gridcolor\": \"white\", \"linecolor\": \"white\", \"ticks\": \"\"}, \"bgcolor\": \"#E5ECF6\", \"caxis\": {\"gridcolor\": \"white\", \"linecolor\": \"white\", \"ticks\": \"\"}}, \"title\": {\"x\": 0.05}, \"xaxis\": {\"automargin\": true, \"gridcolor\": \"white\", \"linecolor\": \"white\", \"ticks\": \"\", \"title\": {\"standoff\": 15}, \"zerolinecolor\": \"white\", \"zerolinewidth\": 2}, \"yaxis\": {\"automargin\": true, \"gridcolor\": \"white\", \"linecolor\": \"white\", \"ticks\": \"\", \"title\": {\"standoff\": 15}, \"zerolinecolor\": \"white\", \"zerolinewidth\": 2}}}, \"title\": {\"text\": \"Parallel Coordinate Plot\"}},                        {\"responsive\": true}                    ).then(function(){\n",
       "                            \n",
       "var gd = document.getElementById('2a08bb8a-793c-4177-a3d1-248e12f07629');\n",
       "var x = new MutationObserver(function (mutations, observer) {{\n",
       "        var display = window.getComputedStyle(gd).display;\n",
       "        if (!display || display === 'none') {{\n",
       "            console.log([gd, 'removed!']);\n",
       "            Plotly.purge(gd);\n",
       "            observer.disconnect();\n",
       "        }}\n",
       "}});\n",
       "\n",
       "// Listen for the removal of the full notebook cells\n",
       "var notebookContainer = gd.closest('#notebook-container');\n",
       "if (notebookContainer) {{\n",
       "    x.observe(notebookContainer, {childList: true});\n",
       "}}\n",
       "\n",
       "// Listen for the clearing of the current output cell\n",
       "var outputEl = gd.closest('.output');\n",
       "if (outputEl) {{\n",
       "    x.observe(outputEl, {childList: true});\n",
       "}}\n",
       "\n",
       "                        })                };                });            </script>        </div>"
      ]
     },
     "metadata": {},
     "output_type": "display_data"
    }
   ],
   "source": [
    "import plotly.offline as pyo\n",
    "pyo.init_notebook_mode(connected=True)\n",
    "import plotly.express as px\n",
    "fig = optuna.visualization.plot_parallel_coordinate(v1_study)\n",
    "fig.show()"
   ]
  },
  {
   "cell_type": "code",
   "execution_count": 14,
   "metadata": {},
   "outputs": [
    {
     "name": "stdout",
     "output_type": "stream",
     "text": [
      "Train_epoch: 0 [0/59940 (0%)]\tLoss: 20.410599\n",
      "Train_epoch: 0 [25600/59940 (43%)]\tLoss: 0.458296\n",
      "Train_epoch: 0 [51200/59940 (85%)]\tLoss: 0.206055\n",
      "Train_epoch: 1 [0/59940 (0%)]\tLoss: 0.140204\n",
      "Train_epoch: 1 [25600/59940 (43%)]\tLoss: 0.154340\n",
      "Train_epoch: 1 [51200/59940 (85%)]\tLoss: 0.132329\n",
      "Train_epoch: 2 [0/59940 (0%)]\tLoss: 0.069124\n",
      "Train_epoch: 2 [25600/59940 (43%)]\tLoss: 0.070409\n",
      "Train_epoch: 2 [51200/59940 (85%)]\tLoss: 0.148159\n",
      "Train_epoch: 3 [0/59940 (0%)]\tLoss: 0.148917\n",
      "Train_epoch: 3 [25600/59940 (43%)]\tLoss: 0.484362\n",
      "Train_epoch: 3 [51200/59940 (85%)]\tLoss: 0.234719\n",
      "Train_epoch: 4 [0/59940 (0%)]\tLoss: 0.149088\n",
      "Train_epoch: 4 [25600/59940 (43%)]\tLoss: 0.097333\n",
      "Train_epoch: 4 [51200/59940 (85%)]\tLoss: 0.367517\n",
      "\n",
      "Test set: Average loss: 0.186231. Accuracy: 9552/10000 (95.52%)\n",
      "\n"
     ]
    }
   ],
   "source": [
    "# train the model using the most optimal hyperparams\n",
    "hidden_size = 1000\n",
    "s, f, c = 5.34, 1.965, None\n",
    "lr = 0.0031485838088746586\n",
    "# lr = 0.005250366870356006 # multimargin loss\n",
    "# lr = 0.014717452942551123\n",
    "num_epochs = 5\n",
    "log_interval = 100\n",
    "\n",
    "# define the model, optimize, loss\n",
    "model = V1_mnist_RFNet(hidden_size, s, f, c).to(device)\n",
    "optimizer = optim.Adam(model.parameters(), lr=lr)\n",
    "loss_fn = F.multi_margin_loss\n",
    "\n",
    "# load data\n",
    "train_batch_size, train_percentage = 256, 0.999\n",
    "train_loader, val_loader, test_loader = load_mnist(train_batch_size, train_percentage)\n",
    "\n",
    "for epoch in range(num_epochs):\n",
    "    _ = train(log_interval, device, model, train_loader, optimizer, epoch, loss_fn, verbose=True)\n",
    "test_accuracy = test(model, device, test_loader, loss_fn, verbose=True)"
   ]
  },
  {
   "cell_type": "markdown",
   "metadata": {},
   "source": [
    "### classical network"
   ]
  },
  {
   "cell_type": "code",
   "execution_count": null,
   "metadata": {},
   "outputs": [],
   "source": [
    "inp_size = (1, 28, 28)\n",
    "hidden_size = 500\n",
    "def classical_RFNet_objective(trial):\n",
    "    \n",
    "    # load the data\n",
    "    train_loader, val_loader, _ = load_mnist(train_batch_size=batch_size, train_percentage=0.2)\n",
    "    \n",
    "    # load the model\n",
    "    model = classical_RFNet(inp_size, hidden_size).to(device)\n",
    "    \n",
    "    # generate optimizers and the learning rate\n",
    "    lr = trial.suggest_float(\"lr\", 1e-5, 1e-1, log=True) \n",
    "    optimizer_name = trial.suggest_categorical(\"optimizer\", [\"Adam\", \"RMSprop\", \"SGD\"])\n",
    "    optimizer = getattr(optim, optimizer_name)(model.parameters(), lr=lr)\n",
    "    \n",
    "    # train and validate\n",
    "    for epoch in range(epochs + 1):\n",
    "        _ = train(log_interval, device, model, train_loader, optimizer, epoch, verbose=False)\n",
    "        val_accuracy = test(model, device, val_loader, verbose=False)\n",
    "        \n",
    "        trial.report(val_accuracy, epoch)\n",
    "    \n",
    "        # prune if unpromising trial\n",
    "        if trial.should_prune():\n",
    "            raise optuna.exceptions.TrialPruned()\n",
    "    \n",
    "    return val_accuracy"
   ]
  },
  {
   "cell_type": "code",
   "execution_count": null,
   "metadata": {},
   "outputs": [],
   "source": [
    "# create a hyperparameter study\n",
    "classical_study = optuna.create_study(sampler=optuna.samplers.TPESampler(), direction='maximize')\n",
    "classical_study.optimize(classical_RFNet_objective, n_trials=50)\n",
    "\n",
    "pruned_trials = classical_study.get_trials(deepcopy=False, states=[TrialState.PRUNED])\n",
    "complete_trials = classical_study.get_trials(deepcopy=False, states=[TrialState.COMPLETE])\n",
    "\n",
    "print(\"Study statistics: \")\n",
    "print(\"  Number of finished trials: \", len(classical_study.trials))\n",
    "print(\"  Number of pruned trials: \", len(pruned_trials))\n",
    "print(\"  Number of complete trials: \", len(complete_trials))\n",
    "\n",
    "print(\"Best trial:\")\n",
    "trial = classical_study.best_trial\n",
    "\n",
    "print(\"  Value: \", trial.value)\n",
    "\n",
    "print(\"  Params: \")\n",
    "for key, value in trial.params.items():\n",
    "    print(\"    {}: {}\".format(key, value))"
   ]
  },
  {
   "cell_type": "code",
   "execution_count": null,
   "metadata": {},
   "outputs": [],
   "source": [
    "# train the model using the most optimal hyperparams\n",
    "inp_size = (1, 28, 28)\n",
    "hidden_size = 1000\n",
    "lr = 0.01922083004518646\n",
    "num_epochs = 5\n",
    "log_interval = 100\n",
    "\n",
    "# define the model\n",
    "model = classical_RFNet(inp_size, hidden_size).to(device)\n",
    "optimizer = optim.Adam(model.parameters(), lr=lr)\n",
    "loss_fn = F.cross_entropy\n",
    "\n",
    "# load data\n",
    "train_batch_size, train_percentage = 256, 0.999\n",
    "train_loader, val_loader, test_loader = load_mnist(train_batch_size, train_percentage)\n",
    "\n",
    "for epoch in range(num_epochs):\n",
    "    _ = train(log_interval, device, model, train_loader, optimizer, epoch, loss_fn, verbose=True)\n",
    "test_accuracy = test(model, device, test_loader, verbose=True)"
   ]
  },
  {
   "cell_type": "code",
   "execution_count": null,
   "metadata": {},
   "outputs": [],
   "source": []
  }
 ],
 "metadata": {
  "kernelspec": {
   "display_name": "Python 3",
   "language": "python",
   "name": "python3"
  },
  "language_info": {
   "codemirror_mode": {
    "name": "ipython",
    "version": 3
   },
   "file_extension": ".py",
   "mimetype": "text/x-python",
   "name": "python",
   "nbconvert_exporter": "python",
   "pygments_lexer": "ipython3",
   "version": "3.8.3"
  }
 },
 "nbformat": 4,
 "nbformat_minor": 4
}
