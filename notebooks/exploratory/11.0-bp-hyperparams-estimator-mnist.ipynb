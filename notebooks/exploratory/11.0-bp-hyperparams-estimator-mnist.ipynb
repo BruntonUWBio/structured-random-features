{
 "cells": [
  {
   "cell_type": "code",
   "execution_count": 1,
   "id": "52e7fd65-26fc-40e1-8ffb-2cfd36c32b86",
   "metadata": {},
   "outputs": [],
   "source": [
    "from os import getcwd\n",
    "from os.path import abspath, join\n",
    "\n",
    "from copy import deepcopy\n",
    "from joblib import parallel_backend\n",
    "import matplotlib.pyplot as plt\n",
    "import numpy as np\n",
    "import pickle\n",
    "from sklearn.model_selection import train_test_split, cross_val_score\n",
    "from sklearn.svm import LinearSVC\n",
    "from tqdm import tqdm\n",
    "\n",
    "from src.data.load_dataset import load_mnist\n",
    "from src.models.estimator import RFClassifier, relu\n",
    "from src.models.weights import V1_weights, classical_weights"
   ]
  },
  {
   "cell_type": "code",
   "execution_count": 2,
   "id": "fba5c338-f03e-4873-9e37-6af6d0e0100e",
   "metadata": {},
   "outputs": [],
   "source": [
    "data_dir = abspath(join(getcwd(), '../../'))"
   ]
  },
  {
   "cell_type": "code",
   "execution_count": 3,
   "id": "d237961c-b15e-4a2a-a53c-8203ab271194",
   "metadata": {},
   "outputs": [],
   "source": [
    "# load dataset\n",
    "train_loader, val_loader, test_loader = load_mnist()\n",
    "train, test = train_loader.dataset.dataset, test_loader.dataset\n",
    "train, train_labels = train.data.numpy(), train.targets.numpy()\n",
    "X_test, y_test = test.data.numpy(), test.targets.numpy()\n",
    "\n",
    "X_train, X_val, y_train, y_val = train_test_split(train, train_labels, train_size=0.999, stratify=train_labels)\n",
    "\n",
    "# params\n",
    "h = 1000\n",
    "bias = 0\n",
    "nonlinearity = relu\n",
    "scale = 1\n",
    "center = None\n",
    "clf = LinearSVC(tol=1e-4, max_iter=1000)\n",
    "n_jobs=5\n",
    "cv = 3"
   ]
  },
  {
   "cell_type": "code",
   "execution_count": 4,
   "id": "c3f89e50-28d8-4cc7-8253-071310e9a1b0",
   "metadata": {},
   "outputs": [],
   "source": [
    "grid = np.arange(1, 20, 1)\n",
    "size, spatial_freq = np.meshgrid(grid, grid)\n",
    "params = np.array(list(zip(size.flatten(), spatial_freq.flatten())))"
   ]
  },
  {
   "cell_type": "code",
   "execution_count": null,
   "id": "83981a91-6917-46ed-a25f-e4145bde79dd",
   "metadata": {},
   "outputs": [
    {
     "name": "stderr",
     "output_type": "stream",
     "text": [
      "  0%|          | 0/361 [00:00<?, ?it/s]"
     ]
    }
   ],
   "source": [
    "accuracy = np.zeros((len(params), cv))\n",
    "for i, [s, f] in enumerate(tqdm(params)):\n",
    "    kwargs = {'size':s, 'spatial_freq': f, 'center': None, 'scale': scale}\n",
    "    v1_clf = RFClassifier(h, V1_weights, bias, nonlinearity, deepcopy(clf), kwargs)\n",
    "    scores = cross_val_score(v1_clf, X_train, y_train, cv=cv, n_jobs=n_jobs, verbose=0)\n",
    "    accuracy[i] = scores\n",
    "    \n",
    "    # save results iteratively\n",
    "    param_study = {'size': params[:, 0], 'spatial_freq': params[:, 1],  'scores': accuracy}\n",
    "    with open(data_dir + '/models/results/mnist_clf/mnist_param_study_estimator.pickle', 'wb') as file:\n",
    "        pickle.dump(param_study, file)"
   ]
  },
  {
   "cell_type": "code",
   "execution_count": 3,
   "id": "3f9b9d2e-329e-442d-9c58-c377babe537f",
   "metadata": {},
   "outputs": [
    {
     "name": "stdout",
     "output_type": "stream",
     "text": [
      "8 3 0.9443276609943277 [0.94414414 0.94604605 0.94279279]\n"
     ]
    },
    {
     "data": {
      "image/png": "[encoded data removed]",
      "text/plain": [
       "<Figure size 432x288 with 2 Axes>"
      ]
     },
     "metadata": {
      "needs_background": "light"
     },
     "output_type": "display_data"
    }
   ],
   "source": [
    "with open(data_dir + '/models/results/kmnist_clf/kmnist_param_study_estimator.pickle', 'rb') as file:\n",
    "    results = pickle.load(file)\n",
    "    \n",
    "grid = np.arange(1, 20, 1)\n",
    "mean = np.mean(results['scores'], axis=1)\n",
    "fig = plt.figure()\n",
    "ax = fig.add_subplot(111)\n",
    "plt.imshow(mean.reshape(19, 19), cmap='RdBu_r')\n",
    "plt.xticks(grid - 1)\n",
    "plt.yticks(grid - 1)\n",
    "ax.set_xticklabels(grid)\n",
    "ax.set_yticklabels(grid)\n",
    "# plt.imshow(results['scores'])\n",
    "plt.colorbar()\n",
    "\n",
    "# print the largest param\n",
    "idx = np.argmax(mean)\n",
    "print(results['size'][idx], results['spatial_freq'][idx], mean[idx], results['scores'][idx])"
   ]
  },
  {
   "cell_type": "code",
   "execution_count": null,
   "id": "f34084ac-707e-4713-a2e6-5c8849d98ccc",
   "metadata": {},
   "outputs": [],
   "source": []
  }
 ],
 "metadata": {
  "kernelspec": {
   "display_name": "Python 3",
   "language": "python",
   "name": "python3"
  },
  "language_info": {
   "codemirror_mode": {
    "name": "ipython",
    "version": 3
   },
   "file_extension": ".py",
   "mimetype": "text/x-python",
   "name": "python",
   "nbconvert_exporter": "python",
   "pygments_lexer": "ipython3",
   "version": "3.8.10"
  }
 },
 "nbformat": 4,
 "nbformat_minor": 5
}
