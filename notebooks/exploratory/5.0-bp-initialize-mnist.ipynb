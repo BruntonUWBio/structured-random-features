{
 "cells": [
  {
   "cell_type": "code",
   "execution_count": 1,
   "id": "70b6464b-a6f7-4cd9-b750-dbd45669a68a",
   "metadata": {},
   "outputs": [],
   "source": [
    "from os import getcwd\n",
    "from os.path import join, abspath\n",
    "\n",
    "from copy import deepcopy\n",
    "import numpy as np\n",
    "import pickle\n",
    "import matplotlib.pyplot as plt\n",
    "import torch\n",
    "import torch.optim as optim\n",
    "import torch.nn.functional as F\n",
    "\n",
    "from src.data.load_dataset import load_mnist, load_kmnist\n",
    "from src.models.networks import V1_mnist_RFNet, classical_RFNet\n",
    "from src.models.utils import train, test"
   ]
  },
  {
   "cell_type": "code",
   "execution_count": 2,
   "id": "e3503fdd-fc58-4d07-814a-5ab264440027",
   "metadata": {},
   "outputs": [
    {
     "data": {
      "text/plain": [
       "0"
      ]
     },
     "execution_count": 2,
     "metadata": {},
     "output_type": "execute_result"
    }
   ],
   "source": [
    "torch.cuda.current_device()"
   ]
  },
  {
   "cell_type": "code",
   "execution_count": 4,
   "id": "ea7123c9-9b6f-42d5-b5dd-4289e990b6bd",
   "metadata": {},
   "outputs": [],
   "source": [
    "data_dir = abspath(join(getcwd(), '../../'))\n",
    "device = torch.device('cuda' if torch.cuda.is_available else 'cpu')"
   ]
  },
  {
   "cell_type": "code",
   "execution_count": 5,
   "id": "71b40a95-a2fc-4903-b478-76983a9f3956",
   "metadata": {},
   "outputs": [
    {
     "name": "stderr",
     "output_type": "stream",
     "text": [
      "/home/bpandey/anaconda3/envs/random_features/lib/python3.8/site-packages/torchvision/datasets/mnist.py:498: UserWarning: The given NumPy array is not writeable, and PyTorch does not support non-writeable tensors. This means you can write to the underlying (supposedly non-writeable) NumPy array using the tensor. You may want to copy the array to protect its data or make it writeable before converting it to a tensor. This type of warning will be suppressed for the rest of this program. (Triggered internally at  /pytorch/torch/csrc/utils/tensor_numpy.cpp:180.)\n",
      "  return torch.from_numpy(parsed.astype(m[2], copy=False)).view(*s)\n"
     ]
    }
   ],
   "source": [
    "# load data\n",
    "train_batch_size, train_percentage = 60000, 0.999\n",
    "train_loader, val_loader, test_loader = load_kmnist(train_batch_size, train_percentage)\n",
    "\n",
    "# training params\n",
    "hidden_size = 1000\n",
    "num_epochs = 30\n",
    "step_size, gamma = 5, 0.5 # lr scheduler\n",
    "num_trials = 5\n",
    "log_interval = 100\n",
    "lr = 1E-1\n",
    "loss_fn = F.cross_entropy"
   ]
  },
  {
   "cell_type": "markdown",
   "id": "b89b7cb5-7279-462d-8ece-3b4ccc4b90fc",
   "metadata": {},
   "source": [
    "## V1 RFNet"
   ]
  },
  {
   "cell_type": "code",
   "execution_count": 6,
   "id": "a43539e8-57b6-4a43-9ec5-0075cb926171",
   "metadata": {},
   "outputs": [
    {
     "ename": "RuntimeError",
     "evalue": "CUDA out of memory. Tried to allocate 230.00 MiB (GPU 0; 11.91 GiB total capacity; 183.03 MiB already allocated; 67.69 MiB free; 202.00 MiB reserved in total by PyTorch)",
     "output_type": "error",
     "traceback": [
      "\u001b[0;31m---------------------------------------------------------------------------\u001b[0m",
      "\u001b[0;31mRuntimeError\u001b[0m                              Traceback (most recent call last)",
      "\u001b[0;32m<ipython-input-6-06078552fb26>\u001b[0m in \u001b[0;36m<module>\u001b[0;34m\u001b[0m\n\u001b[1;32m     13\u001b[0m \u001b[0mV1_test_error\u001b[0m \u001b[0;34m=\u001b[0m \u001b[0mnp\u001b[0m\u001b[0;34m.\u001b[0m\u001b[0mzeros\u001b[0m\u001b[0;34m(\u001b[0m\u001b[0mnum_epochs\u001b[0m\u001b[0;34m)\u001b[0m\u001b[0;34m\u001b[0m\u001b[0;34m\u001b[0m\u001b[0m\n\u001b[1;32m     14\u001b[0m \u001b[0;32mfor\u001b[0m \u001b[0mepoch\u001b[0m \u001b[0;32min\u001b[0m \u001b[0mrange\u001b[0m\u001b[0;34m(\u001b[0m\u001b[0mnum_epochs\u001b[0m\u001b[0;34m)\u001b[0m\u001b[0;34m:\u001b[0m\u001b[0;34m\u001b[0m\u001b[0;34m\u001b[0m\u001b[0m\n\u001b[0;32m---> 15\u001b[0;31m     \u001b[0mloss\u001b[0m \u001b[0;34m=\u001b[0m \u001b[0mtrain\u001b[0m\u001b[0;34m(\u001b[0m\u001b[0mlog_interval\u001b[0m\u001b[0;34m,\u001b[0m \u001b[0mdevice\u001b[0m\u001b[0;34m,\u001b[0m \u001b[0mmodel\u001b[0m\u001b[0;34m,\u001b[0m \u001b[0mtrain_loader\u001b[0m\u001b[0;34m,\u001b[0m \u001b[0moptimizer\u001b[0m\u001b[0;34m,\u001b[0m \u001b[0mepoch\u001b[0m\u001b[0;34m,\u001b[0m \u001b[0mloss_fn\u001b[0m\u001b[0;34m,\u001b[0m \u001b[0mverbose\u001b[0m\u001b[0;34m=\u001b[0m\u001b[0;32mTrue\u001b[0m\u001b[0;34m)\u001b[0m\u001b[0;34m\u001b[0m\u001b[0;34m\u001b[0m\u001b[0m\n\u001b[0m\u001b[1;32m     16\u001b[0m     \u001b[0mtest_err\u001b[0m \u001b[0;34m=\u001b[0m \u001b[0mtest\u001b[0m\u001b[0;34m(\u001b[0m\u001b[0mmodel\u001b[0m\u001b[0;34m,\u001b[0m \u001b[0mdevice\u001b[0m\u001b[0;34m,\u001b[0m \u001b[0mtest_loader\u001b[0m\u001b[0;34m,\u001b[0m \u001b[0mverbose\u001b[0m\u001b[0;34m=\u001b[0m\u001b[0;32mTrue\u001b[0m\u001b[0;34m)\u001b[0m\u001b[0;34m\u001b[0m\u001b[0;34m\u001b[0m\u001b[0m\n\u001b[1;32m     17\u001b[0m \u001b[0;34m\u001b[0m\u001b[0m\n",
      "\u001b[0;32m~/random_features/src/models/utils.py\u001b[0m in \u001b[0;36mtrain\u001b[0;34m(log_interval, device, model, train_loader, optimizer, epoch, loss_fn, verbose)\u001b[0m\n\u001b[1;32m      7\u001b[0m     \u001b[0;32mfor\u001b[0m \u001b[0mbatch_idx\u001b[0m\u001b[0;34m,\u001b[0m \u001b[0;34m(\u001b[0m\u001b[0mdata\u001b[0m\u001b[0;34m,\u001b[0m \u001b[0mtarget\u001b[0m\u001b[0;34m)\u001b[0m \u001b[0;32min\u001b[0m \u001b[0menumerate\u001b[0m\u001b[0;34m(\u001b[0m\u001b[0mtrain_loader\u001b[0m\u001b[0;34m)\u001b[0m\u001b[0;34m:\u001b[0m\u001b[0;34m\u001b[0m\u001b[0;34m\u001b[0m\u001b[0m\n\u001b[1;32m      8\u001b[0m         \u001b[0moptimizer\u001b[0m\u001b[0;34m.\u001b[0m\u001b[0mzero_grad\u001b[0m\u001b[0;34m(\u001b[0m\u001b[0;34m)\u001b[0m\u001b[0;34m\u001b[0m\u001b[0;34m\u001b[0m\u001b[0m\n\u001b[0;32m----> 9\u001b[0;31m         \u001b[0moutput\u001b[0m \u001b[0;34m=\u001b[0m \u001b[0mmodel\u001b[0m\u001b[0;34m(\u001b[0m\u001b[0mdata\u001b[0m\u001b[0;34m.\u001b[0m\u001b[0mto\u001b[0m\u001b[0;34m(\u001b[0m\u001b[0mdevice\u001b[0m\u001b[0;34m)\u001b[0m\u001b[0;34m)\u001b[0m\u001b[0;34m\u001b[0m\u001b[0;34m\u001b[0m\u001b[0m\n\u001b[0m\u001b[1;32m     10\u001b[0m         \u001b[0mloss\u001b[0m \u001b[0;34m=\u001b[0m \u001b[0mloss_fn\u001b[0m\u001b[0;34m(\u001b[0m\u001b[0moutput\u001b[0m\u001b[0;34m,\u001b[0m \u001b[0mtarget\u001b[0m\u001b[0;34m.\u001b[0m\u001b[0mto\u001b[0m\u001b[0;34m(\u001b[0m\u001b[0mdevice\u001b[0m\u001b[0;34m)\u001b[0m\u001b[0;34m)\u001b[0m\u001b[0;34m\u001b[0m\u001b[0;34m\u001b[0m\u001b[0m\n\u001b[1;32m     11\u001b[0m         \u001b[0mloss\u001b[0m\u001b[0;34m.\u001b[0m\u001b[0mbackward\u001b[0m\u001b[0;34m(\u001b[0m\u001b[0;34m)\u001b[0m\u001b[0;34m\u001b[0m\u001b[0;34m\u001b[0m\u001b[0m\n",
      "\u001b[0;32m~/anaconda3/envs/random_features/lib/python3.8/site-packages/torch/nn/modules/module.py\u001b[0m in \u001b[0;36m_call_impl\u001b[0;34m(self, *input, **kwargs)\u001b[0m\n\u001b[1;32m   1049\u001b[0m         if not (self._backward_hooks or self._forward_hooks or self._forward_pre_hooks or _global_backward_hooks\n\u001b[1;32m   1050\u001b[0m                 or _global_forward_hooks or _global_forward_pre_hooks):\n\u001b[0;32m-> 1051\u001b[0;31m             \u001b[0;32mreturn\u001b[0m \u001b[0mforward_call\u001b[0m\u001b[0;34m(\u001b[0m\u001b[0;34m*\u001b[0m\u001b[0minput\u001b[0m\u001b[0;34m,\u001b[0m \u001b[0;34m**\u001b[0m\u001b[0mkwargs\u001b[0m\u001b[0;34m)\u001b[0m\u001b[0;34m\u001b[0m\u001b[0;34m\u001b[0m\u001b[0m\n\u001b[0m\u001b[1;32m   1052\u001b[0m         \u001b[0;31m# Do not call functions when jit is used\u001b[0m\u001b[0;34m\u001b[0m\u001b[0;34m\u001b[0m\u001b[0;34m\u001b[0m\u001b[0m\n\u001b[1;32m   1053\u001b[0m         \u001b[0mfull_backward_hooks\u001b[0m\u001b[0;34m,\u001b[0m \u001b[0mnon_full_backward_hooks\u001b[0m \u001b[0;34m=\u001b[0m \u001b[0;34m[\u001b[0m\u001b[0;34m]\u001b[0m\u001b[0;34m,\u001b[0m \u001b[0;34m[\u001b[0m\u001b[0;34m]\u001b[0m\u001b[0;34m\u001b[0m\u001b[0;34m\u001b[0m\u001b[0m\n",
      "\u001b[0;32m~/random_features/src/models/networks.py\u001b[0m in \u001b[0;36mforward\u001b[0;34m(self, x)\u001b[0m\n\u001b[1;32m     21\u001b[0m \u001b[0;34m\u001b[0m\u001b[0m\n\u001b[1;32m     22\u001b[0m     \u001b[0;32mdef\u001b[0m \u001b[0mforward\u001b[0m\u001b[0;34m(\u001b[0m\u001b[0mself\u001b[0m\u001b[0;34m,\u001b[0m \u001b[0mx\u001b[0m\u001b[0;34m)\u001b[0m\u001b[0;34m:\u001b[0m\u001b[0;34m\u001b[0m\u001b[0;34m\u001b[0m\u001b[0m\n\u001b[0;32m---> 23\u001b[0;31m         \u001b[0mh\u001b[0m \u001b[0;34m=\u001b[0m \u001b[0mself\u001b[0m\u001b[0;34m.\u001b[0m\u001b[0mrelu\u001b[0m\u001b[0;34m(\u001b[0m\u001b[0mself\u001b[0m\u001b[0;34m.\u001b[0m\u001b[0mv1_layer\u001b[0m\u001b[0;34m(\u001b[0m\u001b[0mx\u001b[0m\u001b[0;34m)\u001b[0m\u001b[0;34m)\u001b[0m\u001b[0;34m\u001b[0m\u001b[0;34m\u001b[0m\u001b[0m\n\u001b[0m\u001b[1;32m     24\u001b[0m         \u001b[0mbeta\u001b[0m \u001b[0;34m=\u001b[0m \u001b[0mself\u001b[0m\u001b[0;34m.\u001b[0m\u001b[0mclf\u001b[0m\u001b[0;34m(\u001b[0m\u001b[0mh\u001b[0m\u001b[0;34m)\u001b[0m\u001b[0;34m\u001b[0m\u001b[0;34m\u001b[0m\u001b[0m\n\u001b[1;32m     25\u001b[0m         \u001b[0;32mreturn\u001b[0m \u001b[0mbeta\u001b[0m\u001b[0;34m.\u001b[0m\u001b[0msqueeze\u001b[0m\u001b[0;34m(\u001b[0m\u001b[0;34m)\u001b[0m\u001b[0;34m\u001b[0m\u001b[0;34m\u001b[0m\u001b[0m\n",
      "\u001b[0;32m~/anaconda3/envs/random_features/lib/python3.8/site-packages/torch/nn/modules/module.py\u001b[0m in \u001b[0;36m_call_impl\u001b[0;34m(self, *input, **kwargs)\u001b[0m\n\u001b[1;32m   1049\u001b[0m         if not (self._backward_hooks or self._forward_hooks or self._forward_pre_hooks or _global_backward_hooks\n\u001b[1;32m   1050\u001b[0m                 or _global_forward_hooks or _global_forward_pre_hooks):\n\u001b[0;32m-> 1051\u001b[0;31m             \u001b[0;32mreturn\u001b[0m \u001b[0mforward_call\u001b[0m\u001b[0;34m(\u001b[0m\u001b[0;34m*\u001b[0m\u001b[0minput\u001b[0m\u001b[0;34m,\u001b[0m \u001b[0;34m**\u001b[0m\u001b[0mkwargs\u001b[0m\u001b[0;34m)\u001b[0m\u001b[0;34m\u001b[0m\u001b[0;34m\u001b[0m\u001b[0m\n\u001b[0m\u001b[1;32m   1052\u001b[0m         \u001b[0;31m# Do not call functions when jit is used\u001b[0m\u001b[0;34m\u001b[0m\u001b[0;34m\u001b[0m\u001b[0;34m\u001b[0m\u001b[0m\n\u001b[1;32m   1053\u001b[0m         \u001b[0mfull_backward_hooks\u001b[0m\u001b[0;34m,\u001b[0m \u001b[0mnon_full_backward_hooks\u001b[0m \u001b[0;34m=\u001b[0m \u001b[0;34m[\u001b[0m\u001b[0;34m]\u001b[0m\u001b[0;34m,\u001b[0m \u001b[0;34m[\u001b[0m\u001b[0;34m]\u001b[0m\u001b[0;34m\u001b[0m\u001b[0;34m\u001b[0m\u001b[0m\n",
      "\u001b[0;32m~/anaconda3/envs/random_features/lib/python3.8/site-packages/torch/nn/modules/conv.py\u001b[0m in \u001b[0;36mforward\u001b[0;34m(self, input)\u001b[0m\n\u001b[1;32m    441\u001b[0m \u001b[0;34m\u001b[0m\u001b[0m\n\u001b[1;32m    442\u001b[0m     \u001b[0;32mdef\u001b[0m \u001b[0mforward\u001b[0m\u001b[0;34m(\u001b[0m\u001b[0mself\u001b[0m\u001b[0;34m,\u001b[0m \u001b[0minput\u001b[0m\u001b[0;34m:\u001b[0m \u001b[0mTensor\u001b[0m\u001b[0;34m)\u001b[0m \u001b[0;34m->\u001b[0m \u001b[0mTensor\u001b[0m\u001b[0;34m:\u001b[0m\u001b[0;34m\u001b[0m\u001b[0;34m\u001b[0m\u001b[0m\n\u001b[0;32m--> 443\u001b[0;31m         \u001b[0;32mreturn\u001b[0m \u001b[0mself\u001b[0m\u001b[0;34m.\u001b[0m\u001b[0m_conv_forward\u001b[0m\u001b[0;34m(\u001b[0m\u001b[0minput\u001b[0m\u001b[0;34m,\u001b[0m \u001b[0mself\u001b[0m\u001b[0;34m.\u001b[0m\u001b[0mweight\u001b[0m\u001b[0;34m,\u001b[0m \u001b[0mself\u001b[0m\u001b[0;34m.\u001b[0m\u001b[0mbias\u001b[0m\u001b[0;34m)\u001b[0m\u001b[0;34m\u001b[0m\u001b[0;34m\u001b[0m\u001b[0m\n\u001b[0m\u001b[1;32m    444\u001b[0m \u001b[0;34m\u001b[0m\u001b[0m\n\u001b[1;32m    445\u001b[0m \u001b[0;32mclass\u001b[0m \u001b[0mConv3d\u001b[0m\u001b[0;34m(\u001b[0m\u001b[0m_ConvNd\u001b[0m\u001b[0;34m)\u001b[0m\u001b[0;34m:\u001b[0m\u001b[0;34m\u001b[0m\u001b[0;34m\u001b[0m\u001b[0m\n",
      "\u001b[0;32m~/anaconda3/envs/random_features/lib/python3.8/site-packages/torch/nn/modules/conv.py\u001b[0m in \u001b[0;36m_conv_forward\u001b[0;34m(self, input, weight, bias)\u001b[0m\n\u001b[1;32m    437\u001b[0m                             \u001b[0mweight\u001b[0m\u001b[0;34m,\u001b[0m \u001b[0mbias\u001b[0m\u001b[0;34m,\u001b[0m \u001b[0mself\u001b[0m\u001b[0;34m.\u001b[0m\u001b[0mstride\u001b[0m\u001b[0;34m,\u001b[0m\u001b[0;34m\u001b[0m\u001b[0;34m\u001b[0m\u001b[0m\n\u001b[1;32m    438\u001b[0m                             _pair(0), self.dilation, self.groups)\n\u001b[0;32m--> 439\u001b[0;31m         return F.conv2d(input, weight, bias, self.stride,\n\u001b[0m\u001b[1;32m    440\u001b[0m                         self.padding, self.dilation, self.groups)\n\u001b[1;32m    441\u001b[0m \u001b[0;34m\u001b[0m\u001b[0m\n",
      "\u001b[0;31mRuntimeError\u001b[0m: CUDA out of memory. Tried to allocate 230.00 MiB (GPU 0; 11.91 GiB total capacity; 183.03 MiB already allocated; 67.69 MiB free; 202.00 MiB reserved in total by PyTorch)"
     ]
    }
   ],
   "source": [
    "# declare model\n",
    "s, f = 5.32, 1.965\n",
    "scale = 2 / 784\n",
    "model = V1_mnist_RFNet(hidden_size, s, f, center=None, scale=scale, seed=10).to(device)\n",
    "model.v1_layer.weight.requires_grad = True\n",
    "\n",
    "# declare optimizer and learning rate\n",
    "optimizer = optim.SGD(model.parameters(), lr=lr)\n",
    "scheduler = optim.lr_scheduler.StepLR(optimizer, step_size=step_size, gamma=gamma)\n",
    "\n",
    "# train and test\n",
    "V1_train_loss = np.array([])\n",
    "V1_test_error = np.zeros(num_epochs)\n",
    "for epoch in range(num_epochs):\n",
    "    loss = train(log_interval, device, model, train_loader, optimizer, epoch, loss_fn, verbose=True)\n",
    "    test_err = test(model, device, test_loader, verbose=True)\n",
    "    \n",
    "    V1_train_loss = np.append(V1_train_loss, loss)\n",
    "    V1_test_error[epoch] = test_err"
   ]
  },
  {
   "cell_type": "markdown",
   "id": "c217ed20-333b-45dc-b3e1-c66430df5ed1",
   "metadata": {},
   "source": [
    "## Classical Net"
   ]
  },
  {
   "cell_type": "code",
   "execution_count": 10,
   "id": "3fc6363f-3177-4b5f-bd9c-70c669b43475",
   "metadata": {},
   "outputs": [
    {
     "name": "stdout",
     "output_type": "stream",
     "text": [
      "Train_epoch: 0 [0/59940 (0%)]\tLoss: 2.308899\n",
      "\n",
      "Test set: Average loss: 0.814871. Accuracy: 7446/10000 (74.46%)\n",
      "\n",
      "Train_epoch: 1 [0/59940 (0%)]\tLoss: 0.414788\n",
      "\n",
      "Test set: Average loss: 0.684808. Accuracy: 7822/10000 (78.22%)\n",
      "\n",
      "Train_epoch: 2 [0/59940 (0%)]\tLoss: 0.341078\n",
      "\n",
      "Test set: Average loss: 0.604611. Accuracy: 8089/10000 (80.89%)\n",
      "\n",
      "Train_epoch: 3 [0/59940 (0%)]\tLoss: 0.279521\n",
      "\n",
      "Test set: Average loss: 0.549342. Accuracy: 8273/10000 (82.73%)\n",
      "\n",
      "Train_epoch: 4 [0/59940 (0%)]\tLoss: 0.246989\n",
      "\n",
      "Test set: Average loss: 0.510590. Accuracy: 8409/10000 (84.09%)\n",
      "\n",
      "Train_epoch: 5 [0/59940 (0%)]\tLoss: 0.217710\n",
      "\n",
      "Test set: Average loss: 0.485933. Accuracy: 8490/10000 (84.90%)\n",
      "\n",
      "Train_epoch: 6 [0/59940 (0%)]\tLoss: 0.200652\n",
      "\n",
      "Test set: Average loss: 0.464297. Accuracy: 8587/10000 (85.87%)\n",
      "\n",
      "Train_epoch: 7 [0/59940 (0%)]\tLoss: 0.173146\n",
      "\n",
      "Test set: Average loss: 0.446103. Accuracy: 8641/10000 (86.41%)\n",
      "\n",
      "Train_epoch: 8 [0/59940 (0%)]\tLoss: 0.141077\n",
      "\n",
      "Test set: Average loss: 0.426350. Accuracy: 8711/10000 (87.11%)\n",
      "\n",
      "Train_epoch: 9 [0/59940 (0%)]\tLoss: 0.153992\n",
      "\n",
      "Test set: Average loss: 0.420166. Accuracy: 8723/10000 (87.23%)\n",
      "\n",
      "Train_epoch: 10 [0/59940 (0%)]\tLoss: 0.115495\n",
      "\n",
      "Test set: Average loss: 0.404122. Accuracy: 8769/10000 (87.69%)\n",
      "\n",
      "Train_epoch: 11 [0/59940 (0%)]\tLoss: 0.115845\n",
      "\n",
      "Test set: Average loss: 0.392800. Accuracy: 8816/10000 (88.16%)\n",
      "\n",
      "Train_epoch: 12 [0/59940 (0%)]\tLoss: 0.105283\n",
      "\n",
      "Test set: Average loss: 0.390437. Accuracy: 8837/10000 (88.37%)\n",
      "\n",
      "Train_epoch: 13 [0/59940 (0%)]\tLoss: 0.108621\n",
      "\n",
      "Test set: Average loss: 0.375540. Accuracy: 8879/10000 (88.79%)\n",
      "\n",
      "Train_epoch: 14 [0/59940 (0%)]\tLoss: 0.087886\n",
      "\n",
      "Test set: Average loss: 0.372107. Accuracy: 8883/10000 (88.83%)\n",
      "\n",
      "Train_epoch: 15 [0/59940 (0%)]\tLoss: 0.099185\n",
      "\n",
      "Test set: Average loss: 0.368443. Accuracy: 8892/10000 (88.92%)\n",
      "\n",
      "Train_epoch: 16 [0/59940 (0%)]\tLoss: 0.083681\n",
      "\n",
      "Test set: Average loss: 0.360738. Accuracy: 8918/10000 (89.18%)\n",
      "\n",
      "Train_epoch: 17 [0/59940 (0%)]\tLoss: 0.068856\n",
      "\n",
      "Test set: Average loss: 0.364798. Accuracy: 8921/10000 (89.21%)\n",
      "\n",
      "Train_epoch: 18 [0/59940 (0%)]\tLoss: 0.077466\n",
      "\n",
      "Test set: Average loss: 0.352871. Accuracy: 8949/10000 (89.49%)\n",
      "\n",
      "Train_epoch: 19 [0/59940 (0%)]\tLoss: 0.070980\n",
      "\n",
      "Test set: Average loss: 0.343666. Accuracy: 8995/10000 (89.95%)\n",
      "\n",
      "Train_epoch: 20 [0/59940 (0%)]\tLoss: 0.079468\n",
      "\n",
      "Test set: Average loss: 0.344922. Accuracy: 8989/10000 (89.89%)\n",
      "\n",
      "Train_epoch: 21 [0/59940 (0%)]\tLoss: 0.069433\n",
      "\n",
      "Test set: Average loss: 0.342448. Accuracy: 8998/10000 (89.98%)\n",
      "\n",
      "Train_epoch: 22 [0/59940 (0%)]\tLoss: 0.064594\n",
      "\n",
      "Test set: Average loss: 0.338858. Accuracy: 8992/10000 (89.92%)\n",
      "\n",
      "Train_epoch: 23 [0/59940 (0%)]\tLoss: 0.060873\n",
      "\n",
      "Test set: Average loss: 0.334743. Accuracy: 9013/10000 (90.13%)\n",
      "\n",
      "Train_epoch: 24 [0/59940 (0%)]\tLoss: 0.055627\n",
      "\n",
      "Test set: Average loss: 0.333467. Accuracy: 9036/10000 (90.36%)\n",
      "\n",
      "Train_epoch: 25 [0/59940 (0%)]\tLoss: 0.051673\n",
      "\n",
      "Test set: Average loss: 0.329374. Accuracy: 9040/10000 (90.40%)\n",
      "\n",
      "Train_epoch: 26 [0/59940 (0%)]\tLoss: 0.043164\n",
      "\n",
      "Test set: Average loss: 0.330505. Accuracy: 9031/10000 (90.31%)\n",
      "\n",
      "Train_epoch: 27 [0/59940 (0%)]\tLoss: 0.043772\n",
      "\n",
      "Test set: Average loss: 0.333570. Accuracy: 9031/10000 (90.31%)\n",
      "\n",
      "Train_epoch: 28 [0/59940 (0%)]\tLoss: 0.043040\n",
      "\n",
      "Test set: Average loss: 0.326127. Accuracy: 9053/10000 (90.53%)\n",
      "\n",
      "Train_epoch: 29 [0/59940 (0%)]\tLoss: 0.038275\n",
      "\n",
      "Test set: Average loss: 0.324159. Accuracy: 9056/10000 (90.56%)\n",
      "\n"
     ]
    }
   ],
   "source": [
    "## define the model\n",
    "inp_size = (1, 28, 28)\n",
    "scale = 2 / 784\n",
    "model = classical_RFNet(inp_size, hidden_size, scale=scale).to(device)\n",
    "model.RF_layer.weight.requires_grad = True\n",
    "\n",
    "# define the optimizer\n",
    "optimizer = optim.SGD(model.parameters(), lr=lr)\n",
    "scheduler = optim.lr_scheduler.StepLR(optimizer, step_size=step_size, gamma=gamma)\n",
    "\n",
    "# train and test\n",
    "classical_train_loss = np.array([])\n",
    "classical_test_error = np.zeros(num_epochs)\n",
    "for epoch in range(num_epochs):\n",
    "    loss = train(log_interval, device, model, train_loader, optimizer, epoch, loss_fn, verbose=True)\n",
    "    test_err = test(model, device, test_loader, verbose=True)\n",
    "    \n",
    "    classical_train_loss = np.append(classical_train_loss, loss)\n",
    "    classical_test_error[epoch] = test_err"
   ]
  },
  {
   "cell_type": "code",
   "execution_count": 11,
   "id": "293b6343-5614-4572-9c05-34de608374a1",
   "metadata": {},
   "outputs": [
    {
     "data": {
      "text/plain": [
       "Text(0, 0.5, 'Test error')"
      ]
     },
     "execution_count": 11,
     "metadata": {},
     "output_type": "execute_result"
    },
    {
     "data": {
      "image/png": "[encoded data removed]",
      "text/plain": [
       "<Figure size 864x432 with 2 Axes>"
      ]
     },
     "metadata": {
      "needs_background": "light"
     },
     "output_type": "display_data"
    }
   ],
   "source": [
    "# plot the losses\n",
    "fig = plt.figure(figsize=(12, 6))\n",
    "\n",
    "num_batches = len(train_loader)\n",
    "t = np.arange(len(train_loader) * num_epochs)\n",
    "ax = fig.add_subplot(121)\n",
    "plt.semilogy(t[::num_batches], V1_train_loss[::num_batches], '-', c='#2c7fb8')\n",
    "plt.semilogy(t[::num_batches], classical_train_loss[::num_batches], '-', c='#d95f02')\n",
    "plt.xlabel('Iterations')\n",
    "plt.ylabel('Train loss')\n",
    "\n",
    "t = np.arange(num_epochs)\n",
    "ax = fig.add_subplot(122)\n",
    "plt.plot(t, 100 - V1_test_error, '-o', c='#2c7fb8')\n",
    "plt.plot(t, 100 - classical_test_error, '-o', c='#d95f02')\n",
    "plt.xlabel('Epochs')\n",
    "plt.ylabel('Test error')"
   ]
  },
  {
   "cell_type": "code",
   "execution_count": null,
   "id": "a1445be4-b9ac-42c5-a7a3-e921271ff95e",
   "metadata": {},
   "outputs": [],
   "source": []
  },
  {
   "cell_type": "code",
   "execution_count": null,
   "id": "47a59848-661c-43a4-b775-e0275a8b9a1a",
   "metadata": {},
   "outputs": [],
   "source": []
  },
  {
   "cell_type": "code",
   "execution_count": null,
   "id": "bdeeaf6d-4721-4250-8a1c-a55e1a68010f",
   "metadata": {},
   "outputs": [],
   "source": []
  }
 ],
 "metadata": {
  "kernelspec": {
   "display_name": "Python 3",
   "language": "python",
   "name": "python3"
  },
  "language_info": {
   "codemirror_mode": {
    "name": "ipython",
    "version": 3
   },
   "file_extension": ".py",
   "mimetype": "text/x-python",
   "name": "python",
   "nbconvert_exporter": "python",
   "pygments_lexer": "ipython3",
   "version": "3.8.10"
  }
 },
 "nbformat": 4,
 "nbformat_minor": 5
}
