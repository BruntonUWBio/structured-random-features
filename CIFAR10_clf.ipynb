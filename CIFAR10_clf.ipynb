{
 "cells": [
  {
   "cell_type": "code",
   "execution_count": 78,
   "metadata": {},
   "outputs": [],
   "source": [
    "import numpy as np\n",
    "import matplotlib.pyplot as plt"
   ]
  },
  {
   "cell_type": "markdown",
   "metadata": {},
   "source": [
    "### Load data"
   ]
  },
  {
   "cell_type": "code",
   "execution_count": 2,
   "metadata": {},
   "outputs": [],
   "source": [
    "def unpickle(file):\n",
    "    import pickle\n",
    "    with open(file, 'rb') as fo:\n",
    "        dict = pickle.load(fo, encoding='bytes')\n",
    "    return dict"
   ]
  },
  {
   "cell_type": "code",
   "execution_count": 3,
   "metadata": {},
   "outputs": [],
   "source": [
    "# load data\n",
    "train_data = unpickle('data/cifar-10-batches-py/data_batch_1')\n",
    "test_data = unpickle('data/cifar-10-batches-py/test_batch')\n",
    "val_data = unpickle('data/cifar-10-batches-py/data_batch_2')\n",
    "\n",
    "train, train_labels = train_data[b'data'], train_data[b'labels']\n",
    "test, test_labels = test_data[b'data'], test_data[b'labels']\n",
    "val, val_labels = val_data[b'data'], val_data[b'labels']\n",
    "\n",
    "data_meta = unpickle('data/cifar-10-batches-py/batches.meta')\n",
    "label_name = {i: data_meta[b'label_names'][i] for i in range(10)}"
   ]
  },
  {
   "cell_type": "code",
   "execution_count": 4,
   "metadata": {},
   "outputs": [
    {
     "data": {
      "text/plain": [
       "<matplotlib.image.AxesImage at 0x7f39c4717790>"
      ]
     },
     "execution_count": 4,
     "metadata": {},
     "output_type": "execute_result"
    },
    {
     "data": {
      "image/png": "[encoded data removed]",
      "text/plain": [
       "<Figure size 216x216 with 1 Axes>"
      ]
     },
     "metadata": {
      "needs_background": "light"
     },
     "output_type": "display_data"
    }
   ],
   "source": [
    "# visualize cifar-10 images\n",
    "i = np.random.randint(len(train))\n",
    "x = train[i].reshape(32, 32, 3, order='F')\n",
    "fig = plt.figure(figsize=(3, 3))\n",
    "plt.title(label_name[train_labels[i]])\n",
    "plt.imshow(x)"
   ]
  },
  {
   "cell_type": "code",
   "execution_count": 5,
   "metadata": {},
   "outputs": [
    {
     "data": {
      "text/plain": [
       "<matplotlib.image.AxesImage at 0x7f39ef975410>"
      ]
     },
     "execution_count": 5,
     "metadata": {},
     "output_type": "execute_result"
    },
    {
     "data": {
      "image/png": "[encoded data removed]",
      "text/plain": [
       "<Figure size 216x216 with 1 Axes>"
      ]
     },
     "metadata": {
      "needs_background": "light"
     },
     "output_type": "display_data"
    }
   ],
   "source": [
    "# turn into gray scale image using Luma coding\n",
    "train_gray = 0.2989 * train[:, :1024] + 0.5870 * train[:, 1024:2048] + 0.1140 * train[:, -1024:]\n",
    "test_gray = 0.2989 * test[:, :1024] + 0.5870 * test[:, 1024:2048] + 0.1140 * test[:, -1024:]\n",
    "\n",
    "# visualize\n",
    "x = train_gray[i].reshape(32, 32)\n",
    "fig = plt.figure(figsize=(3, 3))\n",
    "plt.title(label_name[train_labels[i]])\n",
    "plt.imshow(x, cmap='gray')"
   ]
  },
  {
   "cell_type": "markdown",
   "metadata": {},
   "source": [
    "### Classify"
   ]
  },
  {
   "cell_type": "code",
   "execution_count": 6,
   "metadata": {},
   "outputs": [],
   "source": [
    "from estimator import gabor_random_features, relu, RFClassifier\n",
    "\n",
    "def l_clf(classifier, params, X_train, y_train, X_test, y_test):\n",
    "    clf = classifier(**params)\n",
    "    clf.fit(X_train, y_train)\n",
    "    return 1 - clf.score(X_test, y_test)"
   ]
  },
  {
   "cell_type": "code",
   "execution_count": 7,
   "metadata": {},
   "outputs": [
    {
     "name": "stderr",
     "output_type": "stream",
     "text": [
      "/home/bpandey/anaconda3/lib/python3.7/site-packages/distributed/dashboard/core.py:72: UserWarning: \n",
      "Port 8787 is already in use. \n",
      "Perhaps you already have a cluster running?\n",
      "Hosting the diagnostics dashboard on a random port instead.\n",
      "  warnings.warn(\"\\n\" + msg)\n"
     ]
    },
    {
     "data": {
      "text/html": [
       "<table style=\"border: 2px solid white;\">\n",
       "<tr>\n",
       "<td style=\"vertical-align: top; border: 0px solid white\">\n",
       "<h3 style=\"text-align: left;\">Client</h3>\n",
       "<ul style=\"text-align: left; list-style: none; margin: 0; padding: 0;\">\n",
       "  <li><b>Scheduler: </b>tcp://127.0.0.1:35415</li>\n",
       "  <li><b>Dashboard: </b><a href='http://127.0.0.1:46117/status' target='_blank'>http://127.0.0.1:46117/status</a>\n",
       "</ul>\n",
       "</td>\n",
       "<td style=\"vertical-align: top; border: 0px solid white\">\n",
       "<h3 style=\"text-align: left;\">Cluster</h3>\n",
       "<ul style=\"text-align: left; list-style:none; margin: 0; padding: 0;\">\n",
       "  <li><b>Workers: </b>10</li>\n",
       "  <li><b>Cores: </b>70</li>\n",
       "  <li><b>Memory: </b>135.06 GB</li>\n",
       "</ul>\n",
       "</td>\n",
       "</tr>\n",
       "</table>"
      ],
      "text/plain": [
       "<Client: 'tcp://127.0.0.1:35415' processes=10 threads=70, memory=135.06 GB>"
      ]
     },
     "execution_count": 7,
     "metadata": {},
     "output_type": "execute_result"
    }
   ],
   "source": [
    "import dask\n",
    "from dask.distributed import Client\n",
    "client = Client(threads_per_worker=7, n_workers=10)\n",
    "client"
   ]
  },
  {
   "cell_type": "code",
   "execution_count": 62,
   "metadata": {},
   "outputs": [],
   "source": [
    "X_train, y_train = train_gray.copy(), np.array(train_labels.copy())\n",
    "X_test, y_test = test_gray.copy(), np.array(test_labels.copy())\n",
    "N = X_train.shape[1]\n",
    "n = int(np.sqrt(N))\n",
    "\n",
    "idx = np.logical_or(y_train == 3, y_train == 5)\n",
    "X_train, y_train = X_train[idx], y_train[idx]\n",
    "\n",
    "idx = np.logical_or(y_test == 3, y_test == 5)\n",
    "X_test, y_test = X_test[idx], y_test[idx]"
   ]
  },
  {
   "cell_type": "code",
   "execution_count": 54,
   "metadata": {},
   "outputs": [
    {
     "name": "stdout",
     "output_type": "stream",
     "text": [
      "[1, 2, 3, 4, 5, 6, 7, 8, 9, 10, 12, 14, 16, 19, 22, 25, 29, 33, 39, 44, 51, 59, 68, 79, 91, 104, 120, 138, 159, 184, 212, 244, 281, 323, 372, 429, 494, 568, 655, 754, 868, 1000]\n"
     ]
    }
   ],
   "source": [
    "n_features = sorted(set(np.logspace(0, 3, 50).astype('int')))\n",
    "print(n_features)\n",
    "\n",
    "t = 5 # scale of bump\n",
    "l = 3 # scale of wiggles\n",
    "\n",
    "# weight function\n",
    "f_gabor = lambda M, N: gabor_random_features(M, N, t, l).T\n",
    "weights = [('gabor', f_gabor), ('white noise', None)]\n",
    "\n",
    "# non-linearities\n",
    "h = relu"
   ]
  },
  {
   "cell_type": "code",
   "execution_count": 44,
   "metadata": {},
   "outputs": [
    {
     "data": {
      "text/plain": [
       "<matplotlib.image.AxesImage at 0x7f38da97a250>"
      ]
     },
     "execution_count": 44,
     "metadata": {},
     "output_type": "execute_result"
    },
    {
     "data": {
      "image/png": "[encoded data removed]",
      "text/plain": [
       "<Figure size 432x288 with 2 Axes>"
      ]
     },
     "metadata": {
      "needs_background": "light"
     },
     "output_type": "display_data"
    }
   ],
   "source": [
    "fig = plt.figure()\n",
    "ax = fig.add_subplot(121)\n",
    "plt.imshow(X_train[0].reshape(32, 32), cmap='gray')\n",
    "\n",
    "ax = fig.add_subplot(122)\n",
    "W = gabor_random_features(3, N, 5, 3)\n",
    "plt.imshow(W[0].reshape(32, 32), cmap='bwr')"
   ]
  },
  {
   "cell_type": "code",
   "execution_count": 55,
   "metadata": {},
   "outputs": [],
   "source": [
    "# %%time \n",
    "# results = {wt:[] for (wt, func) in weights}\n",
    "# for (wt, func) in weights:\n",
    "#     for n in n_features:\n",
    "#         params = {'width': n, 'weights': wt, 'weight_fun': func, 'nonlinearity': h}\n",
    "#         lazy_results = [dask.delayed(l_clf)(RFClassifier, params, X_train, y_train, X_test, \n",
    "#                                             y_test) for _ in range(5)]\n",
    "#         results[wt].append(np.real(dask.compute(*lazy_results)))\n",
    "#         print(wt, n)\n",
    "# import pickle\n",
    "# with open('figures/cifar_10_clf/cifar_10_clf_t=%0.2f_l=%0.2f.pickle'% (t, l), 'wb') as handle:\n",
    "#     pickle.dump(results, handle, protocol=pickle.HIGHEST_PROTOCOL)"
   ]
  },
  {
   "cell_type": "code",
   "execution_count": 75,
   "metadata": {},
   "outputs": [],
   "source": [
    "n_features = sorted(set(np.logspace(0, 3, 50).astype('int')))\n",
    "t = 5\n",
    "l = 3\n",
    "with open('figures/cifar_10_clf/cifar_10_clf_t=%0.2f_l=%0.2f.pickle' % (t, l), 'rb') as handle:\n",
    "    results = pickle.load(handle)\n",
    "\n",
    "# compute mean\n",
    "mean_err_gabor, std_err_gabor = np.mean(results['gabor'], \n",
    "                                                    axis=1), np.std(results['gabor'], axis=1)\n",
    "mean_err_wn, std_err_wn = np.mean(results['white noise'], \n",
    "                                              axis=1), np.std(results['white noise'], axis=1)"
   ]
  },
  {
   "cell_type": "code",
   "execution_count": 76,
   "metadata": {},
   "outputs": [
    {
     "data": {
      "text/plain": [
       "<matplotlib.legend.Legend at 0x7f38f7ad6b10>"
      ]
     },
     "execution_count": 76,
     "metadata": {},
     "output_type": "execute_result"
    },
    {
     "data": {
      "image/png": "[encoded data removed]",
      "text/plain": [
       "<Figure size 576x432 with 1 Axes>"
      ]
     },
     "metadata": {
      "needs_background": "light"
     },
     "output_type": "display_data"
    }
   ],
   "source": [
    "fig = plt.figure(figsize=(8, 6))\n",
    "ax = fig.add_subplot(111)\n",
    "ax.errorbar(n_features, mean_err_gabor, yerr=std_err_gabor, fmt='-', label='V1-inspired',  markersize=4, lw=3)\n",
    "ax.errorbar(n_features, mean_err_wn, yerr=std_err_wn, fmt='-', label='classical',  \n",
    "            markersize=4, lw=3)\n",
    "# ax.set_yscale('log')\n",
    "# plt.xlim([0, 200])\n",
    "ax.set_title('Cifar_10 t=%0.2f l=%0.2f' % (t, l))\n",
    "plt.xlabel('Hidden Layer width', fontsize=16)\n",
    "plt.ylabel('Classification error', fontsize=16)\n",
    "ax.tick_params(axis = 'both', which = 'major', labelsize = 12, width=2, length=5)\n",
    "ax.tick_params(axis = 'both', which = 'minor', labelsize = 0, width=0)\n",
    "plt.legend(loc = 'upper right', fontsize=16)\n",
    "# plt.savefig('figures/cifar_10_clf/clf_t=%0.2f_l=%0.2f.png'% (t, l))"
   ]
  },
  {
   "cell_type": "code",
   "execution_count": 77,
   "metadata": {},
   "outputs": [
    {
     "data": {
      "text/plain": [
       "<matplotlib.image.AxesImage at 0x7f38f632e510>"
      ]
     },
     "execution_count": 77,
     "metadata": {},
     "output_type": "execute_result"
    },
    {
     "data": {
      "image/png": "[encoded data removed]",
      "text/plain": [
       "<Figure size 432x288 with 2 Axes>"
      ]
     },
     "metadata": {
      "needs_background": "light"
     },
     "output_type": "display_data"
    }
   ],
   "source": [
    "W = gabor_random_features(20, N, t, l)\n",
    "fig = plt.figure()\n",
    "ax = fig.add_subplot(121)\n",
    "plt.imshow(X_train[3].reshape(n, n), cmap='gray')\n",
    "\n",
    "ax = fig.add_subplot(122)\n",
    "plt.imshow(W[0].reshape(n, n), cmap='bwr')"
   ]
  },
  {
   "cell_type": "code",
   "execution_count": 16,
   "metadata": {},
   "outputs": [
    {
     "data": {
      "text/plain": [
       "{0: b'airplane',\n",
       " 1: b'automobile',\n",
       " 2: b'bird',\n",
       " 3: b'cat',\n",
       " 4: b'deer',\n",
       " 5: b'dog',\n",
       " 6: b'frog',\n",
       " 7: b'horse',\n",
       " 8: b'ship',\n",
       " 9: b'truck'}"
      ]
     },
     "execution_count": 16,
     "metadata": {},
     "output_type": "execute_result"
    }
   ],
   "source": [
    "label_name"
   ]
  },
  {
   "cell_type": "code",
   "execution_count": null,
   "metadata": {},
   "outputs": [],
   "source": []
  }
 ],
 "metadata": {
  "kernelspec": {
   "display_name": "Python 3",
   "language": "python",
   "name": "python3"
  },
  "language_info": {
   "codemirror_mode": {
    "name": "ipython",
    "version": 3
   },
   "file_extension": ".py",
   "mimetype": "text/x-python",
   "name": "python",
   "nbconvert_exporter": "python",
   "pygments_lexer": "ipython3",
   "version": "3.7.4"
  }
 },
 "nbformat": 4,
 "nbformat_minor": 2
}
