{
 "cells": [
  {
   "cell_type": "code",
   "execution_count": 21,
   "metadata": {},
   "outputs": [],
   "source": [
    "import numpy as np\n",
    "import matplotlib.pyplot as plt"
   ]
  },
  {
   "cell_type": "code",
   "execution_count": 5,
   "metadata": {},
   "outputs": [],
   "source": [
    "def unpickle(file):\n",
    "    import pickle\n",
    "    with open(file, 'rb') as fo:\n",
    "        dict = pickle.load(fo, encoding='bytes')\n",
    "    return dict"
   ]
  },
  {
   "cell_type": "code",
   "execution_count": 67,
   "metadata": {},
   "outputs": [
    {
     "data": {
      "text/plain": [
       "dict_keys([0, 1, 2, 3, 4, 5, 6, 7, 8, 9])"
      ]
     },
     "execution_count": 67,
     "metadata": {},
     "output_type": "execute_result"
    }
   ],
   "source": [
    "# load data\n",
    "train_data = unpickle('data/cifar-10-batches-py/data_batch_1')\n",
    "test_data = unpickle('data/cifar-10-batches-py/test_batch')\n",
    "train, train_labels = train_data[b'data'], train_data[b'labels']\n",
    "test, test_labels = test_data[b'data'], test_data[b'labels']\n",
    "data_meta = unpickle('data/cifar-10-batches-py/batches.meta')\n",
    "label_name = {i: data_meta[b'label_names'][i] for i in range(10)}"
   ]
  },
  {
   "cell_type": "code",
   "execution_count": 101,
   "metadata": {},
   "outputs": [
    {
     "data": {
      "text/plain": [
       "<matplotlib.image.AxesImage at 0x7f51b02c0e10>"
      ]
     },
     "execution_count": 101,
     "metadata": {},
     "output_type": "execute_result"
    },
    {
     "data": {
      "image/png": "[encoded data removed]",
      "text/plain": [
       "<Figure size 216x216 with 1 Axes>"
      ]
     },
     "metadata": {
      "needs_background": "light"
     },
     "output_type": "display_data"
    }
   ],
   "source": [
    "# visualize cifar-10 images\n",
    "i = np.random.randint(len(train))\n",
    "x = train[i].reshape(32, 32, 3, order='F')\n",
    "fig = plt.figure(figsize=(3, 3))\n",
    "plt.title(label_name[train_labels[i]])\n",
    "plt.imshow(x)"
   ]
  },
  {
   "cell_type": "code",
   "execution_count": 102,
   "metadata": {},
   "outputs": [
    {
     "data": {
      "text/plain": [
       "<matplotlib.image.AxesImage at 0x7f51b027ff90>"
      ]
     },
     "execution_count": 102,
     "metadata": {},
     "output_type": "execute_result"
    },
    {
     "data": {
      "image/png": "[encoded data removed]",
      "text/plain": [
       "<Figure size 216x216 with 1 Axes>"
      ]
     },
     "metadata": {
      "needs_background": "light"
     },
     "output_type": "display_data"
    }
   ],
   "source": [
    "# turn into gray scale image using Luma coding\n",
    "train_gray = 0.2989 * train[:, :1024] + 0.5870 * train[:, 1024:2048] + 0.1140 * train[:, -1024:]\n",
    "\n",
    "# visualize cifar-10 images\n",
    "x = train_gray[i].reshape(32, 32)\n",
    "fig = plt.figure(figsize=(3, 3))\n",
    "plt.title(label_name[train_labels[i]])\n",
    "plt.imshow(x)"
   ]
  },
  {
   "cell_type": "code",
   "execution_count": 103,
   "metadata": {},
   "outputs": [],
   "source": [
    "def gabor_kernel_matrix(N, t, l, m):\n",
    "    x = np.arange(np.sqrt(N))\n",
    "    yy, xx = np.meshgrid(x, x)\n",
    "    grid = np.column_stack((xx.flatten(), yy.flatten()))\n",
    "    \n",
    "    a = squareform(pdist(grid, 'sqeuclidean'))\n",
    "    b = la.norm(grid - m, axis=1) ** 2\n",
    "    c = b.reshape(-1, 1)\n",
    "    K = 10 * np.exp(-a / (2 * l ** 2)) * np.exp(-b / (2 * t ** 2)) * np.exp(-c / (2 * t ** 2))\n",
    "    K += 1e-5 * np.eye(N)\n",
    "    return K\n",
    "\n",
    "def gabor_random_features_for_center(M, N, t, l, m):\n",
    "    K = gabor_kernel_matrix(N, t, l, m)\n",
    "    L = np.linalg.cholesky(K)\n",
    "    w = np.dot(L, np.random.randn(N, M))\n",
    "    return w\n",
    "\n",
    "def gabor_random_features(M, N, t, l, n_centers=80):\n",
    "    centers = np.random.randint(int(np.sqrt(N)), size=(n_centers, 2))\n",
    "\n",
    "    W = np.empty(shape=(0, N))\n",
    "    for m in centers:\n",
    "        w = gabor_random_features_for_center(M, N, t, l, m)\n",
    "        W = np.row_stack((W, w.T))\n",
    "    return W"
   ]
  },
  {
   "cell_type": "markdown",
   "metadata": {},
   "source": []
  },
  {
   "cell_type": "code",
   "execution_count": null,
   "metadata": {},
   "outputs": [],
   "source": [
    "from sklearn.model_selection import train_test_split"
   ]
  }
 ],
 "metadata": {
  "kernelspec": {
   "display_name": "Python 3",
   "language": "python",
   "name": "python3"
  },
  "language_info": {
   "codemirror_mode": {
    "name": "ipython",
    "version": 3
   },
   "file_extension": ".py",
   "mimetype": "text/x-python",
   "name": "python",
   "nbconvert_exporter": "python",
   "pygments_lexer": "ipython3",
   "version": "3.7.4"
  }
 },
 "nbformat": 4,
 "nbformat_minor": 2
}
