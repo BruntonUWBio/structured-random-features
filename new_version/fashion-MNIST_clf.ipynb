{
 "cells": [
  {
   "cell_type": "code",
   "execution_count": 2,
   "metadata": {},
   "outputs": [],
   "source": [
    "from data_fns import load_fashion_mnist\n",
    "from estimator import RFClassifier, classical_weights, V1_inspired_weights, relu, parallelized_clf\n",
    "from sklearn.linear_model import SGDClassifier\n",
    "from sklearn.svm import LinearSVC\n",
    "from sklearn.model_selection import train_test_split\n",
    "import matplotlib.pyplot as plt\n",
    "import numpy as np\n",
    "import numpy.linalg as la\n",
    "import pickle"
   ]
  },
  {
   "cell_type": "code",
   "execution_count": 3,
   "metadata": {},
   "outputs": [
    {
     "data": {
      "text/html": [
       "<table style=\"border: 2px solid white;\">\n",
       "<tr>\n",
       "<td style=\"vertical-align: top; border: 0px solid white\">\n",
       "<h3 style=\"text-align: left;\">Client</h3>\n",
       "<ul style=\"text-align: left; list-style: none; margin: 0; padding: 0;\">\n",
       "  <li><b>Scheduler: </b>tcp://127.0.0.1:44857</li>\n",
       "  <li><b>Dashboard: </b><a href='http://127.0.0.1:8787/status' target='_blank'>http://127.0.0.1:8787/status</a></li>\n",
       "</ul>\n",
       "</td>\n",
       "<td style=\"vertical-align: top; border: 0px solid white\">\n",
       "<h3 style=\"text-align: left;\">Cluster</h3>\n",
       "<ul style=\"text-align: left; list-style:none; margin: 0; padding: 0;\">\n",
       "  <li><b>Workers: </b>6</li>\n",
       "  <li><b>Cores: </b>36</li>\n",
       "  <li><b>Memory: </b>67.32 GB</li>\n",
       "</ul>\n",
       "</td>\n",
       "</tr>\n",
       "</table>"
      ],
      "text/plain": [
       "<Client: 'tcp://127.0.0.1:44857' processes=6 threads=36, memory=67.32 GB>"
      ]
     },
     "execution_count": 3,
     "metadata": {},
     "output_type": "execute_result"
    }
   ],
   "source": [
    "import dask\n",
    "from dask.distributed import Client\n",
    "client = Client(threads_per_worker=6, n_workers=6)\n",
    "client"
   ]
  },
  {
   "cell_type": "code",
   "execution_count": null,
   "metadata": {},
   "outputs": [],
   "source": [
    "# load data\n",
    "X_train, y_train, X_test, y_test = load_fashion_mnist('data/fashion_mnist/')"
   ]
  },
  {
   "cell_type": "code",
   "execution_count": null,
   "metadata": {},
   "outputs": [],
   "source": [
    "n_features = sorted(set(np.logspace(0, 3.2, 50).astype('int')))\n",
    "# n_features = [50, 100, 500, 1000]\n",
    "\n",
    "# weight params\n",
    "t, l = 5, 2\n",
    "kwargs = {'t': t, 'l': l}\n",
    "weights_V1 = {'weight_fun': V1_inspired_weights, 'kwargs': kwargs}\n",
    "weights_classical = {'weight_fun': classical_weights}\n",
    "\n",
    "# params for classification\n",
    "# sgd = SGDClassifier(loss=\"squared_hinge\", alpha=1, max_iter=200, tol=1e-4, shuffle=True, n_jobs=5,\n",
    "#                     learning_rate=\"optimal\", early_stopping=True, validation_fraction=0.1, n_iter_no_change=20)\n",
    "svc = LinearSVC(random_state=None, tol=1e-4, max_iter=500)\n",
    "b = np.mean(la.norm(X_train)/ np.sqrt(X_train.shape[0]))"
   ]
  },
  {
   "cell_type": "code",
   "execution_count": null,
   "metadata": {
    "scrolled": true
   },
   "outputs": [],
   "source": [
    "%%time\n",
    "results = {}\n",
    "m = np.zeros_like(n_features, dtype='float')\n",
    "results['classical'] = {'avg_test_err': m.copy(), 'std_test_err': m.copy()}\n",
    "results['V1'] = {'avg_test_err': m.copy(), 'std_test_err': m.copy()}\n",
    "for i, n in enumerate(n_features):\n",
    "\n",
    "    # classical random features\n",
    "    params_classical = {'width': n, **weights_classical, 'bias': b, 'nonlinearity': relu, 'clf': svc}\n",
    "    _, _, results['classical']['avg_test_err'][i], results['classical']['std_test_err'][i]= parallelized_clf(RFClassifier, \n",
    "                                                                                                    params_classical, \n",
    "                                                                                                    X_train, y_train, \n",
    "                                                                                                    X_test, y_test, \n",
    "                                                                                                    n_iters=10, return_clf=False)\n",
    "    \n",
    "    # haltere inspired\n",
    "    params_V1 = {'width': n, **weights_V1, 'bias': b, 'nonlinearity': relu, 'clf': svc} \n",
    "    _, _, results['V1']['avg_test_err'][i], results['V1']['std_test_err'][i] = parallelized_clf(RFClassifier, \n",
    "                                                                                                params_V1, \n",
    "                                                                                                X_train, y_train, \n",
    "                                                                                                X_test, y_test, \n",
    "                                                                                                n_iters=10, return_clf=False)\n",
    "\n",
    "    print('Iter: %d/%d, V1 test err=%0.2f, RF test err= %0.2f' % (n, n_features[-1],  \n",
    "                                                                       results['V1']['avg_test_err'][i],\n",
    "                                                                      results['classical']['avg_test_err'][i]))\n",
    "    \n",
    "with open('results/fashion_mnist_clf/fashion_mnist_clf_t=%0.2f_l=%0.2f.pickle' % (t, l), 'wb') as handle:\n",
    "    pickle.dump(results, handle, protocol=pickle.HIGHEST_PROTOCOL)\n",
    "    "
   ]
  },
  {
   "cell_type": "code",
   "execution_count": null,
   "metadata": {},
   "outputs": [],
   "source": [
    "fig = plt.figure(figsize=(10.6, 8))\n",
    "ax = fig.add_subplot(111)\n",
    "ax.errorbar(n_features, results['V1']['avg_test_err'], yerr=results['V1']['std_test_err'], fmt='-', \n",
    "            label='V1-inspired',  markersize=4, lw=5, elinewidth=3)\n",
    "ax.errorbar(n_features, results['classical']['avg_test_err'], yerr=results['classical']['std_test_err'], \n",
    "            fmt='-', label='classical', markersize=4, lw=5, elinewidth=3)\n",
    "plt.xlabel('Hidden layer width', fontsize=40)\n",
    "plt.ylabel('Classification error', fontsize=40)\n",
    "# plt.xticks(np.arange(0, 1020, 200))\n",
    "plt.xlim([0, 1020])\n",
    "plt.yticks(np.arange(0, 0.8, 0.1))\n",
    "plt.ylim([-0.05, 0.55])\n",
    "plt.xticks(np.arange(0, 1020, 200))\n",
    "ax.tick_params(axis = 'both', which = 'major', labelsize = 30, width=2, length=6)\n",
    "\n",
    "plt.legend(loc = 'upper right', fontsize=30)\n",
    "# plt.savefig('results/fashion_mnist_clf/fashion_mnist_clf_t=%0.2f_l=%0.2f.pdf' % (t, l))"
   ]
  },
  {
   "cell_type": "markdown",
   "metadata": {},
   "source": [
    "### Few shot learning"
   ]
  },
  {
   "cell_type": "code",
   "execution_count": 4,
   "metadata": {},
   "outputs": [],
   "source": [
    "train, train_labels, test, test_labels = load_fashion_mnist('data/fashion_mnist/')\n",
    "num_train = 50\n",
    "X_train, _, y_train, _ = train_test_split(train, train_labels, train_size=num_train, stratify=train_labels, \n",
    "                                          random_state=42)\n",
    "X_test, y_test = test.copy(), test_labels.copy()"
   ]
  },
  {
   "cell_type": "code",
   "execution_count": 5,
   "metadata": {},
   "outputs": [],
   "source": [
    "n_features = sorted(set(np.logspace(0, 3.2, 50).astype('int')))\n",
    "\n",
    "# weight params\n",
    "t, l = 5, 2\n",
    "kwargs = {'t': t, 'l': l}\n",
    "weights_V1 = {'weight_fun': V1_inspired_weights, 'kwargs': kwargs}\n",
    "weights_classical = {'weight_fun': classical_weights}\n",
    "\n",
    "# params for classification\n",
    "# sgd = SGDClassifier(loss=\"squared_hinge\", alpha=1, max_iter=200, tol=1e-4, shuffle=True, n_jobs=5,\n",
    "#                     learning_rate=\"optimal\", early_stopping=True, validation_fraction=0.1, n_iter_no_change=20)\n",
    "svc = LinearSVC(random_state=20, tol=1e-4, max_iter=500)\n",
    "b = np.mean(la.norm(X_train)/ np.sqrt(X_train.shape[0]))"
   ]
  },
  {
   "cell_type": "code",
   "execution_count": 6,
   "metadata": {},
   "outputs": [
    {
     "name": "stdout",
     "output_type": "stream",
     "text": [
      "Iter: 1/1584, V1 test err=0.87, RF test err= 0.86\n",
      "Iter: 2/1584, V1 test err=0.81, RF test err= 0.85\n",
      "Iter: 3/1584, V1 test err=0.80, RF test err= 0.80\n",
      "Iter: 4/1584, V1 test err=0.79, RF test err= 0.82\n",
      "Iter: 5/1584, V1 test err=0.78, RF test err= 0.78\n",
      "Iter: 6/1584, V1 test err=0.72, RF test err= 0.76\n",
      "Iter: 7/1584, V1 test err=0.73, RF test err= 0.72\n",
      "Iter: 8/1584, V1 test err=0.67, RF test err= 0.75\n",
      "Iter: 9/1584, V1 test err=0.67, RF test err= 0.69\n",
      "Iter: 11/1584, V1 test err=0.64, RF test err= 0.65\n",
      "Iter: 12/1584, V1 test err=0.60, RF test err= 0.66\n",
      "Iter: 14/1584, V1 test err=0.60, RF test err= 0.63\n",
      "Iter: 17/1584, V1 test err=0.58, RF test err= 0.61\n",
      "Iter: 20/1584, V1 test err=0.55, RF test err= 0.60\n",
      "Iter: 23/1584, V1 test err=0.54, RF test err= 0.57\n",
      "Iter: 27/1584, V1 test err=0.54, RF test err= 0.56\n",
      "Iter: 31/1584, V1 test err=0.51, RF test err= 0.52\n",
      "Iter: 36/1584, V1 test err=0.50, RF test err= 0.49\n",
      "Iter: 42/1584, V1 test err=0.48, RF test err= 0.48\n",
      "Iter: 49/1584, V1 test err=0.47, RF test err= 0.46\n",
      "Iter: 57/1584, V1 test err=0.45, RF test err= 0.46\n",
      "Iter: 67/1584, V1 test err=0.44, RF test err= 0.43\n",
      "Iter: 78/1584, V1 test err=0.45, RF test err= 0.43\n",
      "Iter: 91/1584, V1 test err=0.43, RF test err= 0.42\n",
      "Iter: 105/1584, V1 test err=0.44, RF test err= 0.42\n",
      "Iter: 122/1584, V1 test err=0.42, RF test err= 0.40\n",
      "Iter: 142/1584, V1 test err=0.43, RF test err= 0.39\n",
      "Iter: 166/1584, V1 test err=0.42, RF test err= 0.39\n",
      "Iter: 193/1584, V1 test err=0.42, RF test err= 0.38\n",
      "Iter: 224/1584, V1 test err=0.41, RF test err= 0.38\n",
      "Iter: 260/1584, V1 test err=0.41, RF test err= 0.37\n",
      "Iter: 303/1584, V1 test err=0.41, RF test err= 0.37\n",
      "Iter: 352/1584, V1 test err=0.41, RF test err= 0.37\n",
      "Iter: 409/1584, V1 test err=0.41, RF test err= 0.37\n",
      "Iter: 475/1584, V1 test err=0.41, RF test err= 0.37\n",
      "Iter: 553/1584, V1 test err=0.41, RF test err= 0.36\n",
      "Iter: 642/1584, V1 test err=0.40, RF test err= 0.36\n",
      "Iter: 747/1584, V1 test err=0.40, RF test err= 0.36\n",
      "Iter: 868/1584, V1 test err=0.40, RF test err= 0.36\n",
      "Iter: 1009/1584, V1 test err=0.40, RF test err= 0.36\n",
      "Iter: 1173/1584, V1 test err=0.40, RF test err= 0.36\n",
      "Iter: 1363/1584, V1 test err=0.40, RF test err= 0.36\n",
      "Iter: 1584/1584, V1 test err=0.40, RF test err= 0.36\n",
      "CPU times: user 4min 8s, sys: 1min 38s, total: 5min 47s\n",
      "Wall time: 1h 25min 54s\n"
     ]
    }
   ],
   "source": [
    "%%time\n",
    "results = {}\n",
    "m = np.zeros_like(n_features, dtype='float')\n",
    "results['classical'] = {'avg_test_err': m.copy(), 'std_test_err': m.copy()}\n",
    "results['V1'] = {'avg_test_err': m.copy(), 'std_test_err': m.copy()}\n",
    "for i, n in enumerate(n_features):\n",
    "\n",
    "    # classical random features\n",
    "    params_classical = {'width': n, **weights_classical, 'bias': b, 'nonlinearity': relu, 'clf': svc}\n",
    "    _, _, results['classical']['avg_test_err'][i], results['classical']['std_test_err'][i] = parallelized_clf(RFClassifier, \n",
    "                                                                                                    params_classical, \n",
    "                                                                                                    X_train, y_train, \n",
    "                                                                                                    X_test, y_test, \n",
    "                                                                                                    n_iters=10)\n",
    "    \n",
    "    # haltere inspired\n",
    "    params_V1 = {'width': n, **weights_V1, 'bias': b, 'nonlinearity': relu, 'clf': svc} \n",
    "    _, _, results['V1']['avg_test_err'][i], results['V1']['std_test_err'][i] = parallelized_clf(RFClassifier, \n",
    "                                                                                                params_V1, \n",
    "                                                                                                X_train, y_train, \n",
    "                                                                                                X_test, y_test, \n",
    "                                                                                                n_iters=10)\n",
    "\n",
    "    print('Iter: %d/%d, V1 test err=%0.2f, RF test err= %0.2f' % (n, n_features[-1],  \n",
    "                                                                       results['V1']['avg_test_err'][i],\n",
    "                                                                      results['classical']['avg_test_err'][i]))\n",
    "    \n",
    "with open('results/fashion_mnist_clf/fashion_mnist_clf_t=%0.2f_l=%0.3f_few_shot.pickle' % (t, l), 'wb') as handle:\n",
    "    pickle.dump(results, handle, protocol=pickle.HIGHEST_PROTOCOL)\n",
    "    "
   ]
  },
  {
   "cell_type": "code",
   "execution_count": 7,
   "metadata": {},
   "outputs": [
    {
     "data": {
      "text/plain": [
       "<matplotlib.legend.Legend at 0x7f88906e9c10>"
      ]
     },
     "execution_count": 7,
     "metadata": {},
     "output_type": "execute_result"
    },
    {
     "data": {
      "image/png": "[encoded data removed]",
      "text/plain": [
       "<Figure size 763.2x576 with 1 Axes>"
      ]
     },
     "metadata": {
      "needs_background": "light"
     },
     "output_type": "display_data"
    }
   ],
   "source": [
    "fig = plt.figure(figsize=(10.6, 8))\n",
    "ax = fig.add_subplot(111)\n",
    "ax.errorbar(n_features, results['V1']['avg_test_err'], yerr=results['V1']['std_test_err'], fmt='-', \n",
    "            label='V1-inspired',  markersize=4, lw=5, elinewidth=3)\n",
    "ax.errorbar(n_features, results['classical']['avg_test_err'], yerr=results['classical']['std_test_err'], \n",
    "            fmt='-', label='classical', markersize=4, lw=5, elinewidth=3)\n",
    "plt.xlabel('Hidden layer width', fontsize=40)\n",
    "plt.ylabel('Classification error', fontsize=40)\n",
    "# plt.xticks(np.arange(0, 1020, 200))\n",
    "plt.xlim([0, 1020])\n",
    "plt.yticks(np.arange(0, 0.8, 0.1))\n",
    "plt.ylim([-0.05, 0.55])\n",
    "plt.xticks(np.arange(0, 1020, 200))\n",
    "ax.tick_params(axis = 'both', which = 'major', labelsize = 30, width=2, length=6)\n",
    "\n",
    "plt.legend(loc = 'upper right', fontsize=30)"
   ]
  },
  {
   "cell_type": "code",
   "execution_count": null,
   "metadata": {},
   "outputs": [],
   "source": []
  }
 ],
 "metadata": {
  "kernelspec": {
   "display_name": "Python 3",
   "language": "python",
   "name": "python3"
  },
  "language_info": {
   "codemirror_mode": {
    "name": "ipython",
    "version": 3
   },
   "file_extension": ".py",
   "mimetype": "text/x-python",
   "name": "python",
   "nbconvert_exporter": "python",
   "pygments_lexer": "ipython3",
   "version": "3.8.3"
  }
 },
 "nbformat": 4,
 "nbformat_minor": 4
}
