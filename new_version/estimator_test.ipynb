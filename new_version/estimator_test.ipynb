{
 "cells": [
  {
   "cell_type": "markdown",
   "metadata": {},
   "source": [
    "# Tests and implementation for the RFClassifier class."
   ]
  },
  {
   "cell_type": "code",
   "execution_count": null,
   "metadata": {},
   "outputs": [],
   "source": [
    "import numpy as np\n",
    "import matplotlib.pyplot as plt\n",
    "import numpy.linalg as la\n",
    "from estimator import RFClassifier, classical_weights, V1_inspired_weights, haltere_inspired_weights"
   ]
  },
  {
   "cell_type": "markdown",
   "metadata": {},
   "source": [
    "## Implementation for V1 weights"
   ]
  },
  {
   "cell_type": "code",
   "execution_count": null,
   "metadata": {
    "tags": []
   },
   "outputs": [],
   "source": [
    "from sklearn.datasets import load_digits\n",
    "from sklearn.model_selection import train_test_split\n",
    "data, labels = load_digits(return_X_y=True)\n",
    "X_train, X_test, y_train, y_test = train_test_split(data, labels, test_size=0.2)\n",
    "\n",
    "b = np.mean(la.norm(X_train, axis=1) ** 2 / X_train.shape[1])"
   ]
  },
  {
   "cell_type": "code",
   "execution_count": null,
   "metadata": {
    "tags": []
   },
   "outputs": [],
   "source": [
    "# select the linear classifier\n",
    "from sklearn.linear_model import LogisticRegression\n",
    "logit = LogisticRegression(solver='saga')\n",
    "\n",
    "# non-linearity\n",
    "relu = lambda x: np.maximum(0, x)\n",
    "\n",
    "# classify using classical weights\n",
    "params_classical = {'weight_fun': classical_weights, 'bias': b, 'nonlinearity': relu, 'clf': logit}\n",
    "clf = RFClassifier(width=40, **params_classical)\n",
    "clf.fit(X_train, y_train)\n",
    "print(clf.score(X_test, y_test))\n",
    "\n",
    "# classify using V1 weights\n",
    "kwargs = {'t': 5, 'l': 3}\n",
    "params_neural = {'weight_fun': V1_inspired_weights, 'kwargs': kwargs, 'bias': b, 'nonlinearity':relu, 'clf': logit}\n",
    "clf = RFClassifier(width=40, **params_neural)\n",
    "clf.fit(X_train, y_train)\n",
    "print(clf.score(X_test, y_test))"
   ]
  },
  {
   "cell_type": "markdown",
   "metadata": {},
   "source": [
    "## Implementation for haltere weights"
   ]
  },
  {
   "cell_type": "code",
   "execution_count": null,
   "metadata": {
    "tags": []
   },
   "outputs": [],
   "source": [
    "from sklearn.datasets import load_breast_cancer\n",
    "from sklearn.model_selection import train_test_split\n",
    "data, labels = load_breast_cancer(return_X_y=True)\n",
    "\n",
    "X_train, X_test, y_train, y_test = train_test_split(data, labels, test_size=0.2)\n",
    "b = np.mean(la.norm(X_train, axis=1) ** 2 / X_train.shape[1])"
   ]
  },
  {
   "cell_type": "code",
   "execution_count": null,
   "metadata": {
    "tags": []
   },
   "outputs": [],
   "source": [
    "# linear classifier\n",
    "logit = LogisticRegression(solver='saga')\n",
    "\n",
    "# non-linearity\n",
    "cos = lambda x: np.cos(x)\n",
    "relu = lambda x: np.maximum(x, 0)\n",
    "\n",
    "# params\n",
    "params_classical = {'weight_fun': classical_weights, 'bias': b, 'nonlinearity': relu, 'clf': logit}\n",
    "clf = RFClassifier(60, **params_classical)\n",
    "clf.fit(X_train, y_train)\n",
    "print(clf.score(X_test, y_test))\n",
    "W_classical = clf.W_[0]\n",
    "\n",
    "kwargs = {'lowcut': 4, 'highcut': 6}\n",
    "params_neural = {'weight_fun': haltere_inspired_weights, 'kwargs': kwargs, 'bias': b, 'nonlinearity': relu, 'clf': logit}\n",
    "clf = RFClassifier(60, **params_neural)\n",
    "clf.fit(X_train, y_train)\n",
    "print(clf.score(X_test, y_test))\n",
    "W_neural = clf.W_[0]\n",
    "\n",
    "fig = plt.figure()\n",
    "plt.plot(W_classical, c='k')\n",
    "plt.plot(W_neural)"
   ]
  },
  {
   "cell_type": "markdown",
   "metadata": {},
   "source": [
    "### Test the parallelized function for RFClassifer"
   ]
  },
  {
   "cell_type": "code",
   "execution_count": null,
   "metadata": {},
   "outputs": [],
   "source": [
    "from estimator import RFClassifier, classical_weights, relu, haltere_inspired_weights, V1_inspired_weights, clf_wrapper\n",
    "from data_fns import load_mnist\n",
    "from sklearn.linear_model import SGDClassifier\n",
    "import numpy as np\n",
    "import numpy.linalg as la"
   ]
  },
  {
   "cell_type": "code",
   "execution_count": null,
   "metadata": {},
   "outputs": [],
   "source": [
    "# use dask\n",
    "import dask\n",
    "from dask.distributed import Client\n",
    "client = Client(threads_per_worker=5, n_workers=5)"
   ]
  },
  {
   "cell_type": "code",
   "execution_count": null,
   "metadata": {},
   "outputs": [],
   "source": [
    "X_train, y_train, X_test, y_test = load_mnist('data/mnist/')\n",
    "b = np.mean(la.norm(X_train, axis=1) ** 2 / X_train.shape[1])"
   ]
  },
  {
   "cell_type": "code",
   "execution_count": null,
   "metadata": {},
   "outputs": [],
   "source": [
    "%%time\n",
    "sgd = SGDClassifier(loss='squared_hinge', alpha=1, shuffle=True, n_jobs=5, learning_rate='optimal', max_iter=500,\n",
    "                       early_stopping=True, tol=1e-4, n_iter_no_change=10, validation_fraction=0.1)\n",
    "kwargs = {'t': 5, 'l': 3}\n",
    "params = {'width': 1000, 'weight_fun': V1_inspired_weights, 'kwargs': kwargs, 'bias': b, \n",
    "'nonlinearity': relu, 'clf': sgd}\n",
    "train_err, test_err, clf = clf_wrapper(RFClassifier, params, X_train, y_train, X_test, y_test, return_clf=True)\n",
    "print(test_err)"
   ]
  },
  {
   "cell_type": "code",
   "execution_count": null,
   "metadata": {},
   "outputs": [],
   "source": [
    "%%time\n",
    "from estimator import parallelized_clf\n",
    "sgd = SGDClassifier(loss='squared_hinge', alpha=1, shuffle=True, n_jobs=5, learning_rate='optimal', max_iter=500,\n",
    "                       early_stopping=True, tol=1e-5, n_iter_no_change=30, validation_fraction=0.1)\n",
    "kwargs = {'t': 5, 'l': 3}\n",
    "params = {'width': 1000, 'weight_fun': V1_inspired_weights, 'kwargs': kwargs, 'bias': b, \n",
    "'nonlinearity': relu, 'clf': sgd}\n",
    "mean_train_err, std_train_err, mean_test_err, std_test_err = parallelized_clf(RFClassifier, params, X_train, y_train,\n",
    "                                                                             X_test, y_test, n_iters=5, \n",
    "                                                                              return_clf=False)"
   ]
  },
  {
   "cell_type": "markdown",
   "metadata": {},
   "source": [
    "### test of fashion-mnist real quick"
   ]
  },
  {
   "cell_type": "code",
   "execution_count": null,
   "metadata": {},
   "outputs": [],
   "source": [
    "from data_fns import load_fashion_mnist\n",
    "X_train, y_train, X_test, y_test = load_mnist('data/fashion_mnist/')\n",
    "b = np.mean(la.norm(X_train, axis=1) ** 2 / X_train.shape[1])"
   ]
  },
  {
   "cell_type": "code",
   "execution_count": null,
   "metadata": {},
   "outputs": [],
   "source": [
    "%%time\n",
    "sgd = SGDClassifier(loss='squared_hinge', alpha=1, shuffle=True, n_jobs=5, learning_rate='optimal', max_iter=500,\n",
    "                       early_stopping=True, tol=1e-4, n_iter_no_change=10, validation_fraction=0.1)\n",
    "kwargs = {'t': 5, 'l': 3}\n",
    "params = {'width': 1000, 'weight_fun': V1_inspired_weights, 'kwargs': kwargs, 'bias': b, \n",
    "'nonlinearity': relu, 'clf': sgd}\n",
    "train_err, test_err, clf = clf_wrapper(RFClassifier, params, X_train, y_train, X_test, y_test, return_clf=True)\n",
    "print(test_err)"
   ]
  },
  {
   "cell_type": "code",
   "execution_count": null,
   "metadata": {},
   "outputs": [],
   "source": [
    "%%time\n",
    "from estimator import parallelized_clf\n",
    "sgd = SGDClassifier(loss='squared_hinge', alpha=1, shuffle=True, n_jobs=5, learning_rate='optimal', max_iter=500,\n",
    "                       early_stopping=True, tol=1e-5, n_iter_no_change=30, validation_fraction=0.1)\n",
    "kwargs = {'t': 5, 'l': 3}\n",
    "params = {'width': 1000, 'weight_fun': V1_inspired_weights, 'kwargs': kwargs, 'bias': b, \n",
    "'nonlinearity': relu, 'clf': sgd}\n",
    "mean_train_err, std_train_err, mean_test_err, std_test_err = parallelized_clf(RFClassifier, params, X_train, y_train,\n",
    "                                                                             X_test, y_test, n_iters=5, \n",
    "                                                                              return_clf=False)"
   ]
  },
  {
   "cell_type": "markdown",
   "metadata": {},
   "source": [
    "## Plot the histogram of norm He weights vs classical weights"
   ]
  },
  {
   "cell_type": "code",
   "execution_count": 1,
   "metadata": {},
   "outputs": [],
   "source": [
    "import numpy as np\n",
    "import numpy.linalg as la\n",
    "import torch\n",
    "import torch.nn as nn\n",
    "import matplotlib.pyplot as plt\n",
    "from estimator import classical_weights, V1_inspired_weights"
   ]
  },
  {
   "cell_type": "code",
   "execution_count": 2,
   "metadata": {},
   "outputs": [
    {
     "name": "stdout",
     "output_type": "stream",
     "text": [
      "1.4140801\n"
     ]
    }
   ],
   "source": [
    "h, d, scale = 500, 784, 1\n",
    "W_He = nn.Linear(d, h)\n",
    "nn.init.kaiming_normal_(W_He.weight)\n",
    "W_He_norm = torch.norm(W_He.weight, dim=1).detach().numpy()\n",
    "print(np.mean(W_He_norm))"
   ]
  },
  {
   "cell_type": "code",
   "execution_count": 3,
   "metadata": {},
   "outputs": [
    {
     "name": "stdout",
     "output_type": "stream",
     "text": [
      "1.4143884264478257\n"
     ]
    }
   ],
   "source": [
    "W_RF = classical_weights(h, d, scale=2/d)\n",
    "W_RF_norm = la.norm(W_RF, axis=1)\n",
    "print(np.mean(W_RF_norm))"
   ]
  },
  {
   "cell_type": "code",
   "execution_count": 4,
   "metadata": {},
   "outputs": [
    {
     "name": "stdout",
     "output_type": "stream",
     "text": [
      "1.3598855474425509\n"
     ]
    }
   ],
   "source": [
    "W_V1 = V1_inspired_weights(h, d, t=5, l=3, scale=2/d)\n",
    "W_V1_norm = la.norm(W_V1, axis=1)\n",
    "print(np.mean(W_V1_norm))"
   ]
  },
  {
   "cell_type": "code",
   "execution_count": 5,
   "metadata": {},
   "outputs": [
    {
     "data": {
      "text/plain": [
       "(array([  5.,  24.,  71., 132., 138.,  93.,  31.,   4.,   1.,   1.]),\n",
       " array([1.3056203, 1.3318558, 1.3580914, 1.3843268, 1.4105623, 1.4367979,\n",
       "        1.4630333, 1.4892688, 1.5155042, 1.5417398, 1.5679753],\n",
       "       dtype=float32),\n",
       " <a list of 10 Patch objects>)"
      ]
     },
     "execution_count": 5,
     "metadata": {},
     "output_type": "execute_result"
    },
    {
     "data": {
      "image/png": "[encoded data removed]",
      "text/plain": [
       "<Figure size 432x288 with 1 Axes>"
      ]
     },
     "metadata": {
      "needs_background": "light"
     },
     "output_type": "display_data"
    }
   ],
   "source": [
    "fig = plt.figure()\n",
    "plt.hist(W_V1_norm)\n",
    "# plt.hist(W_RF_norm)\n",
    "plt.hist(W_He_norm)"
   ]
  },
  {
   "cell_type": "code",
   "execution_count": 41,
   "metadata": {},
   "outputs": [
    {
     "data": {
      "text/plain": [
       "array([1.4290055, 1.3860724, 1.4096954, 1.494191 , 1.4119589, 1.424354 ,\n",
       "       1.3108749, 1.4185705, 1.4348987, 1.4841726, 1.4085414, 1.4260665,\n",
       "       1.3585726, 1.4409862, 1.3882544, 1.3766495, 1.4241916, 1.420901 ,\n",
       "       1.4295037, 1.4396697, 1.374025 , 1.413592 , 1.4339856, 1.4995008,\n",
       "       1.3470186, 1.4496988, 1.3827734, 1.3753494, 1.4292448, 1.4816735,\n",
       "       1.4212319, 1.3822292, 1.3692741, 1.384284 , 1.3851255, 1.4132826,\n",
       "       1.3888563, 1.342924 , 1.3837602, 1.3491008, 1.3268031, 1.4046246,\n",
       "       1.3976828, 1.4525076, 1.3634299, 1.4476266, 1.4004169, 1.3901961,\n",
       "       1.455722 , 1.4099157, 1.4181848, 1.4100642, 1.4331874, 1.393956 ,\n",
       "       1.4655448, 1.409786 , 1.4467102, 1.4018979, 1.4362329, 1.3726166,\n",
       "       1.3677443, 1.434094 , 1.3874334, 1.3871925, 1.404322 , 1.3783853,\n",
       "       1.3799696, 1.3921349, 1.446489 , 1.4335761, 1.3738235, 1.4293773,\n",
       "       1.4236538, 1.4300106, 1.433518 , 1.3946348, 1.4547588, 1.3309562,\n",
       "       1.4279922, 1.3917665, 1.3908951, 1.401768 , 1.4204779, 1.4081978,\n",
       "       1.382759 , 1.4597257, 1.4292208, 1.3991438, 1.4068112, 1.3592279,\n",
       "       1.3641723, 1.3860995, 1.4438059, 1.4410082, 1.431105 , 1.3549812,\n",
       "       1.4655565, 1.4510568, 1.4255462, 1.3704327, 1.4034408, 1.4489937,\n",
       "       1.4094669, 1.4105161, 1.3706847, 1.4148206, 1.4088073, 1.3896027,\n",
       "       1.44956  , 1.4586178, 1.4091121, 1.3787596, 1.4241774, 1.4212227,\n",
       "       1.4271928, 1.4342787, 1.4358487, 1.3976612, 1.4317414, 1.3987529,\n",
       "       1.4457678, 1.4415747, 1.4363842, 1.3807973, 1.3909187, 1.4456158,\n",
       "       1.3896431, 1.3876574, 1.4060379, 1.3729706, 1.4746147, 1.4180818,\n",
       "       1.3434579, 1.360401 , 1.3759859, 1.4559588, 1.4534568, 1.3977042,\n",
       "       1.4012128, 1.3875785, 1.4289526, 1.447117 , 1.4246745, 1.3582861,\n",
       "       1.391823 , 1.4502964, 1.4171821, 1.4035192, 1.3800155, 1.4550525,\n",
       "       1.4664644, 1.3684072, 1.4204732, 1.3853257, 1.4109648, 1.4325454,\n",
       "       1.4250716, 1.4196644, 1.438137 , 1.4202801, 1.4231459, 1.4402441,\n",
       "       1.4412205, 1.3553833, 1.4012032, 1.3881733, 1.4044126, 1.4251857,\n",
       "       1.3585273, 1.4316809, 1.414625 , 1.3876574, 1.3595289, 1.3824072,\n",
       "       1.3811266, 1.421308 , 1.3755211, 1.3886021, 1.402931 , 1.5094949,\n",
       "       1.4221183, 1.398494 , 1.417801 , 1.3146303, 1.4221605, 1.4288607,\n",
       "       1.4805393, 1.3917142, 1.4359857, 1.3409902, 1.3645159, 1.3773936,\n",
       "       1.3789147, 1.4506544, 1.3630608, 1.4140316, 1.3572233, 1.4458985,\n",
       "       1.434943 , 1.4332726], dtype=float32)"
      ]
     },
     "execution_count": 41,
     "metadata": {},
     "output_type": "execute_result"
    }
   ],
   "source": [
    "W_He_norm"
   ]
  },
  {
   "cell_type": "code",
   "execution_count": null,
   "metadata": {},
   "outputs": [],
   "source": []
  }
 ],
 "metadata": {
  "kernelspec": {
   "display_name": "Python 3",
   "language": "python",
   "name": "python3"
  },
  "language_info": {
   "codemirror_mode": {
    "name": "ipython",
    "version": 3
   },
   "file_extension": ".py",
   "mimetype": "text/x-python",
   "name": "python",
   "nbconvert_exporter": "python",
   "pygments_lexer": "ipython3",
   "version": "3.7.4"
  }
 },
 "nbformat": 4,
 "nbformat_minor": 2
}
