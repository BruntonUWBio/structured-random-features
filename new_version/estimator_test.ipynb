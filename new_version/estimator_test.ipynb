{
 "cells": [
  {
   "cell_type": "markdown",
   "metadata": {},
   "source": [
    "# Tests and implementation for the RFClassifier class."
   ]
  },
  {
   "cell_type": "code",
   "execution_count": null,
   "metadata": {},
   "outputs": [],
   "source": [
    "import numpy as np\n",
    "import matplotlib.pyplot as plt\n",
    "import numpy.linalg as la\n",
    "from estimator import RFClassifier, classical_weights, V1_inspired_weights, haltere_inspired_weights"
   ]
  },
  {
   "cell_type": "markdown",
   "metadata": {},
   "source": [
    "## Implementation for V1 weights"
   ]
  },
  {
   "cell_type": "code",
   "execution_count": null,
   "metadata": {
    "tags": []
   },
   "outputs": [],
   "source": [
    "from sklearn.datasets import load_digits\n",
    "from sklearn.model_selection import train_test_split\n",
    "data, labels = load_digits(return_X_y=True)\n",
    "X_train, X_test, y_train, y_test = train_test_split(data, labels, test_size=0.2)\n",
    "\n",
    "b = np.mean(la.norm(X_train, axis=1) ** 2 / X_train.shape[1])"
   ]
  },
  {
   "cell_type": "code",
   "execution_count": null,
   "metadata": {
    "tags": []
   },
   "outputs": [],
   "source": [
    "# select the linear classifier\n",
    "from sklearn.linear_model import LogisticRegression\n",
    "logit = LogisticRegression(solver='saga')\n",
    "\n",
    "# non-linearity\n",
    "relu = lambda x: np.maximum(0, x)\n",
    "\n",
    "# classify using classical weights\n",
    "params_classical = {'weight_fun': classical_weights, 'bias': b, 'nonlinearity': relu, 'clf': logit}\n",
    "clf = RFClassifier(width=40, **params_classical)\n",
    "clf.fit(X_train, y_train)\n",
    "print(clf.score(X_test, y_test))\n",
    "\n",
    "# classify using V1 weights\n",
    "kwargs = {'t': 5, 'l': 3}\n",
    "params_neural = {'weight_fun': V1_inspired_weights, 'kwargs': kwargs, 'bias': b, 'nonlinearity':relu, 'clf': logit}\n",
    "clf = RFClassifier(width=40, **params_neural)\n",
    "clf.fit(X_train, y_train)\n",
    "print(clf.score(X_test, y_test))"
   ]
  },
  {
   "cell_type": "markdown",
   "metadata": {},
   "source": [
    "## Implementation for haltere weights"
   ]
  },
  {
   "cell_type": "code",
   "execution_count": null,
   "metadata": {
    "tags": []
   },
   "outputs": [],
   "source": [
    "from sklearn.datasets import load_breast_cancer\n",
    "from sklearn.model_selection import train_test_split\n",
    "data, labels = load_breast_cancer(return_X_y=True)\n",
    "\n",
    "X_train, X_test, y_train, y_test = train_test_split(data, labels, test_size=0.2)\n",
    "b = np.mean(la.norm(X_train, axis=1) ** 2 / X_train.shape[1])"
   ]
  },
  {
   "cell_type": "code",
   "execution_count": null,
   "metadata": {
    "tags": []
   },
   "outputs": [],
   "source": [
    "# linear classifier\n",
    "logit = LogisticRegression(solver='saga')\n",
    "\n",
    "# non-linearity\n",
    "cos = lambda x: np.cos(x)\n",
    "relu = lambda x: np.maximum(x, 0)\n",
    "\n",
    "# params\n",
    "params_classical = {'weight_fun': classical_weights, 'bias': b, 'nonlinearity': relu, 'clf': logit}\n",
    "clf = RFClassifier(60, **params_classical)\n",
    "clf.fit(X_train, y_train)\n",
    "print(clf.score(X_test, y_test))\n",
    "W_classical = clf.W_[0]\n",
    "\n",
    "kwargs = {'lowcut': 4, 'highcut': 6}\n",
    "params_neural = {'weight_fun': haltere_inspired_weights, 'kwargs': kwargs, 'bias': b, 'nonlinearity': relu, 'clf': logit}\n",
    "clf = RFClassifier(60, **params_neural)\n",
    "clf.fit(X_train, y_train)\n",
    "print(clf.score(X_test, y_test))\n",
    "W_neural = clf.W_[0]\n",
    "\n",
    "fig = plt.figure()\n",
    "plt.plot(W_classical, c='k')\n",
    "plt.plot(W_neural)"
   ]
  },
  {
   "cell_type": "markdown",
   "metadata": {},
   "source": [
    "### Test the parallelized function for RFClassifer"
   ]
  },
  {
   "cell_type": "code",
   "execution_count": null,
   "metadata": {},
   "outputs": [],
   "source": [
    "from estimator import RFClassifier, classical_weights, relu, haltere_inspired_weights, V1_inspired_weights, clf_wrapper\n",
    "from data_fns import load_mnist\n",
    "from sklearn.linear_model import SGDClassifier\n",
    "import numpy as np\n",
    "import numpy.linalg as la"
   ]
  },
  {
   "cell_type": "code",
   "execution_count": null,
   "metadata": {},
   "outputs": [],
   "source": [
    "# use dask\n",
    "import dask\n",
    "from dask.distributed import Client\n",
    "client = Client(threads_per_worker=5, n_workers=5)"
   ]
  },
  {
   "cell_type": "code",
   "execution_count": null,
   "metadata": {},
   "outputs": [],
   "source": [
    "X_train, y_train, X_test, y_test = load_mnist('data/mnist/')\n",
    "b = np.mean(la.norm(X_train, axis=1) ** 2 / X_train.shape[1])"
   ]
  },
  {
   "cell_type": "code",
   "execution_count": null,
   "metadata": {},
   "outputs": [],
   "source": [
    "%%time\n",
    "sgd = SGDClassifier(loss='squared_hinge', alpha=1, shuffle=True, n_jobs=5, learning_rate='optimal', max_iter=500,\n",
    "                       early_stopping=True, tol=1e-4, n_iter_no_change=10, validation_fraction=0.1)\n",
    "kwargs = {'t': 5, 'l': 3}\n",
    "params = {'width': 1000, 'weight_fun': V1_inspired_weights, 'kwargs': kwargs, 'bias': b, \n",
    "'nonlinearity': relu, 'clf': sgd}\n",
    "train_err, test_err, clf = clf_wrapper(RFClassifier, params, X_train, y_train, X_test, y_test, return_clf=True)\n",
    "print(test_err)"
   ]
  },
  {
   "cell_type": "code",
   "execution_count": null,
   "metadata": {},
   "outputs": [],
   "source": [
    "%%time\n",
    "from estimator import parallelized_clf\n",
    "sgd = SGDClassifier(loss='squared_hinge', alpha=1, shuffle=True, n_jobs=5, learning_rate='optimal', max_iter=500,\n",
    "                       early_stopping=True, tol=1e-5, n_iter_no_change=30, validation_fraction=0.1)\n",
    "kwargs = {'t': 5, 'l': 3}\n",
    "params = {'width': 1000, 'weight_fun': V1_inspired_weights, 'kwargs': kwargs, 'bias': b, \n",
    "'nonlinearity': relu, 'clf': sgd}\n",
    "mean_train_err, std_train_err, mean_test_err, std_test_err = parallelized_clf(RFClassifier, params, X_train, y_train,\n",
    "                                                                             X_test, y_test, n_iters=5, \n",
    "                                                                              return_clf=False)"
   ]
  },
  {
   "cell_type": "markdown",
   "metadata": {},
   "source": [
    "### test of fashion-mnist real quick"
   ]
  },
  {
   "cell_type": "code",
   "execution_count": null,
   "metadata": {},
   "outputs": [],
   "source": [
    "from data_fns import load_fashion_mnist\n",
    "X_train, y_train, X_test, y_test = load_mnist('data/fashion_mnist/')\n",
    "b = np.mean(la.norm(X_train, axis=1) ** 2 / X_train.shape[1])"
   ]
  },
  {
   "cell_type": "code",
   "execution_count": null,
   "metadata": {},
   "outputs": [],
   "source": [
    "%%time\n",
    "sgd = SGDClassifier(loss='squared_hinge', alpha=1, shuffle=True, n_jobs=5, learning_rate='optimal', max_iter=500,\n",
    "                       early_stopping=True, tol=1e-4, n_iter_no_change=10, validation_fraction=0.1)\n",
    "kwargs = {'t': 5, 'l': 3}\n",
    "params = {'width': 1000, 'weight_fun': V1_inspired_weights, 'kwargs': kwargs, 'bias': b, \n",
    "'nonlinearity': relu, 'clf': sgd}\n",
    "train_err, test_err, clf = clf_wrapper(RFClassifier, params, X_train, y_train, X_test, y_test, return_clf=True)\n",
    "print(test_err)"
   ]
  },
  {
   "cell_type": "code",
   "execution_count": null,
   "metadata": {},
   "outputs": [],
   "source": [
    "%%time\n",
    "from estimator import parallelized_clf\n",
    "sgd = SGDClassifier(loss='squared_hinge', alpha=1, shuffle=True, n_jobs=5, learning_rate='optimal', max_iter=500,\n",
    "                       early_stopping=True, tol=1e-5, n_iter_no_change=30, validation_fraction=0.1)\n",
    "kwargs = {'t': 5, 'l': 3}\n",
    "params = {'width': 1000, 'weight_fun': V1_inspired_weights, 'kwargs': kwargs, 'bias': b, \n",
    "'nonlinearity': relu, 'clf': sgd}\n",
    "mean_train_err, std_train_err, mean_test_err, std_test_err = parallelized_clf(RFClassifier, params, X_train, y_train,\n",
    "                                                                             X_test, y_test, n_iters=5, \n",
    "                                                                              return_clf=False)"
   ]
  },
  {
   "cell_type": "markdown",
   "metadata": {},
   "source": [
    "## Plot the histogram of norm He weights vs classical weights"
   ]
  },
  {
   "cell_type": "code",
   "execution_count": 1,
   "metadata": {},
   "outputs": [],
   "source": [
    "import numpy as np\n",
    "import numpy.linalg as la\n",
    "import torch\n",
    "import torch.nn as nn\n",
    "import matplotlib.pyplot as plt\n",
    "from estimator import classical_weights, V1_inspired_weights"
   ]
  },
  {
   "cell_type": "code",
   "execution_count": 2,
   "metadata": {},
   "outputs": [
    {
     "name": "stdout",
     "output_type": "stream",
     "text": [
      "1.4140801\n"
     ]
    }
   ],
   "source": [
    "h, d, scale = 500, 784, 1\n",
    "W_He = nn.Linear(d, h)\n",
    "nn.init.kaiming_normal_(W_He.weight)\n",
    "W_He_norm = torch.norm(W_He.weight, dim=1).detach().numpy()\n",
    "print(np.mean(W_He_norm))"
   ]
  },
  {
   "cell_type": "code",
   "execution_count": 3,
   "metadata": {},
   "outputs": [
    {
     "name": "stdout",
     "output_type": "stream",
     "text": [
      "1.4143884264478257\n"
     ]
    }
   ],
   "source": [
    "W_RF = classical_weights(h, d, scale=2/d)\n",
    "W_RF_norm = la.norm(W_RF, axis=1)\n",
    "print(np.mean(W_RF_norm))"
   ]
  },
  {
   "cell_type": "code",
   "execution_count": 4,
   "metadata": {},
   "outputs": [
    {
     "name": "stdout",
     "output_type": "stream",
     "text": [
      "1.3598855474425509\n"
     ]
    }
   ],
   "source": [
    "W_V1 = V1_inspired_weights(h, d, t=5, l=3, scale=2/d)\n",
    "W_V1_norm = la.norm(W_V1, axis=1)\n",
    "print(np.mean(W_V1_norm))"
   ]
  },
  {
   "cell_type": "code",
   "execution_count": 5,
   "metadata": {},
   "outputs": [
    {
     "data": {
      "text/plain": [
       "(array([  5.,  24.,  71., 132., 138.,  93.,  31.,   4.,   1.,   1.]),\n",
       " array([1.3056203, 1.3318558, 1.3580914, 1.3843268, 1.4105623, 1.4367979,\n",
       "        1.4630333, 1.4892688, 1.5155042, 1.5417398, 1.5679753],\n",
       "       dtype=float32),\n",
       " <a list of 10 Patch objects>)"
      ]
     },
     "execution_count": 5,
     "metadata": {},
     "output_type": "execute_result"
    },
    {
     "data": {
      "image/png": "[encoded data removed]",
      "text/plain": [
       "<Figure size 432x288 with 1 Axes>"
      ]
     },
     "metadata": {
      "needs_background": "light"
     },
     "output_type": "display_data"
    }
   ],
   "source": [
    "fig = plt.figure()\n",
    "plt.hist(W_V1_norm)\n",
    "# plt.hist(W_RF_norm)\n",
    "plt.hist(W_He_norm)"
   ]
  },
  {
   "cell_type": "markdown",
   "metadata": {},
   "source": [
    "## testing fashion mnist"
   ]
  },
  {
   "cell_type": "code",
   "execution_count": 2,
   "metadata": {},
   "outputs": [],
   "source": [
    "import numpy as np\n",
    "import numpy.linalg as la\n",
    "from data_fns import load_fashion_mnist, load_cifar_10\n",
    "from sklearn.svm import LinearSVC\n",
    "from estimator import RFClassifier, clf_wrapper, V1_weights_multiple_scales, V1_inspired_weights, relu, classical_weights\n",
    "\n",
    "X_train, y_train, X_test, y_test = load_fashion_mnist()\n",
    "n, d = X_train.shape\n",
    "# svc = LinearSVC(random_state=20, tol=1e-4, max_iter=500)\n",
    "sgd = SGDClassifier(loss='squared_hinge', alpha=1, shuffle=True, n_jobs=5, learning_rate='optimal', max_iter=500,\n",
    "                       early_stopping=True, tol=1e-4, n_iter_no_change=10, validation_fraction=0.1)\n",
    "b = np.mean(la.norm(X_train)/ np.sqrt(X_train.shape[0]))"
   ]
  },
  {
   "cell_type": "code",
   "execution_count": 3,
   "metadata": {},
   "outputs": [
    {
     "name": "stderr",
     "output_type": "stream",
     "text": [
      "/home/bpandey/anaconda3/lib/python3.8/site-packages/sklearn/svm/_base.py:976: ConvergenceWarning: Liblinear failed to converge, increase the number of iterations.\n",
      "  warnings.warn(\"Liblinear failed to converge, increase \"\n"
     ]
    },
    {
     "name": "stdout",
     "output_type": "stream",
     "text": [
      "0.2691\n"
     ]
    }
   ],
   "source": [
    "kwargs = {'scale': 1}\n",
    "params = {'width': 100, 'weight_fun': V1_weights_multiple_scales, 'kwargs': kwargs, 'bias': b, 'nonlinearity': relu, 'clf': svc}\n",
    "train_err, test_err = clf_wrapper(RFClassifier, params, X_train, y_train, X_test, y_test, return_clf=False)\n",
    "print(test_err)"
   ]
  },
  {
   "cell_type": "code",
   "execution_count": 4,
   "metadata": {},
   "outputs": [
    {
     "name": "stderr",
     "output_type": "stream",
     "text": [
      "/home/bpandey/anaconda3/lib/python3.8/site-packages/sklearn/svm/_base.py:976: ConvergenceWarning: Liblinear failed to converge, increase the number of iterations.\n",
      "  warnings.warn(\"Liblinear failed to converge, increase \"\n"
     ]
    },
    {
     "name": "stdout",
     "output_type": "stream",
     "text": [
      "0.20509999999999995\n"
     ]
    }
   ],
   "source": [
    "kwargs = {'scale': 1, 't': 5, 'l': 2}\n",
    "params = {'width': 100, 'weight_fun': V1_inspired_weights, 'kwargs': kwargs, 'bias': b, 'nonlinearity': relu, 'clf': svc}\n",
    "train_err, test_err = clf_wrapper(RFClassifier, params, X_train, y_train, X_test, y_test, return_clf=False)\n",
    "print(test_err)"
   ]
  },
  {
   "cell_type": "code",
   "execution_count": 5,
   "metadata": {},
   "outputs": [
    {
     "name": "stderr",
     "output_type": "stream",
     "text": [
      "/home/bpandey/anaconda3/lib/python3.8/site-packages/sklearn/svm/_base.py:976: ConvergenceWarning: Liblinear failed to converge, increase the number of iterations.\n",
      "  warnings.warn(\"Liblinear failed to converge, increase \"\n"
     ]
    },
    {
     "name": "stdout",
     "output_type": "stream",
     "text": [
      "0.266\n"
     ]
    }
   ],
   "source": [
    "kwargs = {'scale': 1}\n",
    "params = {'width': 100, 'weight_fun': classical_weights, 'bias': b, 'kwargs': kwargs, 'nonlinearity': relu, 'clf': svc}\n",
    "train_err, test_err = clf_wrapper(RFClassifier, params, X_train, y_train, X_test, y_test, return_clf=False)\n",
    "print(test_err)"
   ]
  },
  {
   "cell_type": "code",
   "execution_count": null,
   "metadata": {},
   "outputs": [],
   "source": []
  }
 ],
 "metadata": {
  "kernelspec": {
   "display_name": "Python 3",
   "language": "python",
   "name": "python3"
  },
  "language_info": {
   "codemirror_mode": {
    "name": "ipython",
    "version": 3
   },
   "file_extension": ".py",
   "mimetype": "text/x-python",
   "name": "python",
   "nbconvert_exporter": "python",
   "pygments_lexer": "ipython3",
   "version": "3.8.3"
  }
 },
 "nbformat": 4,
 "nbformat_minor": 4
}
