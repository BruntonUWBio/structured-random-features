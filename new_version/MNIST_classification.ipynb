{
 "cells": [
  {
   "cell_type": "code",
   "execution_count": 1,
   "metadata": {},
   "outputs": [],
   "source": [
    "from data_fns import load_mnist\n",
    "from estimator import RFClassifier, classical_weights, V1_inspired_weights, relu, parallelized_clf\n",
    "from sklearn.linear_model import SGDClassifier\n",
    "from sklearn.svm import LinearSVC\n",
    "from sklearn.model_selection import train_test_split\n",
    "import matplotlib.pyplot as plt\n",
    "import numpy as np\n",
    "import numpy.linalg as la\n",
    "import pickle"
   ]
  },
  {
   "cell_type": "code",
   "execution_count": 2,
   "metadata": {},
   "outputs": [
    {
     "name": "stderr",
     "output_type": "stream",
     "text": [
      "/home/bpandey/anaconda3/lib/python3.8/site-packages/distributed/node.py:151: UserWarning: Port 8787 is already in use.\n",
      "Perhaps you already have a cluster running?\n",
      "Hosting the HTTP server on port 46271 instead\n",
      "  warnings.warn(\n"
     ]
    },
    {
     "data": {
      "text/html": [
       "<table style=\"border: 2px solid white;\">\n",
       "<tr>\n",
       "<td style=\"vertical-align: top; border: 0px solid white\">\n",
       "<h3 style=\"text-align: left;\">Client</h3>\n",
       "<ul style=\"text-align: left; list-style: none; margin: 0; padding: 0;\">\n",
       "  <li><b>Scheduler: </b>tcp://127.0.0.1:45341</li>\n",
       "  <li><b>Dashboard: </b><a href='http://127.0.0.1:46271/status' target='_blank'>http://127.0.0.1:46271/status</a></li>\n",
       "</ul>\n",
       "</td>\n",
       "<td style=\"vertical-align: top; border: 0px solid white\">\n",
       "<h3 style=\"text-align: left;\">Cluster</h3>\n",
       "<ul style=\"text-align: left; list-style:none; margin: 0; padding: 0;\">\n",
       "  <li><b>Workers: </b>5</li>\n",
       "  <li><b>Cores: </b>25</li>\n",
       "  <li><b>Memory: </b>67.32 GB</li>\n",
       "</ul>\n",
       "</td>\n",
       "</tr>\n",
       "</table>"
      ],
      "text/plain": [
       "<Client: 'tcp://127.0.0.1:45341' processes=5 threads=25, memory=67.32 GB>"
      ]
     },
     "execution_count": 2,
     "metadata": {},
     "output_type": "execute_result"
    }
   ],
   "source": [
    "import dask\n",
    "from dask.distributed import Client\n",
    "client = Client(threads_per_worker=5, n_workers=5)\n",
    "client"
   ]
  },
  {
   "cell_type": "code",
   "execution_count": null,
   "metadata": {},
   "outputs": [],
   "source": [
    "# load data\n",
    "X_train, y_train, X_test, y_test = load_mnist('data/mnist/')"
   ]
  },
  {
   "cell_type": "code",
   "execution_count": null,
   "metadata": {},
   "outputs": [],
   "source": [
    "n_features = sorted(set(np.logspace(0, 3.5, 100).astype('int')))\n",
    "\n",
    "# weight params\n",
    "t, l, scale = 5, 2, 1\n",
    "kwargs = {'t': t, 'l': l, 'scale': scale}\n",
    "weights_V1 = {'weight_fun': V1_inspired_weights, 'kwargs': kwargs}\n",
    "\n",
    "kwargs_classical = {'scale': scale}\n",
    "weights_classical = {'weight_fun': classical_weights, 'kwargs': kwargs_classical}\n",
    "\n",
    "# params for classification\n",
    "# sgd = SGDClassifier(loss=\"squared_hinge\", alpha=1, max_iter=200, tol=1e-5, shuffle=True, n_jobs=5,\n",
    "#                     learning_rate=\"optimal\", early_stopping=True, validation_fraction=0.1, n_iter_no_change=20)\n",
    "svc = LinearSVC(random_state=20, tol=1e-4, max_iter=200)\n",
    "b = np.mean(la.norm(X_train)/ np.sqrt(X_train.shape[0]))"
   ]
  },
  {
   "cell_type": "code",
   "execution_count": null,
   "metadata": {},
   "outputs": [],
   "source": [
    "%%time\n",
    "results = {}\n",
    "m = np.zeros_like(n_features, dtype='float')\n",
    "results['classical'] = {'avg_test_err': m.copy(), 'std_test_err': m.copy()}\n",
    "results['V1'] = {'avg_test_err': m.copy(), 'std_test_err': m.copy()}\n",
    "for i, n in enumerate(n_features):\n",
    "\n",
    "    # classical random features\n",
    "    params_classical = {'width': n, **weights_classical, 'bias': b, 'nonlinearity': relu, 'clf': svc}\n",
    "    _, _, results['classical']['avg_test_err'][i], results['classical']['std_test_err'][i] = parallelized_clf(RFClassifier, \n",
    "                                                                                                    params_classical, \n",
    "                                                                                                    X_train, y_train, \n",
    "                                                                                                    X_test, y_test, \n",
    "                                                                                                    n_iters=5)\n",
    "    \n",
    "    # haltere inspired\n",
    "    params_V1 = {'width': n, **weights_V1, 'bias': b, 'nonlinearity': relu, 'clf': svc} \n",
    "    _, _, results['V1']['avg_test_err'][i], results['V1']['std_test_err'][i] = parallelized_clf(RFClassifier, \n",
    "                                                                                                params_V1, \n",
    "                                                                                                X_train, y_train, \n",
    "                                                                                                X_test, y_test, \n",
    "                                                                                                n_iters=5)\n",
    "\n",
    "    print('Iter: %d/%d, V1 test err=%0.2f, RF test err= %0.2f' % (n, n_features[-1],  \n",
    "                                                                       results['V1']['avg_test_err'][i],\n",
    "                                                                      results['classical']['avg_test_err'][i]))\n",
    "    \n",
    "with open('results/mnist_clf/mnist_clf_t=%0.2f_l=%0.2f_svc.pickle' % (t, l), 'wb') as handle:\n",
    "    pickle.dump(results, handle, protocol=pickle.HIGHEST_PROTOCOL) "
   ]
  },
  {
   "cell_type": "code",
   "execution_count": null,
   "metadata": {},
   "outputs": [],
   "source": [
    "with open('results/mnist_clf/mnist_clf_t=%0.2f_l=%0.2f_svc.pickle' % (t, l), 'rb') as handle:\n",
    "    results = pickle.load(handle)\n",
    "    \n",
    "fig = plt.figure(figsize=(10.6, 8))\n",
    "ax = fig.add_subplot(111)\n",
    "ax.errorbar(n_features, results['V1']['avg_test_err'], yerr=results['V1']['std_test_err'], fmt='-', \n",
    "            label='V1-inspired',  markersize=4, lw=5, elinewidth=3)\n",
    "ax.errorbar(n_features, results['classical']['avg_test_err'], yerr=results['classical']['std_test_err'], \n",
    "            fmt='-', label='classical', markersize=4, lw=5, elinewidth=3)\n",
    "plt.xlabel('Hidden layer width', fontsize=40)\n",
    "plt.ylabel('Classification error', fontsize=40)\n",
    "plt.xlim([0, 2000])\n",
    "plt.yticks(np.arange(0, 0.6, 0.1))\n",
    "plt.ylim([-0.05, 0.55])\n",
    "plt.xticks(np.arange(0, 2200, 400))\n",
    "ax.tick_params(axis = 'both', which = 'major', labelsize = 40, width=2, length=6)\n",
    "\n",
    "plt.legend(loc = 'upper right', fontsize=30)\n",
    "# plt.savefig('results/mnist_clf/mnist_clf_t=%0.2f_l=%0.2f.png' % (t, l))"
   ]
  },
  {
   "cell_type": "code",
   "execution_count": null,
   "metadata": {},
   "outputs": [],
   "source": [
    "# list(zip(n_features, results['classical']['avg_test_err']))"
   ]
  },
  {
   "cell_type": "code",
   "execution_count": null,
   "metadata": {},
   "outputs": [],
   "source": [
    "# list(zip(n_features, results['V1']['avg_test_err']))"
   ]
  },
  {
   "cell_type": "markdown",
   "metadata": {},
   "source": [
    "### Few shot learning"
   ]
  },
  {
   "cell_type": "code",
   "execution_count": 3,
   "metadata": {},
   "outputs": [],
   "source": [
    "train, train_labels, test, test_labels = load_mnist('data/mnist')\n",
    "num_train = 50\n",
    "X_train, _, y_train, _ = train_test_split(train, train_labels, train_size=num_train, stratify=train_labels, \n",
    "                                          random_state=42)\n",
    "X_test, y_test = test.copy(), test_labels.copy()"
   ]
  },
  {
   "cell_type": "code",
   "execution_count": 4,
   "metadata": {},
   "outputs": [],
   "source": [
    "n_features = sorted(set(np.logspace(0, 3.5, 100).astype('int')))\n",
    "\n",
    "# weight params\n",
    "t, l, scale = 5, 2, 1\n",
    "kwargs = {'t': t, 'l': l, 'scale': scale}\n",
    "weights_V1 = {'weight_fun': V1_inspired_weights, 'kwargs': kwargs}\n",
    "\n",
    "kwargs_classical = {'scale': scale}\n",
    "weights_classical = {'weight_fun': classical_weights, 'kwargs': kwargs_classical}\n",
    "\n",
    "# params for classification\n",
    "# sgd = SGDClassifier(loss=\"squared_hinge\", alpha=1, max_iter=200, tol=1e-5, shuffle=True, n_jobs=5,\n",
    "#                     learning_rate=\"optimal\", early_stopping=True, validation_fraction=0.2, n_iter_no_change=20)\n",
    "svc = LinearSVC(random_state=20, tol=1e-4, max_iter=500)\n",
    "\n",
    "b = np.mean(la.norm(X_train)/ np.sqrt(X_train.shape[0]))"
   ]
  },
  {
   "cell_type": "code",
   "execution_count": 5,
   "metadata": {},
   "outputs": [
    {
     "name": "stdout",
     "output_type": "stream",
     "text": [
      "Iter: 1/3162, V1 test err=0.84, RF test err= 0.88\n",
      "Iter: 2/3162, V1 test err=0.84, RF test err= 0.86\n",
      "Iter: 3/3162, V1 test err=0.84, RF test err= 0.83\n",
      "Iter: 4/3162, V1 test err=0.90, RF test err= 0.80\n",
      "Iter: 5/3162, V1 test err=0.78, RF test err= 0.81\n",
      "Iter: 6/3162, V1 test err=0.79, RF test err= 0.84\n",
      "Iter: 7/3162, V1 test err=0.78, RF test err= 0.76\n",
      "Iter: 8/3162, V1 test err=0.71, RF test err= 0.78\n",
      "Iter: 9/3162, V1 test err=0.69, RF test err= 0.79\n",
      "Iter: 10/3162, V1 test err=0.70, RF test err= 0.75\n",
      "Iter: 11/3162, V1 test err=0.65, RF test err= 0.70\n",
      "Iter: 12/3162, V1 test err=0.63, RF test err= 0.70\n",
      "Iter: 13/3162, V1 test err=0.61, RF test err= 0.70\n",
      "Iter: 14/3162, V1 test err=0.59, RF test err= 0.69\n",
      "Iter: 15/3162, V1 test err=0.61, RF test err= 0.65\n",
      "Iter: 17/3162, V1 test err=0.58, RF test err= 0.66\n",
      "Iter: 18/3162, V1 test err=0.55, RF test err= 0.67\n",
      "Iter: 20/3162, V1 test err=0.55, RF test err= 0.63\n",
      "Iter: 22/3162, V1 test err=0.55, RF test err= 0.60\n",
      "Iter: 23/3162, V1 test err=0.50, RF test err= 0.59\n",
      "Iter: 25/3162, V1 test err=0.51, RF test err= 0.60\n",
      "Iter: 28/3162, V1 test err=0.49, RF test err= 0.56\n",
      "Iter: 30/3162, V1 test err=0.47, RF test err= 0.56\n",
      "Iter: 33/3162, V1 test err=0.48, RF test err= 0.53\n",
      "Iter: 35/3162, V1 test err=0.47, RF test err= 0.54\n",
      "Iter: 38/3162, V1 test err=0.43, RF test err= 0.52\n",
      "Iter: 42/3162, V1 test err=0.41, RF test err= 0.50\n",
      "Iter: 45/3162, V1 test err=0.42, RF test err= 0.51\n",
      "Iter: 49/3162, V1 test err=0.40, RF test err= 0.47\n",
      "Iter: 53/3162, V1 test err=0.39, RF test err= 0.48\n",
      "Iter: 58/3162, V1 test err=0.39, RF test err= 0.47\n",
      "Iter: 63/3162, V1 test err=0.38, RF test err= 0.43\n",
      "Iter: 68/3162, V1 test err=0.36, RF test err= 0.43\n",
      "Iter: 74/3162, V1 test err=0.36, RF test err= 0.43\n",
      "Iter: 81/3162, V1 test err=0.33, RF test err= 0.42\n",
      "Iter: 87/3162, V1 test err=0.34, RF test err= 0.42\n",
      "Iter: 95/3162, V1 test err=0.33, RF test err= 0.41\n",
      "Iter: 103/3162, V1 test err=0.31, RF test err= 0.41\n",
      "Iter: 112/3162, V1 test err=0.32, RF test err= 0.39\n",
      "Iter: 121/3162, V1 test err=0.32, RF test err= 0.39\n",
      "Iter: 132/3162, V1 test err=0.31, RF test err= 0.38\n",
      "Iter: 143/3162, V1 test err=0.31, RF test err= 0.38\n",
      "Iter: 155/3162, V1 test err=0.31, RF test err= 0.38\n",
      "Iter: 168/3162, V1 test err=0.30, RF test err= 0.37\n",
      "Iter: 183/3162, V1 test err=0.31, RF test err= 0.36\n",
      "Iter: 198/3162, V1 test err=0.30, RF test err= 0.37\n",
      "Iter: 215/3162, V1 test err=0.29, RF test err= 0.37\n",
      "Iter: 233/3162, V1 test err=0.30, RF test err= 0.36\n",
      "Iter: 253/3162, V1 test err=0.30, RF test err= 0.35\n",
      "Iter: 275/3162, V1 test err=0.29, RF test err= 0.35\n",
      "Iter: 298/3162, V1 test err=0.28, RF test err= 0.36\n",
      "Iter: 323/3162, V1 test err=0.28, RF test err= 0.35\n",
      "Iter: 351/3162, V1 test err=0.28, RF test err= 0.35\n",
      "Iter: 380/3162, V1 test err=0.29, RF test err= 0.33\n",
      "Iter: 413/3162, V1 test err=0.28, RF test err= 0.35\n",
      "Iter: 448/3162, V1 test err=0.28, RF test err= 0.34\n",
      "Iter: 486/3162, V1 test err=0.28, RF test err= 0.33\n",
      "Iter: 527/3162, V1 test err=0.28, RF test err= 0.34\n",
      "Iter: 572/3162, V1 test err=0.27, RF test err= 0.33\n",
      "Iter: 620/3162, V1 test err=0.28, RF test err= 0.33\n",
      "Iter: 673/3162, V1 test err=0.27, RF test err= 0.33\n",
      "Iter: 730/3162, V1 test err=0.27, RF test err= 0.33\n",
      "Iter: 792/3162, V1 test err=0.28, RF test err= 0.33\n",
      "Iter: 859/3162, V1 test err=0.28, RF test err= 0.33\n",
      "Iter: 932/3162, V1 test err=0.27, RF test err= 0.33\n",
      "Iter: 1011/3162, V1 test err=0.27, RF test err= 0.33\n",
      "Iter: 1097/3162, V1 test err=0.27, RF test err= 0.33\n",
      "Iter: 1190/3162, V1 test err=0.27, RF test err= 0.33\n",
      "Iter: 1291/3162, V1 test err=0.27, RF test err= 0.33\n",
      "Iter: 1401/3162, V1 test err=0.27, RF test err= 0.32\n",
      "Iter: 1519/3162, V1 test err=0.27, RF test err= 0.33\n",
      "Iter: 1648/3162, V1 test err=0.27, RF test err= 0.32\n",
      "Iter: 1788/3162, V1 test err=0.27, RF test err= 0.32\n",
      "Iter: 1940/3162, V1 test err=0.27, RF test err= 0.33\n",
      "Iter: 2104/3162, V1 test err=0.27, RF test err= 0.33\n",
      "Iter: 2283/3162, V1 test err=0.27, RF test err= 0.33\n",
      "Iter: 2477/3162, V1 test err=0.27, RF test err= 0.32\n",
      "Iter: 2687/3162, V1 test err=0.27, RF test err= 0.32\n",
      "Iter: 2915/3162, V1 test err=0.27, RF test err= 0.32\n",
      "Iter: 3162/3162, V1 test err=0.27, RF test err= 0.32\n",
      "CPU times: user 7min 38s, sys: 2min 4s, total: 9min 43s\n",
      "Wall time: 2h 41min 48s\n"
     ]
    }
   ],
   "source": [
    "%%time\n",
    "results = {}\n",
    "m = np.zeros_like(n_features, dtype='float')\n",
    "results['classical'] = {'avg_test_err': m.copy(), 'std_test_err': m.copy()}\n",
    "results['V1'] = {'avg_test_err': m.copy(), 'std_test_err': m.copy()}\n",
    "for i, n in enumerate(n_features):\n",
    "\n",
    "    # classical random features\n",
    "    params_classical = {'width': n, **weights_classical, 'bias': b, 'nonlinearity': relu, 'clf': svc}\n",
    "    _, _, results['classical']['avg_test_err'][i], results['classical']['std_test_err'][i] = parallelized_clf(RFClassifier, \n",
    "                                                                                                    params_classical, \n",
    "                                                                                                    X_train, y_train, \n",
    "                                                                                                    X_test, y_test, \n",
    "                                                                                                    n_iters=5)\n",
    "    \n",
    "    # haltere inspired\n",
    "    params_V1 = {'width': n, **weights_V1, 'bias': b, 'nonlinearity': relu, 'clf': svc} \n",
    "    _, _, results['V1']['avg_test_err'][i], results['V1']['std_test_err'][i] = parallelized_clf(RFClassifier, \n",
    "                                                                                                params_V1, \n",
    "                                                                                                X_train, y_train, \n",
    "                                                                                                X_test, y_test, \n",
    "                                                                                                n_iters=5)\n",
    "\n",
    "    print('Iter: %d/%d, V1 test err=%0.2f, RF test err= %0.2f' % (n, n_features[-1],  \n",
    "                                                                       results['V1']['avg_test_err'][i],\n",
    "                                                                      results['classical']['avg_test_err'][i]))\n",
    "    \n",
    "with open('results/mnist_clf/mnist_clf_t=%0.2f_l=%0.3f_few_shot_svc.pickle' % (t, l), 'wb') as handle:\n",
    "    pickle.dump(results, handle, protocol=pickle.HIGHEST_PROTOCOL)\n",
    "    "
   ]
  },
  {
   "cell_type": "code",
   "execution_count": 6,
   "metadata": {},
   "outputs": [
    {
     "data": {
      "text/plain": [
       "<matplotlib.legend.Legend at 0x7f2fb820e100>"
      ]
     },
     "execution_count": 6,
     "metadata": {},
     "output_type": "execute_result"
    },
    {
     "data": {
      "image/png": "[encoded data removed]",
      "text/plain": [
       "<Figure size 763.2x576 with 1 Axes>"
      ]
     },
     "metadata": {
      "needs_background": "light"
     },
     "output_type": "display_data"
    }
   ],
   "source": [
    "with open('results/mnist_clf/mnist_clf_t=%0.2f_l=%0.3f_few_shot_svc.pickle' % (t, l), 'rb') as handle:\n",
    "    results = pickle.load(handle)\n",
    "\n",
    "fig = plt.figure(figsize=(10.6, 8))\n",
    "ax = fig.add_subplot(111)\n",
    "ax.errorbar(n_features, results['V1']['avg_test_err'], yerr=results['V1']['std_test_err'], fmt='-', \n",
    "            label='V1-inspired',  markersize=4, lw=5, elinewidth=3)\n",
    "ax.errorbar(n_features, results['classical']['avg_test_err'], yerr=results['classical']['std_test_err'], \n",
    "            fmt='-', label='classical', markersize=4, lw=5, elinewidth=3)\n",
    "plt.xlabel('Hidden layer width', fontsize=40)\n",
    "plt.ylabel('Classification error', fontsize=40)\n",
    "# plt.xticks(np.arange(0, 1020, 200))\n",
    "# plt.xlim([0, 1000])\n",
    "# plt.yticks(np.arange(0, 0.6, 0.1))\n",
    "# plt.ylim([-0.05, 0.55])\n",
    "# plt.xticks(np.arange(0, 255, 50))\n",
    "ax.tick_params(axis = 'both', which = 'major', labelsize = 40, width=2, length=6)\n",
    "\n",
    "plt.legend(loc = 'upper right', fontsize=30)\n",
    "# plt.savefig('results/mnist_clf/mnist_clf_t=%0.2f_l=%0.2f_fewshot.png' % (t, l))"
   ]
  },
  {
   "cell_type": "code",
   "execution_count": null,
   "metadata": {
    "scrolled": true
   },
   "outputs": [],
   "source": [
    "list(zip(n_features, results['classical']['avg_test_err']))"
   ]
  },
  {
   "cell_type": "code",
   "execution_count": null,
   "metadata": {
    "scrolled": true
   },
   "outputs": [],
   "source": [
    "list(zip(n_features, results['V1']['avg_test_err']))"
   ]
  },
  {
   "cell_type": "code",
   "execution_count": null,
   "metadata": {},
   "outputs": [],
   "source": []
  }
 ],
 "metadata": {
  "kernelspec": {
   "display_name": "Python 3",
   "language": "python",
   "name": "python3"
  },
  "language_info": {
   "codemirror_mode": {
    "name": "ipython",
    "version": 3
   },
   "file_extension": ".py",
   "mimetype": "text/x-python",
   "name": "python",
   "nbconvert_exporter": "python",
   "pygments_lexer": "ipython3",
   "version": "3.8.3"
  }
 },
 "nbformat": 4,
 "nbformat_minor": 4
}
