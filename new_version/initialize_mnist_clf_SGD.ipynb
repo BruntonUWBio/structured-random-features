{
 "cells": [
  {
   "cell_type": "code",
   "execution_count": 1,
   "metadata": {},
   "outputs": [],
   "source": [
    "import numpy as np\n",
    "import matplotlib.pyplot as plt\n",
    "from data_fns import load_mnist\n",
    "from estimator import classical_weights, V1_inspired_weights\n",
    "import torch\n",
    "import torch.nn as nn\n",
    "from torch.utils.data import TensorDataset, DataLoader\n",
    "import pickle"
   ]
  },
  {
   "cell_type": "code",
   "execution_count": 2,
   "metadata": {},
   "outputs": [],
   "source": [
    "# load data\n",
    "train, train_labels, test, test_labels = load_mnist()\n",
    "X_train, y_train = torch.from_numpy(train).float(), torch.from_numpy(train_labels).long()\n",
    "X_test, y_test = torch.from_numpy(test).float(), torch.from_numpy(test_labels).long()\n",
    "train_set = TensorDataset(X_train, y_train)\n",
    "train_loader = DataLoader(dataset=train_set, batch_size=1, shuffle=True)\n",
    "n, d = X_train.shape"
   ]
  },
  {
   "cell_type": "code",
   "execution_count": 3,
   "metadata": {},
   "outputs": [],
   "source": [
    "# define models\n",
    "class V1_net(nn.Module):\n",
    "    def __init__(self, hidden_size):\n",
    "        super().__init__()\n",
    "        self.fc1 = nn.Linear(d, hidden_size)\n",
    "        self.fc1.weight.data = torch.FloatTensor(V1_inspired_weights(hidden_size, d, t=5, l=2, scale=1))\n",
    "        self.output = nn.Linear(hidden_size, 10)\n",
    "        \n",
    "    def forward(self, inputs):\n",
    "        x = torch.relu(self.fc1(inputs))\n",
    "        return self.output(x)\n",
    "    \n",
    "class RF_net(nn.Module):\n",
    "    def __init__(self, hidden_size):\n",
    "        super().__init__()\n",
    "        self.fc1 = nn.Linear(d, hidden_size)\n",
    "        self.fc1.weight.data = torch.FloatTensor(classical_weights(hidden_size, d, scale=1))\n",
    "        self.output = nn.Linear(hidden_size, 10)\n",
    "        \n",
    "    def forward(self, inputs):\n",
    "        x = torch.relu(self.fc1(inputs))\n",
    "        return self.output(x)\n",
    "    \n",
    "def predict(model, X):\n",
    "    return model(X).data.max(1)[1]\n",
    "\n",
    "def error(model, X, y):\n",
    "    y_pred = predict(model, X)\n",
    "    accuracy = 1.0 * torch.sum(y_pred == y) / len(y)\n",
    "    return 1 - accuracy"
   ]
  },
  {
   "cell_type": "code",
   "execution_count": 5,
   "metadata": {},
   "outputs": [
    {
     "name": "stdout",
     "output_type": "stream",
     "text": [
      "Trial 0, Epoch: 0, V1 model Loss=0.444, test err=0.102\n",
      "Trial 0, Epoch: 1, V1 model Loss=0.362, test err=0.094\n",
      "Trial 0, Epoch: 2, V1 model Loss=0.264, test err=0.075\n",
      "Trial 0, Epoch: 3, V1 model Loss=0.227, test err=0.069\n",
      "Trial 0, Epoch: 4, V1 model Loss=0.207, test err=0.067\n",
      "Trial 0, Epoch: 5, V1 model Loss=0.185, test err=0.056\n",
      "Trial 0, Epoch: 6, V1 model Loss=0.227, test err=0.076\n",
      "Trial 0, Epoch: 7, V1 model Loss=0.183, test err=0.062\n",
      "Trial 0, Epoch: 8, V1 model Loss=0.165, test err=0.055\n",
      "Trial 0, Epoch: 9, V1 model Loss=0.168, test err=0.058\n",
      "Trial 1, Epoch: 0, V1 model Loss=0.479, test err=0.107\n",
      "Trial 1, Epoch: 1, V1 model Loss=0.358, test err=0.087\n",
      "Trial 1, Epoch: 2, V1 model Loss=0.301, test err=0.076\n",
      "Trial 1, Epoch: 3, V1 model Loss=0.264, test err=0.081\n",
      "Trial 1, Epoch: 4, V1 model Loss=0.201, test err=0.060\n",
      "Trial 1, Epoch: 5, V1 model Loss=0.190, test err=0.058\n",
      "Trial 1, Epoch: 6, V1 model Loss=0.185, test err=0.058\n",
      "Trial 1, Epoch: 7, V1 model Loss=0.173, test err=0.056\n",
      "Trial 1, Epoch: 8, V1 model Loss=0.157, test err=0.054\n",
      "Trial 1, Epoch: 9, V1 model Loss=0.158, test err=0.053\n",
      "Trial 2, Epoch: 0, V1 model Loss=0.444, test err=0.102\n",
      "Trial 2, Epoch: 1, V1 model Loss=0.305, test err=0.075\n",
      "Trial 2, Epoch: 2, V1 model Loss=0.269, test err=0.074\n",
      "Trial 2, Epoch: 3, V1 model Loss=0.228, test err=0.067\n",
      "Trial 2, Epoch: 4, V1 model Loss=0.190, test err=0.059\n",
      "Trial 2, Epoch: 5, V1 model Loss=0.205, test err=0.062\n",
      "Trial 2, Epoch: 6, V1 model Loss=0.162, test err=0.051\n",
      "Trial 2, Epoch: 7, V1 model Loss=0.161, test err=0.057\n",
      "Trial 2, Epoch: 8, V1 model Loss=0.151, test err=0.054\n",
      "Trial 2, Epoch: 9, V1 model Loss=0.157, test err=0.058\n",
      "Trial 0, Epoch: 0, RF model Loss=0.471, test err=0.130\n",
      "Trial 0, Epoch: 1, RF model Loss=0.349, test err=0.101\n",
      "Trial 0, Epoch: 2, RF model Loss=0.269, test err=0.084\n",
      "Trial 0, Epoch: 3, RF model Loss=0.234, test err=0.073\n",
      "Trial 0, Epoch: 4, RF model Loss=0.202, test err=0.070\n",
      "Trial 0, Epoch: 5, RF model Loss=0.191, test err=0.064\n",
      "Trial 0, Epoch: 6, RF model Loss=0.176, test err=0.060\n",
      "Trial 0, Epoch: 7, RF model Loss=0.155, test err=0.060\n",
      "Trial 0, Epoch: 8, RF model Loss=0.159, test err=0.061\n",
      "Trial 0, Epoch: 9, RF model Loss=0.137, test err=0.053\n",
      "Trial 1, Epoch: 0, RF model Loss=0.434, test err=0.127\n",
      "Trial 1, Epoch: 1, RF model Loss=0.312, test err=0.098\n",
      "Trial 1, Epoch: 2, RF model Loss=0.284, test err=0.085\n",
      "Trial 1, Epoch: 3, RF model Loss=0.241, test err=0.075\n",
      "Trial 1, Epoch: 4, RF model Loss=0.215, test err=0.076\n",
      "Trial 1, Epoch: 5, RF model Loss=0.188, test err=0.067\n",
      "Trial 1, Epoch: 6, RF model Loss=0.171, test err=0.062\n",
      "Trial 1, Epoch: 7, RF model Loss=0.159, test err=0.058\n"
     ]
    },
    {
     "ename": "KeyboardInterrupt",
     "evalue": "",
     "output_type": "error",
     "traceback": [
      "\u001b[0;31m---------------------------------------------------------------------------\u001b[0m",
      "\u001b[0;31mKeyboardInterrupt\u001b[0m                         Traceback (most recent call last)",
      "\u001b[0;32m<ipython-input-5-db5e60a23a2b>\u001b[0m in \u001b[0;36m<module>\u001b[0;34m\u001b[0m\n\u001b[1;32m     15\u001b[0m         \u001b[0;32mfor\u001b[0m \u001b[0mj\u001b[0m \u001b[0;32min\u001b[0m \u001b[0mrange\u001b[0m\u001b[0;34m(\u001b[0m\u001b[0mn_epochs\u001b[0m\u001b[0;34m)\u001b[0m\u001b[0;34m:\u001b[0m\u001b[0;34m\u001b[0m\u001b[0;34m\u001b[0m\u001b[0m\n\u001b[1;32m     16\u001b[0m             \u001b[0;32mfor\u001b[0m \u001b[0mx_batch\u001b[0m\u001b[0;34m,\u001b[0m \u001b[0my_batch\u001b[0m \u001b[0;32min\u001b[0m \u001b[0mtrain_loader\u001b[0m\u001b[0;34m:\u001b[0m\u001b[0;34m\u001b[0m\u001b[0;34m\u001b[0m\u001b[0m\n\u001b[0;32m---> 17\u001b[0;31m                 \u001b[0moptim\u001b[0m\u001b[0;34m.\u001b[0m\u001b[0mzero_grad\u001b[0m\u001b[0;34m(\u001b[0m\u001b[0;34m)\u001b[0m\u001b[0;34m\u001b[0m\u001b[0;34m\u001b[0m\u001b[0m\n\u001b[0m\u001b[1;32m     18\u001b[0m                 \u001b[0mloss\u001b[0m \u001b[0;34m=\u001b[0m \u001b[0mloss_func\u001b[0m\u001b[0;34m(\u001b[0m\u001b[0mmodel\u001b[0m\u001b[0;34m(\u001b[0m\u001b[0mx_batch\u001b[0m\u001b[0;34m)\u001b[0m\u001b[0;34m,\u001b[0m \u001b[0my_batch\u001b[0m\u001b[0;34m)\u001b[0m\u001b[0;34m\u001b[0m\u001b[0;34m\u001b[0m\u001b[0m\n\u001b[1;32m     19\u001b[0m                 \u001b[0mloss\u001b[0m\u001b[0;34m.\u001b[0m\u001b[0mbackward\u001b[0m\u001b[0;34m(\u001b[0m\u001b[0;34m)\u001b[0m\u001b[0;34m\u001b[0m\u001b[0;34m\u001b[0m\u001b[0m\n",
      "\u001b[0;32m~/anaconda3/lib/python3.7/site-packages/torch/optim/optimizer.py\u001b[0m in \u001b[0;36mzero_grad\u001b[0;34m(self)\u001b[0m\n\u001b[1;32m    163\u001b[0m                 \u001b[0;32mif\u001b[0m \u001b[0mp\u001b[0m\u001b[0;34m.\u001b[0m\u001b[0mgrad\u001b[0m \u001b[0;32mis\u001b[0m \u001b[0;32mnot\u001b[0m \u001b[0;32mNone\u001b[0m\u001b[0;34m:\u001b[0m\u001b[0;34m\u001b[0m\u001b[0;34m\u001b[0m\u001b[0m\n\u001b[1;32m    164\u001b[0m                     \u001b[0mp\u001b[0m\u001b[0;34m.\u001b[0m\u001b[0mgrad\u001b[0m\u001b[0;34m.\u001b[0m\u001b[0mdetach_\u001b[0m\u001b[0;34m(\u001b[0m\u001b[0;34m)\u001b[0m\u001b[0;34m\u001b[0m\u001b[0;34m\u001b[0m\u001b[0m\n\u001b[0;32m--> 165\u001b[0;31m                     \u001b[0mp\u001b[0m\u001b[0;34m.\u001b[0m\u001b[0mgrad\u001b[0m\u001b[0;34m.\u001b[0m\u001b[0mzero_\u001b[0m\u001b[0;34m(\u001b[0m\u001b[0;34m)\u001b[0m\u001b[0;34m\u001b[0m\u001b[0;34m\u001b[0m\u001b[0m\n\u001b[0m\u001b[1;32m    166\u001b[0m \u001b[0;34m\u001b[0m\u001b[0m\n\u001b[1;32m    167\u001b[0m     \u001b[0;32mdef\u001b[0m \u001b[0mstep\u001b[0m\u001b[0;34m(\u001b[0m\u001b[0mself\u001b[0m\u001b[0;34m,\u001b[0m \u001b[0mclosure\u001b[0m\u001b[0;34m)\u001b[0m\u001b[0;34m:\u001b[0m\u001b[0;34m\u001b[0m\u001b[0;34m\u001b[0m\u001b[0m\n",
      "\u001b[0;31mKeyboardInterrupt\u001b[0m: "
     ]
    }
   ],
   "source": [
    "h, lr = 50, 1e-2\n",
    "loss_func = nn.CrossEntropyLoss()\n",
    "n_epochs, n_trials = 10, 3\n",
    "t, l = 5, 3\n",
    "\n",
    "models = {'V1': V1_net, 'RF': RF_net}\n",
    "train_err = {m: np.zeros((n_trials, n_epochs)) for m in models.keys()}\n",
    "test_err = {m: np.zeros((n_trials, n_epochs)) for m in models.keys()}\n",
    "loss_list = {m: np.zeros((n_trials, n_epochs)) for m in models.keys()}\n",
    "\n",
    "for m, network in models.items():\n",
    "    for i in range(n_trials):\n",
    "        model = network(h)\n",
    "        optim = torch.optim.SGD(model.parameters(), lr=lr)\n",
    "        for j in range(n_epochs):\n",
    "            for x_batch, y_batch in train_loader:\n",
    "                optim.zero_grad()\n",
    "                loss = loss_func(model(x_batch), y_batch)\n",
    "                loss.backward()\n",
    "                optim.step()\n",
    "\n",
    "            train_err[m][i, j] = error(model, X_train, y_train)\n",
    "            test_err[m][i, j] = error(model, X_test, y_test)\n",
    "            loss_list[m][i, j] = loss_func(model(X_train), y_train)\n",
    "        \n",
    "            print('Trial %d, Epoch: %d, %s model Loss=%0.3f, test err=%0.3f' % (i, j, m, loss_list[m][i, j], \n",
    "                                                                                test_err[m][i, j]))\n",
    "            \n",
    "# results = {'test_err': test_err, 'train_err': train_err, 'loss': loss_list}\n",
    "# with open('results/initialize_mnist/clf_SGD_t=%0.2f_l=%0.2f_h=%d_lr=%0.4f.pickle' % (t, l, h, lr), 'wb') as handle:\n",
    "#     pickle.dump(results, handle, protocol=pickle.HIGHEST_PROTOCOL)"
   ]
  },
  {
   "cell_type": "code",
   "execution_count": null,
   "metadata": {},
   "outputs": [],
   "source": [
    "avg_train_err = {m: np.mean(train_err[m], axis=0) for m in train_err.keys()}\n",
    "avg_test_err = {m: np.mean(test_err[m], axis=0) for m in test_err.keys()}\n",
    "avg_loss_list = {m: np.mean(loss_list[m], axis=0) for m in loss_list.keys()}\n",
    "\n",
    "std_train_err = {m: np.std(train_err[m], axis=0) for m in train_err.keys()}\n",
    "std_test_err = {m: np.std(test_err[m], axis=0) for m in test_err.keys()}\n",
    "std_loss_list = {m: np.std(loss_list[m], axis=0) for m in loss_list.keys()}\n",
    "\n",
    "fig = plt.figure(figsize=(12, 5))\n",
    "plt.suptitle(r'Shallow FFW FC net w/ SGD. h=%d, E$\\|w\\|$=%0.2f, lr=%0.4f, '%(h, w, lr), fontsize=16)\n",
    "ax = fig.add_subplot(131)\n",
    "plt.title('Network loss', fontsize=16)\n",
    "plt.plot(np.arange(n_epochs), avg_loss_list['V1'], label='V1-inspired', lw=3)\n",
    "plt.plot(np.arange(n_epochs), avg_loss_list['RF'], label='classical', lw=3)\n",
    "plt.fill_between(np.arange(n_epochs), avg_loss_list['V1'] - std_loss_list['V1'], \n",
    "                 avg_loss_list['V1'] + std_loss_list['V1'], alpha=0.2)\n",
    "plt.fill_between(np.arange(n_epochs), avg_loss_list['RF'] - std_loss_list['RF'], \n",
    "                 avg_loss_list['RF'] + std_loss_list['RF'], alpha=0.2)\n",
    "\n",
    "\n",
    "\n",
    "plt.xlabel('Epoch', fontsize=20)\n",
    "plt.ylabel('Training loss', fontsize=20)\n",
    "ax.tick_params(axis = 'both', which = 'major', labelsize = 14, width=2, length=6)\n",
    "plt.legend(fontsize=18)\n",
    "\n",
    "ax = fig.add_subplot(132)\n",
    "plt.title('Train error', fontsize=16)\n",
    "plt.plot(np.arange(n_epochs), avg_train_err['V1'], label='V1-inspired', lw=3)\n",
    "plt.plot(np.arange(n_epochs), avg_train_err['RF'],  label='classical', lw=3)\n",
    "plt.fill_between(np.arange(n_epochs), avg_train_err['V1'] - std_train_err['V1'], \n",
    "                 avg_train_err['V1'] + std_train_err['V1'],  alpha=0.2 )\n",
    "plt.fill_between(np.arange(n_epochs), avg_train_err['RF'] - std_train_err['RF'], \n",
    "                 avg_train_err['RF'] + std_train_err['RF'],  alpha=0.2 )\n",
    "plt.xlabel('Epoch', fontsize=20)\n",
    "plt.ylabel('Training error', fontsize=20)\n",
    "ax.tick_params(axis = 'both', which = 'major', labelsize = 14, width=2, length=6)\n",
    "plt.yticks(np.arange(0, 1, 0.2))\n",
    "plt.legend(fontsize=18)\n",
    "\n",
    "ax = fig.add_subplot(133)\n",
    "plt.title('Test error', fontsize=16)\n",
    "plt.plot(np.arange(n_epochs), avg_test_err['V1'], label='V1-inspired', lw=3)\n",
    "plt.plot(np.arange(n_epochs), avg_test_err['RF'], label='classical', lw=3)\n",
    "plt.fill_between(np.arange(n_epochs), avg_test_err['V1'] - std_test_err['V1'], \n",
    "                 avg_test_err['V1'] + std_test_err['V1'], alpha=0.2 )\n",
    "plt.fill_between(np.arange(n_epochs), avg_test_err['RF'] - std_test_err['RF'], \n",
    "                 avg_test_err['RF'] + std_test_err['RF'], alpha=0.2 )\n",
    "plt.xlabel('Epoch', fontsize=20)\n",
    "plt.ylabel('Test error', fontsize=20)\n",
    "ax.tick_params(axis = 'both', which = 'major', labelsize = 14, width=2, length=6)\n",
    "plt.yticks(np.arange(0, 1, 0.2))\n",
    "plt.legend(fontsize=18)\n",
    "                                       \n",
    "plt.tight_layout()\n",
    "plt.subplots_adjust(top=0.8)\n",
    "# plt.savefig('results/initialize_mnist/init_h=%d_lr=%0.3f_SGD.png'%(h, lr))"
   ]
  },
  {
   "cell_type": "code",
   "execution_count": 12,
   "metadata": {},
   "outputs": [
    {
     "data": {
      "text/plain": [
       "[<matplotlib.lines.Line2D at 0x7fabc0086890>]"
      ]
     },
     "execution_count": 12,
     "metadata": {},
     "output_type": "execute_result"
    },
    {
     "data": {
      "image/png": "[encoded data removed]",
      "text/plain": [
       "<Figure size 432x288 with 1 Axes>"
      ]
     },
     "metadata": {
      "needs_background": "light"
     },
     "output_type": "display_data"
    }
   ],
   "source": [
    "fig = plt.figure()\n",
    "plt.plot(np.mean(test_err['V1'], axis=0))\n",
    "plt.plot(test_err['RF'][0])"
   ]
  },
  {
   "cell_type": "code",
   "execution_count": null,
   "metadata": {},
   "outputs": [],
   "source": []
  }
 ],
 "metadata": {
  "kernelspec": {
   "display_name": "Python 3",
   "language": "python",
   "name": "python3"
  },
  "language_info": {
   "codemirror_mode": {
    "name": "ipython",
    "version": 3
   },
   "file_extension": ".py",
   "mimetype": "text/x-python",
   "name": "python",
   "nbconvert_exporter": "python",
   "pygments_lexer": "ipython3",
   "version": "3.7.4"
  }
 },
 "nbformat": 4,
 "nbformat_minor": 2
}
