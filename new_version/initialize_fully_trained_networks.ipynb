{
 "cells": [
  {
   "cell_type": "code",
   "execution_count": 1,
   "metadata": {},
   "outputs": [],
   "source": [
    "import numpy as np\n",
    "import numpy.linalg as la\n",
    "import matplotlib.pyplot as plt\n",
    "import torch\n",
    "import torch.nn as nn\n",
    "from estimator import classical_weights, V1_inspired_weights"
   ]
  },
  {
   "cell_type": "code",
   "execution_count": 2,
   "metadata": {},
   "outputs": [],
   "source": [
    "from mnist import MNIST\n",
    "mndata = MNIST('./data/mnist/')\n",
    "train, train_labels = map(torch.FloatTensor, mndata.load_training())\n",
    "test, test_labels = map(torch.FloatTensor, mndata.load_testing())\n",
    "X_train = train/255.0\n",
    "X_test = test/255.0\n",
    "\n",
    "n, d = X_train.shape\n",
    "\n",
    "y_train = train_labels.to(dtype=torch.long)\n",
    "y_test = test_labels.to(dtype=torch.long)"
   ]
  },
  {
   "cell_type": "code",
   "execution_count": 3,
   "metadata": {},
   "outputs": [],
   "source": [
    "class V1_net(nn.Module):\n",
    "    def __init__(self, hidden_size):\n",
    "        super().__init__()\n",
    "        self.fc1 = nn.Linear(d, hidden_size)\n",
    "        self.fc1.weight.data = torch.FloatTensor(V1_inspired_weights(hidden_size, d, t=5, l=2, random_state=None))\n",
    "        self.output = nn.Linear(hidden_size, 10)\n",
    "        \n",
    "    def forward(self, inputs):\n",
    "        x = torch.relu(self.fc1(inputs))\n",
    "        return self.output(x)\n",
    "    \n",
    "class He_net(nn.Module):\n",
    "    def __init__(self, hidden_size):\n",
    "        super().__init__()\n",
    "        self.fc1 = nn.Linear(d, hidden_size)\n",
    "        torch.nn.init.kaiming_normal_(self.fc1.weight)\n",
    "        self.output = nn.Linear(hidden_size, 10)\n",
    "        \n",
    "    def forward(self, inputs):\n",
    "        x = torch.relu(self.fc1(inputs))\n",
    "        return self.output(x)\n",
    "    \n",
    "class RF_net(nn.Module):\n",
    "    def __init__(self, hidden_size):\n",
    "        super().__init__()\n",
    "        self.fc1 = nn.Linear(d, hidden_size)\n",
    "        self.fc1.weight.data = torch.FloatTensor(classical_weights(hidden_size, d, random_state=None))\n",
    "        self.output = nn.Linear(hidden_size, 10)\n",
    "        \n",
    "    def forward(self, inputs):\n",
    "        x = torch.relu(self.fc1(inputs))\n",
    "        return self.output(x)"
   ]
  },
  {
   "cell_type": "code",
   "execution_count": 4,
   "metadata": {},
   "outputs": [],
   "source": [
    "def predict(model, X):\n",
    "    return model(X).data.max(1)[1]\n",
    "\n",
    "def error(model, X, y):\n",
    "    y_pred = predict(model, X)\n",
    "    accuracy = 1.0 * torch.sum(y_pred == y) / len(y)\n",
    "    return 1 - accuracy"
   ]
  },
  {
   "cell_type": "code",
   "execution_count": 5,
   "metadata": {},
   "outputs": [
    {
     "data": {
      "text/plain": [
       "<matplotlib.colorbar.Colorbar at 0x7f1b241fa3d0>"
      ]
     },
     "execution_count": 5,
     "metadata": {},
     "output_type": "execute_result"
    },
    {
     "data": {
      "image/png": "[encoded data removed]",
      "text/plain": [
       "<Figure size 864x288 with 8 Axes>"
      ]
     },
     "metadata": {
      "needs_background": "light"
     },
     "output_type": "display_data"
    }
   ],
   "source": [
    "hidden_size = 32\n",
    "V1_model = V1_net(hidden_size)\n",
    "He_model = He_net(hidden_size)\n",
    "RF_model= RF_net(hidden_size)\n",
    "\n",
    "i = 4\n",
    "fig = plt.figure(figsize=(12, 4))\n",
    "ax = fig.add_subplot(141)\n",
    "plt.imshow(X_train[0].reshape(28, 28), cmap='hot')\n",
    "plt.title('MNIST digit')\n",
    "plt.colorbar()\n",
    "\n",
    "ax = fig.add_subplot(142)\n",
    "plt.imshow(V1_model.fc1.weight.data[i].reshape(28, 28), cmap='hot')\n",
    "plt.title('V1 weights')\n",
    "plt.colorbar()\n",
    "\n",
    "ax = fig.add_subplot(143)\n",
    "plt.imshow(He_model.fc1.weight.data[i].reshape(28, 28), cmap='hot')\n",
    "plt.title('He weights')\n",
    "plt.colorbar()\n",
    "\n",
    "ax = fig.add_subplot(144)\n",
    "plt.imshow(RF_model.fc1.weight.data[i].reshape(28, 28), cmap='hot')\n",
    "plt.title('RF weights')\n",
    "plt.colorbar()"
   ]
  },
  {
   "cell_type": "code",
   "execution_count": 6,
   "metadata": {},
   "outputs": [
    {
     "name": "stdout",
     "output_type": "stream",
     "text": [
      "V1 tensor(1.0000)\n",
      "He tensor(1.4057)\n",
      "RF tensor(4.9480)\n"
     ]
    }
   ],
   "source": [
    "print('V1', torch.mean(torch.norm(V1_model.fc1.weight.data, dim=1)))\n",
    "print('He', torch.mean(torch.norm(He_model.fc1.weight.data, dim=1)))\n",
    "print('RF', torch.mean(torch.norm(RF_model.fc1.weight.data, dim=1)))"
   ]
  },
  {
   "cell_type": "code",
   "execution_count": null,
   "metadata": {},
   "outputs": [],
   "source": [
    "h = np.random.randint(300, 500)\n",
    "models = {'V1': V1_net, 'RF': RF_net}\n",
    "loss_func = nn.CrossEntropyLoss()\n",
    "\n",
    "lr = np.random.uniform(0.01, 0.1)\n",
    "n_epochs = 200\n",
    "n_trials = 5\n",
    "\n",
    "train_err = {m: np.zeros((n_trials, n_epochs)) for m in models.keys()}\n",
    "test_err = {m: np.zeros((n_trials, n_epochs)) for m in models.keys()}\n",
    "loss_list = {m: np.zeros((n_trials, n_epochs)) for m in models.keys()}\n",
    "for m, network in models.items():\n",
    "    for i in range(n_trials):\n",
    "        model = network(h)\n",
    "        optim = torch.optim.SGD(model.parameters(), lr=lr)\n",
    "        for j in range(n_epochs):\n",
    "            optim.zero_grad()\n",
    "            loss = loss_func(model(X_train), y_train)\n",
    "            loss.backward()\n",
    "            optim.step()\n",
    "\n",
    "            train_err[m][i, j] = error(model, X_train, y_train)\n",
    "            test_err[m][i, j] = error(model, X_test, y_test)\n",
    "            loss_list[m][i, j] = loss.data\n",
    "        \n",
    "            if (j % 20 == 0):\n",
    "                print('Trial %d, Epoch: %d, %s model Loss=%0.3f, test err=%0.3f' % (i,j, m, loss, test_err[m][i, j]))\n",
    "avg_train_err = {m: np.mean(train_err[m], axis=0) for m in train_err.keys()}\n",
    "avg_test_err = {m: np.mean(test_err[m], axis=0) for m in test_err.keys()}\n",
    "avg_loss_list = {m: np.mean(loss_list[m], axis=0) for m in loss_list.keys()}\n",
    "\n",
    "std_train_err = {m: np.std(train_err[m], axis=0) for m in train_err.keys()}\n",
    "std_test_err = {m: np.std(test_err[m], axis=0) for m in test_err.keys()}\n",
    "std_loss_list = {m: np.std(loss_list[m], axis=0) for m in loss_list.keys()}"
   ]
  },
  {
   "cell_type": "code",
   "execution_count": null,
   "metadata": {},
   "outputs": [],
   "source": [
    "fig = plt.figure(figsize=(12, 5))\n",
    "plt.suptitle('Shallow FFW FC net w/ SGD. h=%d, lr=%0.4f, div by norm'%(h, lr), fontsize=16)\n",
    "ax = fig.add_subplot(131)\n",
    "plt.title('Network loss', fontsize=16)\n",
    "plt.plot(np.arange(n_epochs), avg_loss_list['V1'], label='V1-inspired', lw=3)\n",
    "plt.plot(np.arange(n_epochs), avg_loss_list['RF'], label='classical', lw=3)\n",
    "plt.fill_between(np.arange(n_epochs), avg_loss_list['V1'] - std_loss_list['V1'], \n",
    "                 avg_loss_list['V1'] + std_loss_list['V1'], alpha=0.2)\n",
    "plt.fill_between(np.arange(n_epochs), avg_loss_list['RF'] - std_loss_list['RF'], \n",
    "                 avg_loss_list['RF'] + std_loss_list['RF'], alpha=0.2)\n",
    "\n",
    "\n",
    "\n",
    "plt.xlabel('Epoch', fontsize=20)\n",
    "plt.ylabel('Training loss', fontsize=20)\n",
    "ax.tick_params(axis = 'both', which = 'major', labelsize = 14, width=2, length=6)\n",
    "plt.legend(fontsize=18)\n",
    "\n",
    "ax = fig.add_subplot(132)\n",
    "plt.title('Train error', fontsize=16)\n",
    "plt.plot(np.arange(n_epochs), avg_train_err['V1'], label='V1-inspired', lw=3)\n",
    "plt.plot(np.arange(n_epochs), avg_train_err['RF'],  label='classical', lw=3)\n",
    "plt.fill_between(np.arange(n_epochs), avg_train_err['V1'] - std_train_err['V1'], \n",
    "                 avg_train_err['V1'] + std_train_err['V1'],  alpha=0.2 )\n",
    "plt.fill_between(np.arange(n_epochs), avg_train_err['RF'] - std_train_err['RF'], \n",
    "                 avg_train_err['RF'] + std_train_err['RF'],  alpha=0.2 )\n",
    "plt.xlabel('Epoch', fontsize=20)\n",
    "plt.ylabel('Training error', fontsize=20)\n",
    "ax.tick_params(axis = 'both', which = 'major', labelsize = 14, width=2, length=6)\n",
    "plt.yticks(np.arange(0, 1, 0.2))\n",
    "plt.legend(fontsize=18)\n",
    "\n",
    "ax = fig.add_subplot(133)\n",
    "plt.title('Test error', fontsize=16)\n",
    "plt.plot(np.arange(n_epochs), avg_test_err['V1'], label='V1-inspired', lw=3)\n",
    "plt.plot(np.arange(n_epochs), avg_test_err['RF'], label='classical', lw=3)\n",
    "plt.fill_between(np.arange(n_epochs), avg_test_err['V1'] - std_test_err['V1'], \n",
    "                 avg_test_err['V1'] + std_test_err['V1'], alpha=0.2 )\n",
    "plt.fill_between(np.arange(n_epochs), avg_test_err['RF'] - std_test_err['RF'], \n",
    "                 avg_test_err['RF'] + std_test_err['RF'], alpha=0.2 )\n",
    "plt.xlabel('Epoch', fontsize=20)\n",
    "plt.ylabel('Test error', fontsize=20)\n",
    "ax.tick_params(axis = 'both', which = 'major', labelsize = 14, width=2, length=6)\n",
    "plt.yticks(np.arange(0, 1, 0.2))\n",
    "plt.legend(fontsize=18)\n",
    "                                       \n",
    "plt.tight_layout()\n",
    "plt.subplots_adjust(top=0.8)\n",
    "plt.savefig('results/initialize_mnist/init_h=%d_lr=%0.3f.png'%(h, lr))"
   ]
  },
  {
   "cell_type": "code",
   "execution_count": null,
   "metadata": {},
   "outputs": [],
   "source": [
    "fig = plt.figure()\n",
    "plt.imshow(model.fc1.weight.data[22].reshape(28, 28), cmap='hot')"
   ]
  },
  {
   "cell_type": "code",
   "execution_count": null,
   "metadata": {},
   "outputs": [],
   "source": [
    "W = V1_inspired_weights(20, 784, 5, 3)\n",
    "fig = plt.figure()\n",
    "plt.imshow(W[0].reshape(28, 28), cmap='hot')\n",
    "plt.colorbar()"
   ]
  },
  {
   "cell_type": "code",
   "execution_count": null,
   "metadata": {},
   "outputs": [],
   "source": []
  },
  {
   "cell_type": "code",
   "execution_count": null,
   "metadata": {},
   "outputs": [],
   "source": []
  }
 ],
 "metadata": {
  "kernelspec": {
   "display_name": "Python 3",
   "language": "python",
   "name": "python3"
  },
  "language_info": {
   "codemirror_mode": {
    "name": "ipython",
    "version": 3
   },
   "file_extension": ".py",
   "mimetype": "text/x-python",
   "name": "python",
   "nbconvert_exporter": "python",
   "pygments_lexer": "ipython3",
   "version": "3.7.4"
  }
 },
 "nbformat": 4,
 "nbformat_minor": 2
}
