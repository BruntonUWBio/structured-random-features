{
 "cells": [
  {
   "cell_type": "markdown",
   "metadata": {},
   "source": [
    "Compute the STAs of all the moth campaniform sensilla. Then, use it to build a covariance matrix"
   ]
  },
  {
   "cell_type": "code",
   "execution_count": 53,
   "metadata": {},
   "outputs": [
    {
     "ename": "ModuleNotFoundError",
     "evalue": "No module named 'hdf5'",
     "output_type": "error",
     "traceback": [
      "\u001b[0;31m---------------------------------------------------------------------------\u001b[0m",
      "\u001b[0;31mModuleNotFoundError\u001b[0m                       Traceback (most recent call last)",
      "\u001b[0;32m<ipython-input-53-c17677b27fb5>\u001b[0m in \u001b[0;36m<module>\u001b[0;34m\u001b[0m\n\u001b[1;32m      2\u001b[0m \u001b[0;32mimport\u001b[0m \u001b[0mglob\u001b[0m\u001b[0;34m\u001b[0m\u001b[0;34m\u001b[0m\u001b[0m\n\u001b[1;32m      3\u001b[0m \u001b[0;32mfrom\u001b[0m \u001b[0mscipy\u001b[0m\u001b[0;34m.\u001b[0m\u001b[0mio\u001b[0m \u001b[0;32mimport\u001b[0m \u001b[0mloadmat\u001b[0m\u001b[0;34m\u001b[0m\u001b[0;34m\u001b[0m\u001b[0m\n\u001b[0;32m----> 4\u001b[0;31m \u001b[0;32mimport\u001b[0m \u001b[0mhdf5\u001b[0m\u001b[0;34m\u001b[0m\u001b[0;34m\u001b[0m\u001b[0m\n\u001b[0m",
      "\u001b[0;31mModuleNotFoundError\u001b[0m: No module named 'hdf5'"
     ]
    }
   ],
   "source": [
    "import numpy as np\n",
    "import glob\n",
    "from scipy.io import loadmat\n",
    "import hdf5"
   ]
  },
  {
   "cell_type": "code",
   "execution_count": 50,
   "metadata": {},
   "outputs": [
    {
     "ename": "NotImplementedError",
     "evalue": "Please use HDF reader for matlab v7.3 files",
     "output_type": "error",
     "traceback": [
      "\u001b[0;31m---------------------------------------------------------------------------\u001b[0m",
      "\u001b[0;31mNotImplementedError\u001b[0m                       Traceback (most recent call last)",
      "\u001b[0;32m<ipython-input-50-b9ed8e897d6c>\u001b[0m in \u001b[0;36m<module>\u001b[0;34m\u001b[0m\n\u001b[1;32m      1\u001b[0m \u001b[0mdata_path\u001b[0m \u001b[0;34m=\u001b[0m \u001b[0;34m'data/wing_sensilla_data_Pratt/'\u001b[0m\u001b[0;34m\u001b[0m\u001b[0;34m\u001b[0m\u001b[0m\n\u001b[0;32m----> 2\u001b[0;31m \u001b[0ma\u001b[0m \u001b[0;34m=\u001b[0m \u001b[0mloadmat\u001b[0m\u001b[0;34m(\u001b[0m\u001b[0mdata_path\u001b[0m \u001b[0;34m+\u001b[0m \u001b[0;34m'NonBase Spike Trains/Wing_NonBase_Identity_Spike_Trains.mat'\u001b[0m\u001b[0;34m)\u001b[0m\u001b[0;34m\u001b[0m\u001b[0;34m\u001b[0m\u001b[0m\n\u001b[0m\u001b[1;32m      3\u001b[0m \u001b[0;31m# b = loadmat(data_path + 'NonBase Spike Trains/NonBase Spike Train_M%d.mat' % (5))\u001b[0m\u001b[0;34m\u001b[0m\u001b[0;34m\u001b[0m\u001b[0;34m\u001b[0m\u001b[0m\n",
      "\u001b[0;32m/opt/anaconda3/lib/python3.8/site-packages/scipy/io/matlab/mio.py\u001b[0m in \u001b[0;36mloadmat\u001b[0;34m(file_name, mdict, appendmat, **kwargs)\u001b[0m\n\u001b[1;32m    221\u001b[0m     \u001b[0mvariable_names\u001b[0m \u001b[0;34m=\u001b[0m \u001b[0mkwargs\u001b[0m\u001b[0;34m.\u001b[0m\u001b[0mpop\u001b[0m\u001b[0;34m(\u001b[0m\u001b[0;34m'variable_names'\u001b[0m\u001b[0;34m,\u001b[0m \u001b[0;32mNone\u001b[0m\u001b[0;34m)\u001b[0m\u001b[0;34m\u001b[0m\u001b[0;34m\u001b[0m\u001b[0m\n\u001b[1;32m    222\u001b[0m     \u001b[0;32mwith\u001b[0m \u001b[0m_open_file_context\u001b[0m\u001b[0;34m(\u001b[0m\u001b[0mfile_name\u001b[0m\u001b[0;34m,\u001b[0m \u001b[0mappendmat\u001b[0m\u001b[0;34m)\u001b[0m \u001b[0;32mas\u001b[0m \u001b[0mf\u001b[0m\u001b[0;34m:\u001b[0m\u001b[0;34m\u001b[0m\u001b[0;34m\u001b[0m\u001b[0m\n\u001b[0;32m--> 223\u001b[0;31m         \u001b[0mMR\u001b[0m\u001b[0;34m,\u001b[0m \u001b[0m_\u001b[0m \u001b[0;34m=\u001b[0m \u001b[0mmat_reader_factory\u001b[0m\u001b[0;34m(\u001b[0m\u001b[0mf\u001b[0m\u001b[0;34m,\u001b[0m \u001b[0;34m**\u001b[0m\u001b[0mkwargs\u001b[0m\u001b[0;34m)\u001b[0m\u001b[0;34m\u001b[0m\u001b[0;34m\u001b[0m\u001b[0m\n\u001b[0m\u001b[1;32m    224\u001b[0m         \u001b[0mmatfile_dict\u001b[0m \u001b[0;34m=\u001b[0m \u001b[0mMR\u001b[0m\u001b[0;34m.\u001b[0m\u001b[0mget_variables\u001b[0m\u001b[0;34m(\u001b[0m\u001b[0mvariable_names\u001b[0m\u001b[0;34m)\u001b[0m\u001b[0;34m\u001b[0m\u001b[0;34m\u001b[0m\u001b[0m\n\u001b[1;32m    225\u001b[0m \u001b[0;34m\u001b[0m\u001b[0m\n",
      "\u001b[0;32m/opt/anaconda3/lib/python3.8/site-packages/scipy/io/matlab/mio.py\u001b[0m in \u001b[0;36mmat_reader_factory\u001b[0;34m(file_name, appendmat, **kwargs)\u001b[0m\n\u001b[1;32m     76\u001b[0m         \u001b[0;32mreturn\u001b[0m \u001b[0mMatFile5Reader\u001b[0m\u001b[0;34m(\u001b[0m\u001b[0mbyte_stream\u001b[0m\u001b[0;34m,\u001b[0m \u001b[0;34m**\u001b[0m\u001b[0mkwargs\u001b[0m\u001b[0;34m)\u001b[0m\u001b[0;34m,\u001b[0m \u001b[0mfile_opened\u001b[0m\u001b[0;34m\u001b[0m\u001b[0;34m\u001b[0m\u001b[0m\n\u001b[1;32m     77\u001b[0m     \u001b[0;32melif\u001b[0m \u001b[0mmjv\u001b[0m \u001b[0;34m==\u001b[0m \u001b[0;36m2\u001b[0m\u001b[0;34m:\u001b[0m\u001b[0;34m\u001b[0m\u001b[0;34m\u001b[0m\u001b[0m\n\u001b[0;32m---> 78\u001b[0;31m         \u001b[0;32mraise\u001b[0m \u001b[0mNotImplementedError\u001b[0m\u001b[0;34m(\u001b[0m\u001b[0;34m'Please use HDF reader for matlab v7.3 files'\u001b[0m\u001b[0;34m)\u001b[0m\u001b[0;34m\u001b[0m\u001b[0;34m\u001b[0m\u001b[0m\n\u001b[0m\u001b[1;32m     79\u001b[0m     \u001b[0;32melse\u001b[0m\u001b[0;34m:\u001b[0m\u001b[0;34m\u001b[0m\u001b[0;34m\u001b[0m\u001b[0m\n\u001b[1;32m     80\u001b[0m         \u001b[0;32mraise\u001b[0m \u001b[0mTypeError\u001b[0m\u001b[0;34m(\u001b[0m\u001b[0;34m'Did not recognize version %s'\u001b[0m \u001b[0;34m%\u001b[0m \u001b[0mmjv\u001b[0m\u001b[0;34m)\u001b[0m\u001b[0;34m\u001b[0m\u001b[0;34m\u001b[0m\u001b[0m\n",
      "\u001b[0;31mNotImplementedError\u001b[0m: Please use HDF reader for matlab v7.3 files"
     ]
    }
   ],
   "source": [
    "data_path = 'data/wing_sensilla_data_Pratt/'\n",
    "a = loadmat(data_path + 'NonBase Spike Trains/Wing_NonBase_Identity_Spike_Trains.mat')\n",
    "# b = loadmat(data_path + 'NonBase Spike Trains/NonBase Spike Train_M%d.mat' % (5))"
   ]
  },
  {
   "cell_type": "code",
   "execution_count": 40,
   "metadata": {},
   "outputs": [
    {
     "name": "stdout",
     "output_type": "stream",
     "text": [
      "data/wing_sensilla_data_Pratt/NonBase Spike Trains/Wing_NonBase_Identity_Spike_Trains.mat\n",
      "data/wing_sensilla_data_Pratt/NonBase Spike Trains/NonBase Spike Train_M13.mat\n",
      "data/wing_sensilla_data_Pratt/NonBase Spike Trains/NonBase Spike Train_M12.mat\n",
      "data/wing_sensilla_data_Pratt/NonBase Spike Trains/NonBase Spike Train_M10.mat\n",
      "data/wing_sensilla_data_Pratt/NonBase Spike Trains/NonBase Spike Train_M29.mat\n",
      "data/wing_sensilla_data_Pratt/NonBase Spike Trains/NonBase Spike Train_M15.mat\n",
      "data/wing_sensilla_data_Pratt/NonBase Spike Trains/NonBase Spike Train_M14.mat\n",
      "data/wing_sensilla_data_Pratt/NonBase Spike Trains/NonBase Spike Train_M28.mat\n",
      "data/wing_sensilla_data_Pratt/NonBase Spike Trains/NonBase Spike Train_M9.mat\n",
      "data/wing_sensilla_data_Pratt/NonBase Spike Trains/NonBase Spike Train_M17.mat\n",
      "data/wing_sensilla_data_Pratt/NonBase Spike Trains/NonBase Spike Train_M8.mat\n",
      "data/wing_sensilla_data_Pratt/NonBase Spike Trains/NonBase Spike Train_M5.mat\n",
      "data/wing_sensilla_data_Pratt/NonBase Spike Trains/NonBase Spike Train_M32.mat\n",
      "data/wing_sensilla_data_Pratt/NonBase Spike Trains/NonBase Spike Train_M26.mat\n",
      "data/wing_sensilla_data_Pratt/NonBase Spike Trains/NonBase Spike Train_M27.mat\n",
      "data/wing_sensilla_data_Pratt/NonBase Spike Trains/NonBase Spike Train_M33.mat\n",
      "data/wing_sensilla_data_Pratt/NonBase Spike Trains/NonBase Spike Train_M4.mat\n",
      "data/wing_sensilla_data_Pratt/NonBase Spike Trains/NonBase Spike Train_M6.mat\n",
      "data/wing_sensilla_data_Pratt/NonBase Spike Trains/NonBase Spike Train_M25.mat\n",
      "data/wing_sensilla_data_Pratt/NonBase Spike Trains/NonBase Spike Train_M31.mat\n",
      "data/wing_sensilla_data_Pratt/NonBase Spike Trains/NonBase Spike Train_M19.mat\n",
      "data/wing_sensilla_data_Pratt/NonBase Spike Trains/NonBase Spike Train_M18.mat\n",
      "data/wing_sensilla_data_Pratt/NonBase Spike Trains/NonBase Spike Train_M30.mat\n",
      "data/wing_sensilla_data_Pratt/NonBase Spike Trains/NonBase Spike Train_M24.mat\n",
      "data/wing_sensilla_data_Pratt/NonBase Spike Trains/NonBase Spike Train_M7.mat\n",
      "data/wing_sensilla_data_Pratt/NonBase Spike Trains/NonBase Spike Train_M3.mat\n",
      "data/wing_sensilla_data_Pratt/NonBase Spike Trains/NonBase Spike Train_M20.mat\n",
      "data/wing_sensilla_data_Pratt/NonBase Spike Trains/NonBase Spike Train_M21.mat\n",
      "data/wing_sensilla_data_Pratt/NonBase Spike Trains/NonBase Spike Train_M23.mat\n",
      "data/wing_sensilla_data_Pratt/NonBase Spike Trains/NonBase Spike Train_M22.mat\n",
      "data/wing_sensilla_data_Pratt/NonBase Spike Trains/NonBase Spike Train_M1.mat\n"
     ]
    }
   ],
   "source": [
    "import glob\n",
    "\n",
    "for file in glob.glob(data_path + 'NonBase Spike Trains/*.mat'):\n",
    "    print(file)"
   ]
  },
  {
   "cell_type": "code",
   "execution_count": null,
   "metadata": {},
   "outputs": [],
   "source": []
  }
 ],
 "metadata": {
  "kernelspec": {
   "display_name": "Python 3",
   "language": "python",
   "name": "python3"
  },
  "language_info": {
   "codemirror_mode": {
    "name": "ipython",
    "version": 3
   },
   "file_extension": ".py",
   "mimetype": "text/x-python",
   "name": "python",
   "nbconvert_exporter": "python",
   "pygments_lexer": "ipython3",
   "version": "3.8.5"
  }
 },
 "nbformat": 4,
 "nbformat_minor": 4
}
