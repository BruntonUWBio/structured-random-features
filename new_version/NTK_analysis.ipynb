{
 "cells": [
  {
   "cell_type": "markdown",
   "metadata": {},
   "source": [
    "Set up a fully trained network in the NTK regime. We have a 1-hidden layer ReLU network.\n",
    "\n",
    "$$\n",
    "f_{W, a} (x)  = \\dfrac{1}{\\sqrt{m}} \\sum_{i=1}^m a_r \\sigma(w_r^\\intercal x)\n",
    "$$\n",
    "\n",
    "The parameters are initialized randomly:\n",
    "$$\n",
    "w_r(0) \\sim \\mathcal{N}(0, \\kappa^2 \\mathbb{I}), a_r \\sim \\text{unif}(\\{-1, 1 \\}), \\forall r \\in [m]\n",
    "$$\n",
    "\n",
    "We fix the second layer $\\mathbf{a}$ and optimize the first layer $\\bf{W}$ on the quadratic objective function.\n",
    "$$\n",
    "\\phi(\\mathbf{W}) = \\dfrac{1}{2} \\sum_{i=1}^n (y_i - f_{\\mathbf{W, a (x_i)}})^2\n",
    "$$"
   ]
  },
  {
   "cell_type": "code",
   "execution_count": null,
   "metadata": {},
   "outputs": [],
   "source": [
    "import numpy as np\n",
    "import numpy.linalg as la\n",
    "import matplotlib.pyplot as plt\n",
    "import torch\n",
    "import torch.nn as nn\n",
    "from estimator import classical_weights, V1_inspired_weights_same_center\n",
    "from data_fns import load_mnist, load_cifar_10\n",
    "from sklearn.model_selection import train_test_split"
   ]
  },
  {
   "cell_type": "code",
   "execution_count": null,
   "metadata": {},
   "outputs": [],
   "source": [
    "W = V1_inspired_weights_same_center(20, 1024, 5, 2, [14, 14])\n",
    "\n",
    "fig = plt.figure()\n",
    "for i in range(6):\n",
    "    ax = fig.add_subplot(2, 3, i + 1)\n",
    "    plt.imshow(W[i].reshape(32, 32), cmap='RdBu')\n",
    "    plt.axis('off')\n",
    "    cmap_lim = np.max(np.abs(W[i]))\n",
    "    plt.clim(-cmap_lim, cmap_lim)"
   ]
  },
  {
   "cell_type": "code",
   "execution_count": null,
   "metadata": {},
   "outputs": [],
   "source": [
    "# load data\n",
    "torch.cuda.set_device(0)\n",
    "train, train_labels, test, test_labels = load_mnist('./data/mnist/')\n",
    "# train, train_labels, test, test_labels = load_cifar_10(grayscale=True)\n",
    "\n",
    "# convert data to tensors\n",
    "train = torch.from_numpy(train).float().to('cuda')\n",
    "train_labels = torch.from_numpy(train_labels).long().to('cuda')\n",
    "test = torch.from_numpy(test).float().to('cuda')\n",
    "test_labels = torch.from_numpy(test_labels).long().to('cuda')\n",
    "\n",
    "# reshape\n",
    "train_labels = train_labels.reshape(-1, 1)\n",
    "test_labels = test_labels.reshape(-1, 1)\n",
    "\n",
    "X_train, X_test, y_train, y_test = train, test, train_labels, test_labels"
   ]
  },
  {
   "cell_type": "markdown",
   "metadata": {},
   "source": [
    "## Repeat similar experimental conditions as Du et. al. 2019. \n",
    "\"Fine-Grained Analysis of Optimization and Generalization for Overparameterized Two-Layer Neural Networks \""
   ]
  },
  {
   "cell_type": "code",
   "execution_count": null,
   "metadata": {},
   "outputs": [],
   "source": [
    "# normalize inputs so that |x|_2 = 1\n",
    "train /= torch.norm(train, dim=1).reshape(-1, 1)\n",
    "test /= torch.norm(test, dim=1).reshape(-1, 1)\n",
    "\n",
    "# load only the first two classes\n",
    "train_idx = torch.logical_or(train_labels == 0, train_labels == 1).flatten()\n",
    "test_idx = torch.logical_or(test_labels == 0, test_labels == 1).flatten()\n",
    "train_binary = train[train_idx]\n",
    "\n",
    "# We want label = 1 if first class and -1 otherwise.\n",
    "# So we multiply original labels by -2 and add 1. Then, 0 -> 1, 1 -> -1\n",
    "train_labels_binary = train_labels[train_idx] * -2 + 1\n",
    "test_labels_binary = test_labels[test_idx] * -2 + 1\n",
    "\n",
    "# We have 10k training samples and ~2k validation samples\n",
    "X_test, y_test = test[test_idx], test_labels_binary\n",
    "X_train, X_val, y_train, y_val = train_test_split(train_binary, train_labels_binary, train_size=9999, random_state=42)"
   ]
  },
  {
   "cell_type": "code",
   "execution_count": null,
   "metadata": {},
   "outputs": [],
   "source": [
    "# Set up the neural network. Hidden weights are trained but the output weights are fixed.\n",
    "class NTK_net(nn.Module):\n",
    "    def __init__(self, input_size, hidden_size, output_size, kappa):\n",
    "        super().__init__()\n",
    "        self.hidden_size = hidden_size\n",
    "        self.fc1 = nn.Linear(input_size, hidden_size)\n",
    "        torch.nn.init.normal_(self.fc1.weight, mean=0, std=kappa ** 2)\n",
    "        self.output = nn.Linear(hidden_size, output_size)\n",
    "        torch.nn.init.uniform_(self.output.weight, a=-1, b=1)\n",
    "        self.output.weight.requires_grad = False # freeze layer\n",
    "        \n",
    "    def forward(self, inputs):\n",
    "        x = torch.relu(self.fc1(inputs))\n",
    "        return 1 / np.sqrt(self.hidden_size) * self.output(x)\n",
    "\n",
    "class bio_NTK_net(nn.Module):\n",
    "    def __init__(self, input_size, hidden_size, output_size, kappa):\n",
    "        super().__init__()\n",
    "        self.hidden_size = hidden_size\n",
    "        self.fc1 = nn.Linear(input_size, hidden_size)\n",
    "        self.fc1.weight.data = torch.FloatTensor(V1_inspired_weights_same_center(hidden_size, input_size, t=5, l=2, m=[14, 14], \n",
    "                                                                                 scale=kappa ** 2))\n",
    "        self.output = nn.Linear(hidden_size, output_size)\n",
    "        torch.nn.init.uniform_(self.output.weight, a=-1, b=1)\n",
    "        self.output.weight.requires_grad = False # freeze layer\n",
    "        \n",
    "    def forward(self, inputs):\n",
    "        x = torch.relu(self.fc1(inputs))\n",
    "        return 1 / np.sqrt(self.hidden_size) * self.output(x)"
   ]
  },
  {
   "cell_type": "code",
   "execution_count": null,
   "metadata": {},
   "outputs": [],
   "source": [
    "input_size, hidden_size, output_size, kappa = X_train.shape[1], 5000, 1, 1e-2\n",
    "network = NTK_net(input_size, hidden_size, output_size, kappa).to('cuda')\n",
    "bio_network = bio_NTK_net(input_size, hidden_size, output_size, kappa).to('cuda')"
   ]
  },
  {
   "cell_type": "code",
   "execution_count": null,
   "metadata": {},
   "outputs": [],
   "source": [
    "n_epochs, lr = 50000, 1e-3\n",
    "loss_func = nn.MSELoss(reduction='sum')\n",
    "loss_list = []\n",
    "for i in range(n_epochs):\n",
    "    optim = torch.optim.SGD(network.parameters(), lr=lr)\n",
    "    optim.zero_grad()\n",
    "    loss = loss_func(network(X_train), y_train.float()) / 2\n",
    "    loss.backward()\n",
    "    optim.step()\n",
    "    loss_list.append(loss)\n",
    "    if (i % 5000 == 0):\n",
    "        print('Epoch: %d, loss=%0.3f' % (i, loss))"
   ]
  },
  {
   "cell_type": "code",
   "execution_count": null,
   "metadata": {},
   "outputs": [],
   "source": [
    "n_epochs, lr = 50000, 1e-3 \n",
    "loss_func = nn.MSELoss(reduction='sum')\n",
    "loss_list_bio = []\n",
    "for i in range(n_epochs):\n",
    "    optim = torch.optim.SGD(bio_network.parameters(), lr=lr)\n",
    "    optim.zero_grad()\n",
    "    loss = loss_func(bio_network(X_train), y_train.float()) / 2\n",
    "    loss.backward()\n",
    "    optim.step()\n",
    "    loss_list_bio.append(loss)\n",
    "    if (i % 10000 == 0):\n",
    "        print('Epoch: %d, loss=%0.3f' % (i, loss))"
   ]
  },
  {
   "cell_type": "code",
   "execution_count": null,
   "metadata": {},
   "outputs": [],
   "source": [
    "ntk_test_loss = loss_func(network(X_test), y_test)\n",
    "bio_test_loss = loss_func(bio_network(X_test), y_test)\n",
    "colors = {'NTK_bio': '#2c7fb8', 'NTK': '#d95f02'}\n",
    "\n",
    "fig = plt.figure(figsize=(10.6, 8))\n",
    "ax = fig.add_subplot(111)\n",
    "t = np.arange(1, n_epochs + 1)\n",
    "plt.suptitle('Training loss on cifar with 2 classes; test loss NTK=%0.2f, bio=%0.2f' % (ntk_test_loss, bio_test_loss))\n",
    "plt.loglog(t, loss_list, c=colors['NTK'], label='NTK', lw=7)\n",
    "plt.loglog(t, loss_list_bio,  c=colors['NTK_bio'], label='bio NTK', lw=7)\n",
    "plt.xlabel('Epoch', fontsize=40)\n",
    "plt.ylabel('Train loss', fontsize=40)\n",
    "plt.yticks([10, 100, 1000, 10000])\n",
    "plt.xticks([1, 10, 100, 1000, 10000, 10000])\n",
    "# plt.ylim([-0.05, 1.00])\n",
    "plt.xlim([1, 50000])\n",
    "ax.tick_params(axis = 'both', which = 'major', labelsize = 30, width=2, length=6)\n",
    "# plt.legend()\n",
    "plt.savefig('results/NTK_analysis/cifar10_train_loss_h=%d_fixed_center.png' % hidden_size)"
   ]
  },
  {
   "cell_type": "markdown",
   "metadata": {},
   "source": [
    "## kernel matrix analysis"
   ]
  },
  {
   "cell_type": "code",
   "execution_count": null,
   "metadata": {},
   "outputs": [],
   "source": [
    "import numpy as np\n",
    "import numpy.linalg as la\n",
    "import matplotlib.pyplot as plt\n",
    "from estimator import V1_inspired_kernel_matrix\n",
    "from data_fns import load_mnist, load_cifar_10\n",
    "from sklearn.model_selection import train_test_split"
   ]
  },
  {
   "cell_type": "code",
   "execution_count": null,
   "metadata": {},
   "outputs": [],
   "source": [
    "dataset = 'mnist'\n",
    "if dataset == 'mnist':\n",
    "    train, train_labels, test, test_labels = load_mnist('./data/mnist/')\n",
    "elif dataset == 'cifar10':\n",
    "    train, train_labels, test, test_labels = load_cifar_10(grayscale=True)\n",
    "\n",
    "# normalize inputs so that |x|_2 = 1\n",
    "train /= la.norm(train, axis=1).reshape(-1, 1)\n",
    "test /= la.norm(test, axis=1).reshape(-1, 1)\n",
    "\n",
    "# load only the first two classes\n",
    "train_idx = np.logical_or(train_labels == 0, train_labels == 1).flatten()\n",
    "test_idx = np.logical_or(test_labels == 0, test_labels == 1).flatten()\n",
    "train_binary = train[train_idx]\n",
    "\n",
    "# We want label = 1 if first class and -1 otherwise.\n",
    "# So we multiply original labels by -2 and add 1. Then, 0 -> 1, 1 -> -1\n",
    "train_labels_binary = train_labels[train_idx] * -2 + 1\n",
    "test_labels_binary = test_labels[test_idx] * -2 + 1\n",
    "\n",
    "# We have 10k training samples and ~2k validation samples\n",
    "X_test, y_test = test[test_idx], test_labels_binary\n",
    "X_train, X_val, y_train, y_val = train_test_split(train_binary, train_labels_binary, train_size=5000, random_state=None)"
   ]
  },
  {
   "cell_type": "markdown",
   "metadata": {},
   "source": [
    "### Analyze the projection of eigenvalues of NTK kernel matrix on the labels"
   ]
  },
  {
   "cell_type": "markdown",
   "metadata": {},
   "source": [
    "We know that for the network presented above, the NTK matrix is \n",
    "\n",
    "$$\n",
    "H^\\infty_{ij} = \\dfrac{x_i^\\intercal x_j (\\pi - \\arccos(x_i^\\intercal x_j))}{2 \\pi}, \\; \\; \\forall i, j \\in [n]\n",
    "$$"
   ]
  },
  {
   "cell_type": "code",
   "execution_count": null,
   "metadata": {},
   "outputs": [],
   "source": [
    "# bio-inspired kernel matrix\n",
    "input_size, t, l, m = X_train.shape[1], 5, 2, [14, 14]\n",
    "C = V1_inspired_kernel_matrix(input_size, t, l, m, scale=1)\n",
    "C_chol = la.cholesky(C)\n",
    "X_train_proj = X_train @ C_chol\n",
    "X_train_proj /= la.norm(X_train_proj, axis=1).reshape(-1, 1)"
   ]
  },
  {
   "cell_type": "code",
   "execution_count": null,
   "metadata": {},
   "outputs": [],
   "source": [
    "# regualar NTK\n",
    "H_inf = (X_train @ X_train.T) * (np.pi - np.arccos(X_train @ X_train.T)) / (2 * np.pi)\n",
    "H_inf[np.isnan(H_inf)] = 1 / 2\n",
    "\n",
    "H_inf_bio = (X_train @ X_train.T) * (np.pi - np.arccos(X_train_proj @ X_train_proj.T)) / (2 * np.pi) \n",
    "H_inf_bio[np.isnan(H_inf_bio)] = 1 / 2"
   ]
  },
  {
   "cell_type": "code",
   "execution_count": null,
   "metadata": {},
   "outputs": [],
   "source": [
    "# find eigenvalues, eigenvectors of the kernel matrices\n",
    "eig_val, eig_vec = la.eigh(H_inf)\n",
    "eig_val_bio, eig_vec_bio = la.eigh(H_inf_bio)\n",
    "\n",
    "# flip to arrange in descending order\n",
    "eig_val, eig_vec = np.flip(eig_val), np.flip(eig_vec, 1)\n",
    "eig_val_bio, eig_vec_bio = np.flip(eig_val_bio), np.flip(eig_vec_bio, 1)"
   ]
  },
  {
   "cell_type": "code",
   "execution_count": null,
   "metadata": {},
   "outputs": [],
   "source": [
    "# plot eigenvalues\n",
    "i = 20\n",
    "fig = plt.figure()\n",
    "plt.title('Magnitude of eigenvalues: %s' % dataset, fontsize=16)\n",
    "plt.plot(eig_val[:i], 'k-o', label='NTK')\n",
    "plt.plot(eig_val_bio[:i],'r-o', label='NTK bio', alpha=0.6)\n",
    "plt.xlabel('Eigenvector #')\n",
    "plt.ylabel('Magnitude')\n",
    "# plt.xticks(np.arange(11))\n",
    "plt.legend()\n",
    "# plt.savefig('results/NTK_analysis/eigenvalues_%s.png' % dataset)"
   ]
  },
  {
   "cell_type": "code",
   "execution_count": null,
   "metadata": {},
   "outputs": [],
   "source": [
    "# find the projections of eigenvectors onto the data labels\n",
    "proj = eig_vec.T @ y_train\n",
    "proj_bio = eig_vec_bio.T @ y_train\n",
    "\n",
    "i = 100\n",
    "fig = plt.figure(figsize=(8, 6))\n",
    "plt.plot(np.abs(proj)[:i], 'k-o', label='NTK', alpha=0.6)\n",
    "plt.plot(np.abs(proj_bio)[:i], 'r-o', label='bio NTK')\n",
    "plt.legend()\n",
    "# plt.savefig('results/NTK_analysis/proj_eigenvecs_%s.png' % dataset)"
   ]
  },
  {
   "cell_type": "code",
   "execution_count": null,
   "metadata": {},
   "outputs": [],
   "source": [
    "# find the norm of the projections \n",
    "i = 5000\n",
    "print('Norm for regular NTK', la.norm(np.abs(proj)[:i])) \n",
    "print('Norm for bio NTK', la.norm(np.abs(proj_bio)[:i]))    "
   ]
  },
  {
   "cell_type": "code",
   "execution_count": null,
   "metadata": {},
   "outputs": [],
   "source": [
    "cum_norm_NTK = np.cumsum(proj ** 2)\n",
    "cum_norm_NTK_bio = np.cumsum(proj_bio ** 2)\n",
    "\n",
    "i = 50\n",
    "fig = plt.figure(figsize=(8, 6))\n",
    "plt.title('Cumulative norm of projections of y on top eigenvecs (ascending order)')\n",
    "plt.plot(cum_norm_NTK[:i], 'k-', label='NTK', alpha=0.6)\n",
    "plt.plot(cum_norm_NTK_bio[:i], 'r-', label='bio NTK')\n",
    "plt.ylabel('cumulated projection norm', fontsize=16)\n",
    "plt.xlabel('eigvector', fontsize=16)\n",
    "plt.legend()"
   ]
  },
  {
   "cell_type": "code",
   "execution_count": null,
   "metadata": {},
   "outputs": [],
   "source": [
    "i = 100\n",
    "fig = plt.figure(figsize=(12, 6))\n",
    "ax = fig.add_subplot(111)\n",
    "plt.suptitle('Difference between cumulative proj. of NTK bio and NTK on %s' % dataset)\n",
    "plt.plot(np.array(cum_norm_NTK_bio) - np.array(cum_norm_NTK), '-', label='NTK_bio - NTK', lw=2)\n",
    "plt.plot(np.arange(5000), np.zeros(5000), '--r', label=r'$y = 0$')\n",
    "plt.ylabel('difference in cumulative projection norm')\n",
    "plt.xlabel('eigenvector')\n",
    "ax.tick_params(axis = 'both', which = 'major', labelsize = 20, width=2, length=6)\n",
    "plt.xticks(np.arange(0, 1200, 20))\n",
    "plt.yticks(np.arange(-20, 110, 20))\n",
    "plt.xlim([0, i])\n",
    "# plt.legend()\n",
    "plt.savefig('results/NTK_analysis/diff_cum_proj_eigenvecs_%s.png' % dataset)"
   ]
  },
  {
   "cell_type": "code",
   "execution_count": null,
   "metadata": {},
   "outputs": [],
   "source": [
    "# find the projection times the eigenvalue square\n",
    "proj_eigval = proj ** 2 * eig_val\n",
    "proj_eigval_bio = proj_bio ** 2 * eig_val_bio\n",
    "\n",
    "i = 5000\n",
    "fig = plt.figure(figsize=(8, 6))\n",
    "plt.plot(np.cumsum(proj_eigval)[:i], 'k-', label='NTK', alpha=0.6)\n",
    "plt.plot(np.cumsum(proj_eigval_bio)[:i], 'r-', label='bio NTK')\n",
    "plt.ylabel('cumulated projection norm')\n",
    "plt.xlabel('eigval #')\n",
    "plt.legend()"
   ]
  },
  {
   "cell_type": "code",
   "execution_count": null,
   "metadata": {},
   "outputs": [],
   "source": [
    "# plot cumulative sum of smallest eigenvalues\n",
    "i = 5000\n",
    "fig = plt.figure(figsize=(8, 6))\n",
    "plt.semilogy(eig_val[::-1], 'k-', label='NTK', alpha=0.6)\n",
    "plt.semilogy(eig_val_bio[::-1], 'r-', label='bio NTK')\n",
    "plt.ylabel('cumulated sum of eigenvalues')\n",
    "plt.xlabel('eigval #')\n",
    "plt.legend()"
   ]
  },
  {
   "cell_type": "code",
   "execution_count": null,
   "metadata": {},
   "outputs": [],
   "source": [
    "# look at the cumulative norm of the projections to eigenvecs in the ascending order\n",
    "cum_norm_NTK_asc = np.cumsum(np.flip(proj) ** 2)\n",
    "cum_norm_NTK_bio_asc = np.cumsum(np.flip(proj_bio) ** 2)\n",
    "\n",
    "i = 5000\n",
    "fig = plt.figure(figsize=(12, 6))\n",
    "plt.title('Difference between cumulative proj. of NTK bio and NTK on %s' % dataset)\n",
    "plt.plot(np.array(cum_norm_NTK_bio_asc)[:i] - np.array(cum_norm_NTK_asc)[:i], '-o', label='NTK_bio - NTK')\n",
    "plt.plot(np.arange(5000)[:i], np.zeros(5000)[:i], '--r', label=r'$y = 0$')\n",
    "plt.ylabel('difference in cumulative projection norm')\n",
    "plt.xlabel('eigenvector')\n",
    "# plt.xticks(np.arange(i))\n",
    "plt.legend()\n"
   ]
  },
  {
   "cell_type": "markdown",
   "metadata": {},
   "source": [
    "## Generalization bound for Gaussian kernel"
   ]
  },
  {
   "cell_type": "code",
   "execution_count": null,
   "metadata": {},
   "outputs": [],
   "source": [
    "%pylab inline"
   ]
  },
  {
   "cell_type": "markdown",
   "metadata": {},
   "source": [
    "$$f(\\theta) = \\sqrt{\\frac{2y^TH^{-1}(\\theta)y}{n}}$$ \n",
    "where\n",
    "$$H(\\theta)_{ij} = \\frac{x_i^TC_\\theta x_j\\left(\\pi - \\arccos x_i^TC_\\theta x_j\\right)}{2\\pi}$$\n",
    "Let $x_i \\in [0, 1]$ then the covariance matrix $C(\\theta)$ assigns covariance coefficients to the coordinates of x that are exponentially decreasing with the distance. In other words, it makes an assumtion that nearly-placed coordinates of x are correltated:\n",
    "$$C(\\theta)_{ij} = \\exp\\left(-\\frac{(i-j)^2}{2\\theta^2n^2}\\right)$$"
   ]
  },
  {
   "cell_type": "code",
   "execution_count": 1,
   "metadata": {},
   "outputs": [],
   "source": [
    "import numpy as np\n",
    "import numpy.linalg as la\n",
    "import matplotlib.pyplot as plt\n",
    "from data_fns import load_mnist, load_cifar_10\n",
    "from sklearn.model_selection import train_test_split\n",
    "from scipy.spatial.distance import pdist, squareform"
   ]
  },
  {
   "cell_type": "code",
   "execution_count": 2,
   "metadata": {},
   "outputs": [],
   "source": [
    "def cov_matrix(n, theta, scale=1):\n",
    "    P = np.array([np.arange(n).tolist()] * n)\n",
    "    C = np.exp(-(P - P.T)**2/(2 * theta ** 2 * n ** 2))\n",
    "#     C *= (scale * n / np.trace(C))\n",
    "#     C += 1e-7 * np.eye(n)\n",
    "    return C\n",
    "\n",
    "# def cov_matrix(n, theta, scale=1):\n",
    "#     x = np.arange(np.sqrt(n))\n",
    "#     yy, xx = np.meshgrid(x, x)\n",
    "#     grid = np.column_stack((xx.flatten(), yy.flatten()))\n",
    "\n",
    "#     dist = squareform(pdist(grid, 'sqeuclidean'))\n",
    "#     C = np.exp(-dist / (2 * theta ** 2))\n",
    "    \n",
    "#     C += 1e-5 * np.eye(n)\n",
    "#     C *= (scale * n / np.trace(C))\n",
    "#     return C\n",
    "\n",
    "def H_inf(X, theta, scale=1):\n",
    "    n = X.shape[1]\n",
    "    C = cov_matrix(n, theta, scale)\n",
    "    L = la.cholesky(C)    \n",
    "    Lx = X @ L\n",
    "    Lx /= la.norm(Lx, axis=1).reshape(-1, 1)\n",
    "    \n",
    "    H = (X @ X.T) * (np.pi - np.arccos(Lx @ Lx.T)) / (2 * np.pi)\n",
    "    H[np.isnan(H)] = 1 / 2 # replace NaN with 1/2\n",
    "    return H\n",
    "\n",
    "def gen_err_measure(X, y, theta, scale=1):\n",
    "    n = X.shape[1]\n",
    "    return y.T.dot(np.linalg.inv(H_inf(X, theta, scale))).dot(y) / n\n",
    "\n",
    "def conv_measure(X, y, theta, scale=1):\n",
    "    n = X.shape[1]\n",
    "    return -y.T.dot(H_inf(X, theta, scale).dot(y))/ n\n",
    "\n",
    "def joint_L(X, y, theta, lam=1e-6, scale=1):\n",
    "    f = gen_err_measure(X, y, theta, scale=1)\n",
    "    g = conv_measure(X, y, theta, scale=1)\n",
    "    return (1-lam) * f + lam * g"
   ]
  },
  {
   "cell_type": "code",
   "execution_count": 3,
   "metadata": {},
   "outputs": [],
   "source": [
    "m = 100 # number of objects\n",
    "n = 10  # number of features\n",
    "\n",
    "# generate data\n",
    "theta_true = 0.5\n",
    "C_true = cov_matrix(n, theta_true, 1)\n",
    "np.random.seed(42)\n",
    "X = np.random.multivariate_normal(np.zeros(n), C_true, size=m) \n",
    "X = X / X.sum(axis=1, keepdims=True)\n",
    "beta = np.random.rand(n)\n",
    "y = X.dot(beta)"
   ]
  },
  {
   "cell_type": "code",
   "execution_count": 4,
   "metadata": {},
   "outputs": [
    {
     "data": {
      "text/plain": [
       "array([[0, 1, 2, 3, 4, 5, 6, 7, 8, 9],\n",
       "       [0, 1, 2, 3, 4, 5, 6, 7, 8, 9],\n",
       "       [0, 1, 2, 3, 4, 5, 6, 7, 8, 9],\n",
       "       [0, 1, 2, 3, 4, 5, 6, 7, 8, 9],\n",
       "       [0, 1, 2, 3, 4, 5, 6, 7, 8, 9],\n",
       "       [0, 1, 2, 3, 4, 5, 6, 7, 8, 9],\n",
       "       [0, 1, 2, 3, 4, 5, 6, 7, 8, 9],\n",
       "       [0, 1, 2, 3, 4, 5, 6, 7, 8, 9],\n",
       "       [0, 1, 2, 3, 4, 5, 6, 7, 8, 9],\n",
       "       [0, 1, 2, 3, 4, 5, 6, 7, 8, 9]])"
      ]
     },
     "execution_count": 4,
     "metadata": {},
     "output_type": "execute_result"
    },
    {
     "data": {
      "image/png": "[encoded data removed]",
      "text/plain": [
       "<Figure size 432x288 with 2 Axes>"
      ]
     },
     "metadata": {
      "needs_background": "light"
     },
     "output_type": "display_data"
    }
   ],
   "source": [
    "C = cov_matrix(n, 40)\n",
    "\n",
    "fig = plt.figure()\n",
    "plt.imshow(C, cmap='RdBu')\n",
    "plt.colorbar()\n",
    "\n",
    "np.array([np.arange(n).tolist()] * n)"
   ]
  },
  {
   "cell_type": "code",
   "execution_count": null,
   "metadata": {},
   "outputs": [],
   "source": [
    "theta_span = np.linspace(40, 1500, 10)\n",
    "f_span, g_span, L_span = [], [], []\n",
    "\n",
    "for i, theta in enumerate(theta_span):\n",
    "    print('%d/%d' % (i, len(theta_span)))\n",
    "    f_span.append(gen_err_measure(X, y, theta))\n",
    "    g_span.append(conv_measure(X, y, theta))\n",
    "    L_span.append(joint_L(X, y, theta))"
   ]
  },
  {
   "cell_type": "code",
   "execution_count": null,
   "metadata": {},
   "outputs": [],
   "source": [
    "import matplotlib.pyplot as plt\n",
    "plt.rcParams.update({'font.size': 22})"
   ]
  },
  {
   "cell_type": "code",
   "execution_count": null,
   "metadata": {},
   "outputs": [],
   "source": [
    "fig, (ax1, ax3) = plt.subplots(nrows=1, ncols=2, figsize=(24, 10))\n",
    "\n",
    "color = 'tab:red'\n",
    "ax1.set_xlabel(r'$l$')\n",
    "ax1.set_ylabel('generalization bound', color=color)\n",
    "ax1.plot(theta_span, f_span, color=color)\n",
    "ax1.tick_params(axis='y', labelcolor=color)\n",
    "\n",
    "ax2 = ax1.twinx()  # instantiate a second axes that shares the same x-axis\n",
    "\n",
    "color = 'tab:blue'\n",
    "ax2.set_ylabel('initial slope', color=color)  # we already handled the x-label with ax1\n",
    "ax2.plot(theta_span, g_span, color=color)\n",
    "ax2.tick_params(axis='y', labelcolor=color)\n",
    "\n",
    "ax3.plot(theta_span, L_span, color=\"black\")\n",
    "ax3.set_xlabel(r'$l$')\n",
    "ax3.set_ylabel('$J_\\lambda(l)$, weighted criterion')\n",
    "ax3.set_title(r\"$J_\\lambda(l)$ with $\\lambda=1e5$\")\n",
    "\n",
    "fig.subplots_adjust(wspace=0.3)\n",
    "fig.tight_layout()  # otherwise the right y-label is slightly clipped\n",
    "plt.show()"
   ]
  },
  {
   "cell_type": "code",
   "execution_count": null,
   "metadata": {},
   "outputs": [],
   "source": []
  }
 ],
 "metadata": {
  "kernelspec": {
   "display_name": "Python 3",
   "language": "python",
   "name": "python3"
  },
  "language_info": {
   "codemirror_mode": {
    "name": "ipython",
    "version": 3
   },
   "file_extension": ".py",
   "mimetype": "text/x-python",
   "name": "python",
   "nbconvert_exporter": "python",
   "pygments_lexer": "ipython3",
   "version": "3.8.3"
  }
 },
 "nbformat": 4,
 "nbformat_minor": 4
}
