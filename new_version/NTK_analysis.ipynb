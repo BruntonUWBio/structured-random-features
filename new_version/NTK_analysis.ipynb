{
 "cells": [
  {
   "cell_type": "markdown",
   "metadata": {},
   "source": [
    "Set up a fully trained network in the NTK regime. We have a 1-hidden layer ReLU network.\n",
    "\n",
    "$$\n",
    "f_{W, a} (x)  = \\dfrac{1}{\\sqrt{m}} \\sum_{i=1}^m a_r \\sigma(w_r^\\intercal x)\n",
    "$$\n",
    "\n",
    "The parameters are initialized randomly:\n",
    "$$\n",
    "w_r(0) \\sim \\mathcal{N}(0, \\kappa^2 \\mathbb{I}), a_r \\sim \\text{unif}(\\{-1, 1 \\}), \\forall r \\in [m]\n",
    "$$\n",
    "\n",
    "We fix the second layer $\\mathbf{a}$ and optimize the first layer $\\bf{W}$ on the quadratic objective function.\n",
    "$$\n",
    "\\phi(\\mathbf{W}) = \\dfrac{1}{2} \\sum_{i=1}^n (y_i - f_{\\mathbf{W, a (x_i)}})^2\n",
    "$$"
   ]
  },
  {
   "cell_type": "code",
   "execution_count": null,
   "metadata": {},
   "outputs": [],
   "source": [
    "import numpy as np\n",
    "import numpy.linalg as la\n",
    "import matplotlib.pyplot as plt\n",
    "import torch\n",
    "import torch.nn as nn\n",
    "from estimator import classical_weights, V1_inspired_weights_same_center\n",
    "from data_fns import load_mnist, load_cifar_10\n",
    "from sklearn.model_selection import train_test_split"
   ]
  },
  {
   "cell_type": "code",
   "execution_count": null,
   "metadata": {},
   "outputs": [],
   "source": [
    "W = V1_inspired_weights_same_center(20, 1024, 5, 2, [14, 14])\n",
    "\n",
    "fig = plt.figure()\n",
    "for i in range(6):\n",
    "    ax = fig.add_subplot(2, 3, i + 1)\n",
    "    plt.imshow(W[i].reshape(32, 32), cmap='RdBu')\n",
    "    plt.axis('off')\n",
    "    cmap_lim = np.max(np.abs(W[i]))\n",
    "    plt.clim(-cmap_lim, cmap_lim)"
   ]
  },
  {
   "cell_type": "code",
   "execution_count": null,
   "metadata": {},
   "outputs": [],
   "source": [
    "# load data\n",
    "torch.cuda.set_device(0)\n",
    "train, train_labels, test, test_labels = load_mnist('./data/mnist/')\n",
    "# train, train_labels, test, test_labels = load_cifar_10(grayscale=True)\n",
    "\n",
    "# convert data to tensors\n",
    "train = torch.from_numpy(train).float().to('cuda')\n",
    "train_labels = torch.from_numpy(train_labels).long().to('cuda')\n",
    "test = torch.from_numpy(test).float().to('cuda')\n",
    "test_labels = torch.from_numpy(test_labels).long().to('cuda')\n",
    "\n",
    "# reshape\n",
    "train_labels = train_labels.reshape(-1, 1)\n",
    "test_labels = test_labels.reshape(-1, 1)\n",
    "\n",
    "X_train, X_test, y_train, y_test = train, test, train_labels, test_labels"
   ]
  },
  {
   "cell_type": "markdown",
   "metadata": {},
   "source": [
    "## Repeat similar experimental conditions as Du et. al. 2019. \n",
    "\"Fine-Grained Analysis of Optimization and Generalization for Overparameterized Two-Layer Neural Networks \""
   ]
  },
  {
   "cell_type": "code",
   "execution_count": null,
   "metadata": {},
   "outputs": [],
   "source": [
    "# normalize inputs so that |x|_2 = 1\n",
    "train /= torch.norm(train, dim=1).reshape(-1, 1)\n",
    "test /= torch.norm(test, dim=1).reshape(-1, 1)\n",
    "\n",
    "# load only the first two classes\n",
    "train_idx = torch.logical_or(train_labels == 0, train_labels == 1).flatten()\n",
    "test_idx = torch.logical_or(test_labels == 0, test_labels == 1).flatten()\n",
    "train_binary = train[train_idx]\n",
    "\n",
    "# We want label = 1 if first class and -1 otherwise.\n",
    "# So we multiply original labels by -2 and add 1. Then, 0 -> 1, 1 -> -1\n",
    "train_labels_binary = train_labels[train_idx] * -2 + 1\n",
    "test_labels_binary = test_labels[test_idx] * -2 + 1\n",
    "\n",
    "# We have 10k training samples and ~2k validation samples\n",
    "X_test, y_test = test[test_idx], test_labels_binary\n",
    "X_train, X_val, y_train, y_val = train_test_split(train_binary, train_labels_binary, train_size=9999, random_state=42)"
   ]
  },
  {
   "cell_type": "code",
   "execution_count": null,
   "metadata": {},
   "outputs": [],
   "source": [
    "# Set up the neural network. Hidden weights are trained but the output weights are fixed.\n",
    "class NTK_net(nn.Module):\n",
    "    def __init__(self, input_size, hidden_size, output_size, kappa):\n",
    "        super().__init__()\n",
    "        self.hidden_size = hidden_size\n",
    "        self.fc1 = nn.Linear(input_size, hidden_size)\n",
    "        torch.nn.init.normal_(self.fc1.weight, mean=0, std=kappa ** 2)\n",
    "        self.output = nn.Linear(hidden_size, output_size)\n",
    "        torch.nn.init.uniform_(self.output.weight, a=-1, b=1)\n",
    "        self.output.weight.requires_grad = False # freeze layer\n",
    "        \n",
    "    def forward(self, inputs):\n",
    "        x = torch.relu(self.fc1(inputs))\n",
    "        return 1 / np.sqrt(self.hidden_size) * self.output(x)\n",
    "\n",
    "class bio_NTK_net(nn.Module):\n",
    "    def __init__(self, input_size, hidden_size, output_size, kappa):\n",
    "        super().__init__()\n",
    "        self.hidden_size = hidden_size\n",
    "        self.fc1 = nn.Linear(input_size, hidden_size)\n",
    "        self.fc1.weight.data = torch.FloatTensor(V1_inspired_weights_same_center(hidden_size, input_size, t=5, l=2, m=[14, 14], \n",
    "                                                                                 scale=kappa ** 2))\n",
    "        self.output = nn.Linear(hidden_size, output_size)\n",
    "        torch.nn.init.uniform_(self.output.weight, a=-1, b=1)\n",
    "        self.output.weight.requires_grad = False # freeze layer\n",
    "        \n",
    "    def forward(self, inputs):\n",
    "        x = torch.relu(self.fc1(inputs))\n",
    "        return 1 / np.sqrt(self.hidden_size) * self.output(x)"
   ]
  },
  {
   "cell_type": "code",
   "execution_count": null,
   "metadata": {},
   "outputs": [],
   "source": [
    "input_size, hidden_size, output_size, kappa = X_train.shape[1], 5000, 1, 1e-2\n",
    "network = NTK_net(input_size, hidden_size, output_size, kappa).to('cuda')\n",
    "bio_network = bio_NTK_net(input_size, hidden_size, output_size, kappa).to('cuda')"
   ]
  },
  {
   "cell_type": "code",
   "execution_count": null,
   "metadata": {},
   "outputs": [],
   "source": [
    "n_epochs, lr = 50000, 1e-3\n",
    "loss_func = nn.MSELoss(reduction='sum')\n",
    "loss_list = []\n",
    "for i in range(n_epochs):\n",
    "    optim = torch.optim.SGD(network.parameters(), lr=lr)\n",
    "    optim.zero_grad()\n",
    "    loss = loss_func(network(X_train), y_train.float()) / 2\n",
    "    loss.backward()\n",
    "    optim.step()\n",
    "    loss_list.append(loss)\n",
    "    if (i % 10000 == 0):\n",
    "        print('Epoch: %d, loss=%0.3f' % (i, loss))"
   ]
  },
  {
   "cell_type": "code",
   "execution_count": null,
   "metadata": {},
   "outputs": [],
   "source": [
    "n_epochs, lr = 50000, 1e-3 \n",
    "loss_func = nn.MSELoss(reduction='sum')\n",
    "loss_list_bio = []\n",
    "for i in range(n_epochs):\n",
    "    optim = torch.optim.SGD(bio_network.parameters(), lr=lr)\n",
    "    optim.zero_grad()\n",
    "    loss = loss_func(bio_network(X_train), y_train.float()) / 2\n",
    "    loss.backward()\n",
    "    optim.step()\n",
    "    loss_list_bio.append(loss)\n",
    "    if (i % 5000 == 0):\n",
    "        print('Epoch: %d, loss=%0.3f' % (i, loss))"
   ]
  },
  {
   "cell_type": "code",
   "execution_count": null,
   "metadata": {},
   "outputs": [],
   "source": [
    "ntk_test_loss = loss_func(network(X_test), y_test)\n",
    "bio_test_loss = loss_func(bio_network(X_test), y_test)\n",
    "fig = plt.figure()\n",
    "t = np.arange(1, n_epochs + 1)\n",
    "plt.title('Training loss on cifar with 2 classes; test loss NTK=%0.2f, bio=%0.2f' % (ntk_test_loss, bio_test_loss))\n",
    "plt.plot(t, loss_list, label='NTK')\n",
    "plt.plot(t, loss_list_bio, label='bio NTK')\n",
    "plt.xlabel('epoch')\n",
    "plt.ylabel('Train loss')\n",
    "plt.legend()\n",
    "plt.savefig('results/NTK_analysis/cifar10_train_loss_h=%d_fixed_center.png' % hidden_size)"
   ]
  },
  {
   "cell_type": "markdown",
   "metadata": {},
   "source": [
    "## kernel matrix analysis"
   ]
  },
  {
   "cell_type": "code",
   "execution_count": 1,
   "metadata": {},
   "outputs": [],
   "source": [
    "import numpy as np\n",
    "import numpy.linalg as la\n",
    "import matplotlib.pyplot as plt\n",
    "from estimator import V1_inspired_kernel_matrix\n",
    "from data_fns import load_mnist, load_cifar_10\n",
    "from sklearn.model_selection import train_test_split"
   ]
  },
  {
   "cell_type": "code",
   "execution_count": 47,
   "metadata": {},
   "outputs": [],
   "source": [
    "# train, train_labels, test, test_labels = load_mnist('./data/mnist/')\n",
    "train, train_labels, test, test_labels = load_cifar_10(grayscale=True)\n",
    "\n",
    "# normalize inputs so that |x|_2 = 1\n",
    "train /= la.norm(train, axis=1).reshape(-1, 1)\n",
    "test /= la.norm(test, axis=1).reshape(-1, 1)\n",
    "\n",
    "# load only the first two classes\n",
    "train_idx = np.logical_or(train_labels == 0, train_labels == 1).flatten()\n",
    "test_idx = np.logical_or(test_labels == 0, test_labels == 1).flatten()\n",
    "train_binary = train[train_idx]\n",
    "\n",
    "# We want label = 1 if first class and -1 otherwise.\n",
    "# So we multiply original labels by -2 and add 1. Then, 0 -> 1, 1 -> -1\n",
    "train_labels_binary = train_labels[train_idx] * -2 + 1\n",
    "test_labels_binary = test_labels[test_idx] * -2 + 1\n",
    "\n",
    "# We have 10k training samples and ~2k validation samples\n",
    "X_test, y_test = test[test_idx], test_labels_binary\n",
    "X_train, X_val, y_train, y_val = train_test_split(train_binary, train_labels_binary, train_size=9999, random_state=42)"
   ]
  },
  {
   "cell_type": "markdown",
   "metadata": {},
   "source": [
    "### Repeat Simon's results"
   ]
  },
  {
   "cell_type": "markdown",
   "metadata": {},
   "source": [
    "We know that for the network presented above, the NTK matrix is \n",
    "\n",
    "$$\n",
    "H^\\infty_{ij} = \\dfrac{x_i^\\intercal x_j (\\pi - \\arccos(x_i^\\intercal x_j))}{2 \\pi}, \\; \\; \\forall i, j \\in [n]\n",
    "$$"
   ]
  },
  {
   "cell_type": "code",
   "execution_count": 48,
   "metadata": {},
   "outputs": [
    {
     "name": "stderr",
     "output_type": "stream",
     "text": [
      "<ipython-input-48-4e69735e275f>:1: RuntimeWarning: invalid value encountered in arccos\n",
      "  H_inf = (X_train @ X_train.T) * (np.pi - np.arccos(X_train @ X_train.T)) / np.pi\n"
     ]
    }
   ],
   "source": [
    "H_inf = (X_train @ X_train.T) * (np.pi - np.arccos(X_train @ X_train.T)) / np.pi \n",
    "H_inf[np.isnan(H_inf)] = 0\n",
    "\n",
    "eig_val, eig_vec = la.eigh(H_inf)\n",
    "proj = eig_vec.T @ y_train"
   ]
  },
  {
   "cell_type": "code",
   "execution_count": 12,
   "metadata": {},
   "outputs": [
    {
     "data": {
      "text/plain": [
       "[<matplotlib.lines.Line2D at 0x7f2a4596d850>]"
      ]
     },
     "execution_count": 12,
     "metadata": {},
     "output_type": "execute_result"
    },
    {
     "data": {
      "image/png": "[encoded data removed]",
      "text/plain": [
       "<Figure size 432x288 with 1 Axes>"
      ]
     },
     "metadata": {
      "needs_background": "light"
     },
     "output_type": "display_data"
    }
   ],
   "source": [
    "fig = plt.figure()\n",
    "plt.plot(np.flip(np.abs(proj)), c='b', label='NTK')\n",
    "# plt.plot(np.flip(eig_val)[:50])"
   ]
  },
  {
   "cell_type": "code",
   "execution_count": 56,
   "metadata": {},
   "outputs": [
    {
     "data": {
      "text/plain": [
       "<matplotlib.legend.Legend at 0x7f2a4b1d0c10>"
      ]
     },
     "execution_count": 56,
     "metadata": {},
     "output_type": "execute_result"
    },
    {
     "data": {
      "image/png": "[encoded data removed]",
      "text/plain": [
       "<Figure size 432x288 with 1 Axes>"
      ]
     },
     "metadata": {
      "needs_background": "light"
     },
     "output_type": "display_data"
    }
   ],
   "source": [
    "i = 7\n",
    "fig = plt.figure()\n",
    "plt.plot(np.flip(eig_val)[:i], 'k-', label='NTK')\n",
    "plt.plot(np.flip(eig_val_bio)[:i],'k--', label='NTK bio')\n",
    "plt.legend()"
   ]
  },
  {
   "cell_type": "markdown",
   "metadata": {},
   "source": [
    "### Repeat Simon's results with biological RFs"
   ]
  },
  {
   "cell_type": "code",
   "execution_count": 10,
   "metadata": {},
   "outputs": [],
   "source": [
    "input_size, t, l, m = X_train.shape[1], 7, 7, [14, 14]\n",
    "C = V1_inspired_kernel_matrix(input_size, t, l, m, scale=1 / input_size)\n",
    "H_inf_bio = (X_train @ X_train.T) * (np.pi - np.arccos(X_train @ C @ X_train.T)) / np.pi\n",
    "eig_val_bio, eig_vec_bio = la.eigh(H_inf_bio)\n",
    "proj_bio = eig_vec_bio.T @ y_train"
   ]
  },
  {
   "cell_type": "code",
   "execution_count": 18,
   "metadata": {},
   "outputs": [
    {
     "data": {
      "text/plain": [
       "<matplotlib.legend.Legend at 0x7f2a455b1130>"
      ]
     },
     "execution_count": 18,
     "metadata": {},
     "output_type": "execute_result"
    },
    {
     "data": {
      "image/png": "[encoded data removed]",
      "text/plain": [
       "<Figure size 576x432 with 1 Axes>"
      ]
     },
     "metadata": {
      "needs_background": "light"
     },
     "output_type": "display_data"
    }
   ],
   "source": [
    "fig = plt.figure(figsize=(8, 6))\n",
    "plt.plot(np.flip(np.abs(proj))[:50], c='k', label='NTK', alpha=0.6)\n",
    "plt.plot(np.flip(np.abs(proj_bio))[:50], '--', c='k', label='bio NTK')\n",
    "plt.legend()"
   ]
  },
  {
   "cell_type": "code",
   "execution_count": 23,
   "metadata": {},
   "outputs": [
    {
     "name": "stdout",
     "output_type": "stream",
     "text": [
      "Norm for regular NTK 70.71067811865495\n",
      "Norm for bio NTK 70.71067811865487\n"
     ]
    }
   ],
   "source": [
    "i = 5000\n",
    "print('Norm for regular NTK', la.norm(np.abs(proj)[:i])) \n",
    "print('Norm for bio NTK', la.norm(np.abs(proj_bio)[:i]))    "
   ]
  },
  {
   "cell_type": "code",
   "execution_count": 39,
   "metadata": {},
   "outputs": [
    {
     "data": {
      "text/plain": [
       "Text(0.5, 0, 'eigval #')"
      ]
     },
     "execution_count": 39,
     "metadata": {},
     "output_type": "execute_result"
    },
    {
     "data": {
      "image/png": "[encoded data removed]",
      "text/plain": [
       "<Figure size 576x432 with 1 Axes>"
      ]
     },
     "metadata": {
      "needs_background": "light"
     },
     "output_type": "display_data"
    }
   ],
   "source": [
    "cum_norm_NTK = []\n",
    "cum_norm_bio_NTK = []\n",
    "for i in range(5000):\n",
    "    cum_norm_NTK.append(la.norm(np.flip(np.abs(proj))[:i])) \n",
    "    cum_norm_bio_NTK.append(la.norm(np.flip(np.abs(proj_bio))[:i])) \n",
    "\n",
    "fig = plt.figure(figsize=(8, 6))\n",
    "plt.plot(np.arange(5000)[:i], cum_norm_NTK[:i], '-', c='k', alpha=0.5, label='NTK')\n",
    "plt.plot(np.arange(5000)[:i], cum_norm_bio_NTK[:i], '--', c='k', label='bio NTK')\n",
    "plt.legend()\n",
    "plt.ylabel('cumulated projection norm')\n",
    "plt.xlabel('eigval #')"
   ]
  },
  {
   "cell_type": "code",
   "execution_count": 46,
   "metadata": {},
   "outputs": [
    {
     "data": {
      "text/plain": [
       "[<matplotlib.lines.Line2D at 0x7f2a484e69d0>]"
      ]
     },
     "execution_count": 46,
     "metadata": {},
     "output_type": "execute_result"
    },
    {
     "data": {
      "image/png": "[encoded data removed]",
      "text/plain": [
       "<Figure size 576x432 with 1 Axes>"
      ]
     },
     "metadata": {
      "needs_background": "light"
     },
     "output_type": "display_data"
    }
   ],
   "source": [
    "i = 100\n",
    "fig = plt.figure(figsize=(8, 6))\n",
    "plt.plot(np.arange(5000)[:i], np.array(cum_norm_bio_NTK)[:i] - np.array(cum_norm_NTK)[:i])\n",
    "plt.plot(np.arange(5000)[:i], np.zeros(5000)[:i], '--r')"
   ]
  },
  {
   "cell_type": "code",
   "execution_count": null,
   "metadata": {},
   "outputs": [],
   "source": []
  }
 ],
 "metadata": {
  "kernelspec": {
   "display_name": "Python 3",
   "language": "python",
   "name": "python3"
  },
  "language_info": {
   "codemirror_mode": {
    "name": "ipython",
    "version": 3
   },
   "file_extension": ".py",
   "mimetype": "text/x-python",
   "name": "python",
   "nbconvert_exporter": "python",
   "pygments_lexer": "ipython3",
   "version": "3.8.3"
  }
 },
 "nbformat": 4,
 "nbformat_minor": 4
}
