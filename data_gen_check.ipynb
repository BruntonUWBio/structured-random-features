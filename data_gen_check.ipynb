{
 "cells": [
  {
   "cell_type": "markdown",
   "metadata": {},
   "source": [
    "Testing whether the toy sinusoidal problem is linearly separable or not"
   ]
  },
  {
   "cell_type": "code",
   "execution_count": 1,
   "metadata": {},
   "outputs": [],
   "source": [
    "import numpy as np\n",
    "from data_fns import noisy_sin_signal, data_matrix\n",
    "from estimator import RFClassifier, relu, sigmoid\n",
    "import matplotlib.pyplot as plt"
   ]
  },
  {
   "cell_type": "code",
   "execution_count": 84,
   "metadata": {},
   "outputs": [],
   "source": [
    "def noisy_sin_signal(f_s=2000, dur=10, f_signal=40, sig_dur=0.05, a=1, seed=2, v1=False):\n",
    "    '''\n",
    "    Generate a time series of random noise interspersed with periods where a sinusoidal signal is on\n",
    "    \n",
    "    Parameters\n",
    "    ----------\n",
    "    \n",
    "    f_s = sampling frequency (Hz)\n",
    "    dur = duration of the time series (s)\n",
    "    f_signal = frequency of the signal (Hz)\n",
    "    sig_dur = duration of the signal (s)\n",
    "    a: 2x amplitude of the signal used for snr (between 0 and 1)\n",
    "    if n_amp = 2 x noise_amplitude: a ** 2 + n_amp ** 2 = 1; snr = a**2/n_amp**2\n",
    "    \n",
    "    Returns\n",
    "    -------\n",
    "    time_series: an array of shape (f_s * dur, 1)\n",
    "    labels: array with binary values (0, 1) shape (f_s * dur, )\n",
    "    '''\n",
    "    np.random.seed(seed)\n",
    "    \n",
    "    if a < 0 or a > 1:\n",
    "        raise ValueError('a should be between 0 and 1')\n",
    "    n_amp = np.sqrt(1 - a ** 2) \n",
    "    \n",
    "    t_points = np.arange(0, dur, 1/f_s)\n",
    "    if v1 == True:\n",
    "        t_series = np.random.normal(0, (a + n_amp) /2  , dur * f_s)\n",
    "    else:\n",
    "        t_series = np.random.normal(0, a /2  , dur * f_s) + np.random.normal(0, n_amp/2, dur * f_s)\n",
    "\n",
    "    label = np.zeros(len(t_series))\n",
    "    \n",
    "    d = int(sig_dur * f_s) # array len of signal\n",
    "    p = np.arange(0, len(t_points), d) # array with points d apart\n",
    "    idx = np.random.choice(p, int(dur / (2 * sig_dur)), replace=False)\n",
    "    for i in idx:\n",
    "        t = t_points[i:i + d]\n",
    "        t_series[i:i + d] = a / 2 * np.sin(2 * np.pi * f_signal * t) + np.random.normal(0, n_amp / 2, len(t))\n",
    "        label[i:i + d] = 1\n",
    "    return t_series, label"
   ]
  },
  {
   "cell_type": "code",
   "execution_count": 85,
   "metadata": {},
   "outputs": [],
   "source": [
    "# generate data\n",
    "f_s = 2000\n",
    "dur = 10\n",
    "f_sig = 100\n",
    "sig_dur = 0.05\n",
    "a = 1\n",
    "\n",
    "# neuron memory\n",
    "delta = 0.08\n",
    "N = int(delta * f_s)"
   ]
  },
  {
   "cell_type": "code",
   "execution_count": 99,
   "metadata": {},
   "outputs": [
    {
     "name": "stdout",
     "output_type": "stream",
     "text": [
      "sig rms = 0.42\n",
      "noise rms = 0.45\n"
     ]
    }
   ],
   "source": [
    "# check the root mean square of the signal\n",
    "import numpy.linalg as la\n",
    "signal, label = noisy_sin_signal(f_s=f_s, dur=dur, f_signal=f_sig, sig_dur=sig_dur, \n",
    "                                 a=0.95, seed=np.random.randint(100), v1=False)\n",
    "X, y = data_matrix(signal, label, N)\n",
    "\n",
    "rms = la.norm(X, axis=1) / np.sqrt(X.shape[1])\n",
    "c = ['r' if n == 1 else 'b' for n in y]\n",
    "print('sig rms = %0.2f' % np.mean(rms[y == 1]))\n",
    "print('noise rms = %0.2f' % np.mean(rms[y == 0]))"
   ]
  },
  {
   "cell_type": "markdown",
   "metadata": {},
   "source": [
    "__Comment__: Using the new method where $noise := N(0, a/2) + N(0, \\sigma/2)$ instead of $noise := N(0, a/2 + \\sigma/2) $ gives a matching RMS between signal and the noise portions."
   ]
  },
  {
   "cell_type": "code",
   "execution_count": 4,
   "metadata": {},
   "outputs": [
    {
     "name": "stdout",
     "output_type": "stream",
     "text": [
      "0.28872089507106136\n"
     ]
    },
    {
     "name": "stderr",
     "output_type": "stream",
     "text": [
      "/home/bpandey/anaconda3/lib/python3.7/site-packages/sklearn/svm/base.py:929: ConvergenceWarning: Liblinear failed to converge, increase the number of iterations.\n",
      "  \"the number of iterations.\", ConvergenceWarning)\n"
     ]
    }
   ],
   "source": [
    "# check if signal is linearly separable\n",
    "err = []\n",
    "for i in range(5):\n",
    "    signal, label = noisy_sin_signal(f_s=f_s, dur=dur, f_signal=f_sig, sig_dur=sig_dur, a=1, seed=np.random.randint(100))\n",
    "    X, y = data_matrix(signal, label, N)\n",
    "\n",
    "    idx = int(len(X) * 2 / 3)\n",
    "    X_train, y_train = X[:idx], y[:idx]\n",
    "    X_test, y_test = X[idx:], y[idx:]\n",
    "\n",
    "    # classifier\n",
    "    s = np.random.seed(1000)\n",
    "    l_clf = RFClassifier(width=10, weights=None, nonlinearity=relu, weight_fun=None, seed=s)\n",
    "    l_clf.fit(X_train, y_train)\n",
    "    err.append(1 - l_clf.score(X_test, y_test))\n",
    "print(np.mean(err))"
   ]
  },
  {
   "cell_type": "code",
   "execution_count": 62,
   "metadata": {},
   "outputs": [
    {
     "data": {
      "text/plain": [
       "[<matplotlib.lines.Line2D at 0x7f892e663610>]"
      ]
     },
     "execution_count": 62,
     "metadata": {},
     "output_type": "execute_result"
    },
    {
     "data": {
      "image/png": "[encoded data removed]",
      "text/plain": [
       "<Figure size 432x288 with 1 Axes>"
      ]
     },
     "metadata": {
      "needs_background": "light"
     },
     "output_type": "display_data"
    }
   ],
   "source": [
    "plt.plot((relu(signal[:1000])))\n",
    "plt.plot(label[:1000])"
   ]
  },
  {
   "cell_type": "code",
   "execution_count": 11,
   "metadata": {},
   "outputs": [
    {
     "data": {
      "text/plain": [
       "[<matplotlib.lines.Line2D at 0x7feee5ec8150>]"
      ]
     },
     "execution_count": 11,
     "metadata": {},
     "output_type": "execute_result"
    },
    {
     "data": {
      "image/png": "[encoded data removed]",
      "text/plain": [
       "<Figure size 432x288 with 1 Axes>"
      ]
     },
     "metadata": {
      "needs_background": "light"
     },
     "output_type": "display_data"
    }
   ],
   "source": [
    "plt.plot(l_clf.clf.coef_.T)"
   ]
  },
  {
   "cell_type": "code",
   "execution_count": null,
   "metadata": {},
   "outputs": [],
   "source": []
  }
 ],
 "metadata": {
  "kernelspec": {
   "display_name": "Python 3",
   "language": "python",
   "name": "python3"
  },
  "language_info": {
   "codemirror_mode": {
    "name": "ipython",
    "version": 3
   },
   "file_extension": ".py",
   "mimetype": "text/x-python",
   "name": "python",
   "nbconvert_exporter": "python",
   "pygments_lexer": "ipython3",
   "version": "3.7.4"
  }
 },
 "nbformat": 4,
 "nbformat_minor": 4
}
