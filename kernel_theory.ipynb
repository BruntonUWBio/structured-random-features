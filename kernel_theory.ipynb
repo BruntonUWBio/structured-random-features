{
 "cells": [
  {
   "cell_type": "code",
   "execution_count": 2,
   "metadata": {},
   "outputs": [],
   "source": [
    "import numpy as np\n",
    "import matplotlib.pyplot as plt"
   ]
  },
  {
   "cell_type": "code",
   "execution_count": 27,
   "metadata": {},
   "outputs": [],
   "source": [
    "T = 10\n",
    "dt = 0.001\n",
    "N = int(T/dt + 1)\n",
    "c0 = 0"
   ]
  },
  {
   "cell_type": "code",
   "execution_count": 58,
   "metadata": {},
   "outputs": [],
   "source": [
    "def white_noise(T, dt, c_0, c_k):\n",
    "    t = np.arange(0, T, dt)\n",
    "    N = int(T/dt + 1)\n",
    "    \n",
    "    k = np.arange(1, int(N/2))\n",
    "    f_k = k / T\n",
    "    phi_k = np.random.uniform(0, 2 * np.pi, len(k))\n",
    "    \n",
    "    x = []\n",
    "    for t_i in t:\n",
    "        x_i = c0/2 + np.sum(c_k * np.sin(2 * np.pi * f_k * t_i + phi_k))\n",
    "        x.append(x_i)\n",
    "    return np.array(x)"
   ]
  },
  {
   "cell_type": "code",
   "execution_count": 59,
   "metadata": {},
   "outputs": [],
   "source": [
    "t = np.arange(0, 10, dt)\n",
    "t_i = t[50]\n",
    "c_k = 1\n",
    "\n",
    "k = np.arange(1, int(N/2))\n",
    "f_k = k / T\n",
    "phi_k = np.random.uniform(0, 2 * np.pi, len(k))\n",
    "x_i = c0/2 + np.sum(c_k * np.sin(2 * np.pi * f_k * t_i + phi_k))"
   ]
  },
  {
   "cell_type": "code",
   "execution_count": 60,
   "metadata": {},
   "outputs": [],
   "source": [
    "v = white_noise(10, 0.001, c_0=0, c_k=1)"
   ]
  },
  {
   "cell_type": "code",
   "execution_count": 64,
   "metadata": {},
   "outputs": [
    {
     "data": {
      "text/plain": [
       "[<matplotlib.lines.Line2D at 0x11900bc10>]"
      ]
     },
     "execution_count": 64,
     "metadata": {},
     "output_type": "execute_result"
    },
    {
     "data": {
      "image/png": "[encoded data removed]",
      "text/plain": [
       "<Figure size 432x288 with 1 Axes>"
      ]
     },
     "metadata": {
      "needs_background": "light"
     },
     "output_type": "display_data"
    }
   ],
   "source": [
    "fig = plt.figure()\n",
    "plt.plot(t, v/200)"
   ]
  },
  {
   "cell_type": "code",
   "execution_count": 74,
   "metadata": {},
   "outputs": [
    {
     "data": {
      "text/plain": [
       "0.24997499874987242"
      ]
     },
     "execution_count": 74,
     "metadata": {},
     "output_type": "execute_result"
    }
   ],
   "source": []
  },
  {
   "cell_type": "code",
   "execution_count": null,
   "metadata": {},
   "outputs": [],
   "source": []
  }
 ],
 "metadata": {
  "kernelspec": {
   "display_name": "Python 3",
   "language": "python",
   "name": "python3"
  },
  "language_info": {
   "codemirror_mode": {
    "name": "ipython",
    "version": 3
   },
   "file_extension": ".py",
   "mimetype": "text/x-python",
   "name": "python",
   "nbconvert_exporter": "python",
   "pygments_lexer": "ipython3",
   "version": "3.7.4"
  }
 },
 "nbformat": 4,
 "nbformat_minor": 2
}
